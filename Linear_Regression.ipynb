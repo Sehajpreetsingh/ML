{
  "nbformat": 4,
  "nbformat_minor": 0,
  "metadata": {
    "colab": {
      "name": "Linear Regression-Jovian.ipynb",
      "provenance": []
    },
    "kernelspec": {
      "name": "python3",
      "display_name": "Python 3"
    },
    "language_info": {
      "name": "python"
    }
  },
  "cells": [
    {
      "cell_type": "markdown",
      "source": [
        "### Linear Regression\n",
        "\n",
        "\n",
        "QUESTION: ACME Insurance Inc. offers affordable health insurance to thousands of customer all over the United States. As the lead data scientist at ACME, you're tasked with creating an automated system to estimate the annual medical expenditure for new customers, using information such as their age, sex, BMI, children, smoking habits and region of residence.\n",
        "\n",
        "\n"
      ],
      "metadata": {
        "id": "EgJWF7b5TAjx"
      }
    },
    {
      "cell_type": "code",
      "execution_count": null,
      "metadata": {
        "id": "QB6YeJsASNlN"
      },
      "outputs": [],
      "source": [
        "medical_charges_url = 'https://raw.githubusercontent.com/JovianML/opendatasets/master/data/medical-charges.csv'"
      ]
    },
    {
      "cell_type": "code",
      "source": [
        "import pandas as pd\n",
        "medical_df = pd.read_csv(medical_charges_url)\n",
        "medical_df"
      ],
      "metadata": {
        "colab": {
          "base_uri": "https://localhost:8080/",
          "height": 423
        },
        "id": "T3okpITFTa-v",
        "outputId": "952eb1e2-4ad0-4472-9285-2ae2a40f4ce9"
      },
      "execution_count": null,
      "outputs": [
        {
          "output_type": "execute_result",
          "data": {
            "text/html": [
              "\n",
              "  <div id=\"df-dba95f70-661c-4f0a-9833-452a00932bc6\">\n",
              "    <div class=\"colab-df-container\">\n",
              "      <div>\n",
              "<style scoped>\n",
              "    .dataframe tbody tr th:only-of-type {\n",
              "        vertical-align: middle;\n",
              "    }\n",
              "\n",
              "    .dataframe tbody tr th {\n",
              "        vertical-align: top;\n",
              "    }\n",
              "\n",
              "    .dataframe thead th {\n",
              "        text-align: right;\n",
              "    }\n",
              "</style>\n",
              "<table border=\"1\" class=\"dataframe\">\n",
              "  <thead>\n",
              "    <tr style=\"text-align: right;\">\n",
              "      <th></th>\n",
              "      <th>age</th>\n",
              "      <th>sex</th>\n",
              "      <th>bmi</th>\n",
              "      <th>children</th>\n",
              "      <th>smoker</th>\n",
              "      <th>region</th>\n",
              "      <th>charges</th>\n",
              "    </tr>\n",
              "  </thead>\n",
              "  <tbody>\n",
              "    <tr>\n",
              "      <th>0</th>\n",
              "      <td>19</td>\n",
              "      <td>female</td>\n",
              "      <td>27.900</td>\n",
              "      <td>0</td>\n",
              "      <td>yes</td>\n",
              "      <td>southwest</td>\n",
              "      <td>16884.92400</td>\n",
              "    </tr>\n",
              "    <tr>\n",
              "      <th>1</th>\n",
              "      <td>18</td>\n",
              "      <td>male</td>\n",
              "      <td>33.770</td>\n",
              "      <td>1</td>\n",
              "      <td>no</td>\n",
              "      <td>southeast</td>\n",
              "      <td>1725.55230</td>\n",
              "    </tr>\n",
              "    <tr>\n",
              "      <th>2</th>\n",
              "      <td>28</td>\n",
              "      <td>male</td>\n",
              "      <td>33.000</td>\n",
              "      <td>3</td>\n",
              "      <td>no</td>\n",
              "      <td>southeast</td>\n",
              "      <td>4449.46200</td>\n",
              "    </tr>\n",
              "    <tr>\n",
              "      <th>3</th>\n",
              "      <td>33</td>\n",
              "      <td>male</td>\n",
              "      <td>22.705</td>\n",
              "      <td>0</td>\n",
              "      <td>no</td>\n",
              "      <td>northwest</td>\n",
              "      <td>21984.47061</td>\n",
              "    </tr>\n",
              "    <tr>\n",
              "      <th>4</th>\n",
              "      <td>32</td>\n",
              "      <td>male</td>\n",
              "      <td>28.880</td>\n",
              "      <td>0</td>\n",
              "      <td>no</td>\n",
              "      <td>northwest</td>\n",
              "      <td>3866.85520</td>\n",
              "    </tr>\n",
              "    <tr>\n",
              "      <th>...</th>\n",
              "      <td>...</td>\n",
              "      <td>...</td>\n",
              "      <td>...</td>\n",
              "      <td>...</td>\n",
              "      <td>...</td>\n",
              "      <td>...</td>\n",
              "      <td>...</td>\n",
              "    </tr>\n",
              "    <tr>\n",
              "      <th>1333</th>\n",
              "      <td>50</td>\n",
              "      <td>male</td>\n",
              "      <td>30.970</td>\n",
              "      <td>3</td>\n",
              "      <td>no</td>\n",
              "      <td>northwest</td>\n",
              "      <td>10600.54830</td>\n",
              "    </tr>\n",
              "    <tr>\n",
              "      <th>1334</th>\n",
              "      <td>18</td>\n",
              "      <td>female</td>\n",
              "      <td>31.920</td>\n",
              "      <td>0</td>\n",
              "      <td>no</td>\n",
              "      <td>northeast</td>\n",
              "      <td>2205.98080</td>\n",
              "    </tr>\n",
              "    <tr>\n",
              "      <th>1335</th>\n",
              "      <td>18</td>\n",
              "      <td>female</td>\n",
              "      <td>36.850</td>\n",
              "      <td>0</td>\n",
              "      <td>no</td>\n",
              "      <td>southeast</td>\n",
              "      <td>1629.83350</td>\n",
              "    </tr>\n",
              "    <tr>\n",
              "      <th>1336</th>\n",
              "      <td>21</td>\n",
              "      <td>female</td>\n",
              "      <td>25.800</td>\n",
              "      <td>0</td>\n",
              "      <td>no</td>\n",
              "      <td>southwest</td>\n",
              "      <td>2007.94500</td>\n",
              "    </tr>\n",
              "    <tr>\n",
              "      <th>1337</th>\n",
              "      <td>61</td>\n",
              "      <td>female</td>\n",
              "      <td>29.070</td>\n",
              "      <td>0</td>\n",
              "      <td>yes</td>\n",
              "      <td>northwest</td>\n",
              "      <td>29141.36030</td>\n",
              "    </tr>\n",
              "  </tbody>\n",
              "</table>\n",
              "<p>1338 rows × 7 columns</p>\n",
              "</div>\n",
              "      <button class=\"colab-df-convert\" onclick=\"convertToInteractive('df-dba95f70-661c-4f0a-9833-452a00932bc6')\"\n",
              "              title=\"Convert this dataframe to an interactive table.\"\n",
              "              style=\"display:none;\">\n",
              "        \n",
              "  <svg xmlns=\"http://www.w3.org/2000/svg\" height=\"24px\"viewBox=\"0 0 24 24\"\n",
              "       width=\"24px\">\n",
              "    <path d=\"M0 0h24v24H0V0z\" fill=\"none\"/>\n",
              "    <path d=\"M18.56 5.44l.94 2.06.94-2.06 2.06-.94-2.06-.94-.94-2.06-.94 2.06-2.06.94zm-11 1L8.5 8.5l.94-2.06 2.06-.94-2.06-.94L8.5 2.5l-.94 2.06-2.06.94zm10 10l.94 2.06.94-2.06 2.06-.94-2.06-.94-.94-2.06-.94 2.06-2.06.94z\"/><path d=\"M17.41 7.96l-1.37-1.37c-.4-.4-.92-.59-1.43-.59-.52 0-1.04.2-1.43.59L10.3 9.45l-7.72 7.72c-.78.78-.78 2.05 0 2.83L4 21.41c.39.39.9.59 1.41.59.51 0 1.02-.2 1.41-.59l7.78-7.78 2.81-2.81c.8-.78.8-2.07 0-2.86zM5.41 20L4 18.59l7.72-7.72 1.47 1.35L5.41 20z\"/>\n",
              "  </svg>\n",
              "      </button>\n",
              "      \n",
              "  <style>\n",
              "    .colab-df-container {\n",
              "      display:flex;\n",
              "      flex-wrap:wrap;\n",
              "      gap: 12px;\n",
              "    }\n",
              "\n",
              "    .colab-df-convert {\n",
              "      background-color: #E8F0FE;\n",
              "      border: none;\n",
              "      border-radius: 50%;\n",
              "      cursor: pointer;\n",
              "      display: none;\n",
              "      fill: #1967D2;\n",
              "      height: 32px;\n",
              "      padding: 0 0 0 0;\n",
              "      width: 32px;\n",
              "    }\n",
              "\n",
              "    .colab-df-convert:hover {\n",
              "      background-color: #E2EBFA;\n",
              "      box-shadow: 0px 1px 2px rgba(60, 64, 67, 0.3), 0px 1px 3px 1px rgba(60, 64, 67, 0.15);\n",
              "      fill: #174EA6;\n",
              "    }\n",
              "\n",
              "    [theme=dark] .colab-df-convert {\n",
              "      background-color: #3B4455;\n",
              "      fill: #D2E3FC;\n",
              "    }\n",
              "\n",
              "    [theme=dark] .colab-df-convert:hover {\n",
              "      background-color: #434B5C;\n",
              "      box-shadow: 0px 1px 3px 1px rgba(0, 0, 0, 0.15);\n",
              "      filter: drop-shadow(0px 1px 2px rgba(0, 0, 0, 0.3));\n",
              "      fill: #FFFFFF;\n",
              "    }\n",
              "  </style>\n",
              "\n",
              "      <script>\n",
              "        const buttonEl =\n",
              "          document.querySelector('#df-dba95f70-661c-4f0a-9833-452a00932bc6 button.colab-df-convert');\n",
              "        buttonEl.style.display =\n",
              "          google.colab.kernel.accessAllowed ? 'block' : 'none';\n",
              "\n",
              "        async function convertToInteractive(key) {\n",
              "          const element = document.querySelector('#df-dba95f70-661c-4f0a-9833-452a00932bc6');\n",
              "          const dataTable =\n",
              "            await google.colab.kernel.invokeFunction('convertToInteractive',\n",
              "                                                     [key], {});\n",
              "          if (!dataTable) return;\n",
              "\n",
              "          const docLinkHtml = 'Like what you see? Visit the ' +\n",
              "            '<a target=\"_blank\" href=https://colab.research.google.com/notebooks/data_table.ipynb>data table notebook</a>'\n",
              "            + ' to learn more about interactive tables.';\n",
              "          element.innerHTML = '';\n",
              "          dataTable['output_type'] = 'display_data';\n",
              "          await google.colab.output.renderOutput(dataTable, element);\n",
              "          const docLink = document.createElement('div');\n",
              "          docLink.innerHTML = docLinkHtml;\n",
              "          element.appendChild(docLink);\n",
              "        }\n",
              "      </script>\n",
              "    </div>\n",
              "  </div>\n",
              "  "
            ],
            "text/plain": [
              "      age     sex     bmi  children smoker     region      charges\n",
              "0      19  female  27.900         0    yes  southwest  16884.92400\n",
              "1      18    male  33.770         1     no  southeast   1725.55230\n",
              "2      28    male  33.000         3     no  southeast   4449.46200\n",
              "3      33    male  22.705         0     no  northwest  21984.47061\n",
              "4      32    male  28.880         0     no  northwest   3866.85520\n",
              "...   ...     ...     ...       ...    ...        ...          ...\n",
              "1333   50    male  30.970         3     no  northwest  10600.54830\n",
              "1334   18  female  31.920         0     no  northeast   2205.98080\n",
              "1335   18  female  36.850         0     no  southeast   1629.83350\n",
              "1336   21  female  25.800         0     no  southwest   2007.94500\n",
              "1337   61  female  29.070         0    yes  northwest  29141.36030\n",
              "\n",
              "[1338 rows x 7 columns]"
            ]
          },
          "metadata": {},
          "execution_count": 2
        }
      ]
    },
    {
      "cell_type": "code",
      "source": [
        "medical_df.region.unique()  # just finding all the unique values of regions. "
      ],
      "metadata": {
        "colab": {
          "base_uri": "https://localhost:8080/"
        },
        "id": "pD25j64Yov1f",
        "outputId": "3bca560d-2cfc-4224-95dc-51e3b90fd3d1"
      },
      "execution_count": null,
      "outputs": [
        {
          "output_type": "execute_result",
          "data": {
            "text/plain": [
              "array(['southwest', 'southeast', 'northwest', 'northeast'], dtype=object)"
            ]
          },
          "metadata": {},
          "execution_count": 3
        }
      ]
    },
    {
      "cell_type": "code",
      "source": [
        "medical_df.info()  # we have columns age, sex, bmi, chuldren, smoker, region, charges...... charges is the yi\n",
        "\n",
        "# we have 1338 entries with 7 columns"
      ],
      "metadata": {
        "colab": {
          "base_uri": "https://localhost:8080/"
        },
        "id": "4RTRFvwFTufd",
        "outputId": "795bcf6a-b6a2-4d42-97d5-36b0cfda474b"
      },
      "execution_count": null,
      "outputs": [
        {
          "output_type": "stream",
          "name": "stdout",
          "text": [
            "<class 'pandas.core.frame.DataFrame'>\n",
            "RangeIndex: 1338 entries, 0 to 1337\n",
            "Data columns (total 7 columns):\n",
            " #   Column    Non-Null Count  Dtype  \n",
            "---  ------    --------------  -----  \n",
            " 0   age       1338 non-null   int64  \n",
            " 1   sex       1338 non-null   object \n",
            " 2   bmi       1338 non-null   float64\n",
            " 3   children  1338 non-null   int64  \n",
            " 4   smoker    1338 non-null   object \n",
            " 5   region    1338 non-null   object \n",
            " 6   charges   1338 non-null   float64\n",
            "dtypes: float64(2), int64(2), object(3)\n",
            "memory usage: 73.3+ KB\n"
          ]
        }
      ]
    },
    {
      "cell_type": "code",
      "source": [
        "medical_df.describe()"
      ],
      "metadata": {
        "colab": {
          "base_uri": "https://localhost:8080/",
          "height": 300
        },
        "id": "59tq3VXYTw4b",
        "outputId": "bd8614ff-cc84-42d8-e593-a30ca3cd6845"
      },
      "execution_count": null,
      "outputs": [
        {
          "output_type": "execute_result",
          "data": {
            "text/html": [
              "\n",
              "  <div id=\"df-2cb7c15a-1eac-42c7-9d3c-5f1f2e23e15a\">\n",
              "    <div class=\"colab-df-container\">\n",
              "      <div>\n",
              "<style scoped>\n",
              "    .dataframe tbody tr th:only-of-type {\n",
              "        vertical-align: middle;\n",
              "    }\n",
              "\n",
              "    .dataframe tbody tr th {\n",
              "        vertical-align: top;\n",
              "    }\n",
              "\n",
              "    .dataframe thead th {\n",
              "        text-align: right;\n",
              "    }\n",
              "</style>\n",
              "<table border=\"1\" class=\"dataframe\">\n",
              "  <thead>\n",
              "    <tr style=\"text-align: right;\">\n",
              "      <th></th>\n",
              "      <th>age</th>\n",
              "      <th>bmi</th>\n",
              "      <th>children</th>\n",
              "      <th>charges</th>\n",
              "    </tr>\n",
              "  </thead>\n",
              "  <tbody>\n",
              "    <tr>\n",
              "      <th>count</th>\n",
              "      <td>1338.000000</td>\n",
              "      <td>1338.000000</td>\n",
              "      <td>1338.000000</td>\n",
              "      <td>1338.000000</td>\n",
              "    </tr>\n",
              "    <tr>\n",
              "      <th>mean</th>\n",
              "      <td>39.207025</td>\n",
              "      <td>30.663397</td>\n",
              "      <td>1.094918</td>\n",
              "      <td>13270.422265</td>\n",
              "    </tr>\n",
              "    <tr>\n",
              "      <th>std</th>\n",
              "      <td>14.049960</td>\n",
              "      <td>6.098187</td>\n",
              "      <td>1.205493</td>\n",
              "      <td>12110.011237</td>\n",
              "    </tr>\n",
              "    <tr>\n",
              "      <th>min</th>\n",
              "      <td>18.000000</td>\n",
              "      <td>15.960000</td>\n",
              "      <td>0.000000</td>\n",
              "      <td>1121.873900</td>\n",
              "    </tr>\n",
              "    <tr>\n",
              "      <th>25%</th>\n",
              "      <td>27.000000</td>\n",
              "      <td>26.296250</td>\n",
              "      <td>0.000000</td>\n",
              "      <td>4740.287150</td>\n",
              "    </tr>\n",
              "    <tr>\n",
              "      <th>50%</th>\n",
              "      <td>39.000000</td>\n",
              "      <td>30.400000</td>\n",
              "      <td>1.000000</td>\n",
              "      <td>9382.033000</td>\n",
              "    </tr>\n",
              "    <tr>\n",
              "      <th>75%</th>\n",
              "      <td>51.000000</td>\n",
              "      <td>34.693750</td>\n",
              "      <td>2.000000</td>\n",
              "      <td>16639.912515</td>\n",
              "    </tr>\n",
              "    <tr>\n",
              "      <th>max</th>\n",
              "      <td>64.000000</td>\n",
              "      <td>53.130000</td>\n",
              "      <td>5.000000</td>\n",
              "      <td>63770.428010</td>\n",
              "    </tr>\n",
              "  </tbody>\n",
              "</table>\n",
              "</div>\n",
              "      <button class=\"colab-df-convert\" onclick=\"convertToInteractive('df-2cb7c15a-1eac-42c7-9d3c-5f1f2e23e15a')\"\n",
              "              title=\"Convert this dataframe to an interactive table.\"\n",
              "              style=\"display:none;\">\n",
              "        \n",
              "  <svg xmlns=\"http://www.w3.org/2000/svg\" height=\"24px\"viewBox=\"0 0 24 24\"\n",
              "       width=\"24px\">\n",
              "    <path d=\"M0 0h24v24H0V0z\" fill=\"none\"/>\n",
              "    <path d=\"M18.56 5.44l.94 2.06.94-2.06 2.06-.94-2.06-.94-.94-2.06-.94 2.06-2.06.94zm-11 1L8.5 8.5l.94-2.06 2.06-.94-2.06-.94L8.5 2.5l-.94 2.06-2.06.94zm10 10l.94 2.06.94-2.06 2.06-.94-2.06-.94-.94-2.06-.94 2.06-2.06.94z\"/><path d=\"M17.41 7.96l-1.37-1.37c-.4-.4-.92-.59-1.43-.59-.52 0-1.04.2-1.43.59L10.3 9.45l-7.72 7.72c-.78.78-.78 2.05 0 2.83L4 21.41c.39.39.9.59 1.41.59.51 0 1.02-.2 1.41-.59l7.78-7.78 2.81-2.81c.8-.78.8-2.07 0-2.86zM5.41 20L4 18.59l7.72-7.72 1.47 1.35L5.41 20z\"/>\n",
              "  </svg>\n",
              "      </button>\n",
              "      \n",
              "  <style>\n",
              "    .colab-df-container {\n",
              "      display:flex;\n",
              "      flex-wrap:wrap;\n",
              "      gap: 12px;\n",
              "    }\n",
              "\n",
              "    .colab-df-convert {\n",
              "      background-color: #E8F0FE;\n",
              "      border: none;\n",
              "      border-radius: 50%;\n",
              "      cursor: pointer;\n",
              "      display: none;\n",
              "      fill: #1967D2;\n",
              "      height: 32px;\n",
              "      padding: 0 0 0 0;\n",
              "      width: 32px;\n",
              "    }\n",
              "\n",
              "    .colab-df-convert:hover {\n",
              "      background-color: #E2EBFA;\n",
              "      box-shadow: 0px 1px 2px rgba(60, 64, 67, 0.3), 0px 1px 3px 1px rgba(60, 64, 67, 0.15);\n",
              "      fill: #174EA6;\n",
              "    }\n",
              "\n",
              "    [theme=dark] .colab-df-convert {\n",
              "      background-color: #3B4455;\n",
              "      fill: #D2E3FC;\n",
              "    }\n",
              "\n",
              "    [theme=dark] .colab-df-convert:hover {\n",
              "      background-color: #434B5C;\n",
              "      box-shadow: 0px 1px 3px 1px rgba(0, 0, 0, 0.15);\n",
              "      filter: drop-shadow(0px 1px 2px rgba(0, 0, 0, 0.3));\n",
              "      fill: #FFFFFF;\n",
              "    }\n",
              "  </style>\n",
              "\n",
              "      <script>\n",
              "        const buttonEl =\n",
              "          document.querySelector('#df-2cb7c15a-1eac-42c7-9d3c-5f1f2e23e15a button.colab-df-convert');\n",
              "        buttonEl.style.display =\n",
              "          google.colab.kernel.accessAllowed ? 'block' : 'none';\n",
              "\n",
              "        async function convertToInteractive(key) {\n",
              "          const element = document.querySelector('#df-2cb7c15a-1eac-42c7-9d3c-5f1f2e23e15a');\n",
              "          const dataTable =\n",
              "            await google.colab.kernel.invokeFunction('convertToInteractive',\n",
              "                                                     [key], {});\n",
              "          if (!dataTable) return;\n",
              "\n",
              "          const docLinkHtml = 'Like what you see? Visit the ' +\n",
              "            '<a target=\"_blank\" href=https://colab.research.google.com/notebooks/data_table.ipynb>data table notebook</a>'\n",
              "            + ' to learn more about interactive tables.';\n",
              "          element.innerHTML = '';\n",
              "          dataTable['output_type'] = 'display_data';\n",
              "          await google.colab.output.renderOutput(dataTable, element);\n",
              "          const docLink = document.createElement('div');\n",
              "          docLink.innerHTML = docLinkHtml;\n",
              "          element.appendChild(docLink);\n",
              "        }\n",
              "      </script>\n",
              "    </div>\n",
              "  </div>\n",
              "  "
            ],
            "text/plain": [
              "               age          bmi     children       charges\n",
              "count  1338.000000  1338.000000  1338.000000   1338.000000\n",
              "mean     39.207025    30.663397     1.094918  13270.422265\n",
              "std      14.049960     6.098187     1.205493  12110.011237\n",
              "min      18.000000    15.960000     0.000000   1121.873900\n",
              "25%      27.000000    26.296250     0.000000   4740.287150\n",
              "50%      39.000000    30.400000     1.000000   9382.033000\n",
              "75%      51.000000    34.693750     2.000000  16639.912515\n",
              "max      64.000000    53.130000     5.000000  63770.428010"
            ]
          },
          "metadata": {},
          "execution_count": 5
        }
      ]
    },
    {
      "cell_type": "code",
      "source": [
        "import plotly.express as px\n",
        "import matplotlib\n",
        "import matplotlib.pyplot as plt\n",
        "import seaborn as sns\n",
        "%matplotlib inline"
      ],
      "metadata": {
        "id": "srnD5zlcUaKw"
      },
      "execution_count": null,
      "outputs": []
    },
    {
      "cell_type": "code",
      "source": [
        "# just setting some default paramters of seaborn and matplotlib. \n",
        "\n",
        "sns.set_style('darkgrid')\n",
        "matplotlib.rcParams['font.size'] = 14\n",
        "matplotlib.rcParams['figure.figsize'] = (10, 6)\n",
        "matplotlib.rcParams['figure.facecolor'] = '#00000000'"
      ],
      "metadata": {
        "id": "JBJYbXy3kT4e"
      },
      "execution_count": null,
      "outputs": []
    },
    {
      "cell_type": "code",
      "source": [
        "# Plotting Distribution for Age.\n",
        "\n",
        "# Maybe the age of 18 and 19 is high because that is the age people get insurance for their children mostly. \n",
        "\n",
        "fig = px.histogram(medical_df, # creating a histogram.... if we wanted to create a scatter plot we do px.scatter()\n",
        "                   x='age',   # plot which column on x axis\n",
        "                   marginal='box', # adds a box plot on top of the plot\n",
        "                   nbins=47,   # num of columns in the plot \n",
        "                   title='Distribution of Age')\n",
        "fig.update_layout(bargap=0.1)  #  gap between bars of adjacent location\n",
        "fig.show()"
      ],
      "metadata": {
        "colab": {
          "base_uri": "https://localhost:8080/",
          "height": 542
        },
        "id": "flTzX20TkZs2",
        "outputId": "5830fccf-2d38-46d5-e276-5b7b5526fecd"
      },
      "execution_count": null,
      "outputs": [
        {
          "output_type": "display_data",
          "data": {
            "text/html": [
              "<html>\n",
              "<head><meta charset=\"utf-8\" /></head>\n",
              "<body>\n",
              "    <div>            <script src=\"https://cdnjs.cloudflare.com/ajax/libs/mathjax/2.7.5/MathJax.js?config=TeX-AMS-MML_SVG\"></script><script type=\"text/javascript\">if (window.MathJax) {MathJax.Hub.Config({SVG: {font: \"STIX-Web\"}});}</script>                <script type=\"text/javascript\">window.PlotlyConfig = {MathJaxConfig: 'local'};</script>\n",
              "        <script src=\"https://cdn.plot.ly/plotly-2.8.3.min.js\"></script>                <div id=\"3277a97d-7975-4054-9a54-120d2cc2ab6d\" class=\"plotly-graph-div\" style=\"height:525px; width:100%;\"></div>            <script type=\"text/javascript\">                                    window.PLOTLYENV=window.PLOTLYENV || {};                                    if (document.getElementById(\"3277a97d-7975-4054-9a54-120d2cc2ab6d\")) {                    Plotly.newPlot(                        \"3277a97d-7975-4054-9a54-120d2cc2ab6d\",                        [{\"alignmentgroup\":\"True\",\"bingroup\":\"x\",\"hovertemplate\":\"age=%{x}<br>count=%{y}<extra></extra>\",\"legendgroup\":\"\",\"marker\":{\"color\":\"#636efa\",\"pattern\":{\"shape\":\"\"}},\"name\":\"\",\"nbinsx\":47,\"offsetgroup\":\"\",\"orientation\":\"v\",\"showlegend\":false,\"x\":[19,18,28,33,32,31,46,37,37,60,25,62,23,56,27,19,52,23,56,30,60,30,18,34,37,59,63,55,23,31,22,18,19,63,28,19,62,26,35,60,24,31,41,37,38,55,18,28,60,36,18,21,48,36,40,58,58,18,53,34,43,25,64,28,20,19,61,40,40,28,27,31,53,58,44,57,29,21,22,41,31,45,22,48,37,45,57,56,46,55,21,53,59,35,64,28,54,55,56,38,41,30,18,61,34,20,19,26,29,63,54,55,37,21,52,60,58,29,49,37,44,18,20,44,47,26,19,52,32,38,59,61,53,19,20,22,19,22,54,22,34,26,34,29,30,29,46,51,53,19,35,48,32,42,40,44,48,18,30,50,42,18,54,32,37,47,20,32,19,27,63,49,18,35,24,63,38,54,46,41,58,18,22,44,44,36,26,30,41,29,61,36,25,56,18,19,39,45,51,64,19,48,60,27,46,28,59,35,63,40,20,40,24,34,45,41,53,27,26,24,34,53,32,19,42,55,28,58,41,47,42,59,19,59,39,40,18,31,19,44,23,33,55,40,63,54,60,24,19,29,18,63,54,27,50,55,56,38,51,19,58,20,52,19,53,46,40,59,45,49,18,50,41,50,25,47,19,22,59,51,40,54,30,55,52,46,46,63,59,52,28,29,25,22,25,18,19,47,31,48,36,53,56,28,57,29,28,30,58,41,50,19,43,49,27,52,50,54,44,32,34,26,34,57,29,40,27,45,64,52,61,52,61,56,43,64,60,62,50,46,24,62,60,63,49,34,33,46,36,19,57,50,30,33,18,46,46,47,23,18,48,35,19,21,21,49,56,42,44,18,61,57,42,26,20,23,39,24,64,62,27,55,55,35,44,19,58,50,26,24,48,19,48,49,46,46,43,21,64,18,51,47,64,49,31,52,33,47,38,32,19,44,26,25,19,43,52,36,64,63,64,61,40,25,48,45,38,18,21,27,19,29,42,60,31,60,22,35,52,26,31,33,18,59,56,45,60,56,40,35,39,30,24,20,32,59,55,57,56,40,49,42,62,56,19,30,60,56,28,18,27,18,19,47,54,61,24,25,21,23,63,49,18,51,48,31,54,19,44,53,19,61,18,61,21,20,31,45,44,62,29,43,51,19,38,37,22,21,24,57,56,27,51,19,39,58,20,45,35,31,50,32,51,38,42,18,19,51,46,18,57,62,59,37,64,38,33,46,46,53,34,20,63,54,54,49,28,54,25,43,63,32,62,52,25,28,46,34,35,19,46,54,27,50,18,19,38,41,49,48,31,18,30,62,57,58,22,31,52,25,59,19,39,32,19,33,21,34,61,38,58,47,20,21,41,46,42,34,43,52,18,51,56,64,19,51,27,59,28,30,47,38,18,34,20,47,56,49,19,55,30,37,49,18,59,29,36,33,58,44,53,24,29,40,51,64,19,35,39,56,33,42,61,23,43,48,39,40,18,58,49,53,48,45,59,52,26,27,48,57,37,57,32,18,64,43,49,40,62,40,30,29,36,41,44,45,55,60,56,49,21,19,39,53,33,53,42,40,47,27,21,47,20,24,27,26,53,41,56,23,21,50,53,34,47,33,51,49,31,36,18,50,43,20,24,60,49,60,51,58,51,53,62,19,50,30,41,29,18,41,35,53,24,48,59,49,37,26,23,29,45,27,53,31,50,50,34,19,47,28,37,21,64,58,24,31,39,47,30,18,22,23,33,27,45,57,47,42,64,38,61,53,44,19,41,51,40,45,35,53,30,18,51,50,31,35,60,21,29,62,39,19,22,53,39,27,30,30,58,33,42,64,21,18,23,45,40,19,18,25,46,33,54,28,36,20,24,23,47,33,45,26,18,44,60,64,56,36,41,39,63,36,28,58,36,42,36,56,35,59,21,59,23,57,53,60,51,23,27,55,37,61,46,53,49,20,48,25,25,57,37,38,55,36,51,40,18,57,61,25,50,26,42,43,44,23,49,33,41,37,22,23,21,51,25,32,57,36,22,57,64,36,54,47,62,61,43,19,18,19,49,60,26,49,60,26,27,44,63,32,22,18,59,44,33,24,43,45,61,35,62,62,38,34,43,50,19,57,62,41,26,39,46,45,32,59,44,39,18,53,18,50,18,19,62,56,42,37,42,25,57,51,30,44,34,31,54,24,43,48,19,29,63,46,52,35,51,44,21,39,50,34,22,19,26,29,48,26,45,36,54,34,31,27,20,44,43,45,34,24,26,38,50,38,27,39,39,63,33,36,30,24,24,48,47,29,28,47,25,51,48,43,61,48,38,59,19,26,54,21,51,22,47,18,47,21,19,23,54,37,46,55,30,18,61,54,22,45,22,19,35,18,20,28,55,43,43,22,25,49,44,64,49,47,27,55,48,45,24,32,24,57,59,36,29,42,48,39,63,54,37,63,21,54,60,32,47,21,28,63,18,32,38,32,62,39,55,57,52,56,47,55,23,22,50,18,51,22,52,25,33,53,29,58,37,54,49,50,26,45,54,38,48,28,23,55,41,25,33,30,23,46,53,27,23,63,55,35,34,19,39,27,57,52,28,50,44,26,33,19,50,41,52,39,50,52,60,20,55,42,18,58,43,35,48,36,19,23,20,32,43,34,30,18,41,35,57,29,32,37,18,43,56,38,29,22,52,40,23,31,42,24,25,48,23,45,20,62,43,23,31,41,58,48,31,19,19,41,40,31,37,46,22,51,18,35,59,36,37,59,36,39,18,52,27,18,40,29,46,38,30,40,50,20,41,33,38,42,56,58,52,20,54,58,45,26,63,58,37,25,52,64,22,28,18,28,45,33,18,32,24,19,20,40,34,42,51,54,55,52,32,28,41,43,49,64,55,24,20,45,26,25,43,35,26,57,22,32,39,25,48,47,18,18,61,47,28,36,20,44,38,19,21,46,58,20,18,28,33,19,45,62,25,43,42,24,29,32,25,41,42,33,34,19,30,18,19,18,35,39,31,62,62,42,31,61,42,51,23,52,57,23,52,50,18,18,21,61],\"xaxis\":\"x\",\"yaxis\":\"y\",\"type\":\"histogram\"},{\"alignmentgroup\":\"True\",\"hovertemplate\":\"age=%{x}<extra></extra>\",\"legendgroup\":\"\",\"marker\":{\"color\":\"#636efa\"},\"name\":\"\",\"notched\":true,\"offsetgroup\":\"\",\"showlegend\":false,\"x\":[19,18,28,33,32,31,46,37,37,60,25,62,23,56,27,19,52,23,56,30,60,30,18,34,37,59,63,55,23,31,22,18,19,63,28,19,62,26,35,60,24,31,41,37,38,55,18,28,60,36,18,21,48,36,40,58,58,18,53,34,43,25,64,28,20,19,61,40,40,28,27,31,53,58,44,57,29,21,22,41,31,45,22,48,37,45,57,56,46,55,21,53,59,35,64,28,54,55,56,38,41,30,18,61,34,20,19,26,29,63,54,55,37,21,52,60,58,29,49,37,44,18,20,44,47,26,19,52,32,38,59,61,53,19,20,22,19,22,54,22,34,26,34,29,30,29,46,51,53,19,35,48,32,42,40,44,48,18,30,50,42,18,54,32,37,47,20,32,19,27,63,49,18,35,24,63,38,54,46,41,58,18,22,44,44,36,26,30,41,29,61,36,25,56,18,19,39,45,51,64,19,48,60,27,46,28,59,35,63,40,20,40,24,34,45,41,53,27,26,24,34,53,32,19,42,55,28,58,41,47,42,59,19,59,39,40,18,31,19,44,23,33,55,40,63,54,60,24,19,29,18,63,54,27,50,55,56,38,51,19,58,20,52,19,53,46,40,59,45,49,18,50,41,50,25,47,19,22,59,51,40,54,30,55,52,46,46,63,59,52,28,29,25,22,25,18,19,47,31,48,36,53,56,28,57,29,28,30,58,41,50,19,43,49,27,52,50,54,44,32,34,26,34,57,29,40,27,45,64,52,61,52,61,56,43,64,60,62,50,46,24,62,60,63,49,34,33,46,36,19,57,50,30,33,18,46,46,47,23,18,48,35,19,21,21,49,56,42,44,18,61,57,42,26,20,23,39,24,64,62,27,55,55,35,44,19,58,50,26,24,48,19,48,49,46,46,43,21,64,18,51,47,64,49,31,52,33,47,38,32,19,44,26,25,19,43,52,36,64,63,64,61,40,25,48,45,38,18,21,27,19,29,42,60,31,60,22,35,52,26,31,33,18,59,56,45,60,56,40,35,39,30,24,20,32,59,55,57,56,40,49,42,62,56,19,30,60,56,28,18,27,18,19,47,54,61,24,25,21,23,63,49,18,51,48,31,54,19,44,53,19,61,18,61,21,20,31,45,44,62,29,43,51,19,38,37,22,21,24,57,56,27,51,19,39,58,20,45,35,31,50,32,51,38,42,18,19,51,46,18,57,62,59,37,64,38,33,46,46,53,34,20,63,54,54,49,28,54,25,43,63,32,62,52,25,28,46,34,35,19,46,54,27,50,18,19,38,41,49,48,31,18,30,62,57,58,22,31,52,25,59,19,39,32,19,33,21,34,61,38,58,47,20,21,41,46,42,34,43,52,18,51,56,64,19,51,27,59,28,30,47,38,18,34,20,47,56,49,19,55,30,37,49,18,59,29,36,33,58,44,53,24,29,40,51,64,19,35,39,56,33,42,61,23,43,48,39,40,18,58,49,53,48,45,59,52,26,27,48,57,37,57,32,18,64,43,49,40,62,40,30,29,36,41,44,45,55,60,56,49,21,19,39,53,33,53,42,40,47,27,21,47,20,24,27,26,53,41,56,23,21,50,53,34,47,33,51,49,31,36,18,50,43,20,24,60,49,60,51,58,51,53,62,19,50,30,41,29,18,41,35,53,24,48,59,49,37,26,23,29,45,27,53,31,50,50,34,19,47,28,37,21,64,58,24,31,39,47,30,18,22,23,33,27,45,57,47,42,64,38,61,53,44,19,41,51,40,45,35,53,30,18,51,50,31,35,60,21,29,62,39,19,22,53,39,27,30,30,58,33,42,64,21,18,23,45,40,19,18,25,46,33,54,28,36,20,24,23,47,33,45,26,18,44,60,64,56,36,41,39,63,36,28,58,36,42,36,56,35,59,21,59,23,57,53,60,51,23,27,55,37,61,46,53,49,20,48,25,25,57,37,38,55,36,51,40,18,57,61,25,50,26,42,43,44,23,49,33,41,37,22,23,21,51,25,32,57,36,22,57,64,36,54,47,62,61,43,19,18,19,49,60,26,49,60,26,27,44,63,32,22,18,59,44,33,24,43,45,61,35,62,62,38,34,43,50,19,57,62,41,26,39,46,45,32,59,44,39,18,53,18,50,18,19,62,56,42,37,42,25,57,51,30,44,34,31,54,24,43,48,19,29,63,46,52,35,51,44,21,39,50,34,22,19,26,29,48,26,45,36,54,34,31,27,20,44,43,45,34,24,26,38,50,38,27,39,39,63,33,36,30,24,24,48,47,29,28,47,25,51,48,43,61,48,38,59,19,26,54,21,51,22,47,18,47,21,19,23,54,37,46,55,30,18,61,54,22,45,22,19,35,18,20,28,55,43,43,22,25,49,44,64,49,47,27,55,48,45,24,32,24,57,59,36,29,42,48,39,63,54,37,63,21,54,60,32,47,21,28,63,18,32,38,32,62,39,55,57,52,56,47,55,23,22,50,18,51,22,52,25,33,53,29,58,37,54,49,50,26,45,54,38,48,28,23,55,41,25,33,30,23,46,53,27,23,63,55,35,34,19,39,27,57,52,28,50,44,26,33,19,50,41,52,39,50,52,60,20,55,42,18,58,43,35,48,36,19,23,20,32,43,34,30,18,41,35,57,29,32,37,18,43,56,38,29,22,52,40,23,31,42,24,25,48,23,45,20,62,43,23,31,41,58,48,31,19,19,41,40,31,37,46,22,51,18,35,59,36,37,59,36,39,18,52,27,18,40,29,46,38,30,40,50,20,41,33,38,42,56,58,52,20,54,58,45,26,63,58,37,25,52,64,22,28,18,28,45,33,18,32,24,19,20,40,34,42,51,54,55,52,32,28,41,43,49,64,55,24,20,45,26,25,43,35,26,57,22,32,39,25,48,47,18,18,61,47,28,36,20,44,38,19,21,46,58,20,18,28,33,19,45,62,25,43,42,24,29,32,25,41,42,33,34,19,30,18,19,18,35,39,31,62,62,42,31,61,42,51,23,52,57,23,52,50,18,18,21,61],\"xaxis\":\"x2\",\"yaxis\":\"y2\",\"type\":\"box\"}],                        {\"template\":{\"data\":{\"bar\":[{\"error_x\":{\"color\":\"#2a3f5f\"},\"error_y\":{\"color\":\"#2a3f5f\"},\"marker\":{\"line\":{\"color\":\"#E5ECF6\",\"width\":0.5},\"pattern\":{\"fillmode\":\"overlay\",\"size\":10,\"solidity\":0.2}},\"type\":\"bar\"}],\"barpolar\":[{\"marker\":{\"line\":{\"color\":\"#E5ECF6\",\"width\":0.5},\"pattern\":{\"fillmode\":\"overlay\",\"size\":10,\"solidity\":0.2}},\"type\":\"barpolar\"}],\"carpet\":[{\"aaxis\":{\"endlinecolor\":\"#2a3f5f\",\"gridcolor\":\"white\",\"linecolor\":\"white\",\"minorgridcolor\":\"white\",\"startlinecolor\":\"#2a3f5f\"},\"baxis\":{\"endlinecolor\":\"#2a3f5f\",\"gridcolor\":\"white\",\"linecolor\":\"white\",\"minorgridcolor\":\"white\",\"startlinecolor\":\"#2a3f5f\"},\"type\":\"carpet\"}],\"choropleth\":[{\"colorbar\":{\"outlinewidth\":0,\"ticks\":\"\"},\"type\":\"choropleth\"}],\"contour\":[{\"colorbar\":{\"outlinewidth\":0,\"ticks\":\"\"},\"colorscale\":[[0.0,\"#0d0887\"],[0.1111111111111111,\"#46039f\"],[0.2222222222222222,\"#7201a8\"],[0.3333333333333333,\"#9c179e\"],[0.4444444444444444,\"#bd3786\"],[0.5555555555555556,\"#d8576b\"],[0.6666666666666666,\"#ed7953\"],[0.7777777777777778,\"#fb9f3a\"],[0.8888888888888888,\"#fdca26\"],[1.0,\"#f0f921\"]],\"type\":\"contour\"}],\"contourcarpet\":[{\"colorbar\":{\"outlinewidth\":0,\"ticks\":\"\"},\"type\":\"contourcarpet\"}],\"heatmap\":[{\"colorbar\":{\"outlinewidth\":0,\"ticks\":\"\"},\"colorscale\":[[0.0,\"#0d0887\"],[0.1111111111111111,\"#46039f\"],[0.2222222222222222,\"#7201a8\"],[0.3333333333333333,\"#9c179e\"],[0.4444444444444444,\"#bd3786\"],[0.5555555555555556,\"#d8576b\"],[0.6666666666666666,\"#ed7953\"],[0.7777777777777778,\"#fb9f3a\"],[0.8888888888888888,\"#fdca26\"],[1.0,\"#f0f921\"]],\"type\":\"heatmap\"}],\"heatmapgl\":[{\"colorbar\":{\"outlinewidth\":0,\"ticks\":\"\"},\"colorscale\":[[0.0,\"#0d0887\"],[0.1111111111111111,\"#46039f\"],[0.2222222222222222,\"#7201a8\"],[0.3333333333333333,\"#9c179e\"],[0.4444444444444444,\"#bd3786\"],[0.5555555555555556,\"#d8576b\"],[0.6666666666666666,\"#ed7953\"],[0.7777777777777778,\"#fb9f3a\"],[0.8888888888888888,\"#fdca26\"],[1.0,\"#f0f921\"]],\"type\":\"heatmapgl\"}],\"histogram\":[{\"marker\":{\"pattern\":{\"fillmode\":\"overlay\",\"size\":10,\"solidity\":0.2}},\"type\":\"histogram\"}],\"histogram2d\":[{\"colorbar\":{\"outlinewidth\":0,\"ticks\":\"\"},\"colorscale\":[[0.0,\"#0d0887\"],[0.1111111111111111,\"#46039f\"],[0.2222222222222222,\"#7201a8\"],[0.3333333333333333,\"#9c179e\"],[0.4444444444444444,\"#bd3786\"],[0.5555555555555556,\"#d8576b\"],[0.6666666666666666,\"#ed7953\"],[0.7777777777777778,\"#fb9f3a\"],[0.8888888888888888,\"#fdca26\"],[1.0,\"#f0f921\"]],\"type\":\"histogram2d\"}],\"histogram2dcontour\":[{\"colorbar\":{\"outlinewidth\":0,\"ticks\":\"\"},\"colorscale\":[[0.0,\"#0d0887\"],[0.1111111111111111,\"#46039f\"],[0.2222222222222222,\"#7201a8\"],[0.3333333333333333,\"#9c179e\"],[0.4444444444444444,\"#bd3786\"],[0.5555555555555556,\"#d8576b\"],[0.6666666666666666,\"#ed7953\"],[0.7777777777777778,\"#fb9f3a\"],[0.8888888888888888,\"#fdca26\"],[1.0,\"#f0f921\"]],\"type\":\"histogram2dcontour\"}],\"mesh3d\":[{\"colorbar\":{\"outlinewidth\":0,\"ticks\":\"\"},\"type\":\"mesh3d\"}],\"parcoords\":[{\"line\":{\"colorbar\":{\"outlinewidth\":0,\"ticks\":\"\"}},\"type\":\"parcoords\"}],\"pie\":[{\"automargin\":true,\"type\":\"pie\"}],\"scatter\":[{\"marker\":{\"colorbar\":{\"outlinewidth\":0,\"ticks\":\"\"}},\"type\":\"scatter\"}],\"scatter3d\":[{\"line\":{\"colorbar\":{\"outlinewidth\":0,\"ticks\":\"\"}},\"marker\":{\"colorbar\":{\"outlinewidth\":0,\"ticks\":\"\"}},\"type\":\"scatter3d\"}],\"scattercarpet\":[{\"marker\":{\"colorbar\":{\"outlinewidth\":0,\"ticks\":\"\"}},\"type\":\"scattercarpet\"}],\"scattergeo\":[{\"marker\":{\"colorbar\":{\"outlinewidth\":0,\"ticks\":\"\"}},\"type\":\"scattergeo\"}],\"scattergl\":[{\"marker\":{\"colorbar\":{\"outlinewidth\":0,\"ticks\":\"\"}},\"type\":\"scattergl\"}],\"scattermapbox\":[{\"marker\":{\"colorbar\":{\"outlinewidth\":0,\"ticks\":\"\"}},\"type\":\"scattermapbox\"}],\"scatterpolar\":[{\"marker\":{\"colorbar\":{\"outlinewidth\":0,\"ticks\":\"\"}},\"type\":\"scatterpolar\"}],\"scatterpolargl\":[{\"marker\":{\"colorbar\":{\"outlinewidth\":0,\"ticks\":\"\"}},\"type\":\"scatterpolargl\"}],\"scatterternary\":[{\"marker\":{\"colorbar\":{\"outlinewidth\":0,\"ticks\":\"\"}},\"type\":\"scatterternary\"}],\"surface\":[{\"colorbar\":{\"outlinewidth\":0,\"ticks\":\"\"},\"colorscale\":[[0.0,\"#0d0887\"],[0.1111111111111111,\"#46039f\"],[0.2222222222222222,\"#7201a8\"],[0.3333333333333333,\"#9c179e\"],[0.4444444444444444,\"#bd3786\"],[0.5555555555555556,\"#d8576b\"],[0.6666666666666666,\"#ed7953\"],[0.7777777777777778,\"#fb9f3a\"],[0.8888888888888888,\"#fdca26\"],[1.0,\"#f0f921\"]],\"type\":\"surface\"}],\"table\":[{\"cells\":{\"fill\":{\"color\":\"#EBF0F8\"},\"line\":{\"color\":\"white\"}},\"header\":{\"fill\":{\"color\":\"#C8D4E3\"},\"line\":{\"color\":\"white\"}},\"type\":\"table\"}]},\"layout\":{\"annotationdefaults\":{\"arrowcolor\":\"#2a3f5f\",\"arrowhead\":0,\"arrowwidth\":1},\"autotypenumbers\":\"strict\",\"coloraxis\":{\"colorbar\":{\"outlinewidth\":0,\"ticks\":\"\"}},\"colorscale\":{\"diverging\":[[0,\"#8e0152\"],[0.1,\"#c51b7d\"],[0.2,\"#de77ae\"],[0.3,\"#f1b6da\"],[0.4,\"#fde0ef\"],[0.5,\"#f7f7f7\"],[0.6,\"#e6f5d0\"],[0.7,\"#b8e186\"],[0.8,\"#7fbc41\"],[0.9,\"#4d9221\"],[1,\"#276419\"]],\"sequential\":[[0.0,\"#0d0887\"],[0.1111111111111111,\"#46039f\"],[0.2222222222222222,\"#7201a8\"],[0.3333333333333333,\"#9c179e\"],[0.4444444444444444,\"#bd3786\"],[0.5555555555555556,\"#d8576b\"],[0.6666666666666666,\"#ed7953\"],[0.7777777777777778,\"#fb9f3a\"],[0.8888888888888888,\"#fdca26\"],[1.0,\"#f0f921\"]],\"sequentialminus\":[[0.0,\"#0d0887\"],[0.1111111111111111,\"#46039f\"],[0.2222222222222222,\"#7201a8\"],[0.3333333333333333,\"#9c179e\"],[0.4444444444444444,\"#bd3786\"],[0.5555555555555556,\"#d8576b\"],[0.6666666666666666,\"#ed7953\"],[0.7777777777777778,\"#fb9f3a\"],[0.8888888888888888,\"#fdca26\"],[1.0,\"#f0f921\"]]},\"colorway\":[\"#636efa\",\"#EF553B\",\"#00cc96\",\"#ab63fa\",\"#FFA15A\",\"#19d3f3\",\"#FF6692\",\"#B6E880\",\"#FF97FF\",\"#FECB52\"],\"font\":{\"color\":\"#2a3f5f\"},\"geo\":{\"bgcolor\":\"white\",\"lakecolor\":\"white\",\"landcolor\":\"#E5ECF6\",\"showlakes\":true,\"showland\":true,\"subunitcolor\":\"white\"},\"hoverlabel\":{\"align\":\"left\"},\"hovermode\":\"closest\",\"mapbox\":{\"style\":\"light\"},\"paper_bgcolor\":\"white\",\"plot_bgcolor\":\"#E5ECF6\",\"polar\":{\"angularaxis\":{\"gridcolor\":\"white\",\"linecolor\":\"white\",\"ticks\":\"\"},\"bgcolor\":\"#E5ECF6\",\"radialaxis\":{\"gridcolor\":\"white\",\"linecolor\":\"white\",\"ticks\":\"\"}},\"scene\":{\"xaxis\":{\"backgroundcolor\":\"#E5ECF6\",\"gridcolor\":\"white\",\"gridwidth\":2,\"linecolor\":\"white\",\"showbackground\":true,\"ticks\":\"\",\"zerolinecolor\":\"white\"},\"yaxis\":{\"backgroundcolor\":\"#E5ECF6\",\"gridcolor\":\"white\",\"gridwidth\":2,\"linecolor\":\"white\",\"showbackground\":true,\"ticks\":\"\",\"zerolinecolor\":\"white\"},\"zaxis\":{\"backgroundcolor\":\"#E5ECF6\",\"gridcolor\":\"white\",\"gridwidth\":2,\"linecolor\":\"white\",\"showbackground\":true,\"ticks\":\"\",\"zerolinecolor\":\"white\"}},\"shapedefaults\":{\"line\":{\"color\":\"#2a3f5f\"}},\"ternary\":{\"aaxis\":{\"gridcolor\":\"white\",\"linecolor\":\"white\",\"ticks\":\"\"},\"baxis\":{\"gridcolor\":\"white\",\"linecolor\":\"white\",\"ticks\":\"\"},\"bgcolor\":\"#E5ECF6\",\"caxis\":{\"gridcolor\":\"white\",\"linecolor\":\"white\",\"ticks\":\"\"}},\"title\":{\"x\":0.05},\"xaxis\":{\"automargin\":true,\"gridcolor\":\"white\",\"linecolor\":\"white\",\"ticks\":\"\",\"title\":{\"standoff\":15},\"zerolinecolor\":\"white\",\"zerolinewidth\":2},\"yaxis\":{\"automargin\":true,\"gridcolor\":\"white\",\"linecolor\":\"white\",\"ticks\":\"\",\"title\":{\"standoff\":15},\"zerolinecolor\":\"white\",\"zerolinewidth\":2}}},\"xaxis\":{\"anchor\":\"y\",\"domain\":[0.0,1.0],\"title\":{\"text\":\"age\"}},\"yaxis\":{\"anchor\":\"x\",\"domain\":[0.0,0.8316],\"title\":{\"text\":\"count\"}},\"xaxis2\":{\"anchor\":\"y2\",\"domain\":[0.0,1.0],\"matches\":\"x\",\"showticklabels\":false,\"showgrid\":true},\"yaxis2\":{\"anchor\":\"x2\",\"domain\":[0.8416,1.0],\"matches\":\"y2\",\"showticklabels\":false,\"showline\":false,\"ticks\":\"\",\"showgrid\":false},\"legend\":{\"tracegroupgap\":0},\"title\":{\"text\":\"Distribution of Age\"},\"barmode\":\"relative\",\"bargap\":0.1},                        {\"responsive\": true}                    ).then(function(){\n",
              "                            \n",
              "var gd = document.getElementById('3277a97d-7975-4054-9a54-120d2cc2ab6d');\n",
              "var x = new MutationObserver(function (mutations, observer) {{\n",
              "        var display = window.getComputedStyle(gd).display;\n",
              "        if (!display || display === 'none') {{\n",
              "            console.log([gd, 'removed!']);\n",
              "            Plotly.purge(gd);\n",
              "            observer.disconnect();\n",
              "        }}\n",
              "}});\n",
              "\n",
              "// Listen for the removal of the full notebook cells\n",
              "var notebookContainer = gd.closest('#notebook-container');\n",
              "if (notebookContainer) {{\n",
              "    x.observe(notebookContainer, {childList: true});\n",
              "}}\n",
              "\n",
              "// Listen for the clearing of the current output cell\n",
              "var outputEl = gd.closest('.output');\n",
              "if (outputEl) {{\n",
              "    x.observe(outputEl, {childList: true});\n",
              "}}\n",
              "\n",
              "                        })                };                            </script>        </div>\n",
              "</body>\n",
              "</html>"
            ]
          },
          "metadata": {}
        }
      ]
    },
    {
      "cell_type": "code",
      "source": [
        "# Plotting Distribution for BMI.\n",
        "\n",
        "fig = px.histogram(medical_df, \n",
        "                   x='bmi', \n",
        "                   marginal='box', \n",
        "                   color_discrete_sequence=['red'],   # adding that color isn't defauly but red for the plot. \n",
        "                   title='Distribution of BMI (Body Mass Index)')\n",
        "fig.update_layout(bargap=0.1)\n",
        "fig.show()\n"
      ],
      "metadata": {
        "colab": {
          "base_uri": "https://localhost:8080/",
          "height": 542
        },
        "id": "zOXieoh6ksOm",
        "outputId": "0d263ba9-0728-434e-f5b0-0b847daa2fd1"
      },
      "execution_count": null,
      "outputs": [
        {
          "output_type": "display_data",
          "data": {
            "text/html": [
              "<html>\n",
              "<head><meta charset=\"utf-8\" /></head>\n",
              "<body>\n",
              "    <div>            <script src=\"https://cdnjs.cloudflare.com/ajax/libs/mathjax/2.7.5/MathJax.js?config=TeX-AMS-MML_SVG\"></script><script type=\"text/javascript\">if (window.MathJax) {MathJax.Hub.Config({SVG: {font: \"STIX-Web\"}});}</script>                <script type=\"text/javascript\">window.PlotlyConfig = {MathJaxConfig: 'local'};</script>\n",
              "        <script src=\"https://cdn.plot.ly/plotly-2.8.3.min.js\"></script>                <div id=\"10d708ff-4534-493d-a353-2e4ddd9fe029\" class=\"plotly-graph-div\" style=\"height:525px; width:100%;\"></div>            <script type=\"text/javascript\">                                    window.PLOTLYENV=window.PLOTLYENV || {};                                    if (document.getElementById(\"10d708ff-4534-493d-a353-2e4ddd9fe029\")) {                    Plotly.newPlot(                        \"10d708ff-4534-493d-a353-2e4ddd9fe029\",                        [{\"alignmentgroup\":\"True\",\"bingroup\":\"x\",\"hovertemplate\":\"bmi=%{x}<br>count=%{y}<extra></extra>\",\"legendgroup\":\"\",\"marker\":{\"color\":\"red\",\"pattern\":{\"shape\":\"\"}},\"name\":\"\",\"offsetgroup\":\"\",\"orientation\":\"v\",\"showlegend\":false,\"x\":[27.9,33.77,33.0,22.705,28.88,25.74,33.44,27.74,29.83,25.84,26.22,26.29,34.4,39.82,42.13,24.6,30.78,23.845,40.3,35.3,36.005,32.4,34.1,31.92,28.025,27.72,23.085,32.775,17.385,36.3,35.6,26.315,28.6,28.31,36.4,20.425,32.965,20.8,36.67,39.9,26.6,36.63,21.78,30.8,37.05,37.3,38.665,34.77,24.53,35.2,35.625,33.63,28.0,34.43,28.69,36.955,31.825,31.68,22.88,37.335,27.36,33.66,24.7,25.935,22.42,28.9,39.1,26.315,36.19,23.98,24.75,28.5,28.1,32.01,27.4,34.01,29.59,35.53,39.805,32.965,26.885,38.285,37.62,41.23,34.8,22.895,31.16,27.2,27.74,26.98,39.49,24.795,29.83,34.77,31.3,37.62,30.8,38.28,19.95,19.3,31.6,25.46,30.115,29.92,27.5,28.025,28.4,30.875,27.94,35.09,33.63,29.7,30.8,35.72,32.205,28.595,49.06,27.94,27.17,23.37,37.1,23.75,28.975,31.35,33.915,28.785,28.3,37.4,17.765,34.7,26.505,22.04,35.9,25.555,28.785,28.05,34.1,25.175,31.9,36.0,22.42,32.49,25.3,29.735,28.69,38.83,30.495,37.73,37.43,28.4,24.13,29.7,37.145,23.37,25.46,39.52,24.42,25.175,35.53,27.83,26.6,36.85,39.6,29.8,29.64,28.215,37.0,33.155,31.825,18.905,41.47,30.3,15.96,34.8,33.345,37.7,27.835,29.2,28.9,33.155,28.595,38.28,19.95,26.41,30.69,41.895,29.92,30.9,32.2,32.11,31.57,26.2,25.74,26.6,34.43,30.59,32.8,28.6,18.05,39.33,32.11,32.23,24.035,36.08,22.3,28.88,26.4,27.74,31.8,41.23,33.0,30.875,28.5,26.73,30.9,37.1,26.6,23.1,29.92,23.21,33.7,33.25,30.8,34.8,24.64,33.88,38.06,41.91,31.635,25.46,36.195,27.83,17.8,27.5,24.51,22.22,26.73,38.39,29.07,38.06,36.67,22.135,26.8,35.3,27.74,30.02,38.06,35.86,20.9,28.975,17.29,32.2,34.21,30.3,31.825,25.365,33.63,40.15,24.415,31.92,25.2,26.84,24.32,36.955,38.06,42.35,19.8,32.395,30.2,25.84,29.37,34.2,37.05,27.455,27.55,26.6,20.615,24.3,31.79,21.56,28.12,40.565,27.645,32.395,31.2,26.62,48.07,26.22,36.765,26.4,33.4,29.64,45.54,28.82,26.8,22.99,27.7,25.41,34.39,28.88,27.55,22.61,37.51,33.0,38.0,33.345,27.5,33.33,34.865,33.06,26.6,24.7,35.97,35.86,31.4,33.25,32.205,32.775,27.645,37.335,25.27,29.64,30.8,40.945,27.2,34.105,23.21,36.48,33.8,36.7,36.385,27.36,31.16,28.785,35.72,34.5,25.74,27.55,32.3,27.72,27.6,30.02,27.55,36.765,41.47,29.26,35.75,33.345,29.92,27.835,23.18,25.6,27.7,35.245,38.28,27.6,43.89,29.83,41.91,20.79,32.3,30.5,21.7,26.4,21.89,30.78,32.3,24.985,32.015,30.4,21.09,22.23,33.155,32.9,33.33,28.31,24.89,40.15,30.115,31.46,17.955,30.685,33.0,43.34,22.135,34.4,39.05,25.365,22.61,30.21,35.625,37.43,31.445,31.35,32.3,19.855,34.4,31.02,25.6,38.17,20.6,47.52,32.965,32.3,20.4,38.38,24.31,23.6,21.12,30.03,17.48,20.235,17.195,23.9,35.15,35.64,34.1,22.6,39.16,26.98,33.88,35.86,32.775,30.59,30.2,24.31,27.265,29.165,16.815,30.4,33.1,20.235,26.9,30.5,28.595,33.11,31.73,28.9,46.75,29.45,32.68,33.5,43.01,36.52,26.695,33.1,29.64,25.65,29.6,38.6,29.6,24.13,23.4,29.735,46.53,37.4,30.14,30.495,39.6,33.0,36.63,30.0,38.095,25.935,25.175,28.38,28.7,33.82,24.32,24.09,32.67,30.115,29.8,33.345,25.1,28.31,28.5,35.625,36.85,32.56,41.325,37.51,31.35,39.5,34.3,31.065,21.47,28.7,38.06,31.16,32.9,25.08,25.08,43.4,25.7,27.93,23.6,28.7,23.98,39.2,34.4,26.03,23.21,30.25,28.93,30.875,31.35,23.75,25.27,28.7,32.11,33.66,22.42,30.4,28.3,35.7,35.31,30.495,31.0,30.875,27.36,44.22,33.915,37.73,26.07,33.88,30.59,25.8,39.425,25.46,42.13,31.73,29.7,36.19,40.48,28.025,38.9,30.2,28.05,31.35,38.0,31.79,36.3,47.41,30.21,25.84,35.435,46.7,28.595,46.2,30.8,28.93,21.4,31.73,41.325,23.8,33.44,34.21,34.105,35.53,19.95,32.68,30.5,44.77,32.12,30.495,40.565,30.59,31.9,40.565,29.1,37.29,43.12,36.86,34.295,27.17,26.84,38.095,30.2,23.465,25.46,30.59,45.43,23.65,20.7,28.27,20.235,30.21,35.91,30.69,29.0,19.57,31.13,21.85,40.26,33.725,29.48,33.25,32.6,37.525,39.16,31.635,25.3,39.05,28.31,34.1,25.175,23.655,26.98,37.8,29.37,34.8,33.155,19.0,33.0,36.63,28.595,25.6,33.11,37.1,31.4,34.1,21.3,33.535,28.785,26.03,28.88,42.46,38.0,38.95,36.1,29.3,35.53,22.705,39.7,38.19,24.51,38.095,26.41,33.66,42.4,28.31,33.915,34.96,35.31,30.78,26.22,23.37,28.5,32.965,42.68,39.6,31.13,36.3,35.2,25.3,42.4,33.155,35.91,28.785,46.53,23.98,31.54,33.66,22.99,38.06,28.7,32.775,32.015,29.81,31.57,31.16,29.7,31.02,43.89,21.375,40.81,31.35,36.1,23.18,17.4,20.3,35.3,24.32,18.5,26.41,26.125,41.69,24.1,31.13,27.36,36.2,32.395,23.655,34.8,40.185,32.3,35.75,33.725,39.27,34.87,44.745,41.47,26.41,29.545,32.9,38.06,28.69,30.495,27.74,35.2,23.54,30.685,40.47,22.6,28.9,22.61,24.32,36.67,33.44,40.66,36.6,37.4,35.4,27.075,39.05,28.405,21.755,40.28,36.08,24.42,21.4,30.1,27.265,32.1,34.77,38.39,23.7,31.73,35.5,24.035,29.15,34.105,26.62,26.41,30.115,27.0,21.755,36.0,30.875,26.4,28.975,37.905,22.77,33.63,27.645,22.8,27.83,37.43,38.17,34.58,35.2,27.1,26.03,25.175,31.825,32.3,29.0,39.7,19.475,36.1,26.7,36.48,28.88,34.2,33.33,32.3,39.805,34.32,28.88,24.4,41.14,35.97,27.6,29.26,27.7,36.955,36.86,22.515,29.92,41.8,27.6,23.18,20.9,31.92,28.5,44.22,22.895,33.1,24.795,26.18,35.97,22.3,42.24,26.51,35.815,41.42,36.575,30.14,25.84,30.8,42.94,21.01,22.515,34.43,31.46,24.225,37.1,26.125,35.53,33.7,17.67,31.13,29.81,24.32,31.825,31.79,28.025,30.78,21.85,33.1,25.84,23.845,34.39,33.82,35.97,31.5,28.31,23.465,31.35,31.1,24.7,32.78,29.81,30.495,32.45,34.2,50.38,24.1,32.775,30.78,32.3,35.53,23.75,23.845,29.6,33.11,24.13,32.23,28.1,47.6,28.0,33.535,19.855,25.4,29.9,37.29,43.7,23.655,24.3,36.2,29.48,24.86,30.1,21.85,28.12,27.1,33.44,28.8,29.5,34.8,27.36,22.135,37.05,26.695,28.93,28.975,30.02,39.5,33.63,26.885,29.04,24.035,38.94,32.11,44.0,20.045,25.555,40.26,22.515,22.515,40.92,27.265,36.85,35.1,29.355,32.585,32.34,39.8,24.6,28.31,31.73,26.695,27.5,24.605,33.99,26.885,22.895,28.2,34.21,25.0,33.2,31.0,35.815,23.2,32.11,23.4,20.1,39.16,34.21,46.53,32.5,25.8,35.3,37.18,27.5,29.735,24.225,26.18,29.48,23.21,46.09,40.185,22.61,39.93,35.8,35.8,34.2,31.255,29.7,18.335,42.9,28.405,30.2,27.835,39.49,30.8,26.79,34.96,36.67,39.615,25.9,35.2,24.795,36.765,27.1,24.795,25.365,25.745,34.32,28.16,23.56,20.235,40.5,35.42,22.895,40.15,29.15,39.995,29.92,25.46,21.375,25.9,30.59,30.115,25.8,30.115,27.645,34.675,20.52,19.8,27.835,31.6,28.27,20.045,23.275,34.1,36.85,36.29,26.885,22.99,32.7,25.8,29.6,19.19,31.73,29.26,28.215,24.985,27.74,22.8,20.13,33.33,32.3,27.6,25.46,24.605,34.2,35.815,32.68,37.0,31.02,36.08,23.32,45.32,34.6,26.03,18.715,31.6,17.29,23.655,35.2,27.93,21.565,38.38,23.0,37.07,30.495,28.88,27.265,28.025,23.085,30.685,25.8,35.245,24.7,25.08,52.58,22.515,30.9,36.955,26.41,29.83,29.8,21.47,27.645,28.9,31.79,39.49,33.82,32.01,27.94,41.14,28.595,25.6,25.3,37.29,42.655,21.66,31.9,37.07,31.445,31.255,28.88,18.335,29.59,32.0,26.03,31.68,33.66,21.78,27.835,19.95,31.5,30.495,18.3,28.975,31.54,47.74,22.1,36.19,29.83,32.7,30.4,33.7,31.35,34.96,33.77,30.875,33.99,19.095,28.6,38.94,36.08,29.8,31.24,29.925,26.22,30.0,20.35,32.3,38.39,25.85,26.315,24.51,32.67,29.64,33.33,35.75,19.95,31.4,38.17,36.86,32.395,42.75,25.08,29.9,35.86,32.8,18.6,23.87,45.9,40.28,18.335,33.82,28.12,25.0,22.23,30.25,32.49,37.07,32.6,24.86,32.34,32.3,32.775,32.8,31.92,21.5,34.1,30.305,36.48,32.56,35.815,27.93,22.135,44.88,23.18,30.59,41.1,34.58,42.13,38.83,28.215,28.31,26.125,40.37,24.6,35.2,34.105,27.36,26.7,41.91,29.26,32.11,27.1,24.13,27.4,34.865,29.81,41.325,29.925,30.3,27.36,28.49,23.56,35.625,32.68,25.27,28.0,32.775,21.755,32.395,36.575,21.755,27.93,30.02,33.55,29.355,25.8,24.32,40.375,32.11,32.3,27.28,17.86,34.8,33.4,25.555,37.1,30.875,34.1,21.47,33.3,31.255,39.14,25.08,37.29,34.6,30.21,21.945,24.97,25.3,24.42,23.94,39.82,16.815,37.18,34.43,30.305,34.485,21.8,24.605,23.3,27.83,31.065,21.66,28.215,22.705,42.13,41.8,36.96,21.28,33.11,33.33,24.3,25.7,29.4,39.82,33.63,29.83,19.8,27.3,29.3,27.72,37.9,36.385,27.645,37.715,23.18,20.52,37.1,28.05,29.9,33.345,23.76,30.5,31.065,33.3,27.5,33.915,34.485,25.52,27.61,27.06,23.7,30.4,29.735,29.925,26.79,33.33,27.645,21.66,30.03,36.3,24.32,17.29,25.9,39.4,34.32,19.95,34.9,23.21,25.745,25.175,22.0,26.125,26.51,27.455,25.745,30.36,30.875,20.8,27.8,24.605,27.72,21.85,28.12,30.2,32.2,26.315,26.695,42.9,34.7,23.655,28.31,20.6,53.13,39.71,26.315,31.065,26.695,38.83,40.37,25.935,33.535,32.87,30.03,24.225,38.6,25.74,33.4,44.7,30.97,31.92,36.85,25.8,29.07],\"xaxis\":\"x\",\"yaxis\":\"y\",\"type\":\"histogram\"},{\"alignmentgroup\":\"True\",\"hovertemplate\":\"bmi=%{x}<extra></extra>\",\"legendgroup\":\"\",\"marker\":{\"color\":\"red\"},\"name\":\"\",\"notched\":true,\"offsetgroup\":\"\",\"showlegend\":false,\"x\":[27.9,33.77,33.0,22.705,28.88,25.74,33.44,27.74,29.83,25.84,26.22,26.29,34.4,39.82,42.13,24.6,30.78,23.845,40.3,35.3,36.005,32.4,34.1,31.92,28.025,27.72,23.085,32.775,17.385,36.3,35.6,26.315,28.6,28.31,36.4,20.425,32.965,20.8,36.67,39.9,26.6,36.63,21.78,30.8,37.05,37.3,38.665,34.77,24.53,35.2,35.625,33.63,28.0,34.43,28.69,36.955,31.825,31.68,22.88,37.335,27.36,33.66,24.7,25.935,22.42,28.9,39.1,26.315,36.19,23.98,24.75,28.5,28.1,32.01,27.4,34.01,29.59,35.53,39.805,32.965,26.885,38.285,37.62,41.23,34.8,22.895,31.16,27.2,27.74,26.98,39.49,24.795,29.83,34.77,31.3,37.62,30.8,38.28,19.95,19.3,31.6,25.46,30.115,29.92,27.5,28.025,28.4,30.875,27.94,35.09,33.63,29.7,30.8,35.72,32.205,28.595,49.06,27.94,27.17,23.37,37.1,23.75,28.975,31.35,33.915,28.785,28.3,37.4,17.765,34.7,26.505,22.04,35.9,25.555,28.785,28.05,34.1,25.175,31.9,36.0,22.42,32.49,25.3,29.735,28.69,38.83,30.495,37.73,37.43,28.4,24.13,29.7,37.145,23.37,25.46,39.52,24.42,25.175,35.53,27.83,26.6,36.85,39.6,29.8,29.64,28.215,37.0,33.155,31.825,18.905,41.47,30.3,15.96,34.8,33.345,37.7,27.835,29.2,28.9,33.155,28.595,38.28,19.95,26.41,30.69,41.895,29.92,30.9,32.2,32.11,31.57,26.2,25.74,26.6,34.43,30.59,32.8,28.6,18.05,39.33,32.11,32.23,24.035,36.08,22.3,28.88,26.4,27.74,31.8,41.23,33.0,30.875,28.5,26.73,30.9,37.1,26.6,23.1,29.92,23.21,33.7,33.25,30.8,34.8,24.64,33.88,38.06,41.91,31.635,25.46,36.195,27.83,17.8,27.5,24.51,22.22,26.73,38.39,29.07,38.06,36.67,22.135,26.8,35.3,27.74,30.02,38.06,35.86,20.9,28.975,17.29,32.2,34.21,30.3,31.825,25.365,33.63,40.15,24.415,31.92,25.2,26.84,24.32,36.955,38.06,42.35,19.8,32.395,30.2,25.84,29.37,34.2,37.05,27.455,27.55,26.6,20.615,24.3,31.79,21.56,28.12,40.565,27.645,32.395,31.2,26.62,48.07,26.22,36.765,26.4,33.4,29.64,45.54,28.82,26.8,22.99,27.7,25.41,34.39,28.88,27.55,22.61,37.51,33.0,38.0,33.345,27.5,33.33,34.865,33.06,26.6,24.7,35.97,35.86,31.4,33.25,32.205,32.775,27.645,37.335,25.27,29.64,30.8,40.945,27.2,34.105,23.21,36.48,33.8,36.7,36.385,27.36,31.16,28.785,35.72,34.5,25.74,27.55,32.3,27.72,27.6,30.02,27.55,36.765,41.47,29.26,35.75,33.345,29.92,27.835,23.18,25.6,27.7,35.245,38.28,27.6,43.89,29.83,41.91,20.79,32.3,30.5,21.7,26.4,21.89,30.78,32.3,24.985,32.015,30.4,21.09,22.23,33.155,32.9,33.33,28.31,24.89,40.15,30.115,31.46,17.955,30.685,33.0,43.34,22.135,34.4,39.05,25.365,22.61,30.21,35.625,37.43,31.445,31.35,32.3,19.855,34.4,31.02,25.6,38.17,20.6,47.52,32.965,32.3,20.4,38.38,24.31,23.6,21.12,30.03,17.48,20.235,17.195,23.9,35.15,35.64,34.1,22.6,39.16,26.98,33.88,35.86,32.775,30.59,30.2,24.31,27.265,29.165,16.815,30.4,33.1,20.235,26.9,30.5,28.595,33.11,31.73,28.9,46.75,29.45,32.68,33.5,43.01,36.52,26.695,33.1,29.64,25.65,29.6,38.6,29.6,24.13,23.4,29.735,46.53,37.4,30.14,30.495,39.6,33.0,36.63,30.0,38.095,25.935,25.175,28.38,28.7,33.82,24.32,24.09,32.67,30.115,29.8,33.345,25.1,28.31,28.5,35.625,36.85,32.56,41.325,37.51,31.35,39.5,34.3,31.065,21.47,28.7,38.06,31.16,32.9,25.08,25.08,43.4,25.7,27.93,23.6,28.7,23.98,39.2,34.4,26.03,23.21,30.25,28.93,30.875,31.35,23.75,25.27,28.7,32.11,33.66,22.42,30.4,28.3,35.7,35.31,30.495,31.0,30.875,27.36,44.22,33.915,37.73,26.07,33.88,30.59,25.8,39.425,25.46,42.13,31.73,29.7,36.19,40.48,28.025,38.9,30.2,28.05,31.35,38.0,31.79,36.3,47.41,30.21,25.84,35.435,46.7,28.595,46.2,30.8,28.93,21.4,31.73,41.325,23.8,33.44,34.21,34.105,35.53,19.95,32.68,30.5,44.77,32.12,30.495,40.565,30.59,31.9,40.565,29.1,37.29,43.12,36.86,34.295,27.17,26.84,38.095,30.2,23.465,25.46,30.59,45.43,23.65,20.7,28.27,20.235,30.21,35.91,30.69,29.0,19.57,31.13,21.85,40.26,33.725,29.48,33.25,32.6,37.525,39.16,31.635,25.3,39.05,28.31,34.1,25.175,23.655,26.98,37.8,29.37,34.8,33.155,19.0,33.0,36.63,28.595,25.6,33.11,37.1,31.4,34.1,21.3,33.535,28.785,26.03,28.88,42.46,38.0,38.95,36.1,29.3,35.53,22.705,39.7,38.19,24.51,38.095,26.41,33.66,42.4,28.31,33.915,34.96,35.31,30.78,26.22,23.37,28.5,32.965,42.68,39.6,31.13,36.3,35.2,25.3,42.4,33.155,35.91,28.785,46.53,23.98,31.54,33.66,22.99,38.06,28.7,32.775,32.015,29.81,31.57,31.16,29.7,31.02,43.89,21.375,40.81,31.35,36.1,23.18,17.4,20.3,35.3,24.32,18.5,26.41,26.125,41.69,24.1,31.13,27.36,36.2,32.395,23.655,34.8,40.185,32.3,35.75,33.725,39.27,34.87,44.745,41.47,26.41,29.545,32.9,38.06,28.69,30.495,27.74,35.2,23.54,30.685,40.47,22.6,28.9,22.61,24.32,36.67,33.44,40.66,36.6,37.4,35.4,27.075,39.05,28.405,21.755,40.28,36.08,24.42,21.4,30.1,27.265,32.1,34.77,38.39,23.7,31.73,35.5,24.035,29.15,34.105,26.62,26.41,30.115,27.0,21.755,36.0,30.875,26.4,28.975,37.905,22.77,33.63,27.645,22.8,27.83,37.43,38.17,34.58,35.2,27.1,26.03,25.175,31.825,32.3,29.0,39.7,19.475,36.1,26.7,36.48,28.88,34.2,33.33,32.3,39.805,34.32,28.88,24.4,41.14,35.97,27.6,29.26,27.7,36.955,36.86,22.515,29.92,41.8,27.6,23.18,20.9,31.92,28.5,44.22,22.895,33.1,24.795,26.18,35.97,22.3,42.24,26.51,35.815,41.42,36.575,30.14,25.84,30.8,42.94,21.01,22.515,34.43,31.46,24.225,37.1,26.125,35.53,33.7,17.67,31.13,29.81,24.32,31.825,31.79,28.025,30.78,21.85,33.1,25.84,23.845,34.39,33.82,35.97,31.5,28.31,23.465,31.35,31.1,24.7,32.78,29.81,30.495,32.45,34.2,50.38,24.1,32.775,30.78,32.3,35.53,23.75,23.845,29.6,33.11,24.13,32.23,28.1,47.6,28.0,33.535,19.855,25.4,29.9,37.29,43.7,23.655,24.3,36.2,29.48,24.86,30.1,21.85,28.12,27.1,33.44,28.8,29.5,34.8,27.36,22.135,37.05,26.695,28.93,28.975,30.02,39.5,33.63,26.885,29.04,24.035,38.94,32.11,44.0,20.045,25.555,40.26,22.515,22.515,40.92,27.265,36.85,35.1,29.355,32.585,32.34,39.8,24.6,28.31,31.73,26.695,27.5,24.605,33.99,26.885,22.895,28.2,34.21,25.0,33.2,31.0,35.815,23.2,32.11,23.4,20.1,39.16,34.21,46.53,32.5,25.8,35.3,37.18,27.5,29.735,24.225,26.18,29.48,23.21,46.09,40.185,22.61,39.93,35.8,35.8,34.2,31.255,29.7,18.335,42.9,28.405,30.2,27.835,39.49,30.8,26.79,34.96,36.67,39.615,25.9,35.2,24.795,36.765,27.1,24.795,25.365,25.745,34.32,28.16,23.56,20.235,40.5,35.42,22.895,40.15,29.15,39.995,29.92,25.46,21.375,25.9,30.59,30.115,25.8,30.115,27.645,34.675,20.52,19.8,27.835,31.6,28.27,20.045,23.275,34.1,36.85,36.29,26.885,22.99,32.7,25.8,29.6,19.19,31.73,29.26,28.215,24.985,27.74,22.8,20.13,33.33,32.3,27.6,25.46,24.605,34.2,35.815,32.68,37.0,31.02,36.08,23.32,45.32,34.6,26.03,18.715,31.6,17.29,23.655,35.2,27.93,21.565,38.38,23.0,37.07,30.495,28.88,27.265,28.025,23.085,30.685,25.8,35.245,24.7,25.08,52.58,22.515,30.9,36.955,26.41,29.83,29.8,21.47,27.645,28.9,31.79,39.49,33.82,32.01,27.94,41.14,28.595,25.6,25.3,37.29,42.655,21.66,31.9,37.07,31.445,31.255,28.88,18.335,29.59,32.0,26.03,31.68,33.66,21.78,27.835,19.95,31.5,30.495,18.3,28.975,31.54,47.74,22.1,36.19,29.83,32.7,30.4,33.7,31.35,34.96,33.77,30.875,33.99,19.095,28.6,38.94,36.08,29.8,31.24,29.925,26.22,30.0,20.35,32.3,38.39,25.85,26.315,24.51,32.67,29.64,33.33,35.75,19.95,31.4,38.17,36.86,32.395,42.75,25.08,29.9,35.86,32.8,18.6,23.87,45.9,40.28,18.335,33.82,28.12,25.0,22.23,30.25,32.49,37.07,32.6,24.86,32.34,32.3,32.775,32.8,31.92,21.5,34.1,30.305,36.48,32.56,35.815,27.93,22.135,44.88,23.18,30.59,41.1,34.58,42.13,38.83,28.215,28.31,26.125,40.37,24.6,35.2,34.105,27.36,26.7,41.91,29.26,32.11,27.1,24.13,27.4,34.865,29.81,41.325,29.925,30.3,27.36,28.49,23.56,35.625,32.68,25.27,28.0,32.775,21.755,32.395,36.575,21.755,27.93,30.02,33.55,29.355,25.8,24.32,40.375,32.11,32.3,27.28,17.86,34.8,33.4,25.555,37.1,30.875,34.1,21.47,33.3,31.255,39.14,25.08,37.29,34.6,30.21,21.945,24.97,25.3,24.42,23.94,39.82,16.815,37.18,34.43,30.305,34.485,21.8,24.605,23.3,27.83,31.065,21.66,28.215,22.705,42.13,41.8,36.96,21.28,33.11,33.33,24.3,25.7,29.4,39.82,33.63,29.83,19.8,27.3,29.3,27.72,37.9,36.385,27.645,37.715,23.18,20.52,37.1,28.05,29.9,33.345,23.76,30.5,31.065,33.3,27.5,33.915,34.485,25.52,27.61,27.06,23.7,30.4,29.735,29.925,26.79,33.33,27.645,21.66,30.03,36.3,24.32,17.29,25.9,39.4,34.32,19.95,34.9,23.21,25.745,25.175,22.0,26.125,26.51,27.455,25.745,30.36,30.875,20.8,27.8,24.605,27.72,21.85,28.12,30.2,32.2,26.315,26.695,42.9,34.7,23.655,28.31,20.6,53.13,39.71,26.315,31.065,26.695,38.83,40.37,25.935,33.535,32.87,30.03,24.225,38.6,25.74,33.4,44.7,30.97,31.92,36.85,25.8,29.07],\"xaxis\":\"x2\",\"yaxis\":\"y2\",\"type\":\"box\"}],                        {\"template\":{\"data\":{\"bar\":[{\"error_x\":{\"color\":\"#2a3f5f\"},\"error_y\":{\"color\":\"#2a3f5f\"},\"marker\":{\"line\":{\"color\":\"#E5ECF6\",\"width\":0.5},\"pattern\":{\"fillmode\":\"overlay\",\"size\":10,\"solidity\":0.2}},\"type\":\"bar\"}],\"barpolar\":[{\"marker\":{\"line\":{\"color\":\"#E5ECF6\",\"width\":0.5},\"pattern\":{\"fillmode\":\"overlay\",\"size\":10,\"solidity\":0.2}},\"type\":\"barpolar\"}],\"carpet\":[{\"aaxis\":{\"endlinecolor\":\"#2a3f5f\",\"gridcolor\":\"white\",\"linecolor\":\"white\",\"minorgridcolor\":\"white\",\"startlinecolor\":\"#2a3f5f\"},\"baxis\":{\"endlinecolor\":\"#2a3f5f\",\"gridcolor\":\"white\",\"linecolor\":\"white\",\"minorgridcolor\":\"white\",\"startlinecolor\":\"#2a3f5f\"},\"type\":\"carpet\"}],\"choropleth\":[{\"colorbar\":{\"outlinewidth\":0,\"ticks\":\"\"},\"type\":\"choropleth\"}],\"contour\":[{\"colorbar\":{\"outlinewidth\":0,\"ticks\":\"\"},\"colorscale\":[[0.0,\"#0d0887\"],[0.1111111111111111,\"#46039f\"],[0.2222222222222222,\"#7201a8\"],[0.3333333333333333,\"#9c179e\"],[0.4444444444444444,\"#bd3786\"],[0.5555555555555556,\"#d8576b\"],[0.6666666666666666,\"#ed7953\"],[0.7777777777777778,\"#fb9f3a\"],[0.8888888888888888,\"#fdca26\"],[1.0,\"#f0f921\"]],\"type\":\"contour\"}],\"contourcarpet\":[{\"colorbar\":{\"outlinewidth\":0,\"ticks\":\"\"},\"type\":\"contourcarpet\"}],\"heatmap\":[{\"colorbar\":{\"outlinewidth\":0,\"ticks\":\"\"},\"colorscale\":[[0.0,\"#0d0887\"],[0.1111111111111111,\"#46039f\"],[0.2222222222222222,\"#7201a8\"],[0.3333333333333333,\"#9c179e\"],[0.4444444444444444,\"#bd3786\"],[0.5555555555555556,\"#d8576b\"],[0.6666666666666666,\"#ed7953\"],[0.7777777777777778,\"#fb9f3a\"],[0.8888888888888888,\"#fdca26\"],[1.0,\"#f0f921\"]],\"type\":\"heatmap\"}],\"heatmapgl\":[{\"colorbar\":{\"outlinewidth\":0,\"ticks\":\"\"},\"colorscale\":[[0.0,\"#0d0887\"],[0.1111111111111111,\"#46039f\"],[0.2222222222222222,\"#7201a8\"],[0.3333333333333333,\"#9c179e\"],[0.4444444444444444,\"#bd3786\"],[0.5555555555555556,\"#d8576b\"],[0.6666666666666666,\"#ed7953\"],[0.7777777777777778,\"#fb9f3a\"],[0.8888888888888888,\"#fdca26\"],[1.0,\"#f0f921\"]],\"type\":\"heatmapgl\"}],\"histogram\":[{\"marker\":{\"pattern\":{\"fillmode\":\"overlay\",\"size\":10,\"solidity\":0.2}},\"type\":\"histogram\"}],\"histogram2d\":[{\"colorbar\":{\"outlinewidth\":0,\"ticks\":\"\"},\"colorscale\":[[0.0,\"#0d0887\"],[0.1111111111111111,\"#46039f\"],[0.2222222222222222,\"#7201a8\"],[0.3333333333333333,\"#9c179e\"],[0.4444444444444444,\"#bd3786\"],[0.5555555555555556,\"#d8576b\"],[0.6666666666666666,\"#ed7953\"],[0.7777777777777778,\"#fb9f3a\"],[0.8888888888888888,\"#fdca26\"],[1.0,\"#f0f921\"]],\"type\":\"histogram2d\"}],\"histogram2dcontour\":[{\"colorbar\":{\"outlinewidth\":0,\"ticks\":\"\"},\"colorscale\":[[0.0,\"#0d0887\"],[0.1111111111111111,\"#46039f\"],[0.2222222222222222,\"#7201a8\"],[0.3333333333333333,\"#9c179e\"],[0.4444444444444444,\"#bd3786\"],[0.5555555555555556,\"#d8576b\"],[0.6666666666666666,\"#ed7953\"],[0.7777777777777778,\"#fb9f3a\"],[0.8888888888888888,\"#fdca26\"],[1.0,\"#f0f921\"]],\"type\":\"histogram2dcontour\"}],\"mesh3d\":[{\"colorbar\":{\"outlinewidth\":0,\"ticks\":\"\"},\"type\":\"mesh3d\"}],\"parcoords\":[{\"line\":{\"colorbar\":{\"outlinewidth\":0,\"ticks\":\"\"}},\"type\":\"parcoords\"}],\"pie\":[{\"automargin\":true,\"type\":\"pie\"}],\"scatter\":[{\"marker\":{\"colorbar\":{\"outlinewidth\":0,\"ticks\":\"\"}},\"type\":\"scatter\"}],\"scatter3d\":[{\"line\":{\"colorbar\":{\"outlinewidth\":0,\"ticks\":\"\"}},\"marker\":{\"colorbar\":{\"outlinewidth\":0,\"ticks\":\"\"}},\"type\":\"scatter3d\"}],\"scattercarpet\":[{\"marker\":{\"colorbar\":{\"outlinewidth\":0,\"ticks\":\"\"}},\"type\":\"scattercarpet\"}],\"scattergeo\":[{\"marker\":{\"colorbar\":{\"outlinewidth\":0,\"ticks\":\"\"}},\"type\":\"scattergeo\"}],\"scattergl\":[{\"marker\":{\"colorbar\":{\"outlinewidth\":0,\"ticks\":\"\"}},\"type\":\"scattergl\"}],\"scattermapbox\":[{\"marker\":{\"colorbar\":{\"outlinewidth\":0,\"ticks\":\"\"}},\"type\":\"scattermapbox\"}],\"scatterpolar\":[{\"marker\":{\"colorbar\":{\"outlinewidth\":0,\"ticks\":\"\"}},\"type\":\"scatterpolar\"}],\"scatterpolargl\":[{\"marker\":{\"colorbar\":{\"outlinewidth\":0,\"ticks\":\"\"}},\"type\":\"scatterpolargl\"}],\"scatterternary\":[{\"marker\":{\"colorbar\":{\"outlinewidth\":0,\"ticks\":\"\"}},\"type\":\"scatterternary\"}],\"surface\":[{\"colorbar\":{\"outlinewidth\":0,\"ticks\":\"\"},\"colorscale\":[[0.0,\"#0d0887\"],[0.1111111111111111,\"#46039f\"],[0.2222222222222222,\"#7201a8\"],[0.3333333333333333,\"#9c179e\"],[0.4444444444444444,\"#bd3786\"],[0.5555555555555556,\"#d8576b\"],[0.6666666666666666,\"#ed7953\"],[0.7777777777777778,\"#fb9f3a\"],[0.8888888888888888,\"#fdca26\"],[1.0,\"#f0f921\"]],\"type\":\"surface\"}],\"table\":[{\"cells\":{\"fill\":{\"color\":\"#EBF0F8\"},\"line\":{\"color\":\"white\"}},\"header\":{\"fill\":{\"color\":\"#C8D4E3\"},\"line\":{\"color\":\"white\"}},\"type\":\"table\"}]},\"layout\":{\"annotationdefaults\":{\"arrowcolor\":\"#2a3f5f\",\"arrowhead\":0,\"arrowwidth\":1},\"autotypenumbers\":\"strict\",\"coloraxis\":{\"colorbar\":{\"outlinewidth\":0,\"ticks\":\"\"}},\"colorscale\":{\"diverging\":[[0,\"#8e0152\"],[0.1,\"#c51b7d\"],[0.2,\"#de77ae\"],[0.3,\"#f1b6da\"],[0.4,\"#fde0ef\"],[0.5,\"#f7f7f7\"],[0.6,\"#e6f5d0\"],[0.7,\"#b8e186\"],[0.8,\"#7fbc41\"],[0.9,\"#4d9221\"],[1,\"#276419\"]],\"sequential\":[[0.0,\"#0d0887\"],[0.1111111111111111,\"#46039f\"],[0.2222222222222222,\"#7201a8\"],[0.3333333333333333,\"#9c179e\"],[0.4444444444444444,\"#bd3786\"],[0.5555555555555556,\"#d8576b\"],[0.6666666666666666,\"#ed7953\"],[0.7777777777777778,\"#fb9f3a\"],[0.8888888888888888,\"#fdca26\"],[1.0,\"#f0f921\"]],\"sequentialminus\":[[0.0,\"#0d0887\"],[0.1111111111111111,\"#46039f\"],[0.2222222222222222,\"#7201a8\"],[0.3333333333333333,\"#9c179e\"],[0.4444444444444444,\"#bd3786\"],[0.5555555555555556,\"#d8576b\"],[0.6666666666666666,\"#ed7953\"],[0.7777777777777778,\"#fb9f3a\"],[0.8888888888888888,\"#fdca26\"],[1.0,\"#f0f921\"]]},\"colorway\":[\"#636efa\",\"#EF553B\",\"#00cc96\",\"#ab63fa\",\"#FFA15A\",\"#19d3f3\",\"#FF6692\",\"#B6E880\",\"#FF97FF\",\"#FECB52\"],\"font\":{\"color\":\"#2a3f5f\"},\"geo\":{\"bgcolor\":\"white\",\"lakecolor\":\"white\",\"landcolor\":\"#E5ECF6\",\"showlakes\":true,\"showland\":true,\"subunitcolor\":\"white\"},\"hoverlabel\":{\"align\":\"left\"},\"hovermode\":\"closest\",\"mapbox\":{\"style\":\"light\"},\"paper_bgcolor\":\"white\",\"plot_bgcolor\":\"#E5ECF6\",\"polar\":{\"angularaxis\":{\"gridcolor\":\"white\",\"linecolor\":\"white\",\"ticks\":\"\"},\"bgcolor\":\"#E5ECF6\",\"radialaxis\":{\"gridcolor\":\"white\",\"linecolor\":\"white\",\"ticks\":\"\"}},\"scene\":{\"xaxis\":{\"backgroundcolor\":\"#E5ECF6\",\"gridcolor\":\"white\",\"gridwidth\":2,\"linecolor\":\"white\",\"showbackground\":true,\"ticks\":\"\",\"zerolinecolor\":\"white\"},\"yaxis\":{\"backgroundcolor\":\"#E5ECF6\",\"gridcolor\":\"white\",\"gridwidth\":2,\"linecolor\":\"white\",\"showbackground\":true,\"ticks\":\"\",\"zerolinecolor\":\"white\"},\"zaxis\":{\"backgroundcolor\":\"#E5ECF6\",\"gridcolor\":\"white\",\"gridwidth\":2,\"linecolor\":\"white\",\"showbackground\":true,\"ticks\":\"\",\"zerolinecolor\":\"white\"}},\"shapedefaults\":{\"line\":{\"color\":\"#2a3f5f\"}},\"ternary\":{\"aaxis\":{\"gridcolor\":\"white\",\"linecolor\":\"white\",\"ticks\":\"\"},\"baxis\":{\"gridcolor\":\"white\",\"linecolor\":\"white\",\"ticks\":\"\"},\"bgcolor\":\"#E5ECF6\",\"caxis\":{\"gridcolor\":\"white\",\"linecolor\":\"white\",\"ticks\":\"\"}},\"title\":{\"x\":0.05},\"xaxis\":{\"automargin\":true,\"gridcolor\":\"white\",\"linecolor\":\"white\",\"ticks\":\"\",\"title\":{\"standoff\":15},\"zerolinecolor\":\"white\",\"zerolinewidth\":2},\"yaxis\":{\"automargin\":true,\"gridcolor\":\"white\",\"linecolor\":\"white\",\"ticks\":\"\",\"title\":{\"standoff\":15},\"zerolinecolor\":\"white\",\"zerolinewidth\":2}}},\"xaxis\":{\"anchor\":\"y\",\"domain\":[0.0,1.0],\"title\":{\"text\":\"bmi\"}},\"yaxis\":{\"anchor\":\"x\",\"domain\":[0.0,0.8316],\"title\":{\"text\":\"count\"}},\"xaxis2\":{\"anchor\":\"y2\",\"domain\":[0.0,1.0],\"matches\":\"x\",\"showticklabels\":false,\"showgrid\":true},\"yaxis2\":{\"anchor\":\"x2\",\"domain\":[0.8416,1.0],\"matches\":\"y2\",\"showticklabels\":false,\"showline\":false,\"ticks\":\"\",\"showgrid\":false},\"legend\":{\"tracegroupgap\":0},\"title\":{\"text\":\"Distribution of BMI (Body Mass Index)\"},\"barmode\":\"relative\",\"bargap\":0.1},                        {\"responsive\": true}                    ).then(function(){\n",
              "                            \n",
              "var gd = document.getElementById('10d708ff-4534-493d-a353-2e4ddd9fe029');\n",
              "var x = new MutationObserver(function (mutations, observer) {{\n",
              "        var display = window.getComputedStyle(gd).display;\n",
              "        if (!display || display === 'none') {{\n",
              "            console.log([gd, 'removed!']);\n",
              "            Plotly.purge(gd);\n",
              "            observer.disconnect();\n",
              "        }}\n",
              "}});\n",
              "\n",
              "// Listen for the removal of the full notebook cells\n",
              "var notebookContainer = gd.closest('#notebook-container');\n",
              "if (notebookContainer) {{\n",
              "    x.observe(notebookContainer, {childList: true});\n",
              "}}\n",
              "\n",
              "// Listen for the clearing of the current output cell\n",
              "var outputEl = gd.closest('.output');\n",
              "if (outputEl) {{\n",
              "    x.observe(outputEl, {childList: true});\n",
              "}}\n",
              "\n",
              "                        })                };                            </script>        </div>\n",
              "</body>\n",
              "</html>"
            ]
          },
          "metadata": {}
        }
      ]
    },
    {
      "cell_type": "code",
      "source": [
        "# Let's look at the column we are trying to predict - Charges.\n",
        "# Here we are looking at charges with respect to smokers vs non smokers.\n",
        "\n",
        "fig = px.histogram(medical_df, \n",
        "                   x='charges', \n",
        "                   marginal='box', \n",
        "                   color='smoker',  # what this adds is that it adds a condition to the plot, if smoker have a different color = green. You can see in the plot below.\n",
        "                   color_discrete_sequence=['green', 'grey'], \n",
        "                   title='Annual Medical Charges')\n",
        "fig.update_layout(bargap=0.1)\n",
        "fig.show()\n",
        "\n",
        "# median of chargers for non smokers (grey line is $7000) vs median of chargers for smokers is $35,000 signiricant increase "
      ],
      "metadata": {
        "colab": {
          "base_uri": "https://localhost:8080/",
          "height": 542
        },
        "id": "-bbQdH7Ymr27",
        "outputId": "82c02f48-fabd-4e7e-f283-8cafe364da32"
      },
      "execution_count": null,
      "outputs": [
        {
          "output_type": "display_data",
          "data": {
            "text/html": [
              "<html>\n",
              "<head><meta charset=\"utf-8\" /></head>\n",
              "<body>\n",
              "    <div>            <script src=\"https://cdnjs.cloudflare.com/ajax/libs/mathjax/2.7.5/MathJax.js?config=TeX-AMS-MML_SVG\"></script><script type=\"text/javascript\">if (window.MathJax) {MathJax.Hub.Config({SVG: {font: \"STIX-Web\"}});}</script>                <script type=\"text/javascript\">window.PlotlyConfig = {MathJaxConfig: 'local'};</script>\n",
              "        <script src=\"https://cdn.plot.ly/plotly-2.8.3.min.js\"></script>                <div id=\"17b0ac07-424b-4196-90b0-d3dcf460e81f\" class=\"plotly-graph-div\" style=\"height:525px; width:100%;\"></div>            <script type=\"text/javascript\">                                    window.PLOTLYENV=window.PLOTLYENV || {};                                    if (document.getElementById(\"17b0ac07-424b-4196-90b0-d3dcf460e81f\")) {                    Plotly.newPlot(                        \"17b0ac07-424b-4196-90b0-d3dcf460e81f\",                        [{\"alignmentgroup\":\"True\",\"bingroup\":\"x\",\"hovertemplate\":\"smoker=yes<br>charges=%{x}<br>count=%{y}<extra></extra>\",\"legendgroup\":\"yes\",\"marker\":{\"color\":\"green\",\"pattern\":{\"shape\":\"\"}},\"name\":\"yes\",\"offsetgroup\":\"yes\",\"orientation\":\"v\",\"showlegend\":true,\"x\":[16884.924,27808.7251,39611.7577,36837.467,37701.8768,38711.0,35585.576,51194.55914,39774.2763,48173.361,38709.176,23568.272,37742.5757,47496.49445,34303.1672,23244.7902,14711.7438,17663.1442,16577.7795,37165.1638,39836.519,21098.55405,43578.9394,30184.9367,47291.055,22412.6485,15820.699,30942.1918,17560.37975,47055.5321,19107.7796,39556.4945,17081.08,32734.1863,18972.495,20745.9891,40720.55105,19964.7463,21223.6758,15518.18025,36950.2567,21348.706,36149.4835,48824.45,43753.33705,37133.8982,20984.0936,34779.615,19515.5416,19444.2658,17352.6803,38511.6283,29523.1656,12829.4551,47305.305,44260.7499,41097.16175,43921.1837,33750.2918,17085.2676,24869.8368,36219.40545,46151.1245,17179.522,42856.838,22331.5668,48549.17835,47896.79135,42112.2356,16297.846,21978.6769,38746.3551,24873.3849,42124.5153,34838.873,35491.64,42760.5022,47928.03,48517.56315,24393.6224,41919.097,13844.506,36085.219,18033.9679,21659.9301,38126.2465,15006.57945,42303.69215,19594.80965,14455.64405,18608.262,28950.4692,46889.2612,46599.1084,39125.33225,37079.372,26109.32905,22144.032,19521.9682,25382.297,28868.6639,35147.52848,48885.13561,17942.106,36197.699,22218.1149,32548.3405,21082.16,38245.59327,48675.5177,63770.42801,23807.2406,45863.205,39983.42595,45702.02235,58571.07448,43943.8761,15359.1045,17468.9839,25678.77845,39241.442,42969.8527,23306.547,34439.8559,40182.246,34617.84065,42983.4585,20149.3229,32787.45859,24667.419,27037.9141,42560.4304,40003.33225,45710.20785,46200.9851,46130.5265,40103.89,34806.4677,40273.6455,44400.4064,40932.4295,16657.71745,19361.9988,40419.0191,36189.1017,44585.45587,18246.4955,43254.41795,19539.243,23065.4207,36307.7983,19040.876,17748.5062,18259.216,24520.264,21195.818,18310.742,17904.52705,38792.6856,23401.30575,55135.40209,43813.8661,20773.62775,39597.4072,36021.0112,27533.9129,45008.9555,37270.1512,42111.6647,24106.91255,40974.1649,15817.9857,46113.511,46255.1125,19719.6947,27218.43725,29330.98315,44202.6536,19798.05455,48673.5588,17496.306,33732.6867,21774.32215,35069.37452,39047.285,19933.458,47462.894,38998.546,20009.63365,41999.52,41034.2214,23967.38305,16138.76205,19199.944,14571.8908,16420.49455,17361.7661,34472.841,24915.22085,18767.7377,35595.5898,42211.1382,16450.8947,21677.28345,44423.803,13747.87235,37484.4493,39725.51805,20234.85475,33475.81715,21880.82,44501.3982,39727.614,25309.489,48970.2476,39871.7043,34672.1472,19023.26,41676.0811,33907.548,44641.1974,16776.30405,41949.2441,24180.9335,36124.5737,38282.7495,34166.273,46661.4424,40904.1995,36898.73308,52590.82939,40941.2854,39722.7462,17178.6824,22478.6,23887.6627,19350.3689,18328.2381,37465.34375,21771.3423,33307.5508,18223.4512,38415.474,20296.86345,41661.602,26125.67477,60021.39897,20167.33603,47269.854,49577.6624,37607.5277,18648.4217,16232.847,26926.5144,34254.05335,17043.3414,22462.04375,24535.69855,14283.4594,47403.88,38344.566,34828.654,62592.87309,46718.16325,37829.7242,21259.37795,16115.3045,21472.4788,33900.653,36397.576,18765.87545,28101.33305,43896.3763,29141.3603],\"xaxis\":\"x\",\"yaxis\":\"y\",\"type\":\"histogram\"},{\"alignmentgroup\":\"True\",\"hovertemplate\":\"smoker=yes<br>charges=%{x}<extra></extra>\",\"legendgroup\":\"yes\",\"marker\":{\"color\":\"green\"},\"name\":\"yes\",\"notched\":true,\"offsetgroup\":\"yes\",\"showlegend\":false,\"x\":[16884.924,27808.7251,39611.7577,36837.467,37701.8768,38711.0,35585.576,51194.55914,39774.2763,48173.361,38709.176,23568.272,37742.5757,47496.49445,34303.1672,23244.7902,14711.7438,17663.1442,16577.7795,37165.1638,39836.519,21098.55405,43578.9394,30184.9367,47291.055,22412.6485,15820.699,30942.1918,17560.37975,47055.5321,19107.7796,39556.4945,17081.08,32734.1863,18972.495,20745.9891,40720.55105,19964.7463,21223.6758,15518.18025,36950.2567,21348.706,36149.4835,48824.45,43753.33705,37133.8982,20984.0936,34779.615,19515.5416,19444.2658,17352.6803,38511.6283,29523.1656,12829.4551,47305.305,44260.7499,41097.16175,43921.1837,33750.2918,17085.2676,24869.8368,36219.40545,46151.1245,17179.522,42856.838,22331.5668,48549.17835,47896.79135,42112.2356,16297.846,21978.6769,38746.3551,24873.3849,42124.5153,34838.873,35491.64,42760.5022,47928.03,48517.56315,24393.6224,41919.097,13844.506,36085.219,18033.9679,21659.9301,38126.2465,15006.57945,42303.69215,19594.80965,14455.64405,18608.262,28950.4692,46889.2612,46599.1084,39125.33225,37079.372,26109.32905,22144.032,19521.9682,25382.297,28868.6639,35147.52848,48885.13561,17942.106,36197.699,22218.1149,32548.3405,21082.16,38245.59327,48675.5177,63770.42801,23807.2406,45863.205,39983.42595,45702.02235,58571.07448,43943.8761,15359.1045,17468.9839,25678.77845,39241.442,42969.8527,23306.547,34439.8559,40182.246,34617.84065,42983.4585,20149.3229,32787.45859,24667.419,27037.9141,42560.4304,40003.33225,45710.20785,46200.9851,46130.5265,40103.89,34806.4677,40273.6455,44400.4064,40932.4295,16657.71745,19361.9988,40419.0191,36189.1017,44585.45587,18246.4955,43254.41795,19539.243,23065.4207,36307.7983,19040.876,17748.5062,18259.216,24520.264,21195.818,18310.742,17904.52705,38792.6856,23401.30575,55135.40209,43813.8661,20773.62775,39597.4072,36021.0112,27533.9129,45008.9555,37270.1512,42111.6647,24106.91255,40974.1649,15817.9857,46113.511,46255.1125,19719.6947,27218.43725,29330.98315,44202.6536,19798.05455,48673.5588,17496.306,33732.6867,21774.32215,35069.37452,39047.285,19933.458,47462.894,38998.546,20009.63365,41999.52,41034.2214,23967.38305,16138.76205,19199.944,14571.8908,16420.49455,17361.7661,34472.841,24915.22085,18767.7377,35595.5898,42211.1382,16450.8947,21677.28345,44423.803,13747.87235,37484.4493,39725.51805,20234.85475,33475.81715,21880.82,44501.3982,39727.614,25309.489,48970.2476,39871.7043,34672.1472,19023.26,41676.0811,33907.548,44641.1974,16776.30405,41949.2441,24180.9335,36124.5737,38282.7495,34166.273,46661.4424,40904.1995,36898.73308,52590.82939,40941.2854,39722.7462,17178.6824,22478.6,23887.6627,19350.3689,18328.2381,37465.34375,21771.3423,33307.5508,18223.4512,38415.474,20296.86345,41661.602,26125.67477,60021.39897,20167.33603,47269.854,49577.6624,37607.5277,18648.4217,16232.847,26926.5144,34254.05335,17043.3414,22462.04375,24535.69855,14283.4594,47403.88,38344.566,34828.654,62592.87309,46718.16325,37829.7242,21259.37795,16115.3045,21472.4788,33900.653,36397.576,18765.87545,28101.33305,43896.3763,29141.3603],\"xaxis\":\"x2\",\"yaxis\":\"y2\",\"type\":\"box\"},{\"alignmentgroup\":\"True\",\"bingroup\":\"x\",\"hovertemplate\":\"smoker=no<br>charges=%{x}<br>count=%{y}<extra></extra>\",\"legendgroup\":\"no\",\"marker\":{\"color\":\"grey\",\"pattern\":{\"shape\":\"\"}},\"name\":\"no\",\"offsetgroup\":\"no\",\"orientation\":\"v\",\"showlegend\":true,\"x\":[1725.5523,4449.462,21984.47061,3866.8552,3756.6216,8240.5896,7281.5056,6406.4107,28923.13692,2721.3208,1826.843,11090.7178,1837.237,10797.3362,2395.17155,10602.385,13228.84695,4149.736,1137.011,6203.90175,14001.1338,14451.83515,12268.63225,2775.19215,2198.18985,4687.797,13770.0979,1625.43375,15612.19335,2302.3,3046.062,4949.7587,6272.4772,6313.759,6079.6715,20630.28351,3393.35635,3556.9223,12629.8967,2211.13075,3579.8287,8059.6791,13607.36875,5989.52365,8606.2174,4504.6624,30166.61817,4133.64165,1743.214,14235.072,6389.37785,5920.1041,6799.458,11741.726,11946.6259,7726.854,11356.6609,3947.4131,1532.4697,2755.02095,6571.02435,4441.21315,7935.29115,11033.6617,11073.176,8026.6666,11082.5772,2026.9741,10942.13205,5729.0053,3766.8838,12105.32,10226.2842,6186.127,3645.0894,21344.8467,5003.853,2331.519,3877.30425,2867.1196,10825.2537,11881.358,4646.759,2404.7338,11488.31695,30259.99556,11381.3254,8601.3293,6686.4313,7740.337,1705.6245,2257.47525,10115.00885,3385.39915,9634.538,6082.405,12815.44495,13616.3586,11163.568,1632.56445,2457.21115,2155.6815,1261.442,2045.68525,27322.73386,2166.732,27375.90478,3490.5491,18157.876,5138.2567,9877.6077,10959.6947,1842.519,5125.2157,7789.635,6334.34355,7077.1894,6948.7008,19749.38338,10450.552,5152.134,5028.1466,10407.08585,4830.63,6128.79745,2719.27975,4827.90495,13405.3903,8116.68,1694.7964,5246.047,2855.43755,6455.86265,10436.096,8823.279,8538.28845,11735.87905,1631.8212,4005.4225,7419.4779,7731.4271,3981.9768,5325.651,6775.961,4922.9159,12557.6053,4883.866,2137.6536,12044.342,1137.4697,1639.5631,5649.715,8516.829,9644.2525,14901.5167,2130.6759,8871.1517,13012.20865,7147.105,4337.7352,11743.299,13880.949,6610.1097,1980.07,8162.71625,3537.703,5002.7827,8520.026,7371.772,10355.641,2483.736,3392.9768,25081.76784,5012.471,10564.8845,5253.524,11987.1682,2689.4954,24227.33724,7358.17565,9225.2564,7443.64305,14001.2867,1727.785,12333.828,6710.1919,1615.7667,4463.2051,7152.6714,5354.07465,35160.13457,7196.867,24476.47851,12648.7034,1986.9334,1832.094,4040.55825,4260.744,13047.33235,5400.9805,11520.09985,11837.16,20462.99766,14590.63205,7441.053,9282.4806,1719.4363,7265.7025,9617.66245,2523.1695,9715.841,2803.69785,2150.469,12928.7911,9855.1314,4237.12655,11879.10405,9625.92,7742.1098,9432.9253,14256.1928,25992.82104,3172.018,20277.80751,2156.7518,3906.127,1704.5681,9249.4952,6746.7425,12265.5069,4349.462,12646.207,19442.3535,20177.67113,4151.0287,11944.59435,7749.1564,8444.474,1737.376,8124.4084,9722.7695,8835.26495,10435.06525,7421.19455,4667.60765,4894.7533,24671.66334,11566.30055,2866.091,6600.20595,3561.8889,9144.565,13429.0354,11658.37915,19144.57652,13822.803,12142.5786,13937.6665,8232.6388,18955.22017,13352.0998,13217.0945,13981.85035,10977.2063,6184.2994,4889.9995,8334.45755,5478.0368,1635.73365,11830.6072,8932.084,3554.203,12404.8791,14133.03775,24603.04837,8944.1151,9620.3307,1837.2819,1607.5101,10043.249,4751.07,2597.779,3180.5101,9778.3472,13430.265,8017.06115,8116.26885,3481.868,13415.0381,12029.2867,7639.41745,1391.5287,16455.70785,27000.98473,20781.48892,5846.9176,8302.53565,1261.859,11856.4115,30284.64294,3176.8159,4618.0799,10736.87075,2138.0707,8964.06055,9290.1395,9411.005,7526.70645,8522.003,16586.49771,14988.432,1631.6683,9264.797,8083.9198,14692.66935,10269.46,3260.199,11396.9002,4185.0979,8539.671,6652.5288,4074.4537,1621.3402,5080.096,2134.9015,7345.7266,9140.951,14418.2804,2727.3951,8968.33,9788.8659,6555.07035,7323.734819,3167.45585,18804.7524,23082.95533,4906.40965,5969.723,12638.195,4243.59005,13919.8229,2254.7967,5926.846,12592.5345,2897.3235,4738.2682,1149.3959,28287.89766,7345.084,12730.9996,11454.0215,5910.944,4762.329,7512.267,4032.2407,1969.614,1769.53165,4686.3887,21797.0004,11881.9696,11840.77505,10601.412,7682.67,10381.4787,15230.32405,11165.41765,1632.03625,13224.693,12643.3778,23288.9284,2201.0971,2497.0383,2203.47185,1744.465,20878.78443,2534.39375,1534.3045,1824.2854,15555.18875,9304.7019,1622.1885,9880.068,9563.029,4347.02335,12475.3513,1253.936,10461.9794,1748.774,24513.09126,2196.4732,12574.049,1967.0227,4931.647,8027.968,8211.1002,13470.86,6837.3687,5974.3847,6796.86325,2643.2685,3077.0955,3044.2133,11455.28,11763.0009,2498.4144,9361.3268,1256.299,11362.755,27724.28875,8413.46305,5240.765,3857.75925,25656.57526,3994.1778,9866.30485,5397.6167,11482.63485,24059.68019,9861.025,8342.90875,1708.0014,14043.4767,12925.886,19214.70553,13831.1152,6067.12675,5972.378,8825.086,8233.0975,27346.04207,6196.448,3056.3881,13887.204,10231.4999,3268.84665,11538.421,3213.62205,13390.559,3972.9247,12957.118,11187.6567,17878.90068,3847.674,8334.5896,3935.1799,1646.4297,9193.8385,10923.9332,2494.022,9058.7303,2801.2588,2128.43105,6373.55735,7256.7231,11552.904,3761.292,2219.4451,4753.6368,31620.00106,13224.05705,12222.8983,1664.9996,9724.53,3206.49135,12913.9924,1639.5631,6356.2707,17626.23951,1242.816,4779.6023,3861.20965,13635.6379,5976.8311,11842.442,8428.0693,2566.4707,5709.1644,8823.98575,7640.3092,5594.8455,7441.501,33471.97189,1633.0444,9174.13565,11070.535,16085.1275,9283.562,3558.62025,4435.0942,8547.6913,6571.544,2207.69745,6753.038,1880.07,11658.11505,10713.644,3659.346,9182.17,12129.61415,3736.4647,6748.5912,11326.71487,11365.952,10085.846,1977.815,3366.6697,7173.35995,9391.346,14410.9321,2709.1119,24915.04626,12949.1554,6666.243,13143.86485,4466.6214,18806.14547,10141.1362,6123.5688,8252.2843,1712.227,12430.95335,9800.8882,10579.711,8280.6227,8527.532,12244.531,3410.324,4058.71245,26392.26029,14394.39815,6435.6237,22192.43711,5148.5526,1136.3994,8703.456,6500.2359,4837.5823,3943.5954,4399.731,6185.3208,7222.78625,12485.8009,12363.547,10156.7832,2585.269,1242.26,9863.4718,4766.022,11244.3769,7729.64575,5438.7491,26236.57997,2104.1134,8068.185,2362.22905,2352.96845,3577.999,3201.24515,29186.48236,10976.24575,3500.6123,2020.5523,9541.69555,9504.3103,5385.3379,8930.93455,5375.038,10264.4421,6113.23105,5469.0066,1727.54,10107.2206,8310.83915,1984.4533,2457.502,12146.971,9566.9909,13112.6048,10848.1343,12231.6136,9875.6804,11264.541,12979.358,1263.249,10106.13425,6664.68595,2217.6012,6781.3542,10065.413,4234.927,9447.25035,14007.222,9583.8933,3484.331,8604.48365,3757.8448,8827.2099,9910.35985,11737.84884,1627.28245,8556.907,3062.50825,1906.35825,14210.53595,11833.7823,17128.42608,5031.26955,7985.815,5428.7277,3925.7582,2416.955,3070.8087,9095.06825,11842.62375,8062.764,7050.642,14319.031,6933.24225,27941.28758,11150.78,12797.20962,7261.741,10560.4917,6986.697,7448.40395,5934.3798,9869.8102,1146.7966,9386.1613,4350.5144,6414.178,12741.16745,1917.3184,5209.57885,13457.9608,5662.225,1252.407,2731.9122,7209.4918,4266.1658,4719.52405,11848.141,7046.7222,14313.8463,2103.08,1815.8759,7731.85785,28476.73499,2136.88225,1131.5066,3309.7926,9414.92,6360.9936,11013.7119,4428.88785,5584.3057,1877.9294,2842.76075,3597.596,7445.918,2680.9493,1621.8827,8219.2039,12523.6048,16069.08475,6117.4945,13393.756,5266.3656,4719.73655,11743.9341,5377.4578,7160.3303,4402.233,11657.7189,6402.29135,12622.1795,1526.312,12323.936,10072.05505,9872.701,2438.0552,2974.126,10601.63225,14119.62,11729.6795,1875.344,18218.16139,10965.446,7151.092,12269.68865,5458.04645,8782.469,6600.361,1141.4451,11576.13,13129.60345,4391.652,8457.818,3392.3652,5966.8874,6849.026,8891.1395,2690.1138,26140.3603,6653.7886,6282.235,6311.952,3443.064,2789.0574,2585.85065,4877.98105,5272.1758,1682.597,11945.1327,7243.8136,10422.91665,13555.0049,13063.883,2221.56445,1634.5734,2117.33885,8688.85885,4661.28635,8125.7845,12644.589,4564.19145,4846.92015,7633.7206,15170.069,2639.0429,14382.70905,7626.993,5257.50795,2473.3341,13041.921,5245.2269,13451.122,13462.52,5488.262,4320.41085,6250.435,25333.33284,2913.569,12032.326,13470.8044,6289.7549,2927.0647,6238.298,10096.97,7348.142,4673.3922,12233.828,32108.66282,8965.79575,2304.0022,9487.6442,1121.8739,9549.5651,2217.46915,1628.4709,12982.8747,11674.13,7160.094,6358.77645,11534.87265,4527.18295,3875.7341,12609.88702,28468.91901,2730.10785,3353.284,14474.675,9500.57305,26467.09737,4746.344,7518.02535,3279.86855,8596.8278,10702.6424,4992.3764,2527.81865,1759.338,2322.6218,7804.1605,2902.9065,9704.66805,4889.0368,25517.11363,4500.33925,16796.41194,4915.05985,7624.63,8410.04685,28340.18885,4518.82625,3378.91,7144.86265,10118.424,5484.4673,7986.47525,7418.522,13887.9685,6551.7501,5267.81815,1972.95,21232.18226,8627.5411,4433.3877,4438.2634,23241.47453,9957.7216,8269.044,36580.28216,8765.249,5383.536,12124.9924,2709.24395,3987.926,12495.29085,26018.95052,8798.593,1711.0268,8569.8618,2020.177,21595.38229,9850.432,6877.9801,4137.5227,12950.0712,12094.478,2250.8352,22493.65964,1704.70015,3161.454,11394.06555,7325.0482,3594.17085,8023.13545,14394.5579,9288.0267,3353.4703,10594.50155,8277.523,17929.30337,2480.9791,4462.7218,1981.5819,11554.2236,6548.19505,5708.867,7045.499,8978.1851,5757.41345,14349.8544,10928.849,13974.45555,1909.52745,12096.6512,13204.28565,4562.8421,8551.347,2102.2647,15161.5344,11884.04858,4454.40265,5855.9025,4076.497,15019.76005,10796.35025,11353.2276,9748.9106,10577.087,11286.5387,3591.48,11299.343,4561.1885,1674.6323,23045.56616,3227.1211,11253.421,3471.4096,11363.2832,20420.60465,10338.9316,8988.15875,10493.9458,2904.088,8605.3615,11512.405,5312.16985,2396.0959,10807.4863,9222.4026,5693.4305,8347.1643,18903.49141,14254.6082,10214.636,5836.5204,14358.36437,1728.897,8582.3023,3693.428,20709.02034,9991.03765,19673.33573,11085.5868,7623.518,3176.2877,3704.3545,9048.0273,7954.517,27117.99378,6338.0756,9630.397,11289.10925,2261.5688,10791.96,5979.731,2203.73595,12235.8392,5630.45785,11015.1747,7228.21565,14426.07385,2459.7201,3989.841,7727.2532,5124.1887,18963.17192,2200.83085,7153.5539,5227.98875,10982.5013,4529.477,4670.64,6112.35295,11093.6229,6457.8434,4433.9159,2154.361,6496.886,2899.48935,7650.77375,2850.68375,2632.992,9447.3824,8603.8234,13844.7972,13126.67745,5327.40025,13725.47184,13019.16105,8671.19125,4134.08245,18838.70366,5699.8375,6393.60345,4934.705,6198.7518,8733.22925,2055.3249,9964.06,5116.5004,36910.60803,12347.172,5373.36425,23563.01618,1702.4553,10806.839,3956.07145,12890.05765,5415.6612,4058.1161,7537.1639,4718.20355,6593.5083,8442.667,6858.4796,4795.6568,6640.54485,7162.0122,10594.2257,11938.25595,12479.70895,11345.519,8515.7587,2699.56835,14449.8544,12224.35085,6985.50695,3238.4357,4296.2712,3171.6149,1135.9407,5615.369,9101.798,6059.173,1633.9618,1241.565,15828.82173,4415.1588,6474.013,11436.73815,11305.93455,30063.58055,10197.7722,4544.2348,3277.161,6770.1925,7337.748,10370.91255,10704.47,1880.487,8615.3,3292.52985,3021.80915,14478.33015,4747.0529,10959.33,2741.948,4357.04365,4189.1131,8283.6807,1720.3537,8534.6718,3732.6251,5472.449,7147.4728,7133.9025,1515.3449,9301.89355,11931.12525,1964.78,1708.92575,4340.4409,5261.46945,2710.82855,3208.787,2464.6188,6875.961,6940.90985,4571.41305,4536.259,11272.33139,1731.677,1163.4627,19496.71917,7201.70085,5425.02335,12981.3457,4239.89265,13143.33665,7050.0213,9377.9047,22395.74424,10325.206,12629.1656,10795.93733,11411.685,10600.5483,2205.9808,1629.8335,2007.945],\"xaxis\":\"x\",\"yaxis\":\"y\",\"type\":\"histogram\"},{\"alignmentgroup\":\"True\",\"hovertemplate\":\"smoker=no<br>charges=%{x}<extra></extra>\",\"legendgroup\":\"no\",\"marker\":{\"color\":\"grey\"},\"name\":\"no\",\"notched\":true,\"offsetgroup\":\"no\",\"showlegend\":false,\"x\":[1725.5523,4449.462,21984.47061,3866.8552,3756.6216,8240.5896,7281.5056,6406.4107,28923.13692,2721.3208,1826.843,11090.7178,1837.237,10797.3362,2395.17155,10602.385,13228.84695,4149.736,1137.011,6203.90175,14001.1338,14451.83515,12268.63225,2775.19215,2198.18985,4687.797,13770.0979,1625.43375,15612.19335,2302.3,3046.062,4949.7587,6272.4772,6313.759,6079.6715,20630.28351,3393.35635,3556.9223,12629.8967,2211.13075,3579.8287,8059.6791,13607.36875,5989.52365,8606.2174,4504.6624,30166.61817,4133.64165,1743.214,14235.072,6389.37785,5920.1041,6799.458,11741.726,11946.6259,7726.854,11356.6609,3947.4131,1532.4697,2755.02095,6571.02435,4441.21315,7935.29115,11033.6617,11073.176,8026.6666,11082.5772,2026.9741,10942.13205,5729.0053,3766.8838,12105.32,10226.2842,6186.127,3645.0894,21344.8467,5003.853,2331.519,3877.30425,2867.1196,10825.2537,11881.358,4646.759,2404.7338,11488.31695,30259.99556,11381.3254,8601.3293,6686.4313,7740.337,1705.6245,2257.47525,10115.00885,3385.39915,9634.538,6082.405,12815.44495,13616.3586,11163.568,1632.56445,2457.21115,2155.6815,1261.442,2045.68525,27322.73386,2166.732,27375.90478,3490.5491,18157.876,5138.2567,9877.6077,10959.6947,1842.519,5125.2157,7789.635,6334.34355,7077.1894,6948.7008,19749.38338,10450.552,5152.134,5028.1466,10407.08585,4830.63,6128.79745,2719.27975,4827.90495,13405.3903,8116.68,1694.7964,5246.047,2855.43755,6455.86265,10436.096,8823.279,8538.28845,11735.87905,1631.8212,4005.4225,7419.4779,7731.4271,3981.9768,5325.651,6775.961,4922.9159,12557.6053,4883.866,2137.6536,12044.342,1137.4697,1639.5631,5649.715,8516.829,9644.2525,14901.5167,2130.6759,8871.1517,13012.20865,7147.105,4337.7352,11743.299,13880.949,6610.1097,1980.07,8162.71625,3537.703,5002.7827,8520.026,7371.772,10355.641,2483.736,3392.9768,25081.76784,5012.471,10564.8845,5253.524,11987.1682,2689.4954,24227.33724,7358.17565,9225.2564,7443.64305,14001.2867,1727.785,12333.828,6710.1919,1615.7667,4463.2051,7152.6714,5354.07465,35160.13457,7196.867,24476.47851,12648.7034,1986.9334,1832.094,4040.55825,4260.744,13047.33235,5400.9805,11520.09985,11837.16,20462.99766,14590.63205,7441.053,9282.4806,1719.4363,7265.7025,9617.66245,2523.1695,9715.841,2803.69785,2150.469,12928.7911,9855.1314,4237.12655,11879.10405,9625.92,7742.1098,9432.9253,14256.1928,25992.82104,3172.018,20277.80751,2156.7518,3906.127,1704.5681,9249.4952,6746.7425,12265.5069,4349.462,12646.207,19442.3535,20177.67113,4151.0287,11944.59435,7749.1564,8444.474,1737.376,8124.4084,9722.7695,8835.26495,10435.06525,7421.19455,4667.60765,4894.7533,24671.66334,11566.30055,2866.091,6600.20595,3561.8889,9144.565,13429.0354,11658.37915,19144.57652,13822.803,12142.5786,13937.6665,8232.6388,18955.22017,13352.0998,13217.0945,13981.85035,10977.2063,6184.2994,4889.9995,8334.45755,5478.0368,1635.73365,11830.6072,8932.084,3554.203,12404.8791,14133.03775,24603.04837,8944.1151,9620.3307,1837.2819,1607.5101,10043.249,4751.07,2597.779,3180.5101,9778.3472,13430.265,8017.06115,8116.26885,3481.868,13415.0381,12029.2867,7639.41745,1391.5287,16455.70785,27000.98473,20781.48892,5846.9176,8302.53565,1261.859,11856.4115,30284.64294,3176.8159,4618.0799,10736.87075,2138.0707,8964.06055,9290.1395,9411.005,7526.70645,8522.003,16586.49771,14988.432,1631.6683,9264.797,8083.9198,14692.66935,10269.46,3260.199,11396.9002,4185.0979,8539.671,6652.5288,4074.4537,1621.3402,5080.096,2134.9015,7345.7266,9140.951,14418.2804,2727.3951,8968.33,9788.8659,6555.07035,7323.734819,3167.45585,18804.7524,23082.95533,4906.40965,5969.723,12638.195,4243.59005,13919.8229,2254.7967,5926.846,12592.5345,2897.3235,4738.2682,1149.3959,28287.89766,7345.084,12730.9996,11454.0215,5910.944,4762.329,7512.267,4032.2407,1969.614,1769.53165,4686.3887,21797.0004,11881.9696,11840.77505,10601.412,7682.67,10381.4787,15230.32405,11165.41765,1632.03625,13224.693,12643.3778,23288.9284,2201.0971,2497.0383,2203.47185,1744.465,20878.78443,2534.39375,1534.3045,1824.2854,15555.18875,9304.7019,1622.1885,9880.068,9563.029,4347.02335,12475.3513,1253.936,10461.9794,1748.774,24513.09126,2196.4732,12574.049,1967.0227,4931.647,8027.968,8211.1002,13470.86,6837.3687,5974.3847,6796.86325,2643.2685,3077.0955,3044.2133,11455.28,11763.0009,2498.4144,9361.3268,1256.299,11362.755,27724.28875,8413.46305,5240.765,3857.75925,25656.57526,3994.1778,9866.30485,5397.6167,11482.63485,24059.68019,9861.025,8342.90875,1708.0014,14043.4767,12925.886,19214.70553,13831.1152,6067.12675,5972.378,8825.086,8233.0975,27346.04207,6196.448,3056.3881,13887.204,10231.4999,3268.84665,11538.421,3213.62205,13390.559,3972.9247,12957.118,11187.6567,17878.90068,3847.674,8334.5896,3935.1799,1646.4297,9193.8385,10923.9332,2494.022,9058.7303,2801.2588,2128.43105,6373.55735,7256.7231,11552.904,3761.292,2219.4451,4753.6368,31620.00106,13224.05705,12222.8983,1664.9996,9724.53,3206.49135,12913.9924,1639.5631,6356.2707,17626.23951,1242.816,4779.6023,3861.20965,13635.6379,5976.8311,11842.442,8428.0693,2566.4707,5709.1644,8823.98575,7640.3092,5594.8455,7441.501,33471.97189,1633.0444,9174.13565,11070.535,16085.1275,9283.562,3558.62025,4435.0942,8547.6913,6571.544,2207.69745,6753.038,1880.07,11658.11505,10713.644,3659.346,9182.17,12129.61415,3736.4647,6748.5912,11326.71487,11365.952,10085.846,1977.815,3366.6697,7173.35995,9391.346,14410.9321,2709.1119,24915.04626,12949.1554,6666.243,13143.86485,4466.6214,18806.14547,10141.1362,6123.5688,8252.2843,1712.227,12430.95335,9800.8882,10579.711,8280.6227,8527.532,12244.531,3410.324,4058.71245,26392.26029,14394.39815,6435.6237,22192.43711,5148.5526,1136.3994,8703.456,6500.2359,4837.5823,3943.5954,4399.731,6185.3208,7222.78625,12485.8009,12363.547,10156.7832,2585.269,1242.26,9863.4718,4766.022,11244.3769,7729.64575,5438.7491,26236.57997,2104.1134,8068.185,2362.22905,2352.96845,3577.999,3201.24515,29186.48236,10976.24575,3500.6123,2020.5523,9541.69555,9504.3103,5385.3379,8930.93455,5375.038,10264.4421,6113.23105,5469.0066,1727.54,10107.2206,8310.83915,1984.4533,2457.502,12146.971,9566.9909,13112.6048,10848.1343,12231.6136,9875.6804,11264.541,12979.358,1263.249,10106.13425,6664.68595,2217.6012,6781.3542,10065.413,4234.927,9447.25035,14007.222,9583.8933,3484.331,8604.48365,3757.8448,8827.2099,9910.35985,11737.84884,1627.28245,8556.907,3062.50825,1906.35825,14210.53595,11833.7823,17128.42608,5031.26955,7985.815,5428.7277,3925.7582,2416.955,3070.8087,9095.06825,11842.62375,8062.764,7050.642,14319.031,6933.24225,27941.28758,11150.78,12797.20962,7261.741,10560.4917,6986.697,7448.40395,5934.3798,9869.8102,1146.7966,9386.1613,4350.5144,6414.178,12741.16745,1917.3184,5209.57885,13457.9608,5662.225,1252.407,2731.9122,7209.4918,4266.1658,4719.52405,11848.141,7046.7222,14313.8463,2103.08,1815.8759,7731.85785,28476.73499,2136.88225,1131.5066,3309.7926,9414.92,6360.9936,11013.7119,4428.88785,5584.3057,1877.9294,2842.76075,3597.596,7445.918,2680.9493,1621.8827,8219.2039,12523.6048,16069.08475,6117.4945,13393.756,5266.3656,4719.73655,11743.9341,5377.4578,7160.3303,4402.233,11657.7189,6402.29135,12622.1795,1526.312,12323.936,10072.05505,9872.701,2438.0552,2974.126,10601.63225,14119.62,11729.6795,1875.344,18218.16139,10965.446,7151.092,12269.68865,5458.04645,8782.469,6600.361,1141.4451,11576.13,13129.60345,4391.652,8457.818,3392.3652,5966.8874,6849.026,8891.1395,2690.1138,26140.3603,6653.7886,6282.235,6311.952,3443.064,2789.0574,2585.85065,4877.98105,5272.1758,1682.597,11945.1327,7243.8136,10422.91665,13555.0049,13063.883,2221.56445,1634.5734,2117.33885,8688.85885,4661.28635,8125.7845,12644.589,4564.19145,4846.92015,7633.7206,15170.069,2639.0429,14382.70905,7626.993,5257.50795,2473.3341,13041.921,5245.2269,13451.122,13462.52,5488.262,4320.41085,6250.435,25333.33284,2913.569,12032.326,13470.8044,6289.7549,2927.0647,6238.298,10096.97,7348.142,4673.3922,12233.828,32108.66282,8965.79575,2304.0022,9487.6442,1121.8739,9549.5651,2217.46915,1628.4709,12982.8747,11674.13,7160.094,6358.77645,11534.87265,4527.18295,3875.7341,12609.88702,28468.91901,2730.10785,3353.284,14474.675,9500.57305,26467.09737,4746.344,7518.02535,3279.86855,8596.8278,10702.6424,4992.3764,2527.81865,1759.338,2322.6218,7804.1605,2902.9065,9704.66805,4889.0368,25517.11363,4500.33925,16796.41194,4915.05985,7624.63,8410.04685,28340.18885,4518.82625,3378.91,7144.86265,10118.424,5484.4673,7986.47525,7418.522,13887.9685,6551.7501,5267.81815,1972.95,21232.18226,8627.5411,4433.3877,4438.2634,23241.47453,9957.7216,8269.044,36580.28216,8765.249,5383.536,12124.9924,2709.24395,3987.926,12495.29085,26018.95052,8798.593,1711.0268,8569.8618,2020.177,21595.38229,9850.432,6877.9801,4137.5227,12950.0712,12094.478,2250.8352,22493.65964,1704.70015,3161.454,11394.06555,7325.0482,3594.17085,8023.13545,14394.5579,9288.0267,3353.4703,10594.50155,8277.523,17929.30337,2480.9791,4462.7218,1981.5819,11554.2236,6548.19505,5708.867,7045.499,8978.1851,5757.41345,14349.8544,10928.849,13974.45555,1909.52745,12096.6512,13204.28565,4562.8421,8551.347,2102.2647,15161.5344,11884.04858,4454.40265,5855.9025,4076.497,15019.76005,10796.35025,11353.2276,9748.9106,10577.087,11286.5387,3591.48,11299.343,4561.1885,1674.6323,23045.56616,3227.1211,11253.421,3471.4096,11363.2832,20420.60465,10338.9316,8988.15875,10493.9458,2904.088,8605.3615,11512.405,5312.16985,2396.0959,10807.4863,9222.4026,5693.4305,8347.1643,18903.49141,14254.6082,10214.636,5836.5204,14358.36437,1728.897,8582.3023,3693.428,20709.02034,9991.03765,19673.33573,11085.5868,7623.518,3176.2877,3704.3545,9048.0273,7954.517,27117.99378,6338.0756,9630.397,11289.10925,2261.5688,10791.96,5979.731,2203.73595,12235.8392,5630.45785,11015.1747,7228.21565,14426.07385,2459.7201,3989.841,7727.2532,5124.1887,18963.17192,2200.83085,7153.5539,5227.98875,10982.5013,4529.477,4670.64,6112.35295,11093.6229,6457.8434,4433.9159,2154.361,6496.886,2899.48935,7650.77375,2850.68375,2632.992,9447.3824,8603.8234,13844.7972,13126.67745,5327.40025,13725.47184,13019.16105,8671.19125,4134.08245,18838.70366,5699.8375,6393.60345,4934.705,6198.7518,8733.22925,2055.3249,9964.06,5116.5004,36910.60803,12347.172,5373.36425,23563.01618,1702.4553,10806.839,3956.07145,12890.05765,5415.6612,4058.1161,7537.1639,4718.20355,6593.5083,8442.667,6858.4796,4795.6568,6640.54485,7162.0122,10594.2257,11938.25595,12479.70895,11345.519,8515.7587,2699.56835,14449.8544,12224.35085,6985.50695,3238.4357,4296.2712,3171.6149,1135.9407,5615.369,9101.798,6059.173,1633.9618,1241.565,15828.82173,4415.1588,6474.013,11436.73815,11305.93455,30063.58055,10197.7722,4544.2348,3277.161,6770.1925,7337.748,10370.91255,10704.47,1880.487,8615.3,3292.52985,3021.80915,14478.33015,4747.0529,10959.33,2741.948,4357.04365,4189.1131,8283.6807,1720.3537,8534.6718,3732.6251,5472.449,7147.4728,7133.9025,1515.3449,9301.89355,11931.12525,1964.78,1708.92575,4340.4409,5261.46945,2710.82855,3208.787,2464.6188,6875.961,6940.90985,4571.41305,4536.259,11272.33139,1731.677,1163.4627,19496.71917,7201.70085,5425.02335,12981.3457,4239.89265,13143.33665,7050.0213,9377.9047,22395.74424,10325.206,12629.1656,10795.93733,11411.685,10600.5483,2205.9808,1629.8335,2007.945],\"xaxis\":\"x2\",\"yaxis\":\"y2\",\"type\":\"box\"}],                        {\"template\":{\"data\":{\"bar\":[{\"error_x\":{\"color\":\"#2a3f5f\"},\"error_y\":{\"color\":\"#2a3f5f\"},\"marker\":{\"line\":{\"color\":\"#E5ECF6\",\"width\":0.5},\"pattern\":{\"fillmode\":\"overlay\",\"size\":10,\"solidity\":0.2}},\"type\":\"bar\"}],\"barpolar\":[{\"marker\":{\"line\":{\"color\":\"#E5ECF6\",\"width\":0.5},\"pattern\":{\"fillmode\":\"overlay\",\"size\":10,\"solidity\":0.2}},\"type\":\"barpolar\"}],\"carpet\":[{\"aaxis\":{\"endlinecolor\":\"#2a3f5f\",\"gridcolor\":\"white\",\"linecolor\":\"white\",\"minorgridcolor\":\"white\",\"startlinecolor\":\"#2a3f5f\"},\"baxis\":{\"endlinecolor\":\"#2a3f5f\",\"gridcolor\":\"white\",\"linecolor\":\"white\",\"minorgridcolor\":\"white\",\"startlinecolor\":\"#2a3f5f\"},\"type\":\"carpet\"}],\"choropleth\":[{\"colorbar\":{\"outlinewidth\":0,\"ticks\":\"\"},\"type\":\"choropleth\"}],\"contour\":[{\"colorbar\":{\"outlinewidth\":0,\"ticks\":\"\"},\"colorscale\":[[0.0,\"#0d0887\"],[0.1111111111111111,\"#46039f\"],[0.2222222222222222,\"#7201a8\"],[0.3333333333333333,\"#9c179e\"],[0.4444444444444444,\"#bd3786\"],[0.5555555555555556,\"#d8576b\"],[0.6666666666666666,\"#ed7953\"],[0.7777777777777778,\"#fb9f3a\"],[0.8888888888888888,\"#fdca26\"],[1.0,\"#f0f921\"]],\"type\":\"contour\"}],\"contourcarpet\":[{\"colorbar\":{\"outlinewidth\":0,\"ticks\":\"\"},\"type\":\"contourcarpet\"}],\"heatmap\":[{\"colorbar\":{\"outlinewidth\":0,\"ticks\":\"\"},\"colorscale\":[[0.0,\"#0d0887\"],[0.1111111111111111,\"#46039f\"],[0.2222222222222222,\"#7201a8\"],[0.3333333333333333,\"#9c179e\"],[0.4444444444444444,\"#bd3786\"],[0.5555555555555556,\"#d8576b\"],[0.6666666666666666,\"#ed7953\"],[0.7777777777777778,\"#fb9f3a\"],[0.8888888888888888,\"#fdca26\"],[1.0,\"#f0f921\"]],\"type\":\"heatmap\"}],\"heatmapgl\":[{\"colorbar\":{\"outlinewidth\":0,\"ticks\":\"\"},\"colorscale\":[[0.0,\"#0d0887\"],[0.1111111111111111,\"#46039f\"],[0.2222222222222222,\"#7201a8\"],[0.3333333333333333,\"#9c179e\"],[0.4444444444444444,\"#bd3786\"],[0.5555555555555556,\"#d8576b\"],[0.6666666666666666,\"#ed7953\"],[0.7777777777777778,\"#fb9f3a\"],[0.8888888888888888,\"#fdca26\"],[1.0,\"#f0f921\"]],\"type\":\"heatmapgl\"}],\"histogram\":[{\"marker\":{\"pattern\":{\"fillmode\":\"overlay\",\"size\":10,\"solidity\":0.2}},\"type\":\"histogram\"}],\"histogram2d\":[{\"colorbar\":{\"outlinewidth\":0,\"ticks\":\"\"},\"colorscale\":[[0.0,\"#0d0887\"],[0.1111111111111111,\"#46039f\"],[0.2222222222222222,\"#7201a8\"],[0.3333333333333333,\"#9c179e\"],[0.4444444444444444,\"#bd3786\"],[0.5555555555555556,\"#d8576b\"],[0.6666666666666666,\"#ed7953\"],[0.7777777777777778,\"#fb9f3a\"],[0.8888888888888888,\"#fdca26\"],[1.0,\"#f0f921\"]],\"type\":\"histogram2d\"}],\"histogram2dcontour\":[{\"colorbar\":{\"outlinewidth\":0,\"ticks\":\"\"},\"colorscale\":[[0.0,\"#0d0887\"],[0.1111111111111111,\"#46039f\"],[0.2222222222222222,\"#7201a8\"],[0.3333333333333333,\"#9c179e\"],[0.4444444444444444,\"#bd3786\"],[0.5555555555555556,\"#d8576b\"],[0.6666666666666666,\"#ed7953\"],[0.7777777777777778,\"#fb9f3a\"],[0.8888888888888888,\"#fdca26\"],[1.0,\"#f0f921\"]],\"type\":\"histogram2dcontour\"}],\"mesh3d\":[{\"colorbar\":{\"outlinewidth\":0,\"ticks\":\"\"},\"type\":\"mesh3d\"}],\"parcoords\":[{\"line\":{\"colorbar\":{\"outlinewidth\":0,\"ticks\":\"\"}},\"type\":\"parcoords\"}],\"pie\":[{\"automargin\":true,\"type\":\"pie\"}],\"scatter\":[{\"marker\":{\"colorbar\":{\"outlinewidth\":0,\"ticks\":\"\"}},\"type\":\"scatter\"}],\"scatter3d\":[{\"line\":{\"colorbar\":{\"outlinewidth\":0,\"ticks\":\"\"}},\"marker\":{\"colorbar\":{\"outlinewidth\":0,\"ticks\":\"\"}},\"type\":\"scatter3d\"}],\"scattercarpet\":[{\"marker\":{\"colorbar\":{\"outlinewidth\":0,\"ticks\":\"\"}},\"type\":\"scattercarpet\"}],\"scattergeo\":[{\"marker\":{\"colorbar\":{\"outlinewidth\":0,\"ticks\":\"\"}},\"type\":\"scattergeo\"}],\"scattergl\":[{\"marker\":{\"colorbar\":{\"outlinewidth\":0,\"ticks\":\"\"}},\"type\":\"scattergl\"}],\"scattermapbox\":[{\"marker\":{\"colorbar\":{\"outlinewidth\":0,\"ticks\":\"\"}},\"type\":\"scattermapbox\"}],\"scatterpolar\":[{\"marker\":{\"colorbar\":{\"outlinewidth\":0,\"ticks\":\"\"}},\"type\":\"scatterpolar\"}],\"scatterpolargl\":[{\"marker\":{\"colorbar\":{\"outlinewidth\":0,\"ticks\":\"\"}},\"type\":\"scatterpolargl\"}],\"scatterternary\":[{\"marker\":{\"colorbar\":{\"outlinewidth\":0,\"ticks\":\"\"}},\"type\":\"scatterternary\"}],\"surface\":[{\"colorbar\":{\"outlinewidth\":0,\"ticks\":\"\"},\"colorscale\":[[0.0,\"#0d0887\"],[0.1111111111111111,\"#46039f\"],[0.2222222222222222,\"#7201a8\"],[0.3333333333333333,\"#9c179e\"],[0.4444444444444444,\"#bd3786\"],[0.5555555555555556,\"#d8576b\"],[0.6666666666666666,\"#ed7953\"],[0.7777777777777778,\"#fb9f3a\"],[0.8888888888888888,\"#fdca26\"],[1.0,\"#f0f921\"]],\"type\":\"surface\"}],\"table\":[{\"cells\":{\"fill\":{\"color\":\"#EBF0F8\"},\"line\":{\"color\":\"white\"}},\"header\":{\"fill\":{\"color\":\"#C8D4E3\"},\"line\":{\"color\":\"white\"}},\"type\":\"table\"}]},\"layout\":{\"annotationdefaults\":{\"arrowcolor\":\"#2a3f5f\",\"arrowhead\":0,\"arrowwidth\":1},\"autotypenumbers\":\"strict\",\"coloraxis\":{\"colorbar\":{\"outlinewidth\":0,\"ticks\":\"\"}},\"colorscale\":{\"diverging\":[[0,\"#8e0152\"],[0.1,\"#c51b7d\"],[0.2,\"#de77ae\"],[0.3,\"#f1b6da\"],[0.4,\"#fde0ef\"],[0.5,\"#f7f7f7\"],[0.6,\"#e6f5d0\"],[0.7,\"#b8e186\"],[0.8,\"#7fbc41\"],[0.9,\"#4d9221\"],[1,\"#276419\"]],\"sequential\":[[0.0,\"#0d0887\"],[0.1111111111111111,\"#46039f\"],[0.2222222222222222,\"#7201a8\"],[0.3333333333333333,\"#9c179e\"],[0.4444444444444444,\"#bd3786\"],[0.5555555555555556,\"#d8576b\"],[0.6666666666666666,\"#ed7953\"],[0.7777777777777778,\"#fb9f3a\"],[0.8888888888888888,\"#fdca26\"],[1.0,\"#f0f921\"]],\"sequentialminus\":[[0.0,\"#0d0887\"],[0.1111111111111111,\"#46039f\"],[0.2222222222222222,\"#7201a8\"],[0.3333333333333333,\"#9c179e\"],[0.4444444444444444,\"#bd3786\"],[0.5555555555555556,\"#d8576b\"],[0.6666666666666666,\"#ed7953\"],[0.7777777777777778,\"#fb9f3a\"],[0.8888888888888888,\"#fdca26\"],[1.0,\"#f0f921\"]]},\"colorway\":[\"#636efa\",\"#EF553B\",\"#00cc96\",\"#ab63fa\",\"#FFA15A\",\"#19d3f3\",\"#FF6692\",\"#B6E880\",\"#FF97FF\",\"#FECB52\"],\"font\":{\"color\":\"#2a3f5f\"},\"geo\":{\"bgcolor\":\"white\",\"lakecolor\":\"white\",\"landcolor\":\"#E5ECF6\",\"showlakes\":true,\"showland\":true,\"subunitcolor\":\"white\"},\"hoverlabel\":{\"align\":\"left\"},\"hovermode\":\"closest\",\"mapbox\":{\"style\":\"light\"},\"paper_bgcolor\":\"white\",\"plot_bgcolor\":\"#E5ECF6\",\"polar\":{\"angularaxis\":{\"gridcolor\":\"white\",\"linecolor\":\"white\",\"ticks\":\"\"},\"bgcolor\":\"#E5ECF6\",\"radialaxis\":{\"gridcolor\":\"white\",\"linecolor\":\"white\",\"ticks\":\"\"}},\"scene\":{\"xaxis\":{\"backgroundcolor\":\"#E5ECF6\",\"gridcolor\":\"white\",\"gridwidth\":2,\"linecolor\":\"white\",\"showbackground\":true,\"ticks\":\"\",\"zerolinecolor\":\"white\"},\"yaxis\":{\"backgroundcolor\":\"#E5ECF6\",\"gridcolor\":\"white\",\"gridwidth\":2,\"linecolor\":\"white\",\"showbackground\":true,\"ticks\":\"\",\"zerolinecolor\":\"white\"},\"zaxis\":{\"backgroundcolor\":\"#E5ECF6\",\"gridcolor\":\"white\",\"gridwidth\":2,\"linecolor\":\"white\",\"showbackground\":true,\"ticks\":\"\",\"zerolinecolor\":\"white\"}},\"shapedefaults\":{\"line\":{\"color\":\"#2a3f5f\"}},\"ternary\":{\"aaxis\":{\"gridcolor\":\"white\",\"linecolor\":\"white\",\"ticks\":\"\"},\"baxis\":{\"gridcolor\":\"white\",\"linecolor\":\"white\",\"ticks\":\"\"},\"bgcolor\":\"#E5ECF6\",\"caxis\":{\"gridcolor\":\"white\",\"linecolor\":\"white\",\"ticks\":\"\"}},\"title\":{\"x\":0.05},\"xaxis\":{\"automargin\":true,\"gridcolor\":\"white\",\"linecolor\":\"white\",\"ticks\":\"\",\"title\":{\"standoff\":15},\"zerolinecolor\":\"white\",\"zerolinewidth\":2},\"yaxis\":{\"automargin\":true,\"gridcolor\":\"white\",\"linecolor\":\"white\",\"ticks\":\"\",\"title\":{\"standoff\":15},\"zerolinecolor\":\"white\",\"zerolinewidth\":2}}},\"xaxis\":{\"anchor\":\"y\",\"domain\":[0.0,1.0],\"title\":{\"text\":\"charges\"}},\"yaxis\":{\"anchor\":\"x\",\"domain\":[0.0,0.7326],\"title\":{\"text\":\"count\"}},\"xaxis2\":{\"anchor\":\"y2\",\"domain\":[0.0,1.0],\"matches\":\"x\",\"showticklabels\":false,\"showgrid\":true},\"yaxis2\":{\"anchor\":\"x2\",\"domain\":[0.7426,1.0],\"matches\":\"y2\",\"showticklabels\":false,\"showline\":false,\"ticks\":\"\",\"showgrid\":false},\"legend\":{\"title\":{\"text\":\"smoker\"},\"tracegroupgap\":0},\"title\":{\"text\":\"Annual Medical Charges\"},\"barmode\":\"relative\",\"bargap\":0.1},                        {\"responsive\": true}                    ).then(function(){\n",
              "                            \n",
              "var gd = document.getElementById('17b0ac07-424b-4196-90b0-d3dcf460e81f');\n",
              "var x = new MutationObserver(function (mutations, observer) {{\n",
              "        var display = window.getComputedStyle(gd).display;\n",
              "        if (!display || display === 'none') {{\n",
              "            console.log([gd, 'removed!']);\n",
              "            Plotly.purge(gd);\n",
              "            observer.disconnect();\n",
              "        }}\n",
              "}});\n",
              "\n",
              "// Listen for the removal of the full notebook cells\n",
              "var notebookContainer = gd.closest('#notebook-container');\n",
              "if (notebookContainer) {{\n",
              "    x.observe(notebookContainer, {childList: true});\n",
              "}}\n",
              "\n",
              "// Listen for the clearing of the current output cell\n",
              "var outputEl = gd.closest('.output');\n",
              "if (outputEl) {{\n",
              "    x.observe(outputEl, {childList: true});\n",
              "}}\n",
              "\n",
              "                        })                };                            </script>        </div>\n",
              "</body>\n",
              "</html>"
            ]
          },
          "metadata": {}
        }
      ]
    },
    {
      "cell_type": "code",
      "source": [
        "# Visualizing Charges with resect to Region\n",
        "\n",
        "fig = px.histogram(medical_df, \n",
        "                   x='charges', \n",
        "                   marginal='box', \n",
        "                   color='region',  # what this adds is that it adds a condition to the plot. Charges with respect to region basically\n",
        "                   color_discrete_sequence=['green', 'grey', 'red', 'blue'], \n",
        "                   title='Annual Medical Charges')\n",
        "fig.update_layout(bargap=0.1)\n",
        "fig.show()\n",
        "\n",
        "# Across region, not much changes and the charges is sort of the similar range in terms of mean"
      ],
      "metadata": {
        "colab": {
          "base_uri": "https://localhost:8080/",
          "height": 542
        },
        "id": "OJTZ2auGoN6D",
        "outputId": "d68f59d8-2a72-473a-efed-2e7fab7ce9b6"
      },
      "execution_count": null,
      "outputs": [
        {
          "output_type": "display_data",
          "data": {
            "text/html": [
              "<html>\n",
              "<head><meta charset=\"utf-8\" /></head>\n",
              "<body>\n",
              "    <div>            <script src=\"https://cdnjs.cloudflare.com/ajax/libs/mathjax/2.7.5/MathJax.js?config=TeX-AMS-MML_SVG\"></script><script type=\"text/javascript\">if (window.MathJax) {MathJax.Hub.Config({SVG: {font: \"STIX-Web\"}});}</script>                <script type=\"text/javascript\">window.PlotlyConfig = {MathJaxConfig: 'local'};</script>\n",
              "        <script src=\"https://cdn.plot.ly/plotly-2.8.3.min.js\"></script>                <div id=\"349f69aa-b555-4897-b4b7-4e07f7b09234\" class=\"plotly-graph-div\" style=\"height:525px; width:100%;\"></div>            <script type=\"text/javascript\">                                    window.PLOTLYENV=window.PLOTLYENV || {};                                    if (document.getElementById(\"349f69aa-b555-4897-b4b7-4e07f7b09234\")) {                    Plotly.newPlot(                        \"349f69aa-b555-4897-b4b7-4e07f7b09234\",                        [{\"alignmentgroup\":\"True\",\"bingroup\":\"x\",\"hovertemplate\":\"region=southwest<br>charges=%{x}<br>count=%{y}<extra></extra>\",\"legendgroup\":\"southwest\",\"marker\":{\"color\":\"green\",\"pattern\":{\"shape\":\"\"}},\"name\":\"southwest\",\"offsetgroup\":\"southwest\",\"orientation\":\"v\",\"showlegend\":true,\"x\":[16884.924,1826.843,1837.237,10602.385,36837.467,4149.736,38711.0,35585.576,4687.797,51194.55914,2302.3,48173.361,20630.28351,23568.272,1743.214,14235.072,11741.726,7726.854,39836.519,11073.176,47291.055,12105.32,15820.699,6186.127,5003.853,2331.519,11881.358,4646.759,7740.337,17081.08,9634.538,6082.405,11163.568,1261.442,2166.732,1842.519,10450.552,5152.134,4830.63,8116.68,5246.047,48824.45,10436.096,8823.279,5325.651,6775.961,4883.866,5649.715,7147.105,13880.949,1980.07,8520.026,7371.772,5012.471,5253.524,34779.615,1727.785,12333.828,35160.13457,7196.867,1832.094,47305.305,4260.744,11837.16,7441.053,42856.838,2150.469,9625.92,3172.018,3906.127,16297.846,12646.207,20177.67113,8444.474,1737.376,34838.873,35491.64,2866.091,47928.03,9144.565,13822.803,18955.22017,8932.084,3554.203,24603.04837,4751.07,13844.506,2597.779,36085.219,1261.859,8522.003,14988.432,9264.797,3260.199,8539.671,5080.096,18608.262,8968.33,23082.95533,5969.723,12638.195,5926.846,37079.372,7345.084,5910.944,4762.329,7512.267,1969.614,21797.0004,10601.412,22144.032,13224.693,1744.465,25382.297,9880.068,9563.029,1253.936,1748.774,12574.049,17942.106,4931.647,8027.968,13470.86,36197.699,11455.28,1256.299,21082.16,11362.755,5240.765,9861.025,5972.378,8825.086,6196.448,11538.421,13390.559,12957.118,3847.674,2494.022,11552.904,3761.292,9724.53,1242.816,11842.442,7441.501,11070.535,39241.442,6571.544,23306.547,10713.644,3659.346,40182.246,9182.17,11365.952,10085.846,1977.815,9391.346,6666.243,3410.324,8703.456,12363.547,2585.269,1242.26,40103.89,4766.022,26236.57997,8068.185,3577.999,5375.038,2457.502,12146.971,11264.541,12979.358,1263.249,10065.413,4234.927,14007.222,3484.331,44585.45587,11737.84884,8556.907,2416.955,19040.876,8062.764,7050.642,14319.031,27941.28758,11150.78,18259.216,24520.264,6414.178,1252.407,11848.141,2103.08,9414.92,3597.596,7445.918,13393.756,4402.233,1526.312,9872.701,2974.126,1875.344,10965.446,46113.511,7151.092,8782.469,6600.361,11576.13,4391.652,8457.818,6849.026,26140.3603,6282.235,6311.952,3443.064,1682.597,13063.883,12644.589,15170.069,17496.306,7626.993,13041.921,13451.122,13462.52,5488.262,6250.435,2913.569,12032.326,6238.298,10096.97,7348.142,12233.828,11674.13,7160.094,19933.458,38998.546,3353.284,4746.344,1759.338,19199.944,7624.63,3378.91,10118.424,7418.522,34472.841,1972.95,21232.18226,8269.044,5383.536,3987.926,8798.593,2020.177,9850.432,12094.478,3161.454,39727.614,25309.489,8277.523,5708.867,7045.499,8551.347,4076.497,19023.26,10577.087,3591.48,11299.343,11253.421,20420.60465,2904.088,34166.273,10214.636,14358.36437,1728.897,3693.428,7623.518,7954.517,9630.397,52590.82939,10791.96,5979.731,3989.841,4529.477,4670.64,22478.6,2154.361,6496.886,2632.992,13126.67745,4934.705,36910.60803,38415.474,12347.172,10806.839,41661.602,20167.33603,11345.519,5615.369,9101.798,6059.173,1241.565,16232.847,15828.82173,6474.013,3277.161,7337.748,10704.47,1880.487,8615.3,10959.33,47403.88,5472.449,38344.566,34828.654,1964.78,3208.787,37829.7242,33900.653,6875.961,4536.259,36397.576,1731.677,10325.206,10795.93733,11411.685,2007.945],\"xaxis\":\"x\",\"yaxis\":\"y\",\"type\":\"histogram\"},{\"alignmentgroup\":\"True\",\"hovertemplate\":\"region=southwest<br>charges=%{x}<extra></extra>\",\"legendgroup\":\"southwest\",\"marker\":{\"color\":\"green\"},\"name\":\"southwest\",\"notched\":true,\"offsetgroup\":\"southwest\",\"showlegend\":false,\"x\":[16884.924,1826.843,1837.237,10602.385,36837.467,4149.736,38711.0,35585.576,4687.797,51194.55914,2302.3,48173.361,20630.28351,23568.272,1743.214,14235.072,11741.726,7726.854,39836.519,11073.176,47291.055,12105.32,15820.699,6186.127,5003.853,2331.519,11881.358,4646.759,7740.337,17081.08,9634.538,6082.405,11163.568,1261.442,2166.732,1842.519,10450.552,5152.134,4830.63,8116.68,5246.047,48824.45,10436.096,8823.279,5325.651,6775.961,4883.866,5649.715,7147.105,13880.949,1980.07,8520.026,7371.772,5012.471,5253.524,34779.615,1727.785,12333.828,35160.13457,7196.867,1832.094,47305.305,4260.744,11837.16,7441.053,42856.838,2150.469,9625.92,3172.018,3906.127,16297.846,12646.207,20177.67113,8444.474,1737.376,34838.873,35491.64,2866.091,47928.03,9144.565,13822.803,18955.22017,8932.084,3554.203,24603.04837,4751.07,13844.506,2597.779,36085.219,1261.859,8522.003,14988.432,9264.797,3260.199,8539.671,5080.096,18608.262,8968.33,23082.95533,5969.723,12638.195,5926.846,37079.372,7345.084,5910.944,4762.329,7512.267,1969.614,21797.0004,10601.412,22144.032,13224.693,1744.465,25382.297,9880.068,9563.029,1253.936,1748.774,12574.049,17942.106,4931.647,8027.968,13470.86,36197.699,11455.28,1256.299,21082.16,11362.755,5240.765,9861.025,5972.378,8825.086,6196.448,11538.421,13390.559,12957.118,3847.674,2494.022,11552.904,3761.292,9724.53,1242.816,11842.442,7441.501,11070.535,39241.442,6571.544,23306.547,10713.644,3659.346,40182.246,9182.17,11365.952,10085.846,1977.815,9391.346,6666.243,3410.324,8703.456,12363.547,2585.269,1242.26,40103.89,4766.022,26236.57997,8068.185,3577.999,5375.038,2457.502,12146.971,11264.541,12979.358,1263.249,10065.413,4234.927,14007.222,3484.331,44585.45587,11737.84884,8556.907,2416.955,19040.876,8062.764,7050.642,14319.031,27941.28758,11150.78,18259.216,24520.264,6414.178,1252.407,11848.141,2103.08,9414.92,3597.596,7445.918,13393.756,4402.233,1526.312,9872.701,2974.126,1875.344,10965.446,46113.511,7151.092,8782.469,6600.361,11576.13,4391.652,8457.818,6849.026,26140.3603,6282.235,6311.952,3443.064,1682.597,13063.883,12644.589,15170.069,17496.306,7626.993,13041.921,13451.122,13462.52,5488.262,6250.435,2913.569,12032.326,6238.298,10096.97,7348.142,12233.828,11674.13,7160.094,19933.458,38998.546,3353.284,4746.344,1759.338,19199.944,7624.63,3378.91,10118.424,7418.522,34472.841,1972.95,21232.18226,8269.044,5383.536,3987.926,8798.593,2020.177,9850.432,12094.478,3161.454,39727.614,25309.489,8277.523,5708.867,7045.499,8551.347,4076.497,19023.26,10577.087,3591.48,11299.343,11253.421,20420.60465,2904.088,34166.273,10214.636,14358.36437,1728.897,3693.428,7623.518,7954.517,9630.397,52590.82939,10791.96,5979.731,3989.841,4529.477,4670.64,22478.6,2154.361,6496.886,2632.992,13126.67745,4934.705,36910.60803,38415.474,12347.172,10806.839,41661.602,20167.33603,11345.519,5615.369,9101.798,6059.173,1241.565,16232.847,15828.82173,6474.013,3277.161,7337.748,10704.47,1880.487,8615.3,10959.33,47403.88,5472.449,38344.566,34828.654,1964.78,3208.787,37829.7242,33900.653,6875.961,4536.259,36397.576,1731.677,10325.206,10795.93733,11411.685,2007.945],\"xaxis\":\"x2\",\"yaxis\":\"y2\",\"type\":\"box\"},{\"alignmentgroup\":\"True\",\"bingroup\":\"x\",\"hovertemplate\":\"region=southeast<br>charges=%{x}<br>count=%{y}<extra></extra>\",\"legendgroup\":\"southeast\",\"marker\":{\"color\":\"grey\",\"pattern\":{\"shape\":\"\"}},\"name\":\"southeast\",\"offsetgroup\":\"southeast\",\"orientation\":\"v\",\"showlegend\":true,\"x\":[1725.5523,4449.462,3756.6216,8240.5896,27808.7251,11090.7178,39611.7577,1137.011,14001.1338,4949.7587,6272.4772,6313.759,12629.8967,38709.176,37742.5757,34303.1672,23244.7902,4504.6624,5920.1041,17663.1442,16577.7795,11946.6259,3947.4131,1532.4697,37165.1638,2026.9741,3766.8838,10226.2842,30942.1918,2867.1196,47055.5321,11381.3254,19107.7796,8601.3293,2155.6815,27322.73386,18972.495,5138.2567,9877.6077,7789.635,21223.6758,36950.2567,19749.38338,36149.4835,13405.3903,1631.8212,7731.4271,3981.9768,12557.6053,2137.6536,1137.4697,8516.829,8871.1517,37133.8982,11743.299,5002.7827,2483.736,3392.9768,25081.76784,19515.5416,11987.1682,2689.4954,24227.33724,14001.2867,19444.2658,1615.7667,4463.2051,7152.6714,12648.7034,1986.9334,44260.7499,5400.9805,17085.2676,20462.99766,46151.1245,17179.522,1719.4363,12928.7911,9855.1314,7742.1098,25992.82104,42112.2356,2156.7518,21978.6769,12265.5069,4349.462,4151.0287,42124.5153,8124.4084,3561.8889,12142.5786,8232.6388,10977.2063,6184.2994,4889.9995,5478.0368,14133.03775,8944.1151,1837.2819,1607.5101,3180.5101,1391.5287,38126.2465,27000.98473,20781.48892,5846.9176,11856.4115,16586.49771,1631.6683,8083.9198,4185.0979,6652.5288,4074.4537,7345.7266,9140.951,14418.2804,46889.2612,46599.1084,9788.8659,13919.8229,12592.5345,1149.3959,28287.89766,4686.3887,11881.9696,7682.67,10381.4787,19521.9682,2201.0971,2497.0383,1534.3045,1824.2854,9304.7019,1622.1885,48885.13561,24513.09126,8211.1002,22218.1149,32548.3405,5974.3847,2498.4144,27724.28875,3994.1778,5397.6167,38245.59327,11482.63485,48675.5177,12925.886,19214.70553,13831.1152,8233.0975,27346.04207,3056.3881,13887.204,63770.42801,45863.205,3972.9247,3935.1799,9058.7303,2801.2588,2219.4451,4753.6368,1664.9996,6356.2707,17626.23951,4779.6023,5976.8311,2566.4707,5709.1644,7640.3092,1633.0444,16085.1275,9283.562,8547.6913,1880.07,42969.8527,34439.8559,11326.71487,3366.6697,12949.1554,18806.14547,9800.8882,10579.711,8280.6227,8527.532,12244.531,24667.419,6435.6237,22192.43711,1136.3994,27037.9141,42560.4304,6500.2359,4837.5823,4399.731,6185.3208,46200.9851,12485.8009,5438.7491,34806.4677,40273.6455,3500.6123,2020.5523,9504.3103,44400.4064,1727.54,10107.2206,40932.4295,6781.3542,19361.9988,40419.0191,18246.4955,3757.8448,19539.243,11833.7823,23065.4207,36307.7983,10560.4917,5934.3798,1146.7966,9386.1613,4350.5144,13457.9608,5662.225,21195.818,4266.1658,7046.7222,14313.8463,38792.6856,1815.8759,1131.5066,11013.7119,5584.3057,1877.9294,1621.8827,8219.2039,43813.8661,7160.3303,36021.0112,27533.9129,45008.9555,2438.0552,40974.1649,18218.16139,1141.4451,3392.3652,5966.8874,6653.7886,19719.6947,7243.8136,44202.6536,1634.5734,48673.5588,8125.7845,7633.7206,2473.3341,5245.2269,13470.8044,6289.7549,2927.0647,4673.3922,2304.0022,9487.6442,1121.8739,9549.5651,12982.8747,47462.894,3875.7341,41999.52,14474.675,8596.8278,10702.6424,2322.6218,7804.1605,2902.9065,4889.0368,5484.4673,13887.9685,18767.7377,36580.28216,35595.5898,42211.1382,1711.0268,8569.8618,44423.803,37484.4493,44501.3982,17929.30337,2480.9791,1981.5819,11554.2236,48970.2476,8978.1851,10928.849,39871.7043,4562.8421,34672.1472,15161.5344,11884.04858,9748.9106,41676.0811,1674.6323,3227.1211,3471.4096,11363.2832,10338.9316,8605.3615,41949.2441,24180.9335,10807.4863,36124.5737,38282.7495,8347.1643,5836.5204,8582.3023,3704.3545,9048.0273,27117.99378,6338.0756,40941.2854,39722.7462,5124.1887,18963.17192,10982.5013,11093.6229,19350.3689,18328.2381,5699.8375,18223.4512,23563.01618,5415.6612,4058.1161,6593.5083,8442.667,26125.67477,4795.6568,7162.0122,10594.2257,8515.7587,3238.4357,47269.854,49577.6624,3171.6149,1135.9407,1633.9618,4415.1588,6770.1925,26926.5144,14478.33015,4747.0529,17043.3414,8283.6807,1720.3537,7147.4728,1515.3449,4340.4409,62592.87309,2464.6188,1163.4627,12981.3457,43896.3763,9377.9047,12629.1656,1629.8335],\"xaxis\":\"x\",\"yaxis\":\"y\",\"type\":\"histogram\"},{\"alignmentgroup\":\"True\",\"hovertemplate\":\"region=southeast<br>charges=%{x}<extra></extra>\",\"legendgroup\":\"southeast\",\"marker\":{\"color\":\"grey\"},\"name\":\"southeast\",\"notched\":true,\"offsetgroup\":\"southeast\",\"showlegend\":false,\"x\":[1725.5523,4449.462,3756.6216,8240.5896,27808.7251,11090.7178,39611.7577,1137.011,14001.1338,4949.7587,6272.4772,6313.759,12629.8967,38709.176,37742.5757,34303.1672,23244.7902,4504.6624,5920.1041,17663.1442,16577.7795,11946.6259,3947.4131,1532.4697,37165.1638,2026.9741,3766.8838,10226.2842,30942.1918,2867.1196,47055.5321,11381.3254,19107.7796,8601.3293,2155.6815,27322.73386,18972.495,5138.2567,9877.6077,7789.635,21223.6758,36950.2567,19749.38338,36149.4835,13405.3903,1631.8212,7731.4271,3981.9768,12557.6053,2137.6536,1137.4697,8516.829,8871.1517,37133.8982,11743.299,5002.7827,2483.736,3392.9768,25081.76784,19515.5416,11987.1682,2689.4954,24227.33724,14001.2867,19444.2658,1615.7667,4463.2051,7152.6714,12648.7034,1986.9334,44260.7499,5400.9805,17085.2676,20462.99766,46151.1245,17179.522,1719.4363,12928.7911,9855.1314,7742.1098,25992.82104,42112.2356,2156.7518,21978.6769,12265.5069,4349.462,4151.0287,42124.5153,8124.4084,3561.8889,12142.5786,8232.6388,10977.2063,6184.2994,4889.9995,5478.0368,14133.03775,8944.1151,1837.2819,1607.5101,3180.5101,1391.5287,38126.2465,27000.98473,20781.48892,5846.9176,11856.4115,16586.49771,1631.6683,8083.9198,4185.0979,6652.5288,4074.4537,7345.7266,9140.951,14418.2804,46889.2612,46599.1084,9788.8659,13919.8229,12592.5345,1149.3959,28287.89766,4686.3887,11881.9696,7682.67,10381.4787,19521.9682,2201.0971,2497.0383,1534.3045,1824.2854,9304.7019,1622.1885,48885.13561,24513.09126,8211.1002,22218.1149,32548.3405,5974.3847,2498.4144,27724.28875,3994.1778,5397.6167,38245.59327,11482.63485,48675.5177,12925.886,19214.70553,13831.1152,8233.0975,27346.04207,3056.3881,13887.204,63770.42801,45863.205,3972.9247,3935.1799,9058.7303,2801.2588,2219.4451,4753.6368,1664.9996,6356.2707,17626.23951,4779.6023,5976.8311,2566.4707,5709.1644,7640.3092,1633.0444,16085.1275,9283.562,8547.6913,1880.07,42969.8527,34439.8559,11326.71487,3366.6697,12949.1554,18806.14547,9800.8882,10579.711,8280.6227,8527.532,12244.531,24667.419,6435.6237,22192.43711,1136.3994,27037.9141,42560.4304,6500.2359,4837.5823,4399.731,6185.3208,46200.9851,12485.8009,5438.7491,34806.4677,40273.6455,3500.6123,2020.5523,9504.3103,44400.4064,1727.54,10107.2206,40932.4295,6781.3542,19361.9988,40419.0191,18246.4955,3757.8448,19539.243,11833.7823,23065.4207,36307.7983,10560.4917,5934.3798,1146.7966,9386.1613,4350.5144,13457.9608,5662.225,21195.818,4266.1658,7046.7222,14313.8463,38792.6856,1815.8759,1131.5066,11013.7119,5584.3057,1877.9294,1621.8827,8219.2039,43813.8661,7160.3303,36021.0112,27533.9129,45008.9555,2438.0552,40974.1649,18218.16139,1141.4451,3392.3652,5966.8874,6653.7886,19719.6947,7243.8136,44202.6536,1634.5734,48673.5588,8125.7845,7633.7206,2473.3341,5245.2269,13470.8044,6289.7549,2927.0647,4673.3922,2304.0022,9487.6442,1121.8739,9549.5651,12982.8747,47462.894,3875.7341,41999.52,14474.675,8596.8278,10702.6424,2322.6218,7804.1605,2902.9065,4889.0368,5484.4673,13887.9685,18767.7377,36580.28216,35595.5898,42211.1382,1711.0268,8569.8618,44423.803,37484.4493,44501.3982,17929.30337,2480.9791,1981.5819,11554.2236,48970.2476,8978.1851,10928.849,39871.7043,4562.8421,34672.1472,15161.5344,11884.04858,9748.9106,41676.0811,1674.6323,3227.1211,3471.4096,11363.2832,10338.9316,8605.3615,41949.2441,24180.9335,10807.4863,36124.5737,38282.7495,8347.1643,5836.5204,8582.3023,3704.3545,9048.0273,27117.99378,6338.0756,40941.2854,39722.7462,5124.1887,18963.17192,10982.5013,11093.6229,19350.3689,18328.2381,5699.8375,18223.4512,23563.01618,5415.6612,4058.1161,6593.5083,8442.667,26125.67477,4795.6568,7162.0122,10594.2257,8515.7587,3238.4357,47269.854,49577.6624,3171.6149,1135.9407,1633.9618,4415.1588,6770.1925,26926.5144,14478.33015,4747.0529,17043.3414,8283.6807,1720.3537,7147.4728,1515.3449,4340.4409,62592.87309,2464.6188,1163.4627,12981.3457,43896.3763,9377.9047,12629.1656,1629.8335],\"xaxis\":\"x2\",\"yaxis\":\"y2\",\"type\":\"box\"},{\"alignmentgroup\":\"True\",\"bingroup\":\"x\",\"hovertemplate\":\"region=northwest<br>charges=%{x}<br>count=%{y}<extra></extra>\",\"legendgroup\":\"northwest\",\"marker\":{\"color\":\"red\",\"pattern\":{\"shape\":\"\"}},\"name\":\"northwest\",\"offsetgroup\":\"northwest\",\"orientation\":\"v\",\"showlegend\":true,\"x\":[21984.47061,3866.8552,7281.5056,28923.13692,6203.90175,12268.63225,2775.19215,13770.0979,1625.43375,15612.19335,3556.9223,3579.8287,8059.6791,47496.49445,5989.52365,30166.61817,4133.64165,14711.7438,6389.37785,11356.6609,6571.02435,11033.6617,21098.55405,43578.9394,8026.6666,11082.5772,10942.13205,5729.0053,17560.37975,3877.30425,10825.2537,2404.7338,6686.4313,2257.47525,10115.00885,32734.1863,1632.56445,2045.68525,18157.876,20745.9891,40720.55105,10959.6947,5125.2157,6948.7008,21348.706,5028.1466,6128.79745,2719.27975,2855.43755,6455.86265,11735.87905,7419.4779,4922.9159,12044.342,1639.5631,9644.2525,2130.6759,13012.20865,8162.71625,3537.703,10355.641,7443.64305,6710.1919,17352.6803,24476.47851,43921.1837,11520.09985,33750.2918,36219.40545,7265.7025,2523.1695,2803.69785,14256.1928,38746.3551,9249.4952,19442.3535,7749.1564,8835.26495,7421.19455,4894.7533,42760.5022,24393.6224,13429.0354,13937.6665,13352.0998,1635.73365,11830.6072,9620.3307,8017.06115,8116.26885,13415.0381,18033.9679,16455.70785,30284.64294,3176.8159,4618.0799,2138.0707,7526.70645,14692.66935,10269.46,1621.3402,2134.9015,28950.4692,18804.7524,4906.40965,4243.59005,4738.2682,26109.32905,11454.0215,4032.2407,1769.53165,11840.77505,1632.03625,12643.3778,28868.6639,2534.39375,15555.18875,12475.3513,10461.9794,6796.86325,2643.2685,3077.0955,8413.46305,24059.68019,10231.4999,23807.2406,11187.6567,39983.42595,1646.4297,9193.8385,2128.43105,6373.55735,7256.7231,45702.02235,12222.8983,1639.5631,43943.8761,8428.0693,33471.97189,9174.13565,17468.9839,25678.77845,12129.61415,3736.4647,42983.4585,2709.1119,32787.45859,4466.6214,6123.5688,4058.71245,40003.33225,7222.78625,46130.5265,10156.7832,9863.4718,2362.22905,2352.96845,3201.24515,10976.24575,5385.3379,8930.93455,10264.4421,8310.83915,9566.9909,13112.6048,10848.1343,12231.6136,6664.68595,9583.8933,8827.2099,9910.35985,1627.28245,3062.50825,1906.35825,14210.53595,11842.62375,6933.24225,17748.5062,7261.741,6986.697,9869.8102,1917.3184,7209.4918,18310.742,7731.85785,28476.73499,2136.88225,6360.9936,2842.76075,55135.40209,2680.9493,12523.6048,6117.4945,5266.3656,4719.73655,11743.9341,5377.4578,12622.1795,10601.63225,14119.62,15817.9857,12269.68865,2690.1138,2789.0574,4877.98105,5272.1758,11945.1327,29330.98315,2221.56445,2117.33885,2639.0429,14382.70905,5257.50795,21774.32215,4320.41085,8965.79575,1628.4709,6358.77645,4527.18295,20009.63365,12609.88702,28468.91901,2730.10785,26467.09737,23967.38305,7518.02535,2527.81865,8410.04685,28340.18885,16420.49455,5267.81815,17361.7661,4433.3877,24915.22085,8765.249,12124.9924,2709.24395,12495.29085,26018.95052,16450.8947,21595.38229,21677.28345,12950.0712,39725.51805,22493.65964,20234.85475,21880.82,3594.17085,8023.13545,3353.4703,10594.50155,4462.7218,6548.19505,14349.8544,1909.52745,4454.40265,5855.9025,15019.76005,11353.2276,33907.548,8988.15875,10493.9458,5312.16985,5693.4305,46661.4424,14254.6082,9991.03765,19673.33573,11085.5868,3176.2877,36898.73308,11289.10925,2261.5688,12235.8392,5630.45785,11015.1747,14426.07385,7727.2532,7153.5539,6112.35295,6457.8434,4433.9159,23887.6627,2850.68375,37465.34375,13844.7972,5327.40025,8671.19125,4134.08245,18838.70366,33307.5508,6393.60345,6198.7518,8733.22925,2055.3249,5116.5004,5373.36425,3956.07145,7537.1639,60021.39897,12479.70895,2699.56835,12224.35085,4296.2712,11436.73815,11305.93455,30063.58055,3292.52985,3021.80915,4357.04365,4189.1131,24535.69855,9301.89355,5261.46945,2710.82855,46718.16325,21472.4788,6940.90985,4571.41305,18765.87545,7201.70085,5425.02335,4239.89265,10600.5483,29141.3603],\"xaxis\":\"x\",\"yaxis\":\"y\",\"type\":\"histogram\"},{\"alignmentgroup\":\"True\",\"hovertemplate\":\"region=northwest<br>charges=%{x}<extra></extra>\",\"legendgroup\":\"northwest\",\"marker\":{\"color\":\"red\"},\"name\":\"northwest\",\"notched\":true,\"offsetgroup\":\"northwest\",\"showlegend\":false,\"x\":[21984.47061,3866.8552,7281.5056,28923.13692,6203.90175,12268.63225,2775.19215,13770.0979,1625.43375,15612.19335,3556.9223,3579.8287,8059.6791,47496.49445,5989.52365,30166.61817,4133.64165,14711.7438,6389.37785,11356.6609,6571.02435,11033.6617,21098.55405,43578.9394,8026.6666,11082.5772,10942.13205,5729.0053,17560.37975,3877.30425,10825.2537,2404.7338,6686.4313,2257.47525,10115.00885,32734.1863,1632.56445,2045.68525,18157.876,20745.9891,40720.55105,10959.6947,5125.2157,6948.7008,21348.706,5028.1466,6128.79745,2719.27975,2855.43755,6455.86265,11735.87905,7419.4779,4922.9159,12044.342,1639.5631,9644.2525,2130.6759,13012.20865,8162.71625,3537.703,10355.641,7443.64305,6710.1919,17352.6803,24476.47851,43921.1837,11520.09985,33750.2918,36219.40545,7265.7025,2523.1695,2803.69785,14256.1928,38746.3551,9249.4952,19442.3535,7749.1564,8835.26495,7421.19455,4894.7533,42760.5022,24393.6224,13429.0354,13937.6665,13352.0998,1635.73365,11830.6072,9620.3307,8017.06115,8116.26885,13415.0381,18033.9679,16455.70785,30284.64294,3176.8159,4618.0799,2138.0707,7526.70645,14692.66935,10269.46,1621.3402,2134.9015,28950.4692,18804.7524,4906.40965,4243.59005,4738.2682,26109.32905,11454.0215,4032.2407,1769.53165,11840.77505,1632.03625,12643.3778,28868.6639,2534.39375,15555.18875,12475.3513,10461.9794,6796.86325,2643.2685,3077.0955,8413.46305,24059.68019,10231.4999,23807.2406,11187.6567,39983.42595,1646.4297,9193.8385,2128.43105,6373.55735,7256.7231,45702.02235,12222.8983,1639.5631,43943.8761,8428.0693,33471.97189,9174.13565,17468.9839,25678.77845,12129.61415,3736.4647,42983.4585,2709.1119,32787.45859,4466.6214,6123.5688,4058.71245,40003.33225,7222.78625,46130.5265,10156.7832,9863.4718,2362.22905,2352.96845,3201.24515,10976.24575,5385.3379,8930.93455,10264.4421,8310.83915,9566.9909,13112.6048,10848.1343,12231.6136,6664.68595,9583.8933,8827.2099,9910.35985,1627.28245,3062.50825,1906.35825,14210.53595,11842.62375,6933.24225,17748.5062,7261.741,6986.697,9869.8102,1917.3184,7209.4918,18310.742,7731.85785,28476.73499,2136.88225,6360.9936,2842.76075,55135.40209,2680.9493,12523.6048,6117.4945,5266.3656,4719.73655,11743.9341,5377.4578,12622.1795,10601.63225,14119.62,15817.9857,12269.68865,2690.1138,2789.0574,4877.98105,5272.1758,11945.1327,29330.98315,2221.56445,2117.33885,2639.0429,14382.70905,5257.50795,21774.32215,4320.41085,8965.79575,1628.4709,6358.77645,4527.18295,20009.63365,12609.88702,28468.91901,2730.10785,26467.09737,23967.38305,7518.02535,2527.81865,8410.04685,28340.18885,16420.49455,5267.81815,17361.7661,4433.3877,24915.22085,8765.249,12124.9924,2709.24395,12495.29085,26018.95052,16450.8947,21595.38229,21677.28345,12950.0712,39725.51805,22493.65964,20234.85475,21880.82,3594.17085,8023.13545,3353.4703,10594.50155,4462.7218,6548.19505,14349.8544,1909.52745,4454.40265,5855.9025,15019.76005,11353.2276,33907.548,8988.15875,10493.9458,5312.16985,5693.4305,46661.4424,14254.6082,9991.03765,19673.33573,11085.5868,3176.2877,36898.73308,11289.10925,2261.5688,12235.8392,5630.45785,11015.1747,14426.07385,7727.2532,7153.5539,6112.35295,6457.8434,4433.9159,23887.6627,2850.68375,37465.34375,13844.7972,5327.40025,8671.19125,4134.08245,18838.70366,33307.5508,6393.60345,6198.7518,8733.22925,2055.3249,5116.5004,5373.36425,3956.07145,7537.1639,60021.39897,12479.70895,2699.56835,12224.35085,4296.2712,11436.73815,11305.93455,30063.58055,3292.52985,3021.80915,4357.04365,4189.1131,24535.69855,9301.89355,5261.46945,2710.82855,46718.16325,21472.4788,6940.90985,4571.41305,18765.87545,7201.70085,5425.02335,4239.89265,10600.5483,29141.3603],\"xaxis\":\"x2\",\"yaxis\":\"y2\",\"type\":\"box\"},{\"alignmentgroup\":\"True\",\"bingroup\":\"x\",\"hovertemplate\":\"region=northeast<br>charges=%{x}<br>count=%{y}<extra></extra>\",\"legendgroup\":\"northeast\",\"marker\":{\"color\":\"blue\",\"pattern\":{\"shape\":\"\"}},\"name\":\"northeast\",\"offsetgroup\":\"northeast\",\"orientation\":\"v\",\"showlegend\":true,\"x\":[6406.4107,2721.3208,10797.3362,2395.17155,13228.84695,37701.8768,14451.83515,2198.18985,39774.2763,3046.062,6079.6715,3393.35635,2211.13075,13607.36875,8606.2174,6799.458,2755.02095,4441.21315,7935.29115,30184.9367,22412.6485,3645.0894,21344.8467,11488.31695,30259.99556,1705.6245,39556.4945,3385.39915,12815.44495,13616.3586,2457.21115,27375.90478,3490.5491,6334.34355,19964.7463,7077.1894,15518.18025,10407.08585,4827.90495,1694.7964,8538.28845,4005.4225,43753.33705,14901.5167,4337.7352,20984.0936,6610.1097,10564.8845,7358.17565,9225.2564,38511.6283,5354.07465,29523.1656,4040.55825,12829.4551,41097.16175,13047.33235,24869.8368,14590.63205,9282.4806,9617.66245,9715.841,22331.5668,48549.17835,4237.12655,11879.10405,9432.9253,47896.79135,20277.80751,1704.5681,6746.7425,24873.3849,11944.59435,9722.7695,10435.06525,4667.60765,24671.66334,11566.30055,6600.20595,48517.56315,11658.37915,19144.57652,41919.097,13217.0945,13981.85035,8334.45755,12404.8791,10043.249,9778.3472,13430.265,3481.868,12029.2867,7639.41745,21659.9301,15006.57945,42303.69215,8302.53565,10736.87075,8964.06055,9290.1395,9411.005,11396.9002,19594.80965,14455.64405,39125.33225,2727.3951,6555.07035,7323.734819,3167.45585,2254.7967,2897.3235,12730.9996,15230.32405,11165.41765,23288.9284,2203.47185,20878.78443,35147.52848,4347.02335,2196.4732,1967.0227,6837.3687,3044.2133,11763.0009,9361.3268,3857.75925,25656.57526,9866.30485,8342.90875,1708.0014,14043.4767,6067.12675,3268.84665,3213.62205,17878.90068,8334.5896,10923.9332,31620.00106,13224.05705,58571.07448,3206.49135,12913.9924,3861.20965,13635.6379,15359.1045,8823.98575,5594.8455,3558.62025,4435.0942,2207.69745,6753.038,11658.11505,34617.84065,6748.5912,7173.35995,14410.9321,24915.04626,20149.3229,13143.86485,10141.1362,8252.2843,1712.227,12430.95335,26392.26029,14394.39815,5148.5526,45710.20785,3943.5954,11244.3769,7729.64575,2104.1134,29186.48236,9541.69555,6113.23105,5469.0066,1984.4533,9875.6804,10106.13425,16657.71745,2217.6012,9447.25035,36189.1017,8604.48365,43254.41795,17128.42608,5031.26955,7985.815,5428.7277,3925.7582,3070.8087,9095.06825,12797.20962,7448.40395,12741.16745,5209.57885,2731.9122,4719.52405,17904.52705,3309.7926,4428.88785,23401.30575,16069.08475,20773.62775,39597.4072,11657.7189,6402.29135,12323.936,10072.05505,37270.1512,42111.6647,11729.6795,24106.91255,5458.04645,13129.60345,8891.1395,2585.85065,46255.1125,27218.43725,10422.91665,13555.0049,19798.05455,8688.85885,4661.28635,4564.19145,4846.92015,33732.6867,35069.37452,25333.33284,32108.66282,2217.46915,39047.285,11534.87265,41034.2214,9500.57305,3279.86855,4992.3764,16138.76205,9704.66805,25517.11363,4500.33925,16796.41194,4915.05985,4518.82625,14571.8908,7144.86265,7986.47525,6551.7501,8627.5411,4438.2634,23241.47453,9957.7216,6877.9801,4137.5227,13747.87235,2250.8352,1704.70015,33475.81715,11394.06555,7325.0482,14394.5579,9288.0267,5757.41345,13974.45555,12096.6512,13204.28565,2102.2647,10796.35025,11286.5387,4561.1885,44641.1974,23045.56616,16776.30405,11512.405,2396.0959,9222.4026,18903.49141,40904.1995,20709.02034,2203.73595,7228.21565,2459.7201,2200.83085,5227.98875,17178.6824,2899.48935,7650.77375,9447.3824,8603.8234,21771.3423,13725.47184,13019.16105,9964.06,20296.86345,1702.4553,12890.05765,4718.20355,6858.4796,6640.54485,11938.25595,14449.8544,6985.50695,37607.5277,18648.4217,10197.7722,4544.2348,10370.91255,34254.05335,2741.948,22462.04375,14283.4594,8534.6718,3732.6251,7133.9025,11931.12525,1708.92575,21259.37795,16115.3045,11272.33139,19496.71917,28101.33305,13143.33665,7050.0213,22395.74424,2205.9808],\"xaxis\":\"x\",\"yaxis\":\"y\",\"type\":\"histogram\"},{\"alignmentgroup\":\"True\",\"hovertemplate\":\"region=northeast<br>charges=%{x}<extra></extra>\",\"legendgroup\":\"northeast\",\"marker\":{\"color\":\"blue\"},\"name\":\"northeast\",\"notched\":true,\"offsetgroup\":\"northeast\",\"showlegend\":false,\"x\":[6406.4107,2721.3208,10797.3362,2395.17155,13228.84695,37701.8768,14451.83515,2198.18985,39774.2763,3046.062,6079.6715,3393.35635,2211.13075,13607.36875,8606.2174,6799.458,2755.02095,4441.21315,7935.29115,30184.9367,22412.6485,3645.0894,21344.8467,11488.31695,30259.99556,1705.6245,39556.4945,3385.39915,12815.44495,13616.3586,2457.21115,27375.90478,3490.5491,6334.34355,19964.7463,7077.1894,15518.18025,10407.08585,4827.90495,1694.7964,8538.28845,4005.4225,43753.33705,14901.5167,4337.7352,20984.0936,6610.1097,10564.8845,7358.17565,9225.2564,38511.6283,5354.07465,29523.1656,4040.55825,12829.4551,41097.16175,13047.33235,24869.8368,14590.63205,9282.4806,9617.66245,9715.841,22331.5668,48549.17835,4237.12655,11879.10405,9432.9253,47896.79135,20277.80751,1704.5681,6746.7425,24873.3849,11944.59435,9722.7695,10435.06525,4667.60765,24671.66334,11566.30055,6600.20595,48517.56315,11658.37915,19144.57652,41919.097,13217.0945,13981.85035,8334.45755,12404.8791,10043.249,9778.3472,13430.265,3481.868,12029.2867,7639.41745,21659.9301,15006.57945,42303.69215,8302.53565,10736.87075,8964.06055,9290.1395,9411.005,11396.9002,19594.80965,14455.64405,39125.33225,2727.3951,6555.07035,7323.734819,3167.45585,2254.7967,2897.3235,12730.9996,15230.32405,11165.41765,23288.9284,2203.47185,20878.78443,35147.52848,4347.02335,2196.4732,1967.0227,6837.3687,3044.2133,11763.0009,9361.3268,3857.75925,25656.57526,9866.30485,8342.90875,1708.0014,14043.4767,6067.12675,3268.84665,3213.62205,17878.90068,8334.5896,10923.9332,31620.00106,13224.05705,58571.07448,3206.49135,12913.9924,3861.20965,13635.6379,15359.1045,8823.98575,5594.8455,3558.62025,4435.0942,2207.69745,6753.038,11658.11505,34617.84065,6748.5912,7173.35995,14410.9321,24915.04626,20149.3229,13143.86485,10141.1362,8252.2843,1712.227,12430.95335,26392.26029,14394.39815,5148.5526,45710.20785,3943.5954,11244.3769,7729.64575,2104.1134,29186.48236,9541.69555,6113.23105,5469.0066,1984.4533,9875.6804,10106.13425,16657.71745,2217.6012,9447.25035,36189.1017,8604.48365,43254.41795,17128.42608,5031.26955,7985.815,5428.7277,3925.7582,3070.8087,9095.06825,12797.20962,7448.40395,12741.16745,5209.57885,2731.9122,4719.52405,17904.52705,3309.7926,4428.88785,23401.30575,16069.08475,20773.62775,39597.4072,11657.7189,6402.29135,12323.936,10072.05505,37270.1512,42111.6647,11729.6795,24106.91255,5458.04645,13129.60345,8891.1395,2585.85065,46255.1125,27218.43725,10422.91665,13555.0049,19798.05455,8688.85885,4661.28635,4564.19145,4846.92015,33732.6867,35069.37452,25333.33284,32108.66282,2217.46915,39047.285,11534.87265,41034.2214,9500.57305,3279.86855,4992.3764,16138.76205,9704.66805,25517.11363,4500.33925,16796.41194,4915.05985,4518.82625,14571.8908,7144.86265,7986.47525,6551.7501,8627.5411,4438.2634,23241.47453,9957.7216,6877.9801,4137.5227,13747.87235,2250.8352,1704.70015,33475.81715,11394.06555,7325.0482,14394.5579,9288.0267,5757.41345,13974.45555,12096.6512,13204.28565,2102.2647,10796.35025,11286.5387,4561.1885,44641.1974,23045.56616,16776.30405,11512.405,2396.0959,9222.4026,18903.49141,40904.1995,20709.02034,2203.73595,7228.21565,2459.7201,2200.83085,5227.98875,17178.6824,2899.48935,7650.77375,9447.3824,8603.8234,21771.3423,13725.47184,13019.16105,9964.06,20296.86345,1702.4553,12890.05765,4718.20355,6858.4796,6640.54485,11938.25595,14449.8544,6985.50695,37607.5277,18648.4217,10197.7722,4544.2348,10370.91255,34254.05335,2741.948,22462.04375,14283.4594,8534.6718,3732.6251,7133.9025,11931.12525,1708.92575,21259.37795,16115.3045,11272.33139,19496.71917,28101.33305,13143.33665,7050.0213,22395.74424,2205.9808],\"xaxis\":\"x2\",\"yaxis\":\"y2\",\"type\":\"box\"}],                        {\"template\":{\"data\":{\"bar\":[{\"error_x\":{\"color\":\"#2a3f5f\"},\"error_y\":{\"color\":\"#2a3f5f\"},\"marker\":{\"line\":{\"color\":\"#E5ECF6\",\"width\":0.5},\"pattern\":{\"fillmode\":\"overlay\",\"size\":10,\"solidity\":0.2}},\"type\":\"bar\"}],\"barpolar\":[{\"marker\":{\"line\":{\"color\":\"#E5ECF6\",\"width\":0.5},\"pattern\":{\"fillmode\":\"overlay\",\"size\":10,\"solidity\":0.2}},\"type\":\"barpolar\"}],\"carpet\":[{\"aaxis\":{\"endlinecolor\":\"#2a3f5f\",\"gridcolor\":\"white\",\"linecolor\":\"white\",\"minorgridcolor\":\"white\",\"startlinecolor\":\"#2a3f5f\"},\"baxis\":{\"endlinecolor\":\"#2a3f5f\",\"gridcolor\":\"white\",\"linecolor\":\"white\",\"minorgridcolor\":\"white\",\"startlinecolor\":\"#2a3f5f\"},\"type\":\"carpet\"}],\"choropleth\":[{\"colorbar\":{\"outlinewidth\":0,\"ticks\":\"\"},\"type\":\"choropleth\"}],\"contour\":[{\"colorbar\":{\"outlinewidth\":0,\"ticks\":\"\"},\"colorscale\":[[0.0,\"#0d0887\"],[0.1111111111111111,\"#46039f\"],[0.2222222222222222,\"#7201a8\"],[0.3333333333333333,\"#9c179e\"],[0.4444444444444444,\"#bd3786\"],[0.5555555555555556,\"#d8576b\"],[0.6666666666666666,\"#ed7953\"],[0.7777777777777778,\"#fb9f3a\"],[0.8888888888888888,\"#fdca26\"],[1.0,\"#f0f921\"]],\"type\":\"contour\"}],\"contourcarpet\":[{\"colorbar\":{\"outlinewidth\":0,\"ticks\":\"\"},\"type\":\"contourcarpet\"}],\"heatmap\":[{\"colorbar\":{\"outlinewidth\":0,\"ticks\":\"\"},\"colorscale\":[[0.0,\"#0d0887\"],[0.1111111111111111,\"#46039f\"],[0.2222222222222222,\"#7201a8\"],[0.3333333333333333,\"#9c179e\"],[0.4444444444444444,\"#bd3786\"],[0.5555555555555556,\"#d8576b\"],[0.6666666666666666,\"#ed7953\"],[0.7777777777777778,\"#fb9f3a\"],[0.8888888888888888,\"#fdca26\"],[1.0,\"#f0f921\"]],\"type\":\"heatmap\"}],\"heatmapgl\":[{\"colorbar\":{\"outlinewidth\":0,\"ticks\":\"\"},\"colorscale\":[[0.0,\"#0d0887\"],[0.1111111111111111,\"#46039f\"],[0.2222222222222222,\"#7201a8\"],[0.3333333333333333,\"#9c179e\"],[0.4444444444444444,\"#bd3786\"],[0.5555555555555556,\"#d8576b\"],[0.6666666666666666,\"#ed7953\"],[0.7777777777777778,\"#fb9f3a\"],[0.8888888888888888,\"#fdca26\"],[1.0,\"#f0f921\"]],\"type\":\"heatmapgl\"}],\"histogram\":[{\"marker\":{\"pattern\":{\"fillmode\":\"overlay\",\"size\":10,\"solidity\":0.2}},\"type\":\"histogram\"}],\"histogram2d\":[{\"colorbar\":{\"outlinewidth\":0,\"ticks\":\"\"},\"colorscale\":[[0.0,\"#0d0887\"],[0.1111111111111111,\"#46039f\"],[0.2222222222222222,\"#7201a8\"],[0.3333333333333333,\"#9c179e\"],[0.4444444444444444,\"#bd3786\"],[0.5555555555555556,\"#d8576b\"],[0.6666666666666666,\"#ed7953\"],[0.7777777777777778,\"#fb9f3a\"],[0.8888888888888888,\"#fdca26\"],[1.0,\"#f0f921\"]],\"type\":\"histogram2d\"}],\"histogram2dcontour\":[{\"colorbar\":{\"outlinewidth\":0,\"ticks\":\"\"},\"colorscale\":[[0.0,\"#0d0887\"],[0.1111111111111111,\"#46039f\"],[0.2222222222222222,\"#7201a8\"],[0.3333333333333333,\"#9c179e\"],[0.4444444444444444,\"#bd3786\"],[0.5555555555555556,\"#d8576b\"],[0.6666666666666666,\"#ed7953\"],[0.7777777777777778,\"#fb9f3a\"],[0.8888888888888888,\"#fdca26\"],[1.0,\"#f0f921\"]],\"type\":\"histogram2dcontour\"}],\"mesh3d\":[{\"colorbar\":{\"outlinewidth\":0,\"ticks\":\"\"},\"type\":\"mesh3d\"}],\"parcoords\":[{\"line\":{\"colorbar\":{\"outlinewidth\":0,\"ticks\":\"\"}},\"type\":\"parcoords\"}],\"pie\":[{\"automargin\":true,\"type\":\"pie\"}],\"scatter\":[{\"marker\":{\"colorbar\":{\"outlinewidth\":0,\"ticks\":\"\"}},\"type\":\"scatter\"}],\"scatter3d\":[{\"line\":{\"colorbar\":{\"outlinewidth\":0,\"ticks\":\"\"}},\"marker\":{\"colorbar\":{\"outlinewidth\":0,\"ticks\":\"\"}},\"type\":\"scatter3d\"}],\"scattercarpet\":[{\"marker\":{\"colorbar\":{\"outlinewidth\":0,\"ticks\":\"\"}},\"type\":\"scattercarpet\"}],\"scattergeo\":[{\"marker\":{\"colorbar\":{\"outlinewidth\":0,\"ticks\":\"\"}},\"type\":\"scattergeo\"}],\"scattergl\":[{\"marker\":{\"colorbar\":{\"outlinewidth\":0,\"ticks\":\"\"}},\"type\":\"scattergl\"}],\"scattermapbox\":[{\"marker\":{\"colorbar\":{\"outlinewidth\":0,\"ticks\":\"\"}},\"type\":\"scattermapbox\"}],\"scatterpolar\":[{\"marker\":{\"colorbar\":{\"outlinewidth\":0,\"ticks\":\"\"}},\"type\":\"scatterpolar\"}],\"scatterpolargl\":[{\"marker\":{\"colorbar\":{\"outlinewidth\":0,\"ticks\":\"\"}},\"type\":\"scatterpolargl\"}],\"scatterternary\":[{\"marker\":{\"colorbar\":{\"outlinewidth\":0,\"ticks\":\"\"}},\"type\":\"scatterternary\"}],\"surface\":[{\"colorbar\":{\"outlinewidth\":0,\"ticks\":\"\"},\"colorscale\":[[0.0,\"#0d0887\"],[0.1111111111111111,\"#46039f\"],[0.2222222222222222,\"#7201a8\"],[0.3333333333333333,\"#9c179e\"],[0.4444444444444444,\"#bd3786\"],[0.5555555555555556,\"#d8576b\"],[0.6666666666666666,\"#ed7953\"],[0.7777777777777778,\"#fb9f3a\"],[0.8888888888888888,\"#fdca26\"],[1.0,\"#f0f921\"]],\"type\":\"surface\"}],\"table\":[{\"cells\":{\"fill\":{\"color\":\"#EBF0F8\"},\"line\":{\"color\":\"white\"}},\"header\":{\"fill\":{\"color\":\"#C8D4E3\"},\"line\":{\"color\":\"white\"}},\"type\":\"table\"}]},\"layout\":{\"annotationdefaults\":{\"arrowcolor\":\"#2a3f5f\",\"arrowhead\":0,\"arrowwidth\":1},\"autotypenumbers\":\"strict\",\"coloraxis\":{\"colorbar\":{\"outlinewidth\":0,\"ticks\":\"\"}},\"colorscale\":{\"diverging\":[[0,\"#8e0152\"],[0.1,\"#c51b7d\"],[0.2,\"#de77ae\"],[0.3,\"#f1b6da\"],[0.4,\"#fde0ef\"],[0.5,\"#f7f7f7\"],[0.6,\"#e6f5d0\"],[0.7,\"#b8e186\"],[0.8,\"#7fbc41\"],[0.9,\"#4d9221\"],[1,\"#276419\"]],\"sequential\":[[0.0,\"#0d0887\"],[0.1111111111111111,\"#46039f\"],[0.2222222222222222,\"#7201a8\"],[0.3333333333333333,\"#9c179e\"],[0.4444444444444444,\"#bd3786\"],[0.5555555555555556,\"#d8576b\"],[0.6666666666666666,\"#ed7953\"],[0.7777777777777778,\"#fb9f3a\"],[0.8888888888888888,\"#fdca26\"],[1.0,\"#f0f921\"]],\"sequentialminus\":[[0.0,\"#0d0887\"],[0.1111111111111111,\"#46039f\"],[0.2222222222222222,\"#7201a8\"],[0.3333333333333333,\"#9c179e\"],[0.4444444444444444,\"#bd3786\"],[0.5555555555555556,\"#d8576b\"],[0.6666666666666666,\"#ed7953\"],[0.7777777777777778,\"#fb9f3a\"],[0.8888888888888888,\"#fdca26\"],[1.0,\"#f0f921\"]]},\"colorway\":[\"#636efa\",\"#EF553B\",\"#00cc96\",\"#ab63fa\",\"#FFA15A\",\"#19d3f3\",\"#FF6692\",\"#B6E880\",\"#FF97FF\",\"#FECB52\"],\"font\":{\"color\":\"#2a3f5f\"},\"geo\":{\"bgcolor\":\"white\",\"lakecolor\":\"white\",\"landcolor\":\"#E5ECF6\",\"showlakes\":true,\"showland\":true,\"subunitcolor\":\"white\"},\"hoverlabel\":{\"align\":\"left\"},\"hovermode\":\"closest\",\"mapbox\":{\"style\":\"light\"},\"paper_bgcolor\":\"white\",\"plot_bgcolor\":\"#E5ECF6\",\"polar\":{\"angularaxis\":{\"gridcolor\":\"white\",\"linecolor\":\"white\",\"ticks\":\"\"},\"bgcolor\":\"#E5ECF6\",\"radialaxis\":{\"gridcolor\":\"white\",\"linecolor\":\"white\",\"ticks\":\"\"}},\"scene\":{\"xaxis\":{\"backgroundcolor\":\"#E5ECF6\",\"gridcolor\":\"white\",\"gridwidth\":2,\"linecolor\":\"white\",\"showbackground\":true,\"ticks\":\"\",\"zerolinecolor\":\"white\"},\"yaxis\":{\"backgroundcolor\":\"#E5ECF6\",\"gridcolor\":\"white\",\"gridwidth\":2,\"linecolor\":\"white\",\"showbackground\":true,\"ticks\":\"\",\"zerolinecolor\":\"white\"},\"zaxis\":{\"backgroundcolor\":\"#E5ECF6\",\"gridcolor\":\"white\",\"gridwidth\":2,\"linecolor\":\"white\",\"showbackground\":true,\"ticks\":\"\",\"zerolinecolor\":\"white\"}},\"shapedefaults\":{\"line\":{\"color\":\"#2a3f5f\"}},\"ternary\":{\"aaxis\":{\"gridcolor\":\"white\",\"linecolor\":\"white\",\"ticks\":\"\"},\"baxis\":{\"gridcolor\":\"white\",\"linecolor\":\"white\",\"ticks\":\"\"},\"bgcolor\":\"#E5ECF6\",\"caxis\":{\"gridcolor\":\"white\",\"linecolor\":\"white\",\"ticks\":\"\"}},\"title\":{\"x\":0.05},\"xaxis\":{\"automargin\":true,\"gridcolor\":\"white\",\"linecolor\":\"white\",\"ticks\":\"\",\"title\":{\"standoff\":15},\"zerolinecolor\":\"white\",\"zerolinewidth\":2},\"yaxis\":{\"automargin\":true,\"gridcolor\":\"white\",\"linecolor\":\"white\",\"ticks\":\"\",\"title\":{\"standoff\":15},\"zerolinecolor\":\"white\",\"zerolinewidth\":2}}},\"xaxis\":{\"anchor\":\"y\",\"domain\":[0.0,1.0],\"title\":{\"text\":\"charges\"}},\"yaxis\":{\"anchor\":\"x\",\"domain\":[0.0,0.7326],\"title\":{\"text\":\"count\"}},\"xaxis2\":{\"anchor\":\"y2\",\"domain\":[0.0,1.0],\"matches\":\"x\",\"showticklabels\":false,\"showgrid\":true},\"yaxis2\":{\"anchor\":\"x2\",\"domain\":[0.7426,1.0],\"matches\":\"y2\",\"showticklabels\":false,\"showline\":false,\"ticks\":\"\",\"showgrid\":false},\"legend\":{\"title\":{\"text\":\"region\"},\"tracegroupgap\":0},\"title\":{\"text\":\"Annual Medical Charges\"},\"barmode\":\"relative\",\"bargap\":0.1},                        {\"responsive\": true}                    ).then(function(){\n",
              "                            \n",
              "var gd = document.getElementById('349f69aa-b555-4897-b4b7-4e07f7b09234');\n",
              "var x = new MutationObserver(function (mutations, observer) {{\n",
              "        var display = window.getComputedStyle(gd).display;\n",
              "        if (!display || display === 'none') {{\n",
              "            console.log([gd, 'removed!']);\n",
              "            Plotly.purge(gd);\n",
              "            observer.disconnect();\n",
              "        }}\n",
              "}});\n",
              "\n",
              "// Listen for the removal of the full notebook cells\n",
              "var notebookContainer = gd.closest('#notebook-container');\n",
              "if (notebookContainer) {{\n",
              "    x.observe(notebookContainer, {childList: true});\n",
              "}}\n",
              "\n",
              "// Listen for the clearing of the current output cell\n",
              "var outputEl = gd.closest('.output');\n",
              "if (outputEl) {{\n",
              "    x.observe(outputEl, {childList: true});\n",
              "}}\n",
              "\n",
              "                        })                };                            </script>        </div>\n",
              "</body>\n",
              "</html>"
            ]
          },
          "metadata": {}
        }
      ]
    },
    {
      "cell_type": "markdown",
      "source": [
        "It appears that 20% of customers have reported that they smoke. Can you verify whether this matches the national average, assuming the data was collected in 2010? We can also see that smoking appears a more common habit among males. Can you verify this?\n",
        "\n",
        "TIP:  When you're doing data analysis, you should always try to measure up to authenticated sources. Now what you have from your data about smokers, you can go to a govt website and find what you have in your dataset and match it with national averages. Is it the same stuff ballpark? or are there any discrpancies or anomalies or weird outliers in our datasets?"
      ],
      "metadata": {
        "id": "k0jz862upurI"
      }
    },
    {
      "cell_type": "markdown",
      "source": [
        "Having looked at individual columns, we can now visualize the relationship between \"charges\" (the value we wish to predict) and other columns.\n",
        "\n",
        "Age and Charges should be the most critical in figuring how health insurance costs ....\n",
        "\n",
        "**Scatterplot** - to display values for typically two variables for a set of data. Scatter plots are used to observe relationships between variables"
      ],
      "metadata": {
        "id": "ow1ip_vYxoIB"
      }
    },
    {
      "cell_type": "code",
      "source": [
        "# Creating a scatterplot to observe relationship between age and charges\n",
        "fig = px.scatter(medical_df, \n",
        "                 x='age', # age on x axis\n",
        "                 y='charges', # charges on the y axis\n",
        "                 color='smoker', # differentiate color based on smoker vs non smoker on top of the scatterplot\n",
        "                 opacity=0.8, \n",
        "                 hover_data=['sex'], # when you hover on point, what properties should be shown. You already have age, charges and smoker... so to that you also want to see sex\n",
        "                 title='Age vs. Charges')\n",
        "fig.update_traces(marker_size=5)\n",
        "fig.show()"
      ],
      "metadata": {
        "colab": {
          "base_uri": "https://localhost:8080/",
          "height": 542
        },
        "id": "lnpqpwu7wcRM",
        "outputId": "97468295-c36b-4791-f894-e90b94eba076"
      },
      "execution_count": null,
      "outputs": [
        {
          "output_type": "display_data",
          "data": {
            "text/html": [
              "<html>\n",
              "<head><meta charset=\"utf-8\" /></head>\n",
              "<body>\n",
              "    <div>            <script src=\"https://cdnjs.cloudflare.com/ajax/libs/mathjax/2.7.5/MathJax.js?config=TeX-AMS-MML_SVG\"></script><script type=\"text/javascript\">if (window.MathJax) {MathJax.Hub.Config({SVG: {font: \"STIX-Web\"}});}</script>                <script type=\"text/javascript\">window.PlotlyConfig = {MathJaxConfig: 'local'};</script>\n",
              "        <script src=\"https://cdn.plot.ly/plotly-2.8.3.min.js\"></script>                <div id=\"d4fb8004-5057-4b42-906a-2bcf3241bf2b\" class=\"plotly-graph-div\" style=\"height:525px; width:100%;\"></div>            <script type=\"text/javascript\">                                    window.PLOTLYENV=window.PLOTLYENV || {};                                    if (document.getElementById(\"d4fb8004-5057-4b42-906a-2bcf3241bf2b\")) {                    Plotly.newPlot(                        \"d4fb8004-5057-4b42-906a-2bcf3241bf2b\",                        [{\"customdata\":[[\"female\"],[\"female\"],[\"male\"],[\"male\"],[\"female\"],[\"male\"],[\"male\"],[\"male\"],[\"male\"],[\"male\"],[\"male\"],[\"male\"],[\"male\"],[\"male\"],[\"male\"],[\"female\"],[\"female\"],[\"male\"],[\"female\"],[\"male\"],[\"female\"],[\"male\"],[\"female\"],[\"male\"],[\"female\"],[\"male\"],[\"male\"],[\"female\"],[\"male\"],[\"male\"],[\"female\"],[\"male\"],[\"female\"],[\"female\"],[\"male\"],[\"male\"],[\"male\"],[\"female\"],[\"male\"],[\"male\"],[\"male\"],[\"female\"],[\"female\"],[\"female\"],[\"male\"],[\"female\"],[\"male\"],[\"male\"],[\"male\"],[\"female\"],[\"male\"],[\"female\"],[\"female\"],[\"male\"],[\"female\"],[\"male\"],[\"male\"],[\"male\"],[\"male\"],[\"female\"],[\"male\"],[\"male\"],[\"male\"],[\"male\"],[\"male\"],[\"female\"],[\"male\"],[\"female\"],[\"male\"],[\"male\"],[\"male\"],[\"male\"],[\"female\"],[\"male\"],[\"female\"],[\"male\"],[\"male\"],[\"female\"],[\"female\"],[\"male\"],[\"male\"],[\"female\"],[\"male\"],[\"female\"],[\"female\"],[\"male\"],[\"female\"],[\"male\"],[\"female\"],[\"female\"],[\"female\"],[\"female\"],[\"male\"],[\"male\"],[\"male\"],[\"female\"],[\"male\"],[\"male\"],[\"female\"],[\"male\"],[\"male\"],[\"male\"],[\"female\"],[\"male\"],[\"male\"],[\"male\"],[\"male\"],[\"male\"],[\"male\"],[\"male\"],[\"female\"],[\"male\"],[\"female\"],[\"female\"],[\"male\"],[\"female\"],[\"female\"],[\"female\"],[\"female\"],[\"female\"],[\"male\"],[\"female\"],[\"male\"],[\"female\"],[\"male\"],[\"male\"],[\"female\"],[\"male\"],[\"male\"],[\"female\"],[\"female\"],[\"male\"],[\"female\"],[\"male\"],[\"female\"],[\"male\"],[\"male\"],[\"male\"],[\"male\"],[\"female\"],[\"female\"],[\"female\"],[\"male\"],[\"female\"],[\"male\"],[\"male\"],[\"male\"],[\"male\"],[\"female\"],[\"female\"],[\"male\"],[\"male\"],[\"female\"],[\"male\"],[\"female\"],[\"male\"],[\"male\"],[\"male\"],[\"female\"],[\"female\"],[\"female\"],[\"male\"],[\"male\"],[\"male\"],[\"female\"],[\"female\"],[\"female\"],[\"female\"],[\"female\"],[\"female\"],[\"female\"],[\"male\"],[\"female\"],[\"female\"],[\"male\"],[\"male\"],[\"female\"],[\"male\"],[\"female\"],[\"male\"],[\"female\"],[\"male\"],[\"female\"],[\"male\"],[\"male\"],[\"male\"],[\"male\"],[\"male\"],[\"male\"],[\"male\"],[\"male\"],[\"male\"],[\"male\"],[\"male\"],[\"female\"],[\"female\"],[\"male\"],[\"male\"],[\"male\"],[\"male\"],[\"female\"],[\"male\"],[\"male\"],[\"female\"],[\"female\"],[\"male\"],[\"male\"],[\"female\"],[\"female\"],[\"male\"],[\"female\"],[\"male\"],[\"male\"],[\"male\"],[\"male\"],[\"male\"],[\"male\"],[\"female\"],[\"male\"],[\"female\"],[\"female\"],[\"female\"],[\"male\"],[\"female\"],[\"male\"],[\"male\"],[\"female\"],[\"female\"],[\"female\"],[\"female\"],[\"male\"],[\"female\"],[\"male\"],[\"male\"],[\"female\"],[\"female\"],[\"male\"],[\"female\"],[\"male\"],[\"female\"],[\"female\"],[\"female\"],[\"male\"],[\"female\"],[\"female\"],[\"female\"],[\"male\"],[\"female\"],[\"male\"],[\"male\"],[\"male\"],[\"male\"],[\"male\"],[\"male\"],[\"male\"],[\"male\"],[\"male\"],[\"female\"],[\"female\"],[\"male\"],[\"male\"],[\"male\"],[\"male\"],[\"male\"],[\"male\"],[\"male\"],[\"female\"],[\"male\"],[\"female\"],[\"female\"],[\"female\"],[\"male\"],[\"female\"],[\"female\"]],\"hovertemplate\":\"smoker=yes<br>age=%{x}<br>charges=%{y}<br>sex=%{customdata[0]}<extra></extra>\",\"legendgroup\":\"yes\",\"marker\":{\"color\":\"#636efa\",\"opacity\":0.8,\"symbol\":\"circle\",\"size\":5},\"mode\":\"markers\",\"name\":\"yes\",\"showlegend\":true,\"x\":[19,62,27,30,34,31,22,28,35,60,36,48,36,58,18,53,20,28,27,22,37,45,57,59,64,56,38,61,20,63,29,44,19,32,34,30,46,42,48,18,30,42,18,63,36,27,35,19,42,40,19,23,63,18,63,54,50,56,19,20,52,19,46,40,50,40,54,59,25,19,47,31,53,43,27,34,45,64,61,52,50,19,26,23,39,24,27,55,44,26,36,63,64,61,40,33,56,42,30,54,61,24,44,21,29,51,19,39,42,57,54,49,43,35,48,31,34,21,19,59,30,47,49,19,37,18,44,39,42,52,64,43,40,62,44,60,39,27,41,51,30,29,35,37,23,29,27,53,37,47,18,33,19,30,50,53,27,33,18,47,33,56,36,41,23,57,60,37,46,49,48,25,37,51,32,57,64,47,43,60,32,18,43,45,37,25,51,44,34,54,43,51,29,31,24,27,30,24,47,43,22,47,19,46,55,18,22,45,35,20,43,22,49,47,59,37,28,39,47,22,51,33,38,48,25,33,23,53,23,19,60,43,19,18,43,52,31,23,20,43,19,18,36,37,46,20,52,20,52,64,32,24,20,64,24,26,39,47,18,61,20,19,45,62,43,42,29,32,25,19,30,62,42,61],\"xaxis\":\"x\",\"y\":[16884.924,27808.7251,39611.7577,36837.467,37701.8768,38711.0,35585.576,51194.55914,39774.2763,48173.361,38709.176,23568.272,37742.5757,47496.49445,34303.1672,23244.7902,14711.7438,17663.1442,16577.7795,37165.1638,39836.519,21098.55405,43578.9394,30184.9367,47291.055,22412.6485,15820.699,30942.1918,17560.37975,47055.5321,19107.7796,39556.4945,17081.08,32734.1863,18972.495,20745.9891,40720.55105,19964.7463,21223.6758,15518.18025,36950.2567,21348.706,36149.4835,48824.45,43753.33705,37133.8982,20984.0936,34779.615,19515.5416,19444.2658,17352.6803,38511.6283,29523.1656,12829.4551,47305.305,44260.7499,41097.16175,43921.1837,33750.2918,17085.2676,24869.8368,36219.40545,46151.1245,17179.522,42856.838,22331.5668,48549.17835,47896.79135,42112.2356,16297.846,21978.6769,38746.3551,24873.3849,42124.5153,34838.873,35491.64,42760.5022,47928.03,48517.56315,24393.6224,41919.097,13844.506,36085.219,18033.9679,21659.9301,38126.2465,15006.57945,42303.69215,19594.80965,14455.64405,18608.262,28950.4692,46889.2612,46599.1084,39125.33225,37079.372,26109.32905,22144.032,19521.9682,25382.297,28868.6639,35147.52848,48885.13561,17942.106,36197.699,22218.1149,32548.3405,21082.16,38245.59327,48675.5177,63770.42801,23807.2406,45863.205,39983.42595,45702.02235,58571.07448,43943.8761,15359.1045,17468.9839,25678.77845,39241.442,42969.8527,23306.547,34439.8559,40182.246,34617.84065,42983.4585,20149.3229,32787.45859,24667.419,27037.9141,42560.4304,40003.33225,45710.20785,46200.9851,46130.5265,40103.89,34806.4677,40273.6455,44400.4064,40932.4295,16657.71745,19361.9988,40419.0191,36189.1017,44585.45587,18246.4955,43254.41795,19539.243,23065.4207,36307.7983,19040.876,17748.5062,18259.216,24520.264,21195.818,18310.742,17904.52705,38792.6856,23401.30575,55135.40209,43813.8661,20773.62775,39597.4072,36021.0112,27533.9129,45008.9555,37270.1512,42111.6647,24106.91255,40974.1649,15817.9857,46113.511,46255.1125,19719.6947,27218.43725,29330.98315,44202.6536,19798.05455,48673.5588,17496.306,33732.6867,21774.32215,35069.37452,39047.285,19933.458,47462.894,38998.546,20009.63365,41999.52,41034.2214,23967.38305,16138.76205,19199.944,14571.8908,16420.49455,17361.7661,34472.841,24915.22085,18767.7377,35595.5898,42211.1382,16450.8947,21677.28345,44423.803,13747.87235,37484.4493,39725.51805,20234.85475,33475.81715,21880.82,44501.3982,39727.614,25309.489,48970.2476,39871.7043,34672.1472,19023.26,41676.0811,33907.548,44641.1974,16776.30405,41949.2441,24180.9335,36124.5737,38282.7495,34166.273,46661.4424,40904.1995,36898.73308,52590.82939,40941.2854,39722.7462,17178.6824,22478.6,23887.6627,19350.3689,18328.2381,37465.34375,21771.3423,33307.5508,18223.4512,38415.474,20296.86345,41661.602,26125.67477,60021.39897,20167.33603,47269.854,49577.6624,37607.5277,18648.4217,16232.847,26926.5144,34254.05335,17043.3414,22462.04375,24535.69855,14283.4594,47403.88,38344.566,34828.654,62592.87309,46718.16325,37829.7242,21259.37795,16115.3045,21472.4788,33900.653,36397.576,18765.87545,28101.33305,43896.3763,29141.3603],\"yaxis\":\"y\",\"type\":\"scattergl\"},{\"customdata\":[[\"male\"],[\"male\"],[\"male\"],[\"male\"],[\"female\"],[\"female\"],[\"female\"],[\"male\"],[\"female\"],[\"male\"],[\"male\"],[\"female\"],[\"male\"],[\"female\"],[\"male\"],[\"male\"],[\"female\"],[\"female\"],[\"male\"],[\"male\"],[\"female\"],[\"female\"],[\"female\"],[\"male\"],[\"female\"],[\"female\"],[\"male\"],[\"male\"],[\"female\"],[\"male\"],[\"female\"],[\"female\"],[\"male\"],[\"female\"],[\"male\"],[\"male\"],[\"female\"],[\"female\"],[\"female\"],[\"female\"],[\"female\"],[\"female\"],[\"female\"],[\"female\"],[\"male\"],[\"male\"],[\"male\"],[\"female\"],[\"female\"],[\"female\"],[\"male\"],[\"female\"],[\"male\"],[\"female\"],[\"male\"],[\"male\"],[\"male\"],[\"female\"],[\"male\"],[\"female\"],[\"female\"],[\"male\"],[\"female\"],[\"female\"],[\"female\"],[\"female\"],[\"female\"],[\"female\"],[\"female\"],[\"male\"],[\"female\"],[\"female\"],[\"male\"],[\"female\"],[\"male\"],[\"female\"],[\"female\"],[\"female\"],[\"male\"],[\"male\"],[\"male\"],[\"female\"],[\"male\"],[\"female\"],[\"male\"],[\"male\"],[\"male\"],[\"female\"],[\"female\"],[\"male\"],[\"male\"],[\"female\"],[\"female\"],[\"female\"],[\"female\"],[\"male\"],[\"female\"],[\"female\"],[\"female\"],[\"male\"],[\"female\"],[\"female\"],[\"male\"],[\"male\"],[\"female\"],[\"female\"],[\"male\"],[\"male\"],[\"male\"],[\"female\"],[\"female\"],[\"female\"],[\"male\"],[\"male\"],[\"male\"],[\"female\"],[\"female\"],[\"male\"],[\"female\"],[\"male\"],[\"female\"],[\"male\"],[\"male\"],[\"female\"],[\"female\"],[\"female\"],[\"male\"],[\"male\"],[\"male\"],[\"male\"],[\"female\"],[\"female\"],[\"male\"],[\"male\"],[\"female\"],[\"female\"],[\"male\"],[\"female\"],[\"male\"],[\"female\"],[\"male\"],[\"female\"],[\"female\"],[\"female\"],[\"female\"],[\"male\"],[\"female\"],[\"male\"],[\"female\"],[\"male\"],[\"male\"],[\"female\"],[\"female\"],[\"female\"],[\"female\"],[\"female\"],[\"female\"],[\"female\"],[\"male\"],[\"female\"],[\"male\"],[\"female\"],[\"male\"],[\"male\"],[\"male\"],[\"male\"],[\"female\"],[\"female\"],[\"female\"],[\"female\"],[\"male\"],[\"female\"],[\"female\"],[\"female\"],[\"female\"],[\"male\"],[\"male\"],[\"male\"],[\"female\"],[\"female\"],[\"male\"],[\"female\"],[\"female\"],[\"female\"],[\"male\"],[\"male\"],[\"female\"],[\"male\"],[\"male\"],[\"female\"],[\"female\"],[\"male\"],[\"male\"],[\"female\"],[\"male\"],[\"male\"],[\"male\"],[\"male\"],[\"female\"],[\"female\"],[\"male\"],[\"female\"],[\"female\"],[\"female\"],[\"male\"],[\"male\"],[\"male\"],[\"male\"],[\"male\"],[\"male\"],[\"female\"],[\"male\"],[\"female\"],[\"male\"],[\"female\"],[\"male\"],[\"female\"],[\"female\"],[\"male\"],[\"female\"],[\"female\"],[\"male\"],[\"female\"],[\"male\"],[\"female\"],[\"male\"],[\"male\"],[\"female\"],[\"male\"],[\"female\"],[\"female\"],[\"female\"],[\"male\"],[\"female\"],[\"female\"],[\"male\"],[\"female\"],[\"male\"],[\"female\"],[\"male\"],[\"male\"],[\"male\"],[\"male\"],[\"female\"],[\"male\"],[\"male\"],[\"female\"],[\"male\"],[\"male\"],[\"male\"],[\"female\"],[\"male\"],[\"female\"],[\"female\"],[\"female\"],[\"male\"],[\"male\"],[\"male\"],[\"female\"],[\"female\"],[\"male\"],[\"female\"],[\"male\"],[\"female\"],[\"female\"],[\"male\"],[\"male\"],[\"female\"],[\"male\"],[\"female\"],[\"female\"],[\"female\"],[\"male\"],[\"female\"],[\"male\"],[\"male\"],[\"male\"],[\"male\"],[\"female\"],[\"female\"],[\"male\"],[\"female\"],[\"female\"],[\"female\"],[\"female\"],[\"female\"],[\"male\"],[\"male\"],[\"female\"],[\"female\"],[\"female\"],[\"male\"],[\"female\"],[\"male\"],[\"male\"],[\"female\"],[\"male\"],[\"male\"],[\"female\"],[\"male\"],[\"female\"],[\"female\"],[\"male\"],[\"female\"],[\"male\"],[\"male\"],[\"female\"],[\"male\"],[\"female\"],[\"male\"],[\"male\"],[\"female\"],[\"female\"],[\"male\"],[\"female\"],[\"male\"],[\"male\"],[\"female\"],[\"female\"],[\"female\"],[\"male\"],[\"male\"],[\"male\"],[\"male\"],[\"female\"],[\"female\"],[\"male\"],[\"male\"],[\"male\"],[\"male\"],[\"male\"],[\"female\"],[\"female\"],[\"female\"],[\"female\"],[\"male\"],[\"female\"],[\"male\"],[\"female\"],[\"male\"],[\"male\"],[\"male\"],[\"male\"],[\"female\"],[\"male\"],[\"female\"],[\"male\"],[\"female\"],[\"female\"],[\"male\"],[\"female\"],[\"female\"],[\"male\"],[\"male\"],[\"male\"],[\"male\"],[\"male\"],[\"male\"],[\"male\"],[\"female\"],[\"female\"],[\"male\"],[\"female\"],[\"female\"],[\"female\"],[\"male\"],[\"male\"],[\"female\"],[\"female\"],[\"female\"],[\"female\"],[\"male\"],[\"female\"],[\"female\"],[\"female\"],[\"male\"],[\"male\"],[\"male\"],[\"male\"],[\"male\"],[\"female\"],[\"female\"],[\"male\"],[\"female\"],[\"female\"],[\"male\"],[\"male\"],[\"female\"],[\"female\"],[\"female\"],[\"male\"],[\"male\"],[\"female\"],[\"male\"],[\"female\"],[\"female\"],[\"male\"],[\"female\"],[\"male\"],[\"male\"],[\"male\"],[\"female\"],[\"female\"],[\"male\"],[\"male\"],[\"male\"],[\"male\"],[\"male\"],[\"male\"],[\"male\"],[\"female\"],[\"male\"],[\"female\"],[\"female\"],[\"female\"],[\"female\"],[\"female\"],[\"female\"],[\"female\"],[\"male\"],[\"male\"],[\"female\"],[\"male\"],[\"male\"],[\"male\"],[\"male\"],[\"female\"],[\"female\"],[\"female\"],[\"male\"],[\"female\"],[\"female\"],[\"female\"],[\"male\"],[\"male\"],[\"female\"],[\"female\"],[\"male\"],[\"female\"],[\"male\"],[\"female\"],[\"female\"],[\"male\"],[\"male\"],[\"male\"],[\"male\"],[\"female\"],[\"female\"],[\"male\"],[\"male\"],[\"female\"],[\"female\"],[\"female\"],[\"male\"],[\"female\"],[\"female\"],[\"female\"],[\"female\"],[\"female\"],[\"female\"],[\"female\"],[\"male\"],[\"male\"],[\"female\"],[\"male\"],[\"male\"],[\"male\"],[\"female\"],[\"male\"],[\"female\"],[\"male\"],[\"female\"],[\"female\"],[\"female\"],[\"male\"],[\"male\"],[\"male\"],[\"female\"],[\"female\"],[\"female\"],[\"male\"],[\"female\"],[\"female\"],[\"male\"],[\"female\"],[\"female\"],[\"female\"],[\"female\"],[\"male\"],[\"female\"],[\"female\"],[\"female\"],[\"female\"],[\"female\"],[\"female\"],[\"female\"],[\"male\"],[\"female\"],[\"male\"],[\"female\"],[\"male\"],[\"male\"],[\"male\"],[\"male\"],[\"male\"],[\"female\"],[\"male\"],[\"male\"],[\"male\"],[\"female\"],[\"female\"],[\"male\"],[\"male\"],[\"male\"],[\"female\"],[\"male\"],[\"male\"],[\"male\"],[\"female\"],[\"male\"],[\"female\"],[\"female\"],[\"female\"],[\"female\"],[\"female\"],[\"female\"],[\"female\"],[\"male\"],[\"female\"],[\"female\"],[\"male\"],[\"female\"],[\"female\"],[\"male\"],[\"male\"],[\"female\"],[\"male\"],[\"female\"],[\"male\"],[\"female\"],[\"male\"],[\"female\"],[\"male\"],[\"female\"],[\"female\"],[\"male\"],[\"male\"],[\"female\"],[\"male\"],[\"male\"],[\"male\"],[\"female\"],[\"male\"],[\"male\"],[\"male\"],[\"male\"],[\"female\"],[\"female\"],[\"female\"],[\"male\"],[\"female\"],[\"female\"],[\"female\"],[\"male\"],[\"female\"],[\"female\"],[\"female\"],[\"male\"],[\"female\"],[\"female\"],[\"male\"],[\"female\"],[\"female\"],[\"male\"],[\"female\"],[\"male\"],[\"female\"],[\"male\"],[\"female\"],[\"female\"],[\"female\"],[\"male\"],[\"male\"],[\"male\"],[\"female\"],[\"male\"],[\"female\"],[\"female\"],[\"male\"],[\"female\"],[\"female\"],[\"female\"],[\"female\"],[\"male\"],[\"male\"],[\"female\"],[\"male\"],[\"female\"],[\"male\"],[\"male\"],[\"female\"],[\"male\"],[\"male\"],[\"male\"],[\"female\"],[\"male\"],[\"male\"],[\"female\"],[\"male\"],[\"female\"],[\"male\"],[\"male\"],[\"female\"],[\"female\"],[\"male\"],[\"female\"],[\"female\"],[\"female\"],[\"male\"],[\"female\"],[\"female\"],[\"male\"],[\"male\"],[\"male\"],[\"male\"],[\"male\"],[\"male\"],[\"male\"],[\"male\"],[\"female\"],[\"female\"],[\"male\"],[\"male\"],[\"male\"],[\"female\"],[\"female\"],[\"male\"],[\"female\"],[\"female\"],[\"male\"],[\"female\"],[\"female\"],[\"female\"],[\"female\"],[\"male\"],[\"male\"],[\"female\"],[\"female\"],[\"female\"],[\"male\"],[\"male\"],[\"female\"],[\"female\"],[\"male\"],[\"male\"],[\"male\"],[\"female\"],[\"female\"],[\"male\"],[\"male\"],[\"male\"],[\"female\"],[\"female\"],[\"male\"],[\"female\"],[\"male\"],[\"male\"],[\"female\"],[\"female\"],[\"male\"],[\"male\"],[\"male\"],[\"male\"],[\"female\"],[\"female\"],[\"female\"],[\"male\"],[\"male\"],[\"male\"],[\"female\"],[\"male\"],[\"female\"],[\"male\"],[\"male\"],[\"female\"],[\"female\"],[\"female\"],[\"male\"],[\"female\"],[\"female\"],[\"female\"],[\"male\"],[\"male\"],[\"male\"],[\"male\"],[\"male\"],[\"female\"],[\"male\"],[\"female\"],[\"male\"],[\"male\"],[\"male\"],[\"female\"],[\"female\"],[\"male\"],[\"male\"],[\"female\"],[\"male\"],[\"male\"],[\"female\"],[\"male\"],[\"female\"],[\"male\"],[\"male\"],[\"female\"],[\"male\"],[\"male\"],[\"female\"],[\"male\"],[\"female\"],[\"female\"],[\"male\"],[\"male\"],[\"male\"],[\"female\"],[\"female\"],[\"male\"],[\"female\"],[\"male\"],[\"male\"],[\"female\"],[\"female\"],[\"male\"],[\"female\"],[\"female\"],[\"female\"],[\"female\"],[\"female\"],[\"male\"],[\"male\"],[\"male\"],[\"male\"],[\"female\"],[\"female\"],[\"female\"],[\"male\"],[\"male\"],[\"female\"],[\"male\"],[\"female\"],[\"male\"],[\"female\"],[\"male\"],[\"female\"],[\"male\"],[\"male\"],[\"male\"],[\"female\"],[\"female\"],[\"male\"],[\"male\"],[\"female\"],[\"male\"],[\"male\"],[\"male\"],[\"female\"],[\"male\"],[\"male\"],[\"male\"],[\"female\"],[\"female\"],[\"female\"],[\"male\"],[\"male\"],[\"male\"],[\"male\"],[\"male\"],[\"female\"],[\"female\"],[\"female\"],[\"female\"],[\"female\"],[\"male\"],[\"male\"],[\"male\"],[\"female\"],[\"female\"],[\"male\"],[\"male\"],[\"female\"],[\"male\"],[\"female\"],[\"male\"],[\"female\"],[\"male\"],[\"female\"],[\"female\"],[\"female\"],[\"male\"],[\"female\"],[\"female\"],[\"female\"],[\"female\"],[\"female\"],[\"male\"],[\"male\"],[\"male\"],[\"male\"],[\"male\"],[\"male\"],[\"male\"],[\"female\"],[\"female\"],[\"male\"],[\"female\"],[\"male\"],[\"female\"],[\"female\"],[\"female\"],[\"female\"],[\"male\"],[\"male\"],[\"female\"],[\"female\"],[\"male\"],[\"male\"],[\"female\"],[\"female\"],[\"male\"],[\"female\"],[\"male\"],[\"male\"],[\"male\"],[\"female\"],[\"male\"],[\"female\"],[\"female\"],[\"female\"],[\"male\"],[\"male\"],[\"female\"],[\"male\"],[\"female\"],[\"female\"],[\"female\"],[\"male\"],[\"male\"],[\"male\"],[\"male\"],[\"female\"],[\"female\"],[\"male\"],[\"male\"],[\"male\"],[\"female\"],[\"male\"],[\"male\"],[\"female\"],[\"female\"],[\"female\"],[\"female\"],[\"male\"],[\"male\"],[\"male\"],[\"male\"],[\"male\"],[\"male\"],[\"female\"],[\"male\"],[\"male\"],[\"male\"],[\"male\"],[\"female\"],[\"male\"],[\"female\"],[\"female\"],[\"male\"],[\"female\"],[\"female\"],[\"male\"],[\"male\"],[\"male\"],[\"male\"],[\"female\"],[\"female\"],[\"female\"],[\"male\"],[\"male\"],[\"female\"],[\"female\"],[\"male\"],[\"male\"],[\"male\"],[\"female\"],[\"male\"],[\"female\"],[\"female\"],[\"male\"],[\"female\"],[\"male\"],[\"female\"],[\"female\"],[\"male\"],[\"male\"],[\"female\"],[\"male\"],[\"female\"],[\"female\"],[\"female\"],[\"male\"],[\"male\"],[\"female\"],[\"female\"],[\"male\"],[\"male\"],[\"male\"],[\"female\"],[\"male\"],[\"male\"],[\"female\"],[\"female\"],[\"female\"],[\"female\"],[\"female\"],[\"female\"],[\"female\"],[\"female\"],[\"female\"],[\"male\"],[\"male\"],[\"female\"],[\"female\"],[\"female\"],[\"male\"],[\"female\"],[\"male\"],[\"female\"],[\"female\"],[\"male\"],[\"male\"],[\"female\"],[\"female\"],[\"female\"],[\"female\"],[\"female\"],[\"female\"],[\"female\"],[\"male\"],[\"female\"],[\"female\"],[\"female\"],[\"female\"],[\"female\"],[\"female\"],[\"female\"],[\"female\"],[\"male\"],[\"male\"],[\"female\"],[\"male\"],[\"male\"],[\"male\"],[\"male\"],[\"male\"],[\"female\"],[\"male\"],[\"male\"],[\"male\"],[\"male\"],[\"female\"],[\"female\"],[\"male\"],[\"male\"],[\"male\"],[\"female\"],[\"female\"],[\"male\"],[\"male\"],[\"male\"],[\"female\"],[\"male\"],[\"male\"],[\"male\"],[\"male\"],[\"female\"],[\"male\"],[\"female\"],[\"male\"],[\"female\"],[\"female\"],[\"male\"],[\"female\"],[\"female\"],[\"female\"],[\"male\"],[\"male\"],[\"female\"],[\"male\"],[\"female\"],[\"male\"],[\"female\"],[\"female\"],[\"female\"],[\"female\"],[\"female\"],[\"male\"],[\"female\"],[\"female\"],[\"male\"],[\"female\"],[\"female\"],[\"female\"],[\"female\"],[\"female\"],[\"male\"],[\"male\"],[\"female\"],[\"male\"],[\"male\"],[\"male\"],[\"female\"],[\"female\"],[\"female\"],[\"female\"],[\"male\"],[\"female\"],[\"female\"],[\"female\"],[\"male\"],[\"female\"],[\"male\"],[\"male\"],[\"male\"],[\"male\"],[\"male\"],[\"female\"],[\"male\"],[\"female\"],[\"female\"],[\"female\"],[\"male\"],[\"male\"],[\"female\"],[\"male\"],[\"male\"],[\"female\"],[\"male\"],[\"male\"],[\"female\"],[\"male\"],[\"male\"],[\"male\"],[\"male\"],[\"female\"],[\"male\"],[\"female\"],[\"male\"],[\"female\"],[\"female\"],[\"female\"],[\"male\"],[\"female\"],[\"female\"],[\"female\"]],\"hovertemplate\":\"smoker=no<br>age=%{x}<br>charges=%{y}<br>sex=%{customdata[0]}<extra></extra>\",\"legendgroup\":\"no\",\"marker\":{\"color\":\"#EF553B\",\"opacity\":0.8,\"symbol\":\"circle\",\"size\":5},\"mode\":\"markers\",\"name\":\"no\",\"showlegend\":true,\"x\":[18,28,33,32,31,46,37,37,60,25,23,56,19,52,23,56,60,30,18,37,59,63,55,23,18,19,63,19,62,26,24,31,41,37,38,55,18,28,60,18,21,40,58,34,43,25,64,28,19,61,40,40,31,53,58,44,57,29,21,22,41,31,45,48,56,46,55,21,53,35,28,54,55,41,30,18,34,19,26,29,54,55,37,21,52,60,58,49,37,44,18,20,47,26,52,38,59,61,53,19,20,22,19,22,54,22,34,26,29,29,51,53,19,35,48,32,40,44,50,54,32,37,47,20,32,19,27,63,49,18,35,24,38,54,46,41,58,18,22,44,44,26,30,41,29,61,36,25,56,18,19,39,45,51,64,19,48,60,46,28,59,63,40,20,40,24,34,45,41,53,27,26,24,34,53,32,55,28,58,41,47,42,59,19,59,39,18,31,44,33,55,40,54,60,24,19,29,27,55,38,51,58,53,59,45,49,18,41,50,25,47,19,22,59,51,30,55,52,46,46,63,52,28,29,22,25,18,48,36,56,28,57,29,28,30,58,41,50,19,49,52,50,54,44,32,34,26,57,29,40,27,52,61,56,43,64,60,62,46,24,62,60,63,49,34,33,46,36,19,57,50,30,33,18,46,46,47,23,18,48,35,21,21,49,56,42,44,18,61,57,42,20,64,62,55,35,44,19,58,50,26,24,48,19,48,49,46,46,43,21,64,18,51,47,64,49,31,52,33,47,38,32,19,25,19,43,52,64,25,48,45,38,18,21,27,19,29,42,60,31,60,22,35,52,26,31,18,59,45,60,56,40,35,39,30,24,20,32,59,55,57,56,40,49,62,56,19,60,56,28,18,27,18,19,47,25,21,23,63,49,18,51,48,31,54,19,53,19,61,18,61,20,31,45,44,62,43,38,37,22,21,24,57,56,27,51,19,58,20,45,35,31,50,32,51,38,18,19,51,46,18,62,59,37,64,38,33,46,46,53,34,20,63,54,28,54,25,63,32,62,52,25,28,46,34,19,46,54,27,50,18,19,38,41,49,31,18,30,62,57,58,22,52,25,59,19,39,32,19,33,21,61,38,58,47,20,41,46,42,34,43,52,18,51,56,64,51,27,28,47,38,18,34,20,56,55,30,49,59,29,36,33,58,53,24,29,40,51,64,19,35,56,33,61,23,43,48,39,40,18,58,49,53,48,45,59,26,27,48,57,37,57,32,18,49,40,30,29,36,41,45,55,56,49,21,19,53,33,53,42,40,47,21,47,20,24,27,26,53,56,23,21,50,53,34,47,33,49,31,36,18,50,43,20,24,60,49,60,51,58,51,53,62,19,50,41,18,41,53,24,48,59,49,26,45,31,50,50,34,19,47,28,21,64,58,24,31,39,30,22,23,27,45,57,47,42,64,38,61,53,44,41,51,40,45,35,53,18,51,31,35,60,21,29,62,39,19,22,39,30,30,58,42,64,21,23,45,40,19,18,25,46,33,54,28,36,20,24,23,45,26,18,44,60,64,39,63,36,28,58,36,42,36,56,35,59,21,59,53,51,23,27,55,61,53,20,25,57,38,55,36,51,40,18,57,61,25,50,26,42,43,44,23,49,33,41,37,22,23,21,25,36,22,57,36,54,62,61,19,18,19,49,26,49,60,26,27,44,63,22,59,44,33,24,61,35,62,62,38,34,43,50,19,57,62,41,26,39,46,45,32,59,44,39,18,53,18,50,18,19,62,56,42,42,57,30,31,24,48,19,29,63,46,52,35,44,21,39,50,34,22,19,26,48,26,45,36,54,34,27,20,44,43,45,34,26,38,50,38,39,39,63,33,36,24,48,47,29,28,25,51,48,61,48,38,59,19,26,54,21,51,18,47,21,23,54,37,30,61,54,22,19,18,28,55,43,25,44,64,49,27,55,48,45,24,32,24,57,36,29,42,48,39,63,54,63,21,54,60,32,47,21,63,18,32,38,32,62,55,57,52,56,55,23,50,18,22,52,25,53,29,58,37,54,49,50,26,45,54,28,23,55,41,30,46,27,63,55,35,34,19,39,27,57,52,28,50,44,26,33,50,41,52,39,50,52,20,55,42,18,58,35,48,36,23,20,32,43,34,30,18,41,35,57,29,32,37,56,38,29,22,40,23,42,24,25,48,45,62,23,31,41,58,48,31,19,41,40,31,37,46,22,51,35,59,59,36,39,18,52,27,18,40,29,38,30,40,50,41,33,38,42,56,58,54,58,45,26,63,58,37,25,22,28,18,28,45,33,18,19,40,34,42,51,54,55,52,32,28,41,43,49,55,20,45,26,25,43,35,57,22,32,25,48,18,47,28,36,44,38,21,46,58,20,18,28,33,19,25,24,41,42,33,34,18,19,18,35,39,31,62,31,61,42,51,23,52,57,23,52,50,18,18,21],\"xaxis\":\"x\",\"y\":[1725.5523,4449.462,21984.47061,3866.8552,3756.6216,8240.5896,7281.5056,6406.4107,28923.13692,2721.3208,1826.843,11090.7178,1837.237,10797.3362,2395.17155,10602.385,13228.84695,4149.736,1137.011,6203.90175,14001.1338,14451.83515,12268.63225,2775.19215,2198.18985,4687.797,13770.0979,1625.43375,15612.19335,2302.3,3046.062,4949.7587,6272.4772,6313.759,6079.6715,20630.28351,3393.35635,3556.9223,12629.8967,2211.13075,3579.8287,8059.6791,13607.36875,5989.52365,8606.2174,4504.6624,30166.61817,4133.64165,1743.214,14235.072,6389.37785,5920.1041,6799.458,11741.726,11946.6259,7726.854,11356.6609,3947.4131,1532.4697,2755.02095,6571.02435,4441.21315,7935.29115,11033.6617,11073.176,8026.6666,11082.5772,2026.9741,10942.13205,5729.0053,3766.8838,12105.32,10226.2842,6186.127,3645.0894,21344.8467,5003.853,2331.519,3877.30425,2867.1196,10825.2537,11881.358,4646.759,2404.7338,11488.31695,30259.99556,11381.3254,8601.3293,6686.4313,7740.337,1705.6245,2257.47525,10115.00885,3385.39915,9634.538,6082.405,12815.44495,13616.3586,11163.568,1632.56445,2457.21115,2155.6815,1261.442,2045.68525,27322.73386,2166.732,27375.90478,3490.5491,18157.876,5138.2567,9877.6077,10959.6947,1842.519,5125.2157,7789.635,6334.34355,7077.1894,6948.7008,19749.38338,10450.552,5152.134,5028.1466,10407.08585,4830.63,6128.79745,2719.27975,4827.90495,13405.3903,8116.68,1694.7964,5246.047,2855.43755,6455.86265,10436.096,8823.279,8538.28845,11735.87905,1631.8212,4005.4225,7419.4779,7731.4271,3981.9768,5325.651,6775.961,4922.9159,12557.6053,4883.866,2137.6536,12044.342,1137.4697,1639.5631,5649.715,8516.829,9644.2525,14901.5167,2130.6759,8871.1517,13012.20865,7147.105,4337.7352,11743.299,13880.949,6610.1097,1980.07,8162.71625,3537.703,5002.7827,8520.026,7371.772,10355.641,2483.736,3392.9768,25081.76784,5012.471,10564.8845,5253.524,11987.1682,2689.4954,24227.33724,7358.17565,9225.2564,7443.64305,14001.2867,1727.785,12333.828,6710.1919,1615.7667,4463.2051,7152.6714,5354.07465,35160.13457,7196.867,24476.47851,12648.7034,1986.9334,1832.094,4040.55825,4260.744,13047.33235,5400.9805,11520.09985,11837.16,20462.99766,14590.63205,7441.053,9282.4806,1719.4363,7265.7025,9617.66245,2523.1695,9715.841,2803.69785,2150.469,12928.7911,9855.1314,4237.12655,11879.10405,9625.92,7742.1098,9432.9253,14256.1928,25992.82104,3172.018,20277.80751,2156.7518,3906.127,1704.5681,9249.4952,6746.7425,12265.5069,4349.462,12646.207,19442.3535,20177.67113,4151.0287,11944.59435,7749.1564,8444.474,1737.376,8124.4084,9722.7695,8835.26495,10435.06525,7421.19455,4667.60765,4894.7533,24671.66334,11566.30055,2866.091,6600.20595,3561.8889,9144.565,13429.0354,11658.37915,19144.57652,13822.803,12142.5786,13937.6665,8232.6388,18955.22017,13352.0998,13217.0945,13981.85035,10977.2063,6184.2994,4889.9995,8334.45755,5478.0368,1635.73365,11830.6072,8932.084,3554.203,12404.8791,14133.03775,24603.04837,8944.1151,9620.3307,1837.2819,1607.5101,10043.249,4751.07,2597.779,3180.5101,9778.3472,13430.265,8017.06115,8116.26885,3481.868,13415.0381,12029.2867,7639.41745,1391.5287,16455.70785,27000.98473,20781.48892,5846.9176,8302.53565,1261.859,11856.4115,30284.64294,3176.8159,4618.0799,10736.87075,2138.0707,8964.06055,9290.1395,9411.005,7526.70645,8522.003,16586.49771,14988.432,1631.6683,9264.797,8083.9198,14692.66935,10269.46,3260.199,11396.9002,4185.0979,8539.671,6652.5288,4074.4537,1621.3402,5080.096,2134.9015,7345.7266,9140.951,14418.2804,2727.3951,8968.33,9788.8659,6555.07035,7323.734819,3167.45585,18804.7524,23082.95533,4906.40965,5969.723,12638.195,4243.59005,13919.8229,2254.7967,5926.846,12592.5345,2897.3235,4738.2682,1149.3959,28287.89766,7345.084,12730.9996,11454.0215,5910.944,4762.329,7512.267,4032.2407,1969.614,1769.53165,4686.3887,21797.0004,11881.9696,11840.77505,10601.412,7682.67,10381.4787,15230.32405,11165.41765,1632.03625,13224.693,12643.3778,23288.9284,2201.0971,2497.0383,2203.47185,1744.465,20878.78443,2534.39375,1534.3045,1824.2854,15555.18875,9304.7019,1622.1885,9880.068,9563.029,4347.02335,12475.3513,1253.936,10461.9794,1748.774,24513.09126,2196.4732,12574.049,1967.0227,4931.647,8027.968,8211.1002,13470.86,6837.3687,5974.3847,6796.86325,2643.2685,3077.0955,3044.2133,11455.28,11763.0009,2498.4144,9361.3268,1256.299,11362.755,27724.28875,8413.46305,5240.765,3857.75925,25656.57526,3994.1778,9866.30485,5397.6167,11482.63485,24059.68019,9861.025,8342.90875,1708.0014,14043.4767,12925.886,19214.70553,13831.1152,6067.12675,5972.378,8825.086,8233.0975,27346.04207,6196.448,3056.3881,13887.204,10231.4999,3268.84665,11538.421,3213.62205,13390.559,3972.9247,12957.118,11187.6567,17878.90068,3847.674,8334.5896,3935.1799,1646.4297,9193.8385,10923.9332,2494.022,9058.7303,2801.2588,2128.43105,6373.55735,7256.7231,11552.904,3761.292,2219.4451,4753.6368,31620.00106,13224.05705,12222.8983,1664.9996,9724.53,3206.49135,12913.9924,1639.5631,6356.2707,17626.23951,1242.816,4779.6023,3861.20965,13635.6379,5976.8311,11842.442,8428.0693,2566.4707,5709.1644,8823.98575,7640.3092,5594.8455,7441.501,33471.97189,1633.0444,9174.13565,11070.535,16085.1275,9283.562,3558.62025,4435.0942,8547.6913,6571.544,2207.69745,6753.038,1880.07,11658.11505,10713.644,3659.346,9182.17,12129.61415,3736.4647,6748.5912,11326.71487,11365.952,10085.846,1977.815,3366.6697,7173.35995,9391.346,14410.9321,2709.1119,24915.04626,12949.1554,6666.243,13143.86485,4466.6214,18806.14547,10141.1362,6123.5688,8252.2843,1712.227,12430.95335,9800.8882,10579.711,8280.6227,8527.532,12244.531,3410.324,4058.71245,26392.26029,14394.39815,6435.6237,22192.43711,5148.5526,1136.3994,8703.456,6500.2359,4837.5823,3943.5954,4399.731,6185.3208,7222.78625,12485.8009,12363.547,10156.7832,2585.269,1242.26,9863.4718,4766.022,11244.3769,7729.64575,5438.7491,26236.57997,2104.1134,8068.185,2362.22905,2352.96845,3577.999,3201.24515,29186.48236,10976.24575,3500.6123,2020.5523,9541.69555,9504.3103,5385.3379,8930.93455,5375.038,10264.4421,6113.23105,5469.0066,1727.54,10107.2206,8310.83915,1984.4533,2457.502,12146.971,9566.9909,13112.6048,10848.1343,12231.6136,9875.6804,11264.541,12979.358,1263.249,10106.13425,6664.68595,2217.6012,6781.3542,10065.413,4234.927,9447.25035,14007.222,9583.8933,3484.331,8604.48365,3757.8448,8827.2099,9910.35985,11737.84884,1627.28245,8556.907,3062.50825,1906.35825,14210.53595,11833.7823,17128.42608,5031.26955,7985.815,5428.7277,3925.7582,2416.955,3070.8087,9095.06825,11842.62375,8062.764,7050.642,14319.031,6933.24225,27941.28758,11150.78,12797.20962,7261.741,10560.4917,6986.697,7448.40395,5934.3798,9869.8102,1146.7966,9386.1613,4350.5144,6414.178,12741.16745,1917.3184,5209.57885,13457.9608,5662.225,1252.407,2731.9122,7209.4918,4266.1658,4719.52405,11848.141,7046.7222,14313.8463,2103.08,1815.8759,7731.85785,28476.73499,2136.88225,1131.5066,3309.7926,9414.92,6360.9936,11013.7119,4428.88785,5584.3057,1877.9294,2842.76075,3597.596,7445.918,2680.9493,1621.8827,8219.2039,12523.6048,16069.08475,6117.4945,13393.756,5266.3656,4719.73655,11743.9341,5377.4578,7160.3303,4402.233,11657.7189,6402.29135,12622.1795,1526.312,12323.936,10072.05505,9872.701,2438.0552,2974.126,10601.63225,14119.62,11729.6795,1875.344,18218.16139,10965.446,7151.092,12269.68865,5458.04645,8782.469,6600.361,1141.4451,11576.13,13129.60345,4391.652,8457.818,3392.3652,5966.8874,6849.026,8891.1395,2690.1138,26140.3603,6653.7886,6282.235,6311.952,3443.064,2789.0574,2585.85065,4877.98105,5272.1758,1682.597,11945.1327,7243.8136,10422.91665,13555.0049,13063.883,2221.56445,1634.5734,2117.33885,8688.85885,4661.28635,8125.7845,12644.589,4564.19145,4846.92015,7633.7206,15170.069,2639.0429,14382.70905,7626.993,5257.50795,2473.3341,13041.921,5245.2269,13451.122,13462.52,5488.262,4320.41085,6250.435,25333.33284,2913.569,12032.326,13470.8044,6289.7549,2927.0647,6238.298,10096.97,7348.142,4673.3922,12233.828,32108.66282,8965.79575,2304.0022,9487.6442,1121.8739,9549.5651,2217.46915,1628.4709,12982.8747,11674.13,7160.094,6358.77645,11534.87265,4527.18295,3875.7341,12609.88702,28468.91901,2730.10785,3353.284,14474.675,9500.57305,26467.09737,4746.344,7518.02535,3279.86855,8596.8278,10702.6424,4992.3764,2527.81865,1759.338,2322.6218,7804.1605,2902.9065,9704.66805,4889.0368,25517.11363,4500.33925,16796.41194,4915.05985,7624.63,8410.04685,28340.18885,4518.82625,3378.91,7144.86265,10118.424,5484.4673,7986.47525,7418.522,13887.9685,6551.7501,5267.81815,1972.95,21232.18226,8627.5411,4433.3877,4438.2634,23241.47453,9957.7216,8269.044,36580.28216,8765.249,5383.536,12124.9924,2709.24395,3987.926,12495.29085,26018.95052,8798.593,1711.0268,8569.8618,2020.177,21595.38229,9850.432,6877.9801,4137.5227,12950.0712,12094.478,2250.8352,22493.65964,1704.70015,3161.454,11394.06555,7325.0482,3594.17085,8023.13545,14394.5579,9288.0267,3353.4703,10594.50155,8277.523,17929.30337,2480.9791,4462.7218,1981.5819,11554.2236,6548.19505,5708.867,7045.499,8978.1851,5757.41345,14349.8544,10928.849,13974.45555,1909.52745,12096.6512,13204.28565,4562.8421,8551.347,2102.2647,15161.5344,11884.04858,4454.40265,5855.9025,4076.497,15019.76005,10796.35025,11353.2276,9748.9106,10577.087,11286.5387,3591.48,11299.343,4561.1885,1674.6323,23045.56616,3227.1211,11253.421,3471.4096,11363.2832,20420.60465,10338.9316,8988.15875,10493.9458,2904.088,8605.3615,11512.405,5312.16985,2396.0959,10807.4863,9222.4026,5693.4305,8347.1643,18903.49141,14254.6082,10214.636,5836.5204,14358.36437,1728.897,8582.3023,3693.428,20709.02034,9991.03765,19673.33573,11085.5868,7623.518,3176.2877,3704.3545,9048.0273,7954.517,27117.99378,6338.0756,9630.397,11289.10925,2261.5688,10791.96,5979.731,2203.73595,12235.8392,5630.45785,11015.1747,7228.21565,14426.07385,2459.7201,3989.841,7727.2532,5124.1887,18963.17192,2200.83085,7153.5539,5227.98875,10982.5013,4529.477,4670.64,6112.35295,11093.6229,6457.8434,4433.9159,2154.361,6496.886,2899.48935,7650.77375,2850.68375,2632.992,9447.3824,8603.8234,13844.7972,13126.67745,5327.40025,13725.47184,13019.16105,8671.19125,4134.08245,18838.70366,5699.8375,6393.60345,4934.705,6198.7518,8733.22925,2055.3249,9964.06,5116.5004,36910.60803,12347.172,5373.36425,23563.01618,1702.4553,10806.839,3956.07145,12890.05765,5415.6612,4058.1161,7537.1639,4718.20355,6593.5083,8442.667,6858.4796,4795.6568,6640.54485,7162.0122,10594.2257,11938.25595,12479.70895,11345.519,8515.7587,2699.56835,14449.8544,12224.35085,6985.50695,3238.4357,4296.2712,3171.6149,1135.9407,5615.369,9101.798,6059.173,1633.9618,1241.565,15828.82173,4415.1588,6474.013,11436.73815,11305.93455,30063.58055,10197.7722,4544.2348,3277.161,6770.1925,7337.748,10370.91255,10704.47,1880.487,8615.3,3292.52985,3021.80915,14478.33015,4747.0529,10959.33,2741.948,4357.04365,4189.1131,8283.6807,1720.3537,8534.6718,3732.6251,5472.449,7147.4728,7133.9025,1515.3449,9301.89355,11931.12525,1964.78,1708.92575,4340.4409,5261.46945,2710.82855,3208.787,2464.6188,6875.961,6940.90985,4571.41305,4536.259,11272.33139,1731.677,1163.4627,19496.71917,7201.70085,5425.02335,12981.3457,4239.89265,13143.33665,7050.0213,9377.9047,22395.74424,10325.206,12629.1656,10795.93733,11411.685,10600.5483,2205.9808,1629.8335,2007.945],\"yaxis\":\"y\",\"type\":\"scattergl\"}],                        {\"template\":{\"data\":{\"bar\":[{\"error_x\":{\"color\":\"#2a3f5f\"},\"error_y\":{\"color\":\"#2a3f5f\"},\"marker\":{\"line\":{\"color\":\"#E5ECF6\",\"width\":0.5},\"pattern\":{\"fillmode\":\"overlay\",\"size\":10,\"solidity\":0.2}},\"type\":\"bar\"}],\"barpolar\":[{\"marker\":{\"line\":{\"color\":\"#E5ECF6\",\"width\":0.5},\"pattern\":{\"fillmode\":\"overlay\",\"size\":10,\"solidity\":0.2}},\"type\":\"barpolar\"}],\"carpet\":[{\"aaxis\":{\"endlinecolor\":\"#2a3f5f\",\"gridcolor\":\"white\",\"linecolor\":\"white\",\"minorgridcolor\":\"white\",\"startlinecolor\":\"#2a3f5f\"},\"baxis\":{\"endlinecolor\":\"#2a3f5f\",\"gridcolor\":\"white\",\"linecolor\":\"white\",\"minorgridcolor\":\"white\",\"startlinecolor\":\"#2a3f5f\"},\"type\":\"carpet\"}],\"choropleth\":[{\"colorbar\":{\"outlinewidth\":0,\"ticks\":\"\"},\"type\":\"choropleth\"}],\"contour\":[{\"colorbar\":{\"outlinewidth\":0,\"ticks\":\"\"},\"colorscale\":[[0.0,\"#0d0887\"],[0.1111111111111111,\"#46039f\"],[0.2222222222222222,\"#7201a8\"],[0.3333333333333333,\"#9c179e\"],[0.4444444444444444,\"#bd3786\"],[0.5555555555555556,\"#d8576b\"],[0.6666666666666666,\"#ed7953\"],[0.7777777777777778,\"#fb9f3a\"],[0.8888888888888888,\"#fdca26\"],[1.0,\"#f0f921\"]],\"type\":\"contour\"}],\"contourcarpet\":[{\"colorbar\":{\"outlinewidth\":0,\"ticks\":\"\"},\"type\":\"contourcarpet\"}],\"heatmap\":[{\"colorbar\":{\"outlinewidth\":0,\"ticks\":\"\"},\"colorscale\":[[0.0,\"#0d0887\"],[0.1111111111111111,\"#46039f\"],[0.2222222222222222,\"#7201a8\"],[0.3333333333333333,\"#9c179e\"],[0.4444444444444444,\"#bd3786\"],[0.5555555555555556,\"#d8576b\"],[0.6666666666666666,\"#ed7953\"],[0.7777777777777778,\"#fb9f3a\"],[0.8888888888888888,\"#fdca26\"],[1.0,\"#f0f921\"]],\"type\":\"heatmap\"}],\"heatmapgl\":[{\"colorbar\":{\"outlinewidth\":0,\"ticks\":\"\"},\"colorscale\":[[0.0,\"#0d0887\"],[0.1111111111111111,\"#46039f\"],[0.2222222222222222,\"#7201a8\"],[0.3333333333333333,\"#9c179e\"],[0.4444444444444444,\"#bd3786\"],[0.5555555555555556,\"#d8576b\"],[0.6666666666666666,\"#ed7953\"],[0.7777777777777778,\"#fb9f3a\"],[0.8888888888888888,\"#fdca26\"],[1.0,\"#f0f921\"]],\"type\":\"heatmapgl\"}],\"histogram\":[{\"marker\":{\"pattern\":{\"fillmode\":\"overlay\",\"size\":10,\"solidity\":0.2}},\"type\":\"histogram\"}],\"histogram2d\":[{\"colorbar\":{\"outlinewidth\":0,\"ticks\":\"\"},\"colorscale\":[[0.0,\"#0d0887\"],[0.1111111111111111,\"#46039f\"],[0.2222222222222222,\"#7201a8\"],[0.3333333333333333,\"#9c179e\"],[0.4444444444444444,\"#bd3786\"],[0.5555555555555556,\"#d8576b\"],[0.6666666666666666,\"#ed7953\"],[0.7777777777777778,\"#fb9f3a\"],[0.8888888888888888,\"#fdca26\"],[1.0,\"#f0f921\"]],\"type\":\"histogram2d\"}],\"histogram2dcontour\":[{\"colorbar\":{\"outlinewidth\":0,\"ticks\":\"\"},\"colorscale\":[[0.0,\"#0d0887\"],[0.1111111111111111,\"#46039f\"],[0.2222222222222222,\"#7201a8\"],[0.3333333333333333,\"#9c179e\"],[0.4444444444444444,\"#bd3786\"],[0.5555555555555556,\"#d8576b\"],[0.6666666666666666,\"#ed7953\"],[0.7777777777777778,\"#fb9f3a\"],[0.8888888888888888,\"#fdca26\"],[1.0,\"#f0f921\"]],\"type\":\"histogram2dcontour\"}],\"mesh3d\":[{\"colorbar\":{\"outlinewidth\":0,\"ticks\":\"\"},\"type\":\"mesh3d\"}],\"parcoords\":[{\"line\":{\"colorbar\":{\"outlinewidth\":0,\"ticks\":\"\"}},\"type\":\"parcoords\"}],\"pie\":[{\"automargin\":true,\"type\":\"pie\"}],\"scatter\":[{\"marker\":{\"colorbar\":{\"outlinewidth\":0,\"ticks\":\"\"}},\"type\":\"scatter\"}],\"scatter3d\":[{\"line\":{\"colorbar\":{\"outlinewidth\":0,\"ticks\":\"\"}},\"marker\":{\"colorbar\":{\"outlinewidth\":0,\"ticks\":\"\"}},\"type\":\"scatter3d\"}],\"scattercarpet\":[{\"marker\":{\"colorbar\":{\"outlinewidth\":0,\"ticks\":\"\"}},\"type\":\"scattercarpet\"}],\"scattergeo\":[{\"marker\":{\"colorbar\":{\"outlinewidth\":0,\"ticks\":\"\"}},\"type\":\"scattergeo\"}],\"scattergl\":[{\"marker\":{\"colorbar\":{\"outlinewidth\":0,\"ticks\":\"\"}},\"type\":\"scattergl\"}],\"scattermapbox\":[{\"marker\":{\"colorbar\":{\"outlinewidth\":0,\"ticks\":\"\"}},\"type\":\"scattermapbox\"}],\"scatterpolar\":[{\"marker\":{\"colorbar\":{\"outlinewidth\":0,\"ticks\":\"\"}},\"type\":\"scatterpolar\"}],\"scatterpolargl\":[{\"marker\":{\"colorbar\":{\"outlinewidth\":0,\"ticks\":\"\"}},\"type\":\"scatterpolargl\"}],\"scatterternary\":[{\"marker\":{\"colorbar\":{\"outlinewidth\":0,\"ticks\":\"\"}},\"type\":\"scatterternary\"}],\"surface\":[{\"colorbar\":{\"outlinewidth\":0,\"ticks\":\"\"},\"colorscale\":[[0.0,\"#0d0887\"],[0.1111111111111111,\"#46039f\"],[0.2222222222222222,\"#7201a8\"],[0.3333333333333333,\"#9c179e\"],[0.4444444444444444,\"#bd3786\"],[0.5555555555555556,\"#d8576b\"],[0.6666666666666666,\"#ed7953\"],[0.7777777777777778,\"#fb9f3a\"],[0.8888888888888888,\"#fdca26\"],[1.0,\"#f0f921\"]],\"type\":\"surface\"}],\"table\":[{\"cells\":{\"fill\":{\"color\":\"#EBF0F8\"},\"line\":{\"color\":\"white\"}},\"header\":{\"fill\":{\"color\":\"#C8D4E3\"},\"line\":{\"color\":\"white\"}},\"type\":\"table\"}]},\"layout\":{\"annotationdefaults\":{\"arrowcolor\":\"#2a3f5f\",\"arrowhead\":0,\"arrowwidth\":1},\"autotypenumbers\":\"strict\",\"coloraxis\":{\"colorbar\":{\"outlinewidth\":0,\"ticks\":\"\"}},\"colorscale\":{\"diverging\":[[0,\"#8e0152\"],[0.1,\"#c51b7d\"],[0.2,\"#de77ae\"],[0.3,\"#f1b6da\"],[0.4,\"#fde0ef\"],[0.5,\"#f7f7f7\"],[0.6,\"#e6f5d0\"],[0.7,\"#b8e186\"],[0.8,\"#7fbc41\"],[0.9,\"#4d9221\"],[1,\"#276419\"]],\"sequential\":[[0.0,\"#0d0887\"],[0.1111111111111111,\"#46039f\"],[0.2222222222222222,\"#7201a8\"],[0.3333333333333333,\"#9c179e\"],[0.4444444444444444,\"#bd3786\"],[0.5555555555555556,\"#d8576b\"],[0.6666666666666666,\"#ed7953\"],[0.7777777777777778,\"#fb9f3a\"],[0.8888888888888888,\"#fdca26\"],[1.0,\"#f0f921\"]],\"sequentialminus\":[[0.0,\"#0d0887\"],[0.1111111111111111,\"#46039f\"],[0.2222222222222222,\"#7201a8\"],[0.3333333333333333,\"#9c179e\"],[0.4444444444444444,\"#bd3786\"],[0.5555555555555556,\"#d8576b\"],[0.6666666666666666,\"#ed7953\"],[0.7777777777777778,\"#fb9f3a\"],[0.8888888888888888,\"#fdca26\"],[1.0,\"#f0f921\"]]},\"colorway\":[\"#636efa\",\"#EF553B\",\"#00cc96\",\"#ab63fa\",\"#FFA15A\",\"#19d3f3\",\"#FF6692\",\"#B6E880\",\"#FF97FF\",\"#FECB52\"],\"font\":{\"color\":\"#2a3f5f\"},\"geo\":{\"bgcolor\":\"white\",\"lakecolor\":\"white\",\"landcolor\":\"#E5ECF6\",\"showlakes\":true,\"showland\":true,\"subunitcolor\":\"white\"},\"hoverlabel\":{\"align\":\"left\"},\"hovermode\":\"closest\",\"mapbox\":{\"style\":\"light\"},\"paper_bgcolor\":\"white\",\"plot_bgcolor\":\"#E5ECF6\",\"polar\":{\"angularaxis\":{\"gridcolor\":\"white\",\"linecolor\":\"white\",\"ticks\":\"\"},\"bgcolor\":\"#E5ECF6\",\"radialaxis\":{\"gridcolor\":\"white\",\"linecolor\":\"white\",\"ticks\":\"\"}},\"scene\":{\"xaxis\":{\"backgroundcolor\":\"#E5ECF6\",\"gridcolor\":\"white\",\"gridwidth\":2,\"linecolor\":\"white\",\"showbackground\":true,\"ticks\":\"\",\"zerolinecolor\":\"white\"},\"yaxis\":{\"backgroundcolor\":\"#E5ECF6\",\"gridcolor\":\"white\",\"gridwidth\":2,\"linecolor\":\"white\",\"showbackground\":true,\"ticks\":\"\",\"zerolinecolor\":\"white\"},\"zaxis\":{\"backgroundcolor\":\"#E5ECF6\",\"gridcolor\":\"white\",\"gridwidth\":2,\"linecolor\":\"white\",\"showbackground\":true,\"ticks\":\"\",\"zerolinecolor\":\"white\"}},\"shapedefaults\":{\"line\":{\"color\":\"#2a3f5f\"}},\"ternary\":{\"aaxis\":{\"gridcolor\":\"white\",\"linecolor\":\"white\",\"ticks\":\"\"},\"baxis\":{\"gridcolor\":\"white\",\"linecolor\":\"white\",\"ticks\":\"\"},\"bgcolor\":\"#E5ECF6\",\"caxis\":{\"gridcolor\":\"white\",\"linecolor\":\"white\",\"ticks\":\"\"}},\"title\":{\"x\":0.05},\"xaxis\":{\"automargin\":true,\"gridcolor\":\"white\",\"linecolor\":\"white\",\"ticks\":\"\",\"title\":{\"standoff\":15},\"zerolinecolor\":\"white\",\"zerolinewidth\":2},\"yaxis\":{\"automargin\":true,\"gridcolor\":\"white\",\"linecolor\":\"white\",\"ticks\":\"\",\"title\":{\"standoff\":15},\"zerolinecolor\":\"white\",\"zerolinewidth\":2}}},\"xaxis\":{\"anchor\":\"y\",\"domain\":[0.0,1.0],\"title\":{\"text\":\"age\"}},\"yaxis\":{\"anchor\":\"x\",\"domain\":[0.0,1.0],\"title\":{\"text\":\"charges\"}},\"legend\":{\"title\":{\"text\":\"smoker\"},\"tracegroupgap\":0},\"title\":{\"text\":\"Age vs. Charges\"}},                        {\"responsive\": true}                    ).then(function(){\n",
              "                            \n",
              "var gd = document.getElementById('d4fb8004-5057-4b42-906a-2bcf3241bf2b');\n",
              "var x = new MutationObserver(function (mutations, observer) {{\n",
              "        var display = window.getComputedStyle(gd).display;\n",
              "        if (!display || display === 'none') {{\n",
              "            console.log([gd, 'removed!']);\n",
              "            Plotly.purge(gd);\n",
              "            observer.disconnect();\n",
              "        }}\n",
              "}});\n",
              "\n",
              "// Listen for the removal of the full notebook cells\n",
              "var notebookContainer = gd.closest('#notebook-container');\n",
              "if (notebookContainer) {{\n",
              "    x.observe(notebookContainer, {childList: true});\n",
              "}}\n",
              "\n",
              "// Listen for the clearing of the current output cell\n",
              "var outputEl = gd.closest('.output');\n",
              "if (outputEl) {{\n",
              "    x.observe(outputEl, {childList: true});\n",
              "}}\n",
              "\n",
              "                        })                };                            </script>        </div>\n",
              "</body>\n",
              "</html>"
            ]
          },
          "metadata": {}
        }
      ]
    },
    {
      "cell_type": "markdown",
      "source": [
        "Overall we see smoking (blue color) absolutely increase the probabibility ofyour chances of incuring a higher insurance costs....."
      ],
      "metadata": {
        "id": "rRp6DLVOz7SV"
      }
    },
    {
      "cell_type": "markdown",
      "source": [
        "We can make the following observations from the above chart:\n",
        "\n",
        "The general trend seems to be that medical charges increase with age, as we might expect. However, there is significant variation at every age, and it's clear that age alone cannot be used to accurately determine medical charges.\n",
        "\n",
        "We can see three \"clusters\" of points, each of which seems to form a line with an increasing slope: (0-10k non smokers ........ 10k to 20k some smokers....... 20k - 40k some smokers with additional problem like obesity, accident, health issues etc.) \n",
        "\n",
        "The first and the largest cluster consists primary of presumably \"healthy non-smokers\" who have relatively low medical charges compared to others\n",
        "\n",
        "The second cluster contains a mix of smokers and non-smokers. It's possible that these are actually two distinct but overlapping clusters: \"non-smokers with medical issues\" and \"smokers without major medical issues\".\n",
        "\n",
        "The final cluster consists exclusively of smokers, presumably smokers with major medical issues that are possibly related to or worsened by smoking."
      ],
      "metadata": {
        "id": "Uzv9lyFTzV1W"
      }
    },
    {
      "cell_type": "markdown",
      "source": [
        ""
      ],
      "metadata": {
        "id": "SOabGM_v2JMJ"
      }
    },
    {
      "cell_type": "markdown",
      "source": [
        "Similarily, lets see BMI and Charges\n",
        "\n",
        "Let's visualize the relationship between BMI (body mass index) and charges using another scatter plot. Once again, we'll use the values from the \"smoker\" column to color the points."
      ],
      "metadata": {
        "id": "1oLcM_TS1_ti"
      }
    },
    {
      "cell_type": "code",
      "source": [
        "# Creating a scatterplot to observe relationship between age and charges\n",
        "fig = px.scatter(medical_df, \n",
        "                 x='bmi', # bmi on x axis\n",
        "                 y='charges', # charges on the y axis\n",
        "                 color='smoker', # differentiate color based on smoker vs non smoker on top of the scatterplot\n",
        "                 opacity=0.8, \n",
        "                 hover_data=['sex'], # when you hover on point, what properties should be shown. You already have age, charges and smoker... so to that you also want to see sex\n",
        "                 title='BMI vs. Charges')\n",
        "fig.update_traces(marker_size=5)\n",
        "fig.show()"
      ],
      "metadata": {
        "colab": {
          "base_uri": "https://localhost:8080/",
          "height": 542
        },
        "id": "ZP5ma_CNzW8V",
        "outputId": "dfe59c75-49f8-4cc8-c437-c55060cc7ae2"
      },
      "execution_count": null,
      "outputs": [
        {
          "output_type": "display_data",
          "data": {
            "text/html": [
              "<html>\n",
              "<head><meta charset=\"utf-8\" /></head>\n",
              "<body>\n",
              "    <div>            <script src=\"https://cdnjs.cloudflare.com/ajax/libs/mathjax/2.7.5/MathJax.js?config=TeX-AMS-MML_SVG\"></script><script type=\"text/javascript\">if (window.MathJax) {MathJax.Hub.Config({SVG: {font: \"STIX-Web\"}});}</script>                <script type=\"text/javascript\">window.PlotlyConfig = {MathJaxConfig: 'local'};</script>\n",
              "        <script src=\"https://cdn.plot.ly/plotly-2.8.3.min.js\"></script>                <div id=\"bc2ea7ee-33c7-4e4f-9aa6-d3f6d2403642\" class=\"plotly-graph-div\" style=\"height:525px; width:100%;\"></div>            <script type=\"text/javascript\">                                    window.PLOTLYENV=window.PLOTLYENV || {};                                    if (document.getElementById(\"bc2ea7ee-33c7-4e4f-9aa6-d3f6d2403642\")) {                    Plotly.newPlot(                        \"bc2ea7ee-33c7-4e4f-9aa6-d3f6d2403642\",                        [{\"customdata\":[[\"female\"],[\"female\"],[\"male\"],[\"male\"],[\"female\"],[\"male\"],[\"male\"],[\"male\"],[\"male\"],[\"male\"],[\"male\"],[\"male\"],[\"male\"],[\"male\"],[\"male\"],[\"female\"],[\"female\"],[\"male\"],[\"female\"],[\"male\"],[\"female\"],[\"male\"],[\"female\"],[\"male\"],[\"female\"],[\"male\"],[\"male\"],[\"female\"],[\"male\"],[\"male\"],[\"female\"],[\"male\"],[\"female\"],[\"female\"],[\"male\"],[\"male\"],[\"male\"],[\"female\"],[\"male\"],[\"male\"],[\"male\"],[\"female\"],[\"female\"],[\"female\"],[\"male\"],[\"female\"],[\"male\"],[\"male\"],[\"male\"],[\"female\"],[\"male\"],[\"female\"],[\"female\"],[\"male\"],[\"female\"],[\"male\"],[\"male\"],[\"male\"],[\"male\"],[\"female\"],[\"male\"],[\"male\"],[\"male\"],[\"male\"],[\"male\"],[\"female\"],[\"male\"],[\"female\"],[\"male\"],[\"male\"],[\"male\"],[\"male\"],[\"female\"],[\"male\"],[\"female\"],[\"male\"],[\"male\"],[\"female\"],[\"female\"],[\"male\"],[\"male\"],[\"female\"],[\"male\"],[\"female\"],[\"female\"],[\"male\"],[\"female\"],[\"male\"],[\"female\"],[\"female\"],[\"female\"],[\"female\"],[\"male\"],[\"male\"],[\"male\"],[\"female\"],[\"male\"],[\"male\"],[\"female\"],[\"male\"],[\"male\"],[\"male\"],[\"female\"],[\"male\"],[\"male\"],[\"male\"],[\"male\"],[\"male\"],[\"male\"],[\"male\"],[\"female\"],[\"male\"],[\"female\"],[\"female\"],[\"male\"],[\"female\"],[\"female\"],[\"female\"],[\"female\"],[\"female\"],[\"male\"],[\"female\"],[\"male\"],[\"female\"],[\"male\"],[\"male\"],[\"female\"],[\"male\"],[\"male\"],[\"female\"],[\"female\"],[\"male\"],[\"female\"],[\"male\"],[\"female\"],[\"male\"],[\"male\"],[\"male\"],[\"male\"],[\"female\"],[\"female\"],[\"female\"],[\"male\"],[\"female\"],[\"male\"],[\"male\"],[\"male\"],[\"male\"],[\"female\"],[\"female\"],[\"male\"],[\"male\"],[\"female\"],[\"male\"],[\"female\"],[\"male\"],[\"male\"],[\"male\"],[\"female\"],[\"female\"],[\"female\"],[\"male\"],[\"male\"],[\"male\"],[\"female\"],[\"female\"],[\"female\"],[\"female\"],[\"female\"],[\"female\"],[\"female\"],[\"male\"],[\"female\"],[\"female\"],[\"male\"],[\"male\"],[\"female\"],[\"male\"],[\"female\"],[\"male\"],[\"female\"],[\"male\"],[\"female\"],[\"male\"],[\"male\"],[\"male\"],[\"male\"],[\"male\"],[\"male\"],[\"male\"],[\"male\"],[\"male\"],[\"male\"],[\"male\"],[\"female\"],[\"female\"],[\"male\"],[\"male\"],[\"male\"],[\"male\"],[\"female\"],[\"male\"],[\"male\"],[\"female\"],[\"female\"],[\"male\"],[\"male\"],[\"female\"],[\"female\"],[\"male\"],[\"female\"],[\"male\"],[\"male\"],[\"male\"],[\"male\"],[\"male\"],[\"male\"],[\"female\"],[\"male\"],[\"female\"],[\"female\"],[\"female\"],[\"male\"],[\"female\"],[\"male\"],[\"male\"],[\"female\"],[\"female\"],[\"female\"],[\"female\"],[\"male\"],[\"female\"],[\"male\"],[\"male\"],[\"female\"],[\"female\"],[\"male\"],[\"female\"],[\"male\"],[\"female\"],[\"female\"],[\"female\"],[\"male\"],[\"female\"],[\"female\"],[\"female\"],[\"male\"],[\"female\"],[\"male\"],[\"male\"],[\"male\"],[\"male\"],[\"male\"],[\"male\"],[\"male\"],[\"male\"],[\"male\"],[\"female\"],[\"female\"],[\"male\"],[\"male\"],[\"male\"],[\"male\"],[\"male\"],[\"male\"],[\"male\"],[\"female\"],[\"male\"],[\"female\"],[\"female\"],[\"female\"],[\"male\"],[\"female\"],[\"female\"]],\"hovertemplate\":\"smoker=yes<br>bmi=%{x}<br>charges=%{y}<br>sex=%{customdata[0]}<extra></extra>\",\"legendgroup\":\"yes\",\"marker\":{\"color\":\"#636efa\",\"opacity\":0.8,\"symbol\":\"circle\",\"size\":5},\"mode\":\"markers\",\"name\":\"yes\",\"showlegend\":true,\"x\":[27.9,26.29,42.13,35.3,31.92,36.3,35.6,36.4,36.67,39.9,35.2,28.0,34.43,36.955,31.68,22.88,22.42,23.98,24.75,37.62,34.8,22.895,31.16,29.83,31.3,19.95,19.3,29.92,28.025,35.09,27.94,31.35,28.3,17.765,25.3,28.69,30.495,23.37,24.42,25.175,35.53,26.6,36.85,37.7,41.895,36.08,27.74,34.8,24.64,22.22,29.07,36.67,27.74,17.29,32.2,34.21,31.825,33.63,31.92,26.84,24.32,36.955,42.35,19.8,34.2,28.12,40.565,36.765,45.54,27.7,25.41,34.39,22.61,35.97,31.4,30.8,36.48,33.8,36.385,27.36,32.3,21.7,32.9,28.31,24.89,40.15,17.955,30.685,20.235,17.195,22.6,26.98,33.88,35.86,32.775,33.5,26.695,30.0,28.38,25.1,28.31,28.5,38.06,25.7,34.4,23.21,30.25,28.3,26.07,42.13,47.41,25.84,46.2,34.105,40.565,38.095,30.21,21.85,28.31,23.655,37.8,36.63,25.6,33.11,34.1,33.535,38.95,26.41,28.31,25.3,22.99,38.06,32.775,32.015,43.89,31.35,35.3,31.13,35.75,38.06,39.05,21.755,24.42,38.39,31.73,35.5,29.15,34.105,26.4,27.83,38.17,27.1,28.88,24.4,27.6,20.9,28.5,24.795,42.24,26.125,35.53,31.79,28.025,30.78,32.78,29.81,32.45,30.78,35.53,23.845,33.11,24.13,47.6,37.05,28.93,28.975,26.885,38.94,20.045,40.92,24.6,31.73,26.885,22.895,34.2,29.7,42.9,30.2,27.835,30.8,34.96,24.795,22.895,25.9,20.52,20.045,22.99,32.7,28.215,20.13,31.02,36.08,26.03,23.655,35.2,21.565,37.07,30.495,28.025,30.685,24.7,52.58,30.9,29.8,41.14,37.07,31.68,18.3,36.19,30.4,34.96,19.095,38.39,25.85,33.33,35.75,31.4,36.86,42.75,32.49,32.8,32.56,44.88,27.36,26.7,24.13,29.81,28.49,35.625,25.27,30.02,27.28,33.4,25.555,34.6,24.42,34.485,21.8,41.8,36.96,33.63,29.83,27.3,23.76,31.065,27.06,29.925,27.645,21.66,36.3,39.4,34.9,30.36,30.875,27.8,24.605,21.85,28.12,30.2,34.7,23.655,26.695,40.37,29.07],\"xaxis\":\"x\",\"y\":[16884.924,27808.7251,39611.7577,36837.467,37701.8768,38711.0,35585.576,51194.55914,39774.2763,48173.361,38709.176,23568.272,37742.5757,47496.49445,34303.1672,23244.7902,14711.7438,17663.1442,16577.7795,37165.1638,39836.519,21098.55405,43578.9394,30184.9367,47291.055,22412.6485,15820.699,30942.1918,17560.37975,47055.5321,19107.7796,39556.4945,17081.08,32734.1863,18972.495,20745.9891,40720.55105,19964.7463,21223.6758,15518.18025,36950.2567,21348.706,36149.4835,48824.45,43753.33705,37133.8982,20984.0936,34779.615,19515.5416,19444.2658,17352.6803,38511.6283,29523.1656,12829.4551,47305.305,44260.7499,41097.16175,43921.1837,33750.2918,17085.2676,24869.8368,36219.40545,46151.1245,17179.522,42856.838,22331.5668,48549.17835,47896.79135,42112.2356,16297.846,21978.6769,38746.3551,24873.3849,42124.5153,34838.873,35491.64,42760.5022,47928.03,48517.56315,24393.6224,41919.097,13844.506,36085.219,18033.9679,21659.9301,38126.2465,15006.57945,42303.69215,19594.80965,14455.64405,18608.262,28950.4692,46889.2612,46599.1084,39125.33225,37079.372,26109.32905,22144.032,19521.9682,25382.297,28868.6639,35147.52848,48885.13561,17942.106,36197.699,22218.1149,32548.3405,21082.16,38245.59327,48675.5177,63770.42801,23807.2406,45863.205,39983.42595,45702.02235,58571.07448,43943.8761,15359.1045,17468.9839,25678.77845,39241.442,42969.8527,23306.547,34439.8559,40182.246,34617.84065,42983.4585,20149.3229,32787.45859,24667.419,27037.9141,42560.4304,40003.33225,45710.20785,46200.9851,46130.5265,40103.89,34806.4677,40273.6455,44400.4064,40932.4295,16657.71745,19361.9988,40419.0191,36189.1017,44585.45587,18246.4955,43254.41795,19539.243,23065.4207,36307.7983,19040.876,17748.5062,18259.216,24520.264,21195.818,18310.742,17904.52705,38792.6856,23401.30575,55135.40209,43813.8661,20773.62775,39597.4072,36021.0112,27533.9129,45008.9555,37270.1512,42111.6647,24106.91255,40974.1649,15817.9857,46113.511,46255.1125,19719.6947,27218.43725,29330.98315,44202.6536,19798.05455,48673.5588,17496.306,33732.6867,21774.32215,35069.37452,39047.285,19933.458,47462.894,38998.546,20009.63365,41999.52,41034.2214,23967.38305,16138.76205,19199.944,14571.8908,16420.49455,17361.7661,34472.841,24915.22085,18767.7377,35595.5898,42211.1382,16450.8947,21677.28345,44423.803,13747.87235,37484.4493,39725.51805,20234.85475,33475.81715,21880.82,44501.3982,39727.614,25309.489,48970.2476,39871.7043,34672.1472,19023.26,41676.0811,33907.548,44641.1974,16776.30405,41949.2441,24180.9335,36124.5737,38282.7495,34166.273,46661.4424,40904.1995,36898.73308,52590.82939,40941.2854,39722.7462,17178.6824,22478.6,23887.6627,19350.3689,18328.2381,37465.34375,21771.3423,33307.5508,18223.4512,38415.474,20296.86345,41661.602,26125.67477,60021.39897,20167.33603,47269.854,49577.6624,37607.5277,18648.4217,16232.847,26926.5144,34254.05335,17043.3414,22462.04375,24535.69855,14283.4594,47403.88,38344.566,34828.654,62592.87309,46718.16325,37829.7242,21259.37795,16115.3045,21472.4788,33900.653,36397.576,18765.87545,28101.33305,43896.3763,29141.3603],\"yaxis\":\"y\",\"type\":\"scattergl\"},{\"customdata\":[[\"male\"],[\"male\"],[\"male\"],[\"male\"],[\"female\"],[\"female\"],[\"female\"],[\"male\"],[\"female\"],[\"male\"],[\"male\"],[\"female\"],[\"male\"],[\"female\"],[\"male\"],[\"male\"],[\"female\"],[\"female\"],[\"male\"],[\"male\"],[\"female\"],[\"female\"],[\"female\"],[\"male\"],[\"female\"],[\"female\"],[\"male\"],[\"male\"],[\"female\"],[\"male\"],[\"female\"],[\"female\"],[\"male\"],[\"female\"],[\"male\"],[\"male\"],[\"female\"],[\"female\"],[\"female\"],[\"female\"],[\"female\"],[\"female\"],[\"female\"],[\"female\"],[\"male\"],[\"male\"],[\"male\"],[\"female\"],[\"female\"],[\"female\"],[\"male\"],[\"female\"],[\"male\"],[\"female\"],[\"male\"],[\"male\"],[\"male\"],[\"female\"],[\"male\"],[\"female\"],[\"female\"],[\"male\"],[\"female\"],[\"female\"],[\"female\"],[\"female\"],[\"female\"],[\"female\"],[\"female\"],[\"male\"],[\"female\"],[\"female\"],[\"male\"],[\"female\"],[\"male\"],[\"female\"],[\"female\"],[\"female\"],[\"male\"],[\"male\"],[\"male\"],[\"female\"],[\"male\"],[\"female\"],[\"male\"],[\"male\"],[\"male\"],[\"female\"],[\"female\"],[\"male\"],[\"male\"],[\"female\"],[\"female\"],[\"female\"],[\"female\"],[\"male\"],[\"female\"],[\"female\"],[\"female\"],[\"male\"],[\"female\"],[\"female\"],[\"male\"],[\"male\"],[\"female\"],[\"female\"],[\"male\"],[\"male\"],[\"male\"],[\"female\"],[\"female\"],[\"female\"],[\"male\"],[\"male\"],[\"male\"],[\"female\"],[\"female\"],[\"male\"],[\"female\"],[\"male\"],[\"female\"],[\"male\"],[\"male\"],[\"female\"],[\"female\"],[\"female\"],[\"male\"],[\"male\"],[\"male\"],[\"male\"],[\"female\"],[\"female\"],[\"male\"],[\"male\"],[\"female\"],[\"female\"],[\"male\"],[\"female\"],[\"male\"],[\"female\"],[\"male\"],[\"female\"],[\"female\"],[\"female\"],[\"female\"],[\"male\"],[\"female\"],[\"male\"],[\"female\"],[\"male\"],[\"male\"],[\"female\"],[\"female\"],[\"female\"],[\"female\"],[\"female\"],[\"female\"],[\"female\"],[\"male\"],[\"female\"],[\"male\"],[\"female\"],[\"male\"],[\"male\"],[\"male\"],[\"male\"],[\"female\"],[\"female\"],[\"female\"],[\"female\"],[\"male\"],[\"female\"],[\"female\"],[\"female\"],[\"female\"],[\"male\"],[\"male\"],[\"male\"],[\"female\"],[\"female\"],[\"male\"],[\"female\"],[\"female\"],[\"female\"],[\"male\"],[\"male\"],[\"female\"],[\"male\"],[\"male\"],[\"female\"],[\"female\"],[\"male\"],[\"male\"],[\"female\"],[\"male\"],[\"male\"],[\"male\"],[\"male\"],[\"female\"],[\"female\"],[\"male\"],[\"female\"],[\"female\"],[\"female\"],[\"male\"],[\"male\"],[\"male\"],[\"male\"],[\"male\"],[\"male\"],[\"female\"],[\"male\"],[\"female\"],[\"male\"],[\"female\"],[\"male\"],[\"female\"],[\"female\"],[\"male\"],[\"female\"],[\"female\"],[\"male\"],[\"female\"],[\"male\"],[\"female\"],[\"male\"],[\"male\"],[\"female\"],[\"male\"],[\"female\"],[\"female\"],[\"female\"],[\"male\"],[\"female\"],[\"female\"],[\"male\"],[\"female\"],[\"male\"],[\"female\"],[\"male\"],[\"male\"],[\"male\"],[\"male\"],[\"female\"],[\"male\"],[\"male\"],[\"female\"],[\"male\"],[\"male\"],[\"male\"],[\"female\"],[\"male\"],[\"female\"],[\"female\"],[\"female\"],[\"male\"],[\"male\"],[\"male\"],[\"female\"],[\"female\"],[\"male\"],[\"female\"],[\"male\"],[\"female\"],[\"female\"],[\"male\"],[\"male\"],[\"female\"],[\"male\"],[\"female\"],[\"female\"],[\"female\"],[\"male\"],[\"female\"],[\"male\"],[\"male\"],[\"male\"],[\"male\"],[\"female\"],[\"female\"],[\"male\"],[\"female\"],[\"female\"],[\"female\"],[\"female\"],[\"female\"],[\"male\"],[\"male\"],[\"female\"],[\"female\"],[\"female\"],[\"male\"],[\"female\"],[\"male\"],[\"male\"],[\"female\"],[\"male\"],[\"male\"],[\"female\"],[\"male\"],[\"female\"],[\"female\"],[\"male\"],[\"female\"],[\"male\"],[\"male\"],[\"female\"],[\"male\"],[\"female\"],[\"male\"],[\"male\"],[\"female\"],[\"female\"],[\"male\"],[\"female\"],[\"male\"],[\"male\"],[\"female\"],[\"female\"],[\"female\"],[\"male\"],[\"male\"],[\"male\"],[\"male\"],[\"female\"],[\"female\"],[\"male\"],[\"male\"],[\"male\"],[\"male\"],[\"male\"],[\"female\"],[\"female\"],[\"female\"],[\"female\"],[\"male\"],[\"female\"],[\"male\"],[\"female\"],[\"male\"],[\"male\"],[\"male\"],[\"male\"],[\"female\"],[\"male\"],[\"female\"],[\"male\"],[\"female\"],[\"female\"],[\"male\"],[\"female\"],[\"female\"],[\"male\"],[\"male\"],[\"male\"],[\"male\"],[\"male\"],[\"male\"],[\"male\"],[\"female\"],[\"female\"],[\"male\"],[\"female\"],[\"female\"],[\"female\"],[\"male\"],[\"male\"],[\"female\"],[\"female\"],[\"female\"],[\"female\"],[\"male\"],[\"female\"],[\"female\"],[\"female\"],[\"male\"],[\"male\"],[\"male\"],[\"male\"],[\"male\"],[\"female\"],[\"female\"],[\"male\"],[\"female\"],[\"female\"],[\"male\"],[\"male\"],[\"female\"],[\"female\"],[\"female\"],[\"male\"],[\"male\"],[\"female\"],[\"male\"],[\"female\"],[\"female\"],[\"male\"],[\"female\"],[\"male\"],[\"male\"],[\"male\"],[\"female\"],[\"female\"],[\"male\"],[\"male\"],[\"male\"],[\"male\"],[\"male\"],[\"male\"],[\"male\"],[\"female\"],[\"male\"],[\"female\"],[\"female\"],[\"female\"],[\"female\"],[\"female\"],[\"female\"],[\"female\"],[\"male\"],[\"male\"],[\"female\"],[\"male\"],[\"male\"],[\"male\"],[\"male\"],[\"female\"],[\"female\"],[\"female\"],[\"male\"],[\"female\"],[\"female\"],[\"female\"],[\"male\"],[\"male\"],[\"female\"],[\"female\"],[\"male\"],[\"female\"],[\"male\"],[\"female\"],[\"female\"],[\"male\"],[\"male\"],[\"male\"],[\"male\"],[\"female\"],[\"female\"],[\"male\"],[\"male\"],[\"female\"],[\"female\"],[\"female\"],[\"male\"],[\"female\"],[\"female\"],[\"female\"],[\"female\"],[\"female\"],[\"female\"],[\"female\"],[\"male\"],[\"male\"],[\"female\"],[\"male\"],[\"male\"],[\"male\"],[\"female\"],[\"male\"],[\"female\"],[\"male\"],[\"female\"],[\"female\"],[\"female\"],[\"male\"],[\"male\"],[\"male\"],[\"female\"],[\"female\"],[\"female\"],[\"male\"],[\"female\"],[\"female\"],[\"male\"],[\"female\"],[\"female\"],[\"female\"],[\"female\"],[\"male\"],[\"female\"],[\"female\"],[\"female\"],[\"female\"],[\"female\"],[\"female\"],[\"female\"],[\"male\"],[\"female\"],[\"male\"],[\"female\"],[\"male\"],[\"male\"],[\"male\"],[\"male\"],[\"male\"],[\"female\"],[\"male\"],[\"male\"],[\"male\"],[\"female\"],[\"female\"],[\"male\"],[\"male\"],[\"male\"],[\"female\"],[\"male\"],[\"male\"],[\"male\"],[\"female\"],[\"male\"],[\"female\"],[\"female\"],[\"female\"],[\"female\"],[\"female\"],[\"female\"],[\"female\"],[\"male\"],[\"female\"],[\"female\"],[\"male\"],[\"female\"],[\"female\"],[\"male\"],[\"male\"],[\"female\"],[\"male\"],[\"female\"],[\"male\"],[\"female\"],[\"male\"],[\"female\"],[\"male\"],[\"female\"],[\"female\"],[\"male\"],[\"male\"],[\"female\"],[\"male\"],[\"male\"],[\"male\"],[\"female\"],[\"male\"],[\"male\"],[\"male\"],[\"male\"],[\"female\"],[\"female\"],[\"female\"],[\"male\"],[\"female\"],[\"female\"],[\"female\"],[\"male\"],[\"female\"],[\"female\"],[\"female\"],[\"male\"],[\"female\"],[\"female\"],[\"male\"],[\"female\"],[\"female\"],[\"male\"],[\"female\"],[\"male\"],[\"female\"],[\"male\"],[\"female\"],[\"female\"],[\"female\"],[\"male\"],[\"male\"],[\"male\"],[\"female\"],[\"male\"],[\"female\"],[\"female\"],[\"male\"],[\"female\"],[\"female\"],[\"female\"],[\"female\"],[\"male\"],[\"male\"],[\"female\"],[\"male\"],[\"female\"],[\"male\"],[\"male\"],[\"female\"],[\"male\"],[\"male\"],[\"male\"],[\"female\"],[\"male\"],[\"male\"],[\"female\"],[\"male\"],[\"female\"],[\"male\"],[\"male\"],[\"female\"],[\"female\"],[\"male\"],[\"female\"],[\"female\"],[\"female\"],[\"male\"],[\"female\"],[\"female\"],[\"male\"],[\"male\"],[\"male\"],[\"male\"],[\"male\"],[\"male\"],[\"male\"],[\"male\"],[\"female\"],[\"female\"],[\"male\"],[\"male\"],[\"male\"],[\"female\"],[\"female\"],[\"male\"],[\"female\"],[\"female\"],[\"male\"],[\"female\"],[\"female\"],[\"female\"],[\"female\"],[\"male\"],[\"male\"],[\"female\"],[\"female\"],[\"female\"],[\"male\"],[\"male\"],[\"female\"],[\"female\"],[\"male\"],[\"male\"],[\"male\"],[\"female\"],[\"female\"],[\"male\"],[\"male\"],[\"male\"],[\"female\"],[\"female\"],[\"male\"],[\"female\"],[\"male\"],[\"male\"],[\"female\"],[\"female\"],[\"male\"],[\"male\"],[\"male\"],[\"male\"],[\"female\"],[\"female\"],[\"female\"],[\"male\"],[\"male\"],[\"male\"],[\"female\"],[\"male\"],[\"female\"],[\"male\"],[\"male\"],[\"female\"],[\"female\"],[\"female\"],[\"male\"],[\"female\"],[\"female\"],[\"female\"],[\"male\"],[\"male\"],[\"male\"],[\"male\"],[\"male\"],[\"female\"],[\"male\"],[\"female\"],[\"male\"],[\"male\"],[\"male\"],[\"female\"],[\"female\"],[\"male\"],[\"male\"],[\"female\"],[\"male\"],[\"male\"],[\"female\"],[\"male\"],[\"female\"],[\"male\"],[\"male\"],[\"female\"],[\"male\"],[\"male\"],[\"female\"],[\"male\"],[\"female\"],[\"female\"],[\"male\"],[\"male\"],[\"male\"],[\"female\"],[\"female\"],[\"male\"],[\"female\"],[\"male\"],[\"male\"],[\"female\"],[\"female\"],[\"male\"],[\"female\"],[\"female\"],[\"female\"],[\"female\"],[\"female\"],[\"male\"],[\"male\"],[\"male\"],[\"male\"],[\"female\"],[\"female\"],[\"female\"],[\"male\"],[\"male\"],[\"female\"],[\"male\"],[\"female\"],[\"male\"],[\"female\"],[\"male\"],[\"female\"],[\"male\"],[\"male\"],[\"male\"],[\"female\"],[\"female\"],[\"male\"],[\"male\"],[\"female\"],[\"male\"],[\"male\"],[\"male\"],[\"female\"],[\"male\"],[\"male\"],[\"male\"],[\"female\"],[\"female\"],[\"female\"],[\"male\"],[\"male\"],[\"male\"],[\"male\"],[\"male\"],[\"female\"],[\"female\"],[\"female\"],[\"female\"],[\"female\"],[\"male\"],[\"male\"],[\"male\"],[\"female\"],[\"female\"],[\"male\"],[\"male\"],[\"female\"],[\"male\"],[\"female\"],[\"male\"],[\"female\"],[\"male\"],[\"female\"],[\"female\"],[\"female\"],[\"male\"],[\"female\"],[\"female\"],[\"female\"],[\"female\"],[\"female\"],[\"male\"],[\"male\"],[\"male\"],[\"male\"],[\"male\"],[\"male\"],[\"male\"],[\"female\"],[\"female\"],[\"male\"],[\"female\"],[\"male\"],[\"female\"],[\"female\"],[\"female\"],[\"female\"],[\"male\"],[\"male\"],[\"female\"],[\"female\"],[\"male\"],[\"male\"],[\"female\"],[\"female\"],[\"male\"],[\"female\"],[\"male\"],[\"male\"],[\"male\"],[\"female\"],[\"male\"],[\"female\"],[\"female\"],[\"female\"],[\"male\"],[\"male\"],[\"female\"],[\"male\"],[\"female\"],[\"female\"],[\"female\"],[\"male\"],[\"male\"],[\"male\"],[\"male\"],[\"female\"],[\"female\"],[\"male\"],[\"male\"],[\"male\"],[\"female\"],[\"male\"],[\"male\"],[\"female\"],[\"female\"],[\"female\"],[\"female\"],[\"male\"],[\"male\"],[\"male\"],[\"male\"],[\"male\"],[\"male\"],[\"female\"],[\"male\"],[\"male\"],[\"male\"],[\"male\"],[\"female\"],[\"male\"],[\"female\"],[\"female\"],[\"male\"],[\"female\"],[\"female\"],[\"male\"],[\"male\"],[\"male\"],[\"male\"],[\"female\"],[\"female\"],[\"female\"],[\"male\"],[\"male\"],[\"female\"],[\"female\"],[\"male\"],[\"male\"],[\"male\"],[\"female\"],[\"male\"],[\"female\"],[\"female\"],[\"male\"],[\"female\"],[\"male\"],[\"female\"],[\"female\"],[\"male\"],[\"male\"],[\"female\"],[\"male\"],[\"female\"],[\"female\"],[\"female\"],[\"male\"],[\"male\"],[\"female\"],[\"female\"],[\"male\"],[\"male\"],[\"male\"],[\"female\"],[\"male\"],[\"male\"],[\"female\"],[\"female\"],[\"female\"],[\"female\"],[\"female\"],[\"female\"],[\"female\"],[\"female\"],[\"female\"],[\"male\"],[\"male\"],[\"female\"],[\"female\"],[\"female\"],[\"male\"],[\"female\"],[\"male\"],[\"female\"],[\"female\"],[\"male\"],[\"male\"],[\"female\"],[\"female\"],[\"female\"],[\"female\"],[\"female\"],[\"female\"],[\"female\"],[\"male\"],[\"female\"],[\"female\"],[\"female\"],[\"female\"],[\"female\"],[\"female\"],[\"female\"],[\"female\"],[\"male\"],[\"male\"],[\"female\"],[\"male\"],[\"male\"],[\"male\"],[\"male\"],[\"male\"],[\"female\"],[\"male\"],[\"male\"],[\"male\"],[\"male\"],[\"female\"],[\"female\"],[\"male\"],[\"male\"],[\"male\"],[\"female\"],[\"female\"],[\"male\"],[\"male\"],[\"male\"],[\"female\"],[\"male\"],[\"male\"],[\"male\"],[\"male\"],[\"female\"],[\"male\"],[\"female\"],[\"male\"],[\"female\"],[\"female\"],[\"male\"],[\"female\"],[\"female\"],[\"female\"],[\"male\"],[\"male\"],[\"female\"],[\"male\"],[\"female\"],[\"male\"],[\"female\"],[\"female\"],[\"female\"],[\"female\"],[\"female\"],[\"male\"],[\"female\"],[\"female\"],[\"male\"],[\"female\"],[\"female\"],[\"female\"],[\"female\"],[\"female\"],[\"male\"],[\"male\"],[\"female\"],[\"male\"],[\"male\"],[\"male\"],[\"female\"],[\"female\"],[\"female\"],[\"female\"],[\"male\"],[\"female\"],[\"female\"],[\"female\"],[\"male\"],[\"female\"],[\"male\"],[\"male\"],[\"male\"],[\"male\"],[\"male\"],[\"female\"],[\"male\"],[\"female\"],[\"female\"],[\"female\"],[\"male\"],[\"male\"],[\"female\"],[\"male\"],[\"male\"],[\"female\"],[\"male\"],[\"male\"],[\"female\"],[\"male\"],[\"male\"],[\"male\"],[\"male\"],[\"female\"],[\"male\"],[\"female\"],[\"male\"],[\"female\"],[\"female\"],[\"female\"],[\"male\"],[\"female\"],[\"female\"],[\"female\"]],\"hovertemplate\":\"smoker=no<br>bmi=%{x}<br>charges=%{y}<br>sex=%{customdata[0]}<extra></extra>\",\"legendgroup\":\"no\",\"marker\":{\"color\":\"#EF553B\",\"opacity\":0.8,\"symbol\":\"circle\",\"size\":5},\"mode\":\"markers\",\"name\":\"no\",\"showlegend\":true,\"x\":[33.77,33.0,22.705,28.88,25.74,33.44,27.74,29.83,25.84,26.22,34.4,39.82,24.6,30.78,23.845,40.3,36.005,32.4,34.1,28.025,27.72,23.085,32.775,17.385,26.315,28.6,28.31,20.425,32.965,20.8,26.6,36.63,21.78,30.8,37.05,37.3,38.665,34.77,24.53,35.625,33.63,28.69,31.825,37.335,27.36,33.66,24.7,25.935,28.9,39.1,26.315,36.19,28.5,28.1,32.01,27.4,34.01,29.59,35.53,39.805,32.965,26.885,38.285,41.23,27.2,27.74,26.98,39.49,24.795,34.77,37.62,30.8,38.28,31.6,25.46,30.115,27.5,28.4,30.875,27.94,33.63,29.7,30.8,35.72,32.205,28.595,49.06,27.17,23.37,37.1,23.75,28.975,33.915,28.785,37.4,34.7,26.505,22.04,35.9,25.555,28.785,28.05,34.1,25.175,31.9,36.0,22.42,32.49,29.735,38.83,37.73,37.43,28.4,24.13,29.7,37.145,25.46,39.52,27.83,39.6,29.8,29.64,28.215,37.0,33.155,31.825,18.905,41.47,30.3,15.96,34.8,33.345,27.835,29.2,28.9,33.155,28.595,38.28,19.95,26.41,30.69,29.92,30.9,32.2,32.11,31.57,26.2,25.74,26.6,34.43,30.59,32.8,28.6,18.05,39.33,32.11,32.23,24.035,22.3,28.88,26.4,31.8,41.23,33.0,30.875,28.5,26.73,30.9,37.1,26.6,23.1,29.92,23.21,33.7,33.25,30.8,33.88,38.06,41.91,31.635,25.46,36.195,27.83,17.8,27.5,24.51,26.73,38.39,38.06,22.135,26.8,35.3,30.02,38.06,35.86,20.9,28.975,30.3,25.365,40.15,24.415,25.2,38.06,32.395,30.2,25.84,29.37,37.05,27.455,27.55,26.6,20.615,24.3,31.79,21.56,27.645,32.395,31.2,26.62,48.07,26.22,26.4,33.4,29.64,28.82,26.8,22.99,28.88,27.55,37.51,33.0,38.0,33.345,27.5,33.33,34.865,33.06,26.6,24.7,35.86,33.25,32.205,32.775,27.645,37.335,25.27,29.64,40.945,27.2,34.105,23.21,36.7,31.16,28.785,35.72,34.5,25.74,27.55,27.72,27.6,30.02,27.55,36.765,41.47,29.26,35.75,33.345,29.92,27.835,23.18,25.6,27.7,35.245,38.28,27.6,43.89,29.83,41.91,20.79,32.3,30.5,26.4,21.89,30.78,32.3,24.985,32.015,30.4,21.09,22.23,33.155,33.33,30.115,31.46,33.0,43.34,22.135,34.4,39.05,25.365,22.61,30.21,35.625,37.43,31.445,31.35,32.3,19.855,34.4,31.02,25.6,38.17,20.6,47.52,32.965,32.3,20.4,38.38,24.31,23.6,21.12,30.03,17.48,23.9,35.15,35.64,34.1,39.16,30.59,30.2,24.31,27.265,29.165,16.815,30.4,33.1,20.235,26.9,30.5,28.595,33.11,31.73,28.9,46.75,29.45,32.68,43.01,36.52,33.1,29.64,25.65,29.6,38.6,29.6,24.13,23.4,29.735,46.53,37.4,30.14,30.495,39.6,33.0,36.63,38.095,25.935,25.175,28.7,33.82,24.32,24.09,32.67,30.115,29.8,33.345,35.625,36.85,32.56,41.325,37.51,31.35,39.5,34.3,31.065,21.47,28.7,31.16,32.9,25.08,25.08,43.4,27.93,23.6,28.7,23.98,39.2,26.03,28.93,30.875,31.35,23.75,25.27,28.7,32.11,33.66,22.42,30.4,35.7,35.31,30.495,31.0,30.875,27.36,44.22,33.915,37.73,33.88,30.59,25.8,39.425,25.46,31.73,29.7,36.19,40.48,28.025,38.9,30.2,28.05,31.35,38.0,31.79,36.3,30.21,35.435,46.7,28.595,30.8,28.93,21.4,31.73,41.325,23.8,33.44,34.21,35.53,19.95,32.68,30.5,44.77,32.12,30.495,40.565,30.59,31.9,29.1,37.29,43.12,36.86,34.295,27.17,26.84,30.2,23.465,25.46,30.59,45.43,23.65,20.7,28.27,20.235,35.91,30.69,29.0,19.57,31.13,40.26,33.725,29.48,33.25,32.6,37.525,39.16,31.635,25.3,39.05,34.1,25.175,26.98,29.37,34.8,33.155,19.0,33.0,28.595,37.1,31.4,21.3,28.785,26.03,28.88,42.46,38.0,36.1,29.3,35.53,22.705,39.7,38.19,24.51,38.095,33.66,42.4,33.915,34.96,35.31,30.78,26.22,23.37,28.5,32.965,42.68,39.6,31.13,36.3,35.2,42.4,33.155,35.91,28.785,46.53,23.98,31.54,33.66,28.7,29.81,31.57,31.16,29.7,31.02,21.375,40.81,36.1,23.18,17.4,20.3,24.32,18.5,26.41,26.125,41.69,24.1,27.36,36.2,32.395,23.655,34.8,40.185,32.3,33.725,39.27,34.87,44.745,41.47,26.41,29.545,32.9,28.69,30.495,27.74,35.2,23.54,30.685,40.47,22.6,28.9,22.61,24.32,36.67,33.44,40.66,36.6,37.4,35.4,27.075,28.405,40.28,36.08,21.4,30.1,27.265,32.1,34.77,23.7,24.035,26.62,26.41,30.115,27.0,21.755,36.0,30.875,28.975,37.905,22.77,33.63,27.645,22.8,37.43,34.58,35.2,26.03,25.175,31.825,32.3,29.0,39.7,19.475,36.1,26.7,36.48,34.2,33.33,32.3,39.805,34.32,28.88,41.14,35.97,29.26,27.7,36.955,36.86,22.515,29.92,41.8,27.6,23.18,31.92,44.22,22.895,33.1,26.18,35.97,22.3,26.51,35.815,41.42,36.575,30.14,25.84,30.8,42.94,21.01,22.515,34.43,31.46,24.225,37.1,33.7,17.67,31.13,29.81,24.32,31.825,21.85,33.1,25.84,23.845,34.39,33.82,35.97,31.5,28.31,23.465,31.35,31.1,24.7,30.495,34.2,50.38,24.1,32.775,32.3,23.75,29.6,32.23,28.1,28.0,33.535,19.855,25.4,29.9,37.29,43.7,23.655,24.3,36.2,29.48,24.86,30.1,21.85,28.12,27.1,33.44,28.8,29.5,34.8,27.36,22.135,26.695,30.02,39.5,33.63,29.04,24.035,32.11,44.0,25.555,40.26,22.515,22.515,27.265,36.85,35.1,29.355,32.585,32.34,39.8,28.31,26.695,27.5,24.605,33.99,28.2,34.21,25.0,33.2,31.0,35.815,23.2,32.11,23.4,20.1,39.16,34.21,46.53,32.5,25.8,35.3,37.18,27.5,29.735,24.225,26.18,29.48,23.21,46.09,40.185,22.61,39.93,35.8,35.8,31.255,18.335,28.405,39.49,26.79,36.67,39.615,25.9,35.2,24.795,36.765,27.1,25.365,25.745,34.32,28.16,23.56,20.235,40.5,35.42,40.15,29.15,39.995,29.92,25.46,21.375,30.59,30.115,25.8,30.115,27.645,34.675,19.8,27.835,31.6,28.27,23.275,34.1,36.85,36.29,26.885,25.8,29.6,19.19,31.73,29.26,24.985,27.74,22.8,33.33,32.3,27.6,25.46,24.605,34.2,35.815,32.68,37.0,23.32,45.32,34.6,18.715,31.6,17.29,27.93,38.38,23.0,28.88,27.265,23.085,25.8,35.245,25.08,22.515,36.955,26.41,29.83,21.47,27.645,28.9,31.79,39.49,33.82,32.01,27.94,28.595,25.6,25.3,37.29,42.655,21.66,31.9,31.445,31.255,28.88,18.335,29.59,32.0,26.03,33.66,21.78,27.835,19.95,31.5,30.495,28.975,31.54,47.74,22.1,29.83,32.7,33.7,31.35,33.77,30.875,33.99,28.6,38.94,36.08,29.8,31.24,29.925,26.22,30.0,20.35,32.3,26.315,24.51,32.67,29.64,19.95,38.17,32.395,25.08,29.9,35.86,32.8,18.6,23.87,45.9,40.28,18.335,33.82,28.12,25.0,22.23,30.25,37.07,32.6,24.86,32.34,32.3,32.775,31.92,21.5,34.1,30.305,36.48,35.815,27.93,22.135,23.18,30.59,41.1,34.58,42.13,38.83,28.215,28.31,26.125,40.37,24.6,35.2,34.105,41.91,29.26,32.11,27.1,27.4,34.865,41.325,29.925,30.3,27.36,23.56,32.68,28.0,32.775,21.755,32.395,36.575,21.755,27.93,33.55,29.355,25.8,24.32,40.375,32.11,32.3,17.86,34.8,37.1,30.875,34.1,21.47,33.3,31.255,39.14,25.08,37.29,30.21,21.945,24.97,25.3,23.94,39.82,16.815,37.18,34.43,30.305,24.605,23.3,27.83,31.065,21.66,28.215,22.705,42.13,21.28,33.11,33.33,24.3,25.7,29.4,39.82,19.8,29.3,27.72,37.9,36.385,27.645,37.715,23.18,20.52,37.1,28.05,29.9,33.345,30.5,33.3,27.5,33.915,34.485,25.52,27.61,23.7,30.4,29.735,26.79,33.33,30.03,24.32,17.29,25.9,34.32,19.95,23.21,25.745,25.175,22.0,26.125,26.51,27.455,25.745,20.8,27.72,32.2,26.315,26.695,42.9,28.31,20.6,53.13,39.71,26.315,31.065,38.83,25.935,33.535,32.87,30.03,24.225,38.6,25.74,33.4,44.7,30.97,31.92,36.85,25.8],\"xaxis\":\"x\",\"y\":[1725.5523,4449.462,21984.47061,3866.8552,3756.6216,8240.5896,7281.5056,6406.4107,28923.13692,2721.3208,1826.843,11090.7178,1837.237,10797.3362,2395.17155,10602.385,13228.84695,4149.736,1137.011,6203.90175,14001.1338,14451.83515,12268.63225,2775.19215,2198.18985,4687.797,13770.0979,1625.43375,15612.19335,2302.3,3046.062,4949.7587,6272.4772,6313.759,6079.6715,20630.28351,3393.35635,3556.9223,12629.8967,2211.13075,3579.8287,8059.6791,13607.36875,5989.52365,8606.2174,4504.6624,30166.61817,4133.64165,1743.214,14235.072,6389.37785,5920.1041,6799.458,11741.726,11946.6259,7726.854,11356.6609,3947.4131,1532.4697,2755.02095,6571.02435,4441.21315,7935.29115,11033.6617,11073.176,8026.6666,11082.5772,2026.9741,10942.13205,5729.0053,3766.8838,12105.32,10226.2842,6186.127,3645.0894,21344.8467,5003.853,2331.519,3877.30425,2867.1196,10825.2537,11881.358,4646.759,2404.7338,11488.31695,30259.99556,11381.3254,8601.3293,6686.4313,7740.337,1705.6245,2257.47525,10115.00885,3385.39915,9634.538,6082.405,12815.44495,13616.3586,11163.568,1632.56445,2457.21115,2155.6815,1261.442,2045.68525,27322.73386,2166.732,27375.90478,3490.5491,18157.876,5138.2567,9877.6077,10959.6947,1842.519,5125.2157,7789.635,6334.34355,7077.1894,6948.7008,19749.38338,10450.552,5152.134,5028.1466,10407.08585,4830.63,6128.79745,2719.27975,4827.90495,13405.3903,8116.68,1694.7964,5246.047,2855.43755,6455.86265,10436.096,8823.279,8538.28845,11735.87905,1631.8212,4005.4225,7419.4779,7731.4271,3981.9768,5325.651,6775.961,4922.9159,12557.6053,4883.866,2137.6536,12044.342,1137.4697,1639.5631,5649.715,8516.829,9644.2525,14901.5167,2130.6759,8871.1517,13012.20865,7147.105,4337.7352,11743.299,13880.949,6610.1097,1980.07,8162.71625,3537.703,5002.7827,8520.026,7371.772,10355.641,2483.736,3392.9768,25081.76784,5012.471,10564.8845,5253.524,11987.1682,2689.4954,24227.33724,7358.17565,9225.2564,7443.64305,14001.2867,1727.785,12333.828,6710.1919,1615.7667,4463.2051,7152.6714,5354.07465,35160.13457,7196.867,24476.47851,12648.7034,1986.9334,1832.094,4040.55825,4260.744,13047.33235,5400.9805,11520.09985,11837.16,20462.99766,14590.63205,7441.053,9282.4806,1719.4363,7265.7025,9617.66245,2523.1695,9715.841,2803.69785,2150.469,12928.7911,9855.1314,4237.12655,11879.10405,9625.92,7742.1098,9432.9253,14256.1928,25992.82104,3172.018,20277.80751,2156.7518,3906.127,1704.5681,9249.4952,6746.7425,12265.5069,4349.462,12646.207,19442.3535,20177.67113,4151.0287,11944.59435,7749.1564,8444.474,1737.376,8124.4084,9722.7695,8835.26495,10435.06525,7421.19455,4667.60765,4894.7533,24671.66334,11566.30055,2866.091,6600.20595,3561.8889,9144.565,13429.0354,11658.37915,19144.57652,13822.803,12142.5786,13937.6665,8232.6388,18955.22017,13352.0998,13217.0945,13981.85035,10977.2063,6184.2994,4889.9995,8334.45755,5478.0368,1635.73365,11830.6072,8932.084,3554.203,12404.8791,14133.03775,24603.04837,8944.1151,9620.3307,1837.2819,1607.5101,10043.249,4751.07,2597.779,3180.5101,9778.3472,13430.265,8017.06115,8116.26885,3481.868,13415.0381,12029.2867,7639.41745,1391.5287,16455.70785,27000.98473,20781.48892,5846.9176,8302.53565,1261.859,11856.4115,30284.64294,3176.8159,4618.0799,10736.87075,2138.0707,8964.06055,9290.1395,9411.005,7526.70645,8522.003,16586.49771,14988.432,1631.6683,9264.797,8083.9198,14692.66935,10269.46,3260.199,11396.9002,4185.0979,8539.671,6652.5288,4074.4537,1621.3402,5080.096,2134.9015,7345.7266,9140.951,14418.2804,2727.3951,8968.33,9788.8659,6555.07035,7323.734819,3167.45585,18804.7524,23082.95533,4906.40965,5969.723,12638.195,4243.59005,13919.8229,2254.7967,5926.846,12592.5345,2897.3235,4738.2682,1149.3959,28287.89766,7345.084,12730.9996,11454.0215,5910.944,4762.329,7512.267,4032.2407,1969.614,1769.53165,4686.3887,21797.0004,11881.9696,11840.77505,10601.412,7682.67,10381.4787,15230.32405,11165.41765,1632.03625,13224.693,12643.3778,23288.9284,2201.0971,2497.0383,2203.47185,1744.465,20878.78443,2534.39375,1534.3045,1824.2854,15555.18875,9304.7019,1622.1885,9880.068,9563.029,4347.02335,12475.3513,1253.936,10461.9794,1748.774,24513.09126,2196.4732,12574.049,1967.0227,4931.647,8027.968,8211.1002,13470.86,6837.3687,5974.3847,6796.86325,2643.2685,3077.0955,3044.2133,11455.28,11763.0009,2498.4144,9361.3268,1256.299,11362.755,27724.28875,8413.46305,5240.765,3857.75925,25656.57526,3994.1778,9866.30485,5397.6167,11482.63485,24059.68019,9861.025,8342.90875,1708.0014,14043.4767,12925.886,19214.70553,13831.1152,6067.12675,5972.378,8825.086,8233.0975,27346.04207,6196.448,3056.3881,13887.204,10231.4999,3268.84665,11538.421,3213.62205,13390.559,3972.9247,12957.118,11187.6567,17878.90068,3847.674,8334.5896,3935.1799,1646.4297,9193.8385,10923.9332,2494.022,9058.7303,2801.2588,2128.43105,6373.55735,7256.7231,11552.904,3761.292,2219.4451,4753.6368,31620.00106,13224.05705,12222.8983,1664.9996,9724.53,3206.49135,12913.9924,1639.5631,6356.2707,17626.23951,1242.816,4779.6023,3861.20965,13635.6379,5976.8311,11842.442,8428.0693,2566.4707,5709.1644,8823.98575,7640.3092,5594.8455,7441.501,33471.97189,1633.0444,9174.13565,11070.535,16085.1275,9283.562,3558.62025,4435.0942,8547.6913,6571.544,2207.69745,6753.038,1880.07,11658.11505,10713.644,3659.346,9182.17,12129.61415,3736.4647,6748.5912,11326.71487,11365.952,10085.846,1977.815,3366.6697,7173.35995,9391.346,14410.9321,2709.1119,24915.04626,12949.1554,6666.243,13143.86485,4466.6214,18806.14547,10141.1362,6123.5688,8252.2843,1712.227,12430.95335,9800.8882,10579.711,8280.6227,8527.532,12244.531,3410.324,4058.71245,26392.26029,14394.39815,6435.6237,22192.43711,5148.5526,1136.3994,8703.456,6500.2359,4837.5823,3943.5954,4399.731,6185.3208,7222.78625,12485.8009,12363.547,10156.7832,2585.269,1242.26,9863.4718,4766.022,11244.3769,7729.64575,5438.7491,26236.57997,2104.1134,8068.185,2362.22905,2352.96845,3577.999,3201.24515,29186.48236,10976.24575,3500.6123,2020.5523,9541.69555,9504.3103,5385.3379,8930.93455,5375.038,10264.4421,6113.23105,5469.0066,1727.54,10107.2206,8310.83915,1984.4533,2457.502,12146.971,9566.9909,13112.6048,10848.1343,12231.6136,9875.6804,11264.541,12979.358,1263.249,10106.13425,6664.68595,2217.6012,6781.3542,10065.413,4234.927,9447.25035,14007.222,9583.8933,3484.331,8604.48365,3757.8448,8827.2099,9910.35985,11737.84884,1627.28245,8556.907,3062.50825,1906.35825,14210.53595,11833.7823,17128.42608,5031.26955,7985.815,5428.7277,3925.7582,2416.955,3070.8087,9095.06825,11842.62375,8062.764,7050.642,14319.031,6933.24225,27941.28758,11150.78,12797.20962,7261.741,10560.4917,6986.697,7448.40395,5934.3798,9869.8102,1146.7966,9386.1613,4350.5144,6414.178,12741.16745,1917.3184,5209.57885,13457.9608,5662.225,1252.407,2731.9122,7209.4918,4266.1658,4719.52405,11848.141,7046.7222,14313.8463,2103.08,1815.8759,7731.85785,28476.73499,2136.88225,1131.5066,3309.7926,9414.92,6360.9936,11013.7119,4428.88785,5584.3057,1877.9294,2842.76075,3597.596,7445.918,2680.9493,1621.8827,8219.2039,12523.6048,16069.08475,6117.4945,13393.756,5266.3656,4719.73655,11743.9341,5377.4578,7160.3303,4402.233,11657.7189,6402.29135,12622.1795,1526.312,12323.936,10072.05505,9872.701,2438.0552,2974.126,10601.63225,14119.62,11729.6795,1875.344,18218.16139,10965.446,7151.092,12269.68865,5458.04645,8782.469,6600.361,1141.4451,11576.13,13129.60345,4391.652,8457.818,3392.3652,5966.8874,6849.026,8891.1395,2690.1138,26140.3603,6653.7886,6282.235,6311.952,3443.064,2789.0574,2585.85065,4877.98105,5272.1758,1682.597,11945.1327,7243.8136,10422.91665,13555.0049,13063.883,2221.56445,1634.5734,2117.33885,8688.85885,4661.28635,8125.7845,12644.589,4564.19145,4846.92015,7633.7206,15170.069,2639.0429,14382.70905,7626.993,5257.50795,2473.3341,13041.921,5245.2269,13451.122,13462.52,5488.262,4320.41085,6250.435,25333.33284,2913.569,12032.326,13470.8044,6289.7549,2927.0647,6238.298,10096.97,7348.142,4673.3922,12233.828,32108.66282,8965.79575,2304.0022,9487.6442,1121.8739,9549.5651,2217.46915,1628.4709,12982.8747,11674.13,7160.094,6358.77645,11534.87265,4527.18295,3875.7341,12609.88702,28468.91901,2730.10785,3353.284,14474.675,9500.57305,26467.09737,4746.344,7518.02535,3279.86855,8596.8278,10702.6424,4992.3764,2527.81865,1759.338,2322.6218,7804.1605,2902.9065,9704.66805,4889.0368,25517.11363,4500.33925,16796.41194,4915.05985,7624.63,8410.04685,28340.18885,4518.82625,3378.91,7144.86265,10118.424,5484.4673,7986.47525,7418.522,13887.9685,6551.7501,5267.81815,1972.95,21232.18226,8627.5411,4433.3877,4438.2634,23241.47453,9957.7216,8269.044,36580.28216,8765.249,5383.536,12124.9924,2709.24395,3987.926,12495.29085,26018.95052,8798.593,1711.0268,8569.8618,2020.177,21595.38229,9850.432,6877.9801,4137.5227,12950.0712,12094.478,2250.8352,22493.65964,1704.70015,3161.454,11394.06555,7325.0482,3594.17085,8023.13545,14394.5579,9288.0267,3353.4703,10594.50155,8277.523,17929.30337,2480.9791,4462.7218,1981.5819,11554.2236,6548.19505,5708.867,7045.499,8978.1851,5757.41345,14349.8544,10928.849,13974.45555,1909.52745,12096.6512,13204.28565,4562.8421,8551.347,2102.2647,15161.5344,11884.04858,4454.40265,5855.9025,4076.497,15019.76005,10796.35025,11353.2276,9748.9106,10577.087,11286.5387,3591.48,11299.343,4561.1885,1674.6323,23045.56616,3227.1211,11253.421,3471.4096,11363.2832,20420.60465,10338.9316,8988.15875,10493.9458,2904.088,8605.3615,11512.405,5312.16985,2396.0959,10807.4863,9222.4026,5693.4305,8347.1643,18903.49141,14254.6082,10214.636,5836.5204,14358.36437,1728.897,8582.3023,3693.428,20709.02034,9991.03765,19673.33573,11085.5868,7623.518,3176.2877,3704.3545,9048.0273,7954.517,27117.99378,6338.0756,9630.397,11289.10925,2261.5688,10791.96,5979.731,2203.73595,12235.8392,5630.45785,11015.1747,7228.21565,14426.07385,2459.7201,3989.841,7727.2532,5124.1887,18963.17192,2200.83085,7153.5539,5227.98875,10982.5013,4529.477,4670.64,6112.35295,11093.6229,6457.8434,4433.9159,2154.361,6496.886,2899.48935,7650.77375,2850.68375,2632.992,9447.3824,8603.8234,13844.7972,13126.67745,5327.40025,13725.47184,13019.16105,8671.19125,4134.08245,18838.70366,5699.8375,6393.60345,4934.705,6198.7518,8733.22925,2055.3249,9964.06,5116.5004,36910.60803,12347.172,5373.36425,23563.01618,1702.4553,10806.839,3956.07145,12890.05765,5415.6612,4058.1161,7537.1639,4718.20355,6593.5083,8442.667,6858.4796,4795.6568,6640.54485,7162.0122,10594.2257,11938.25595,12479.70895,11345.519,8515.7587,2699.56835,14449.8544,12224.35085,6985.50695,3238.4357,4296.2712,3171.6149,1135.9407,5615.369,9101.798,6059.173,1633.9618,1241.565,15828.82173,4415.1588,6474.013,11436.73815,11305.93455,30063.58055,10197.7722,4544.2348,3277.161,6770.1925,7337.748,10370.91255,10704.47,1880.487,8615.3,3292.52985,3021.80915,14478.33015,4747.0529,10959.33,2741.948,4357.04365,4189.1131,8283.6807,1720.3537,8534.6718,3732.6251,5472.449,7147.4728,7133.9025,1515.3449,9301.89355,11931.12525,1964.78,1708.92575,4340.4409,5261.46945,2710.82855,3208.787,2464.6188,6875.961,6940.90985,4571.41305,4536.259,11272.33139,1731.677,1163.4627,19496.71917,7201.70085,5425.02335,12981.3457,4239.89265,13143.33665,7050.0213,9377.9047,22395.74424,10325.206,12629.1656,10795.93733,11411.685,10600.5483,2205.9808,1629.8335,2007.945],\"yaxis\":\"y\",\"type\":\"scattergl\"}],                        {\"template\":{\"data\":{\"bar\":[{\"error_x\":{\"color\":\"#2a3f5f\"},\"error_y\":{\"color\":\"#2a3f5f\"},\"marker\":{\"line\":{\"color\":\"#E5ECF6\",\"width\":0.5},\"pattern\":{\"fillmode\":\"overlay\",\"size\":10,\"solidity\":0.2}},\"type\":\"bar\"}],\"barpolar\":[{\"marker\":{\"line\":{\"color\":\"#E5ECF6\",\"width\":0.5},\"pattern\":{\"fillmode\":\"overlay\",\"size\":10,\"solidity\":0.2}},\"type\":\"barpolar\"}],\"carpet\":[{\"aaxis\":{\"endlinecolor\":\"#2a3f5f\",\"gridcolor\":\"white\",\"linecolor\":\"white\",\"minorgridcolor\":\"white\",\"startlinecolor\":\"#2a3f5f\"},\"baxis\":{\"endlinecolor\":\"#2a3f5f\",\"gridcolor\":\"white\",\"linecolor\":\"white\",\"minorgridcolor\":\"white\",\"startlinecolor\":\"#2a3f5f\"},\"type\":\"carpet\"}],\"choropleth\":[{\"colorbar\":{\"outlinewidth\":0,\"ticks\":\"\"},\"type\":\"choropleth\"}],\"contour\":[{\"colorbar\":{\"outlinewidth\":0,\"ticks\":\"\"},\"colorscale\":[[0.0,\"#0d0887\"],[0.1111111111111111,\"#46039f\"],[0.2222222222222222,\"#7201a8\"],[0.3333333333333333,\"#9c179e\"],[0.4444444444444444,\"#bd3786\"],[0.5555555555555556,\"#d8576b\"],[0.6666666666666666,\"#ed7953\"],[0.7777777777777778,\"#fb9f3a\"],[0.8888888888888888,\"#fdca26\"],[1.0,\"#f0f921\"]],\"type\":\"contour\"}],\"contourcarpet\":[{\"colorbar\":{\"outlinewidth\":0,\"ticks\":\"\"},\"type\":\"contourcarpet\"}],\"heatmap\":[{\"colorbar\":{\"outlinewidth\":0,\"ticks\":\"\"},\"colorscale\":[[0.0,\"#0d0887\"],[0.1111111111111111,\"#46039f\"],[0.2222222222222222,\"#7201a8\"],[0.3333333333333333,\"#9c179e\"],[0.4444444444444444,\"#bd3786\"],[0.5555555555555556,\"#d8576b\"],[0.6666666666666666,\"#ed7953\"],[0.7777777777777778,\"#fb9f3a\"],[0.8888888888888888,\"#fdca26\"],[1.0,\"#f0f921\"]],\"type\":\"heatmap\"}],\"heatmapgl\":[{\"colorbar\":{\"outlinewidth\":0,\"ticks\":\"\"},\"colorscale\":[[0.0,\"#0d0887\"],[0.1111111111111111,\"#46039f\"],[0.2222222222222222,\"#7201a8\"],[0.3333333333333333,\"#9c179e\"],[0.4444444444444444,\"#bd3786\"],[0.5555555555555556,\"#d8576b\"],[0.6666666666666666,\"#ed7953\"],[0.7777777777777778,\"#fb9f3a\"],[0.8888888888888888,\"#fdca26\"],[1.0,\"#f0f921\"]],\"type\":\"heatmapgl\"}],\"histogram\":[{\"marker\":{\"pattern\":{\"fillmode\":\"overlay\",\"size\":10,\"solidity\":0.2}},\"type\":\"histogram\"}],\"histogram2d\":[{\"colorbar\":{\"outlinewidth\":0,\"ticks\":\"\"},\"colorscale\":[[0.0,\"#0d0887\"],[0.1111111111111111,\"#46039f\"],[0.2222222222222222,\"#7201a8\"],[0.3333333333333333,\"#9c179e\"],[0.4444444444444444,\"#bd3786\"],[0.5555555555555556,\"#d8576b\"],[0.6666666666666666,\"#ed7953\"],[0.7777777777777778,\"#fb9f3a\"],[0.8888888888888888,\"#fdca26\"],[1.0,\"#f0f921\"]],\"type\":\"histogram2d\"}],\"histogram2dcontour\":[{\"colorbar\":{\"outlinewidth\":0,\"ticks\":\"\"},\"colorscale\":[[0.0,\"#0d0887\"],[0.1111111111111111,\"#46039f\"],[0.2222222222222222,\"#7201a8\"],[0.3333333333333333,\"#9c179e\"],[0.4444444444444444,\"#bd3786\"],[0.5555555555555556,\"#d8576b\"],[0.6666666666666666,\"#ed7953\"],[0.7777777777777778,\"#fb9f3a\"],[0.8888888888888888,\"#fdca26\"],[1.0,\"#f0f921\"]],\"type\":\"histogram2dcontour\"}],\"mesh3d\":[{\"colorbar\":{\"outlinewidth\":0,\"ticks\":\"\"},\"type\":\"mesh3d\"}],\"parcoords\":[{\"line\":{\"colorbar\":{\"outlinewidth\":0,\"ticks\":\"\"}},\"type\":\"parcoords\"}],\"pie\":[{\"automargin\":true,\"type\":\"pie\"}],\"scatter\":[{\"marker\":{\"colorbar\":{\"outlinewidth\":0,\"ticks\":\"\"}},\"type\":\"scatter\"}],\"scatter3d\":[{\"line\":{\"colorbar\":{\"outlinewidth\":0,\"ticks\":\"\"}},\"marker\":{\"colorbar\":{\"outlinewidth\":0,\"ticks\":\"\"}},\"type\":\"scatter3d\"}],\"scattercarpet\":[{\"marker\":{\"colorbar\":{\"outlinewidth\":0,\"ticks\":\"\"}},\"type\":\"scattercarpet\"}],\"scattergeo\":[{\"marker\":{\"colorbar\":{\"outlinewidth\":0,\"ticks\":\"\"}},\"type\":\"scattergeo\"}],\"scattergl\":[{\"marker\":{\"colorbar\":{\"outlinewidth\":0,\"ticks\":\"\"}},\"type\":\"scattergl\"}],\"scattermapbox\":[{\"marker\":{\"colorbar\":{\"outlinewidth\":0,\"ticks\":\"\"}},\"type\":\"scattermapbox\"}],\"scatterpolar\":[{\"marker\":{\"colorbar\":{\"outlinewidth\":0,\"ticks\":\"\"}},\"type\":\"scatterpolar\"}],\"scatterpolargl\":[{\"marker\":{\"colorbar\":{\"outlinewidth\":0,\"ticks\":\"\"}},\"type\":\"scatterpolargl\"}],\"scatterternary\":[{\"marker\":{\"colorbar\":{\"outlinewidth\":0,\"ticks\":\"\"}},\"type\":\"scatterternary\"}],\"surface\":[{\"colorbar\":{\"outlinewidth\":0,\"ticks\":\"\"},\"colorscale\":[[0.0,\"#0d0887\"],[0.1111111111111111,\"#46039f\"],[0.2222222222222222,\"#7201a8\"],[0.3333333333333333,\"#9c179e\"],[0.4444444444444444,\"#bd3786\"],[0.5555555555555556,\"#d8576b\"],[0.6666666666666666,\"#ed7953\"],[0.7777777777777778,\"#fb9f3a\"],[0.8888888888888888,\"#fdca26\"],[1.0,\"#f0f921\"]],\"type\":\"surface\"}],\"table\":[{\"cells\":{\"fill\":{\"color\":\"#EBF0F8\"},\"line\":{\"color\":\"white\"}},\"header\":{\"fill\":{\"color\":\"#C8D4E3\"},\"line\":{\"color\":\"white\"}},\"type\":\"table\"}]},\"layout\":{\"annotationdefaults\":{\"arrowcolor\":\"#2a3f5f\",\"arrowhead\":0,\"arrowwidth\":1},\"autotypenumbers\":\"strict\",\"coloraxis\":{\"colorbar\":{\"outlinewidth\":0,\"ticks\":\"\"}},\"colorscale\":{\"diverging\":[[0,\"#8e0152\"],[0.1,\"#c51b7d\"],[0.2,\"#de77ae\"],[0.3,\"#f1b6da\"],[0.4,\"#fde0ef\"],[0.5,\"#f7f7f7\"],[0.6,\"#e6f5d0\"],[0.7,\"#b8e186\"],[0.8,\"#7fbc41\"],[0.9,\"#4d9221\"],[1,\"#276419\"]],\"sequential\":[[0.0,\"#0d0887\"],[0.1111111111111111,\"#46039f\"],[0.2222222222222222,\"#7201a8\"],[0.3333333333333333,\"#9c179e\"],[0.4444444444444444,\"#bd3786\"],[0.5555555555555556,\"#d8576b\"],[0.6666666666666666,\"#ed7953\"],[0.7777777777777778,\"#fb9f3a\"],[0.8888888888888888,\"#fdca26\"],[1.0,\"#f0f921\"]],\"sequentialminus\":[[0.0,\"#0d0887\"],[0.1111111111111111,\"#46039f\"],[0.2222222222222222,\"#7201a8\"],[0.3333333333333333,\"#9c179e\"],[0.4444444444444444,\"#bd3786\"],[0.5555555555555556,\"#d8576b\"],[0.6666666666666666,\"#ed7953\"],[0.7777777777777778,\"#fb9f3a\"],[0.8888888888888888,\"#fdca26\"],[1.0,\"#f0f921\"]]},\"colorway\":[\"#636efa\",\"#EF553B\",\"#00cc96\",\"#ab63fa\",\"#FFA15A\",\"#19d3f3\",\"#FF6692\",\"#B6E880\",\"#FF97FF\",\"#FECB52\"],\"font\":{\"color\":\"#2a3f5f\"},\"geo\":{\"bgcolor\":\"white\",\"lakecolor\":\"white\",\"landcolor\":\"#E5ECF6\",\"showlakes\":true,\"showland\":true,\"subunitcolor\":\"white\"},\"hoverlabel\":{\"align\":\"left\"},\"hovermode\":\"closest\",\"mapbox\":{\"style\":\"light\"},\"paper_bgcolor\":\"white\",\"plot_bgcolor\":\"#E5ECF6\",\"polar\":{\"angularaxis\":{\"gridcolor\":\"white\",\"linecolor\":\"white\",\"ticks\":\"\"},\"bgcolor\":\"#E5ECF6\",\"radialaxis\":{\"gridcolor\":\"white\",\"linecolor\":\"white\",\"ticks\":\"\"}},\"scene\":{\"xaxis\":{\"backgroundcolor\":\"#E5ECF6\",\"gridcolor\":\"white\",\"gridwidth\":2,\"linecolor\":\"white\",\"showbackground\":true,\"ticks\":\"\",\"zerolinecolor\":\"white\"},\"yaxis\":{\"backgroundcolor\":\"#E5ECF6\",\"gridcolor\":\"white\",\"gridwidth\":2,\"linecolor\":\"white\",\"showbackground\":true,\"ticks\":\"\",\"zerolinecolor\":\"white\"},\"zaxis\":{\"backgroundcolor\":\"#E5ECF6\",\"gridcolor\":\"white\",\"gridwidth\":2,\"linecolor\":\"white\",\"showbackground\":true,\"ticks\":\"\",\"zerolinecolor\":\"white\"}},\"shapedefaults\":{\"line\":{\"color\":\"#2a3f5f\"}},\"ternary\":{\"aaxis\":{\"gridcolor\":\"white\",\"linecolor\":\"white\",\"ticks\":\"\"},\"baxis\":{\"gridcolor\":\"white\",\"linecolor\":\"white\",\"ticks\":\"\"},\"bgcolor\":\"#E5ECF6\",\"caxis\":{\"gridcolor\":\"white\",\"linecolor\":\"white\",\"ticks\":\"\"}},\"title\":{\"x\":0.05},\"xaxis\":{\"automargin\":true,\"gridcolor\":\"white\",\"linecolor\":\"white\",\"ticks\":\"\",\"title\":{\"standoff\":15},\"zerolinecolor\":\"white\",\"zerolinewidth\":2},\"yaxis\":{\"automargin\":true,\"gridcolor\":\"white\",\"linecolor\":\"white\",\"ticks\":\"\",\"title\":{\"standoff\":15},\"zerolinecolor\":\"white\",\"zerolinewidth\":2}}},\"xaxis\":{\"anchor\":\"y\",\"domain\":[0.0,1.0],\"title\":{\"text\":\"bmi\"}},\"yaxis\":{\"anchor\":\"x\",\"domain\":[0.0,1.0],\"title\":{\"text\":\"charges\"}},\"legend\":{\"title\":{\"text\":\"smoker\"},\"tracegroupgap\":0},\"title\":{\"text\":\"BMI vs. Charges\"}},                        {\"responsive\": true}                    ).then(function(){\n",
              "                            \n",
              "var gd = document.getElementById('bc2ea7ee-33c7-4e4f-9aa6-d3f6d2403642');\n",
              "var x = new MutationObserver(function (mutations, observer) {{\n",
              "        var display = window.getComputedStyle(gd).display;\n",
              "        if (!display || display === 'none') {{\n",
              "            console.log([gd, 'removed!']);\n",
              "            Plotly.purge(gd);\n",
              "            observer.disconnect();\n",
              "        }}\n",
              "}});\n",
              "\n",
              "// Listen for the removal of the full notebook cells\n",
              "var notebookContainer = gd.closest('#notebook-container');\n",
              "if (notebookContainer) {{\n",
              "    x.observe(notebookContainer, {childList: true});\n",
              "}}\n",
              "\n",
              "// Listen for the clearing of the current output cell\n",
              "var outputEl = gd.closest('.output');\n",
              "if (outputEl) {{\n",
              "    x.observe(outputEl, {childList: true});\n",
              "}}\n",
              "\n",
              "                        })                };                            </script>        </div>\n",
              "</body>\n",
              "</html>"
            ]
          },
          "metadata": {}
        }
      ]
    },
    {
      "cell_type": "markdown",
      "source": [
        "It appears that for non-smokers, an increase in BMI doesn't seem to be related to an increase in medical charges. However, medical charges seem to be significantly higher for smokers with a BMI greater than 30."
      ],
      "metadata": {
        "id": "Pi5Bo5NL2ezF"
      }
    },
    {
      "cell_type": "markdown",
      "source": [
        "**Violin Plot -** A violin plot is a hybrid of a box plot and a kernel density plot, which shows peaks in the data. It is used to visualize the distribution of numerical data. Unlike a box plot that can only show summary statistics, violin plots depict summary statistics and the density of each variable."
      ],
      "metadata": {
        "id": "9ZE-DwN42gAK"
      }
    },
    {
      "cell_type": "markdown",
      "source": [
        "**Correlation Coefficient Value**\n",
        "As you can tell from the analysis, the values in some columns are more closely related to the values in \"charges\" compared to other columns. E.g. \"age\" and \"charges\" seem to grow together, whereas \"bmi\" and \"charges\" don't.\n",
        "\n",
        "This relationship is often expressed numerically using a measure called the correlation coefficient, which can be computed using the .corr method of a Pandas series."
      ],
      "metadata": {
        "id": "Lm4y3tPF_REu"
      }
    },
    {
      "cell_type": "code",
      "source": [
        "medical_df.charges.corr(medical_df.age)"
      ],
      "metadata": {
        "colab": {
          "base_uri": "https://localhost:8080/"
        },
        "id": "NwAT55bq2vnH",
        "outputId": "e50ef6e2-e2fa-4e6d-f1f9-dcdac5ba7c87"
      },
      "execution_count": null,
      "outputs": [
        {
          "output_type": "execute_result",
          "data": {
            "text/plain": [
              "0.2990081933306476"
            ]
          },
          "metadata": {},
          "execution_count": 14
        }
      ]
    },
    {
      "cell_type": "code",
      "source": [
        "medical_df.charges.corr(medical_df.bmi)\n",
        "\n",
        "# We can see there is higher corelation comparatively of charges with age compared to charges with bmi"
      ],
      "metadata": {
        "colab": {
          "base_uri": "https://localhost:8080/"
        },
        "id": "z2AtuKGD_bHk",
        "outputId": "7f1eaaf1-47ee-4283-db64-681d246f9e6b"
      },
      "execution_count": null,
      "outputs": [
        {
          "output_type": "execute_result",
          "data": {
            "text/plain": [
              "0.19834096883362895"
            ]
          },
          "metadata": {},
          "execution_count": 15
        }
      ]
    },
    {
      "cell_type": "code",
      "source": [
        "# To get for smoker, we need to encode 1 for smoker and 0 for non smoker because categorical features need to be converted into numerical features to be \n",
        "# able to be run correlation on it.\n",
        "\n",
        "smoker_values = {'no': 0, 'yes': 1}\n",
        "smoker_numeric = medical_df.smoker.map(smoker_values)  # mapping the values into a new column with yes mapping to 1 and no mapping to 0.\n",
        "medical_df.charges.corr(smoker_numeric)  # shape is (1338)\n",
        "\n"
      ],
      "metadata": {
        "colab": {
          "base_uri": "https://localhost:8080/"
        },
        "id": "TYE5yvCZArlX",
        "outputId": "3c786eb6-2676-44e1-d60c-17df49e57a74"
      },
      "execution_count": null,
      "outputs": [
        {
          "output_type": "execute_result",
          "data": {
            "text/plain": [
              "0.787251430498478"
            ]
          },
          "metadata": {},
          "execution_count": 16
        }
      ]
    },
    {
      "cell_type": "code",
      "source": [
        "# To find corr of each dimension with each dimension\n",
        "\n",
        "medical_df.corr()\n",
        "\n",
        "# We can see the highest is "
      ],
      "metadata": {
        "colab": {
          "base_uri": "https://localhost:8080/",
          "height": 174
        },
        "id": "zUB2hI1cBQHc",
        "outputId": "b4e0879c-93fd-4ca4-cc01-395a6c490c63"
      },
      "execution_count": null,
      "outputs": [
        {
          "output_type": "execute_result",
          "data": {
            "text/html": [
              "\n",
              "  <div id=\"df-45653e26-87d8-4f16-be3e-10cc0889a5c0\">\n",
              "    <div class=\"colab-df-container\">\n",
              "      <div>\n",
              "<style scoped>\n",
              "    .dataframe tbody tr th:only-of-type {\n",
              "        vertical-align: middle;\n",
              "    }\n",
              "\n",
              "    .dataframe tbody tr th {\n",
              "        vertical-align: top;\n",
              "    }\n",
              "\n",
              "    .dataframe thead th {\n",
              "        text-align: right;\n",
              "    }\n",
              "</style>\n",
              "<table border=\"1\" class=\"dataframe\">\n",
              "  <thead>\n",
              "    <tr style=\"text-align: right;\">\n",
              "      <th></th>\n",
              "      <th>age</th>\n",
              "      <th>bmi</th>\n",
              "      <th>children</th>\n",
              "      <th>charges</th>\n",
              "    </tr>\n",
              "  </thead>\n",
              "  <tbody>\n",
              "    <tr>\n",
              "      <th>age</th>\n",
              "      <td>1.000000</td>\n",
              "      <td>0.109272</td>\n",
              "      <td>0.042469</td>\n",
              "      <td>0.299008</td>\n",
              "    </tr>\n",
              "    <tr>\n",
              "      <th>bmi</th>\n",
              "      <td>0.109272</td>\n",
              "      <td>1.000000</td>\n",
              "      <td>0.012759</td>\n",
              "      <td>0.198341</td>\n",
              "    </tr>\n",
              "    <tr>\n",
              "      <th>children</th>\n",
              "      <td>0.042469</td>\n",
              "      <td>0.012759</td>\n",
              "      <td>1.000000</td>\n",
              "      <td>0.067998</td>\n",
              "    </tr>\n",
              "    <tr>\n",
              "      <th>charges</th>\n",
              "      <td>0.299008</td>\n",
              "      <td>0.198341</td>\n",
              "      <td>0.067998</td>\n",
              "      <td>1.000000</td>\n",
              "    </tr>\n",
              "  </tbody>\n",
              "</table>\n",
              "</div>\n",
              "      <button class=\"colab-df-convert\" onclick=\"convertToInteractive('df-45653e26-87d8-4f16-be3e-10cc0889a5c0')\"\n",
              "              title=\"Convert this dataframe to an interactive table.\"\n",
              "              style=\"display:none;\">\n",
              "        \n",
              "  <svg xmlns=\"http://www.w3.org/2000/svg\" height=\"24px\"viewBox=\"0 0 24 24\"\n",
              "       width=\"24px\">\n",
              "    <path d=\"M0 0h24v24H0V0z\" fill=\"none\"/>\n",
              "    <path d=\"M18.56 5.44l.94 2.06.94-2.06 2.06-.94-2.06-.94-.94-2.06-.94 2.06-2.06.94zm-11 1L8.5 8.5l.94-2.06 2.06-.94-2.06-.94L8.5 2.5l-.94 2.06-2.06.94zm10 10l.94 2.06.94-2.06 2.06-.94-2.06-.94-.94-2.06-.94 2.06-2.06.94z\"/><path d=\"M17.41 7.96l-1.37-1.37c-.4-.4-.92-.59-1.43-.59-.52 0-1.04.2-1.43.59L10.3 9.45l-7.72 7.72c-.78.78-.78 2.05 0 2.83L4 21.41c.39.39.9.59 1.41.59.51 0 1.02-.2 1.41-.59l7.78-7.78 2.81-2.81c.8-.78.8-2.07 0-2.86zM5.41 20L4 18.59l7.72-7.72 1.47 1.35L5.41 20z\"/>\n",
              "  </svg>\n",
              "      </button>\n",
              "      \n",
              "  <style>\n",
              "    .colab-df-container {\n",
              "      display:flex;\n",
              "      flex-wrap:wrap;\n",
              "      gap: 12px;\n",
              "    }\n",
              "\n",
              "    .colab-df-convert {\n",
              "      background-color: #E8F0FE;\n",
              "      border: none;\n",
              "      border-radius: 50%;\n",
              "      cursor: pointer;\n",
              "      display: none;\n",
              "      fill: #1967D2;\n",
              "      height: 32px;\n",
              "      padding: 0 0 0 0;\n",
              "      width: 32px;\n",
              "    }\n",
              "\n",
              "    .colab-df-convert:hover {\n",
              "      background-color: #E2EBFA;\n",
              "      box-shadow: 0px 1px 2px rgba(60, 64, 67, 0.3), 0px 1px 3px 1px rgba(60, 64, 67, 0.15);\n",
              "      fill: #174EA6;\n",
              "    }\n",
              "\n",
              "    [theme=dark] .colab-df-convert {\n",
              "      background-color: #3B4455;\n",
              "      fill: #D2E3FC;\n",
              "    }\n",
              "\n",
              "    [theme=dark] .colab-df-convert:hover {\n",
              "      background-color: #434B5C;\n",
              "      box-shadow: 0px 1px 3px 1px rgba(0, 0, 0, 0.15);\n",
              "      filter: drop-shadow(0px 1px 2px rgba(0, 0, 0, 0.3));\n",
              "      fill: #FFFFFF;\n",
              "    }\n",
              "  </style>\n",
              "\n",
              "      <script>\n",
              "        const buttonEl =\n",
              "          document.querySelector('#df-45653e26-87d8-4f16-be3e-10cc0889a5c0 button.colab-df-convert');\n",
              "        buttonEl.style.display =\n",
              "          google.colab.kernel.accessAllowed ? 'block' : 'none';\n",
              "\n",
              "        async function convertToInteractive(key) {\n",
              "          const element = document.querySelector('#df-45653e26-87d8-4f16-be3e-10cc0889a5c0');\n",
              "          const dataTable =\n",
              "            await google.colab.kernel.invokeFunction('convertToInteractive',\n",
              "                                                     [key], {});\n",
              "          if (!dataTable) return;\n",
              "\n",
              "          const docLinkHtml = 'Like what you see? Visit the ' +\n",
              "            '<a target=\"_blank\" href=https://colab.research.google.com/notebooks/data_table.ipynb>data table notebook</a>'\n",
              "            + ' to learn more about interactive tables.';\n",
              "          element.innerHTML = '';\n",
              "          dataTable['output_type'] = 'display_data';\n",
              "          await google.colab.output.renderOutput(dataTable, element);\n",
              "          const docLink = document.createElement('div');\n",
              "          docLink.innerHTML = docLinkHtml;\n",
              "          element.appendChild(docLink);\n",
              "        }\n",
              "      </script>\n",
              "    </div>\n",
              "  </div>\n",
              "  "
            ],
            "text/plain": [
              "               age       bmi  children   charges\n",
              "age       1.000000  0.109272  0.042469  0.299008\n",
              "bmi       0.109272  1.000000  0.012759  0.198341\n",
              "children  0.042469  0.012759  1.000000  0.067998\n",
              "charges   0.299008  0.198341  0.067998  1.000000"
            ]
          },
          "metadata": {},
          "execution_count": 17
        }
      ]
    },
    {
      "cell_type": "markdown",
      "source": [
        "**Heat Map** - A heat map is a data visualization technique that shows magnitude of a phenomenon as color in two dimensions. The variation in color may be by hue or intensity, giving obvious visual cues to the reader about how the phenomenon is clustered or varies over space. "
      ],
      "metadata": {
        "id": "bLVIwU58CBDD"
      }
    },
    {
      "cell_type": "code",
      "source": [
        "sns.heatmap(medical_df.corr(), cmap='Reds', annot=True)  # heatmap should be based on medical_df.corr() matrix, give it a red color and have label/annots \"on\"\n",
        "plt.title('Correlation Matrix');"
      ],
      "metadata": {
        "colab": {
          "base_uri": "https://localhost:8080/",
          "height": 397
        },
        "id": "xx5z9AihCEmP",
        "outputId": "a1de23f5-8cb9-4ebd-c9e3-577658ae4ae2"
      },
      "execution_count": null,
      "outputs": [
        {
          "output_type": "display_data",
          "data": {
            "image/png": "[encoded data removed]",
            "text/plain": [
              "<Figure size 720x432 with 2 Axes>"
            ]
          },
          "metadata": {
            "needs_background": "light"
          }
        }
      ]
    },
    {
      "cell_type": "markdown",
      "source": [
        "**Correlation vs causation fallacy:** Note that a high correlation cannot be used to interpret a cause-effect relationship between features. Two features \n",
        "X\n",
        " and \n",
        "Y\n",
        " can be correlated if \n",
        "X\n",
        " causes \n",
        "Y\n",
        " or if \n",
        "Y\n",
        " causes \n",
        "X\n",
        ", or if both are caused independently by some other factor \n",
        "Z\n",
        ", and the correlation will no longer hold true if one of the cause-effect relationships is broken. It's also possible that \n",
        "X\n",
        " are \n",
        "Y\n",
        " simply appear to be correlated because the sample is too small.\n",
        "\n",
        "While this may seem obvious, computers can't differentiate between correlation and causation, and decisions based on automated system can often have major consequences on society, so it's important to study why automated systems lead to a given result. Determining cause-effect relationships requires human insight."
      ],
      "metadata": {
        "id": "S-YugjbDKADY"
      }
    },
    {
      "cell_type": "markdown",
      "source": [
        "### Linear Regression using a Single Feature\n",
        "We now know that the \"smoker\" and \"age\" columns have the strongest correlation with \"charges\". Let's try to find a way of estimating the value of \"charges\" using the value of \"age\" for non-smokers. First, let's create a data frame containing just the data for non-smokers."
      ],
      "metadata": {
        "id": "T_QDbc94MOcH"
      }
    },
    {
      "cell_type": "markdown",
      "source": [
        "y\n",
        "=\n",
        "w\n",
        "x\n",
        "+\n",
        "b\n",
        " \n",
        "The line is characterized two numbers: \n",
        "w\n",
        " (called \"slope\") and \n",
        "b\n",
        " (called \"intercept\"). .... in fact this is called the weights  w and biases b in ML.\n",
        "\n",
        "Model\n",
        "In the above case, the x axis shows \"age\" and the y axis shows \"charges\". Thus, we're assume the following relationship between the two:\n",
        "\n",
        "c\n",
        "h\n",
        "a\n",
        "r\n",
        "g\n",
        "e\n",
        "s\n",
        "=\n",
        "w\n",
        "×\n",
        "a\n",
        "g\n",
        "e\n",
        "+\n",
        "b"
      ],
      "metadata": {
        "id": "9rg4ZgQHMXMX"
      }
    },
    {
      "cell_type": "code",
      "source": [
        "# sample fnction that takes in age, weight w and bias b and returns a basic value for the charges based on the formula charges = w*age + b\n",
        "def estimate_charges(age, w, b):\n",
        "    return w * age + b"
      ],
      "metadata": {
        "id": "o9nef3kJKBzy"
      },
      "execution_count": null,
      "outputs": []
    },
    {
      "cell_type": "code",
      "source": [
        "non_smoker_df = medical_df[medical_df.smoker == 'no']"
      ],
      "metadata": {
        "id": "1F10nqodOq3v"
      },
      "execution_count": null,
      "outputs": []
    },
    {
      "cell_type": "code",
      "source": [
        "w = 50\n",
        "b = 100"
      ],
      "metadata": {
        "id": "1upUHYKkO2Ol"
      },
      "execution_count": null,
      "outputs": []
    },
    {
      "cell_type": "code",
      "source": [
        "ages = non_smoker_df.age\n",
        "estimated_charges = estimate_charges(ages, w, b)"
      ],
      "metadata": {
        "id": "ThkhKc2OOl00"
      },
      "execution_count": null,
      "outputs": []
    },
    {
      "cell_type": "code",
      "source": [
        "# Plotting based on our w and b what should be the estimated charges\n",
        "\n",
        "plt.plot(ages, estimated_charges, 'r-o');\n",
        "plt.xlabel('Age');\n",
        "plt.ylabel('Estimated Charges');"
      ],
      "metadata": {
        "colab": {
          "base_uri": "https://localhost:8080/",
          "height": 395
        },
        "id": "KTMS7E29O854",
        "outputId": "aaba33f6-946d-4743-f70d-6550320ce93c"
      },
      "execution_count": null,
      "outputs": [
        {
          "output_type": "display_data",
          "data": {
            "image/png": "[encoded data removed]",
            "text/plain": [
              "<Figure size 720x432 with 1 Axes>"
            ]
          },
          "metadata": {
            "needs_background": "light"
          }
        }
      ]
    },
    {
      "cell_type": "code",
      "source": [
        "# Now let's see how does our estimated charges based on just the age do with our assumptions on weights and biases compared to the actual charges \n",
        "\n",
        "actual_charges = non_smoker_df.charges  # actual charges \n",
        "\n",
        "plt.plot(ages, estimated_charges, 'r', alpha=0.9);  # plotting the first plot of estimated charges\n",
        "plt.scatter(ages, actual_charges, s=8,alpha=0.8);  # plotting the second plot of actual charges. \n",
        "plt.xlabel('Age');\n",
        "plt.ylabel('Charges')\n",
        "plt.legend(['Estimate', 'Actual']);\n",
        "\n",
        "# we can see our estimation is a flop because it no where close to the trend line... maybe we need to move our weights up and down.\n",
        "# Actually moving this weight for million of values is what ML/Deep learning is all about. Shook Pikachu face!!!! "
      ],
      "metadata": {
        "colab": {
          "base_uri": "https://localhost:8080/",
          "height": 395
        },
        "id": "aCJDMQDjPN-u",
        "outputId": "01b36917-d391-4b37-8a27-41027ec8c438"
      },
      "execution_count": null,
      "outputs": [
        {
          "output_type": "display_data",
          "data": {
            "image/png": "[encoded data removed]",
            "text/plain": [
              "<Figure size 720x432 with 1 Axes>"
            ]
          },
          "metadata": {
            "needs_background": "light"
          }
        }
      ]
    },
    {
      "cell_type": "code",
      "source": [
        "# Writing a Helper Function for this \n",
        "def try_parameters(w, b):\n",
        "    ages = non_smoker_df.age\n",
        "    target = non_smoker_df.charges\n",
        "    predictions = estimate_charges(ages, w, b)\n",
        "    \n",
        "    plt.plot(ages, predictions, 'r', alpha=0.9);\n",
        "    plt.scatter(ages, target, s=8,alpha=0.8);\n",
        "    plt.xlabel('Age');\n",
        "    plt.ylabel('Charges')\n",
        "    plt.legend(['Prediction', 'Actual']);\n",
        "    \n",
        "    loss = rmse(target, predictions)\n",
        "    print(\"RMSE Loss: \", loss)"
      ],
      "metadata": {
        "id": "BaPNub7yMG8h"
      },
      "execution_count": null,
      "outputs": []
    },
    {
      "cell_type": "code",
      "source": [
        "# Writing code for Root Mean Squared Error \n",
        "\n",
        "import numpy as np\n"
      ],
      "metadata": {
        "id": "6p49efrsEwMk"
      },
      "execution_count": null,
      "outputs": []
    },
    {
      "cell_type": "code",
      "source": [
        "def rmse(targets, predictions):\n",
        "    return np.sqrt(np.mean(np.square(targets - predictions)))  # just doing all the steps in calculation of a RMSE... take differemce, square them to remove -ve signs and then take \n",
        "    # average and then take a square root..... its in the name -- ROOT MEAN SQUARED ERROR."
      ],
      "metadata": {
        "id": "oIracKTUE6pJ"
      },
      "execution_count": null,
      "outputs": []
    },
    {
      "cell_type": "code",
      "source": [
        "# Now we have a way to measure our varying weights and biases (w,b) we give the linear regression model. So let's call with w = 50, b = 100\n",
        "\n",
        "try_parameters(50,100)\n",
        "\n",
        "# This means that our model is 8461 dollars off on averge from the actual values. Pretty bad we would say since most values lie between 2000 - 15000 from the below plot\n",
        "# And we see that our line is below so we need to increase our weights.... Let's try with w = 200"
      ],
      "metadata": {
        "colab": {
          "base_uri": "https://localhost:8080/",
          "height": 414
        },
        "id": "fN8QWpYXFeGX",
        "outputId": "056727cf-6dc6-4c52-f772-241059566c71"
      },
      "execution_count": null,
      "outputs": [
        {
          "output_type": "stream",
          "name": "stdout",
          "text": [
            "RMSE Loss:  8461.949562575488\n"
          ]
        },
        {
          "output_type": "display_data",
          "data": {
            "image/png": "[encoded data removed]",
            "text/plain": [
              "<Figure size 720x432 with 1 Axes>"
            ]
          },
          "metadata": {
            "needs_background": "light"
          }
        }
      ]
    },
    {
      "cell_type": "code",
      "source": [
        "try_parameters(200,100) ## MUCH MUCH BETTER .... RMSE is only 4000 off.. let's see if we can improve any further\n"
      ],
      "metadata": {
        "colab": {
          "base_uri": "https://localhost:8080/",
          "height": 414
        },
        "id": "WVvjDBKsNbhJ",
        "outputId": "32b4a108-8842-4660-93a1-2ee6157c4c8b"
      },
      "execution_count": null,
      "outputs": [
        {
          "output_type": "stream",
          "name": "stdout",
          "text": [
            "RMSE Loss:  4779.554003723564\n"
          ]
        },
        {
          "output_type": "display_data",
          "data": {
            "image/png": "[encoded data removed]",
            "text/plain": [
              "<Figure size 720x432 with 1 Axes>"
            ]
          },
          "metadata": {
            "needs_background": "light"
          }
        }
      ]
    },
    {
      "cell_type": "code",
      "source": [
        "try_parameters(210,75) ## So far the best.... little more improvement from the above one.\n"
      ],
      "metadata": {
        "colab": {
          "base_uri": "https://localhost:8080/",
          "height": 414
        },
        "id": "Kxrlk2B9NlR5",
        "outputId": "56085aa0-ac40-4bc3-f871-5f3f75170efb"
      },
      "execution_count": null,
      "outputs": [
        {
          "output_type": "stream",
          "name": "stdout",
          "text": [
            "RMSE Loss:  4732.463349255093\n"
          ]
        },
        {
          "output_type": "display_data",
          "data": {
            "image/png": "[encoded data removed]",
            "text/plain": [
              "<Figure size 720x432 with 1 Axes>"
            ]
          },
          "metadata": {
            "needs_background": "light"
          }
        }
      ]
    },
    {
      "cell_type": "code",
      "source": [
        "# now let's look at building the Linear Regression model from SCIKIT LEARN\n",
        "!pip install scikit-learn --quiet"
      ],
      "metadata": {
        "id": "nFfZ1bDcSuYm"
      },
      "execution_count": null,
      "outputs": []
    },
    {
      "cell_type": "code",
      "source": [
        "from sklearn.linear_model import LinearRegression\n",
        "model = LinearRegression()\n",
        "help(model.fit)  # HELP TELLS WHAT THE FUNCTION DOES VERY USEFUL !!!!"
      ],
      "metadata": {
        "colab": {
          "base_uri": "https://localhost:8080/"
        },
        "id": "y_wjNVJPS451",
        "outputId": "1e4b8e24-8277-4bb0-bd40-8dc9f48c4cb7"
      },
      "execution_count": null,
      "outputs": [
        {
          "output_type": "stream",
          "name": "stdout",
          "text": [
            "Help on method fit in module sklearn.linear_model._base:\n",
            "\n",
            "fit(X, y, sample_weight=None) method of sklearn.linear_model._base.LinearRegression instance\n",
            "    Fit linear model.\n",
            "    \n",
            "    Parameters\n",
            "    ----------\n",
            "    X : {array-like, sparse matrix} of shape (n_samples, n_features)\n",
            "        Training data.\n",
            "    \n",
            "    y : array-like of shape (n_samples,) or (n_samples, n_targets)\n",
            "        Target values. Will be cast to X's dtype if necessary.\n",
            "    \n",
            "    sample_weight : array-like of shape (n_samples,), default=None\n",
            "        Individual weights for each sample.\n",
            "    \n",
            "        .. versionadded:: 0.17\n",
            "           parameter *sample_weight* support to LinearRegression.\n",
            "    \n",
            "    Returns\n",
            "    -------\n",
            "    self : object\n",
            "        Fitted Estimator.\n",
            "\n"
          ]
        }
      ]
    },
    {
      "cell_type": "code",
      "source": [
        "# Not that the input X must be a 2-d array, so we'll need to pass a dataframe, instead of a single column.\n",
        "\n",
        "inputs = non_smoker_df[['age']]\n",
        "targets = non_smoker_df.charges\n",
        "print('inputs.shape :', inputs.shape)\n",
        "print('targes.shape :', targets.shape)"
      ],
      "metadata": {
        "colab": {
          "base_uri": "https://localhost:8080/"
        },
        "id": "GmDu_10qe35q",
        "outputId": "6e495935-e25b-43bf-e1a9-a8a27d461873"
      },
      "execution_count": null,
      "outputs": [
        {
          "output_type": "stream",
          "name": "stdout",
          "text": [
            "inputs.shape : (1064, 1)\n",
            "targes.shape : (1064,)\n"
          ]
        }
      ]
    },
    {
      "cell_type": "code",
      "source": [
        "model.fit(inputs, targets)"
      ],
      "metadata": {
        "colab": {
          "base_uri": "https://localhost:8080/"
        },
        "id": "1ojDv2wBfG1T",
        "outputId": "5131513b-2205-4d68-c9d2-8c061a08c868"
      },
      "execution_count": null,
      "outputs": [
        {
          "output_type": "execute_result",
          "data": {
            "text/plain": [
              "LinearRegression()"
            ]
          },
          "metadata": {},
          "execution_count": 34
        }
      ]
    },
    {
      "cell_type": "code",
      "source": [
        "# We can now make predictions using the model. Let's try predicting the charges for the ages 23, 37 and 61\n",
        "model.predict(np.array([[23], [37], [61]]))\n"
      ],
      "metadata": {
        "colab": {
          "base_uri": "https://localhost:8080/"
        },
        "id": "mHyI-3S7fLvN",
        "outputId": "1931a647-c6e1-4a70-8c52-9d8e58813e14"
      },
      "execution_count": null,
      "outputs": [
        {
          "output_type": "stream",
          "name": "stderr",
          "text": [
            "/usr/local/lib/python3.7/dist-packages/sklearn/base.py:451: UserWarning:\n",
            "\n",
            "X does not have valid feature names, but LinearRegression was fitted with feature names\n",
            "\n"
          ]
        },
        {
          "output_type": "execute_result",
          "data": {
            "text/plain": [
              "array([ 4055.30443855,  7796.78921819, 14210.76312614])"
            ]
          },
          "metadata": {},
          "execution_count": 35
        }
      ]
    },
    {
      "cell_type": "code",
      "source": [
        "# X does not have valid feature names, but LinearRegression was fitted with feature names\n",
        "predictions = model.predict(inputs)\n",
        "predictions\n"
      ],
      "metadata": {
        "colab": {
          "base_uri": "https://localhost:8080/"
        },
        "id": "2fJjt8ifgy3E",
        "outputId": "c11e6d4a-9d7d-4f67-ee0f-c33923e0e0ab"
      },
      "execution_count": null,
      "outputs": [
        {
          "output_type": "execute_result",
          "data": {
            "text/plain": [
              "array([2719.0598744 , 5391.54900271, 6727.79356686, ..., 2719.0598744 ,\n",
              "       2719.0598744 , 3520.80661289])"
            ]
          },
          "metadata": {},
          "execution_count": 36
        }
      ]
    },
    {
      "cell_type": "code",
      "source": [
        "rmse(targets, predictions)"
      ],
      "metadata": {
        "colab": {
          "base_uri": "https://localhost:8080/"
        },
        "id": "6G_2xeJKhCrq",
        "outputId": "6da180c4-9b2f-4563-a188-3918c66b7b08"
      },
      "execution_count": null,
      "outputs": [
        {
          "output_type": "execute_result",
          "data": {
            "text/plain": [
              "4662.505766636391"
            ]
          },
          "metadata": {},
          "execution_count": 37
        }
      ]
    },
    {
      "cell_type": "code",
      "source": [
        "# Seems like our prediction is off by $4000 on average, which is not too bad considering the fact that there are several outliers.\n",
        "\n",
        "# The parameters of the model are stored in the coef_ and intercept_ properties.\n",
        "\n",
        "# w\n",
        "model.coef_\n"
      ],
      "metadata": {
        "colab": {
          "base_uri": "https://localhost:8080/"
        },
        "id": "sCdRxz37hGu8",
        "outputId": "3488644f-f857-4dce-cee5-19e91d0c714e"
      },
      "execution_count": null,
      "outputs": [
        {
          "output_type": "execute_result",
          "data": {
            "text/plain": [
              "array([267.24891283])"
            ]
          },
          "metadata": {},
          "execution_count": 38
        }
      ]
    },
    {
      "cell_type": "code",
      "source": [
        "# b\n",
        "model.intercept_"
      ],
      "metadata": {
        "colab": {
          "base_uri": "https://localhost:8080/"
        },
        "id": "k2ngKdNBhV-t",
        "outputId": "5e504c76-88ff-469b-8fc6-127a73fb3567"
      },
      "execution_count": null,
      "outputs": [
        {
          "output_type": "execute_result",
          "data": {
            "text/plain": [
              "-2091.4205565650864"
            ]
          },
          "metadata": {},
          "execution_count": 39
        }
      ]
    },
    {
      "cell_type": "code",
      "source": [
        "# Now let's look at SGD Regressor\n",
        "from sklearn.linear_model import SGDRegressor\n",
        "\n",
        "model2 = SGDRegressor()\n",
        "inputs = non_smoker_df[['age']]\n",
        "targets = non_smoker_df.charges\n",
        "print('inputs.shape :', inputs.shape)\n",
        "print('targes.shape :', targets.shape)\n",
        "model2.fit(inputs, targets)\n",
        "model2.predict(np.array([[23], [37], [61]]))\n"
      ],
      "metadata": {
        "colab": {
          "base_uri": "https://localhost:8080/"
        },
        "id": "w1kgU4mejYI7",
        "outputId": "ccef4274-565c-4f5c-d586-fb28eef074a8"
      },
      "execution_count": null,
      "outputs": [
        {
          "output_type": "stream",
          "name": "stdout",
          "text": [
            "inputs.shape : (1064, 1)\n",
            "targes.shape : (1064,)\n"
          ]
        },
        {
          "output_type": "stream",
          "name": "stderr",
          "text": [
            "/usr/local/lib/python3.7/dist-packages/sklearn/base.py:451: UserWarning:\n",
            "\n",
            "X does not have valid feature names, but SGDRegressor was fitted with feature names\n",
            "\n"
          ]
        },
        {
          "output_type": "execute_result",
          "data": {
            "text/plain": [
              "array([ 2400.44791391,  6227.77166896, 12788.89810619])"
            ]
          },
          "metadata": {},
          "execution_count": 40
        }
      ]
    },
    {
      "cell_type": "code",
      "source": [
        "# Now putting prediction in df \n",
        "predictions2 = model2.predict(inputs)\n",
        "predictions2"
      ],
      "metadata": {
        "colab": {
          "base_uri": "https://localhost:8080/"
        },
        "id": "Ejcv0gZlkT02",
        "outputId": "dd8a9105-e20a-423f-c7ed-3faebebbb9f6"
      },
      "execution_count": null,
      "outputs": [
        {
          "output_type": "execute_result",
          "data": {
            "text/plain": [
              "array([1033.54657282, 3767.349255  , 5134.25059609, ..., 1033.54657282,\n",
              "       1033.54657282, 1853.68737747])"
            ]
          },
          "metadata": {},
          "execution_count": 41
        }
      ]
    },
    {
      "cell_type": "code",
      "source": [
        "rmse(targets, predictions2)\n",
        "\n",
        "# SGD is pretty bad lol.... very shit. "
      ],
      "metadata": {
        "colab": {
          "base_uri": "https://localhost:8080/"
        },
        "id": "l2UxyMZhkLzx",
        "outputId": "e6d6f7bc-38be-4a8e-9376-8306dc6bf070"
      },
      "execution_count": null,
      "outputs": [
        {
          "output_type": "execute_result",
          "data": {
            "text/plain": [
              "4915.541119054136"
            ]
          },
          "metadata": {},
          "execution_count": 42
        }
      ]
    },
    {
      "cell_type": "code",
      "source": [
        "# Now let's build a Regressor model for Age of Smokers vs Charges...... The first model we made was for the Age of Non Smokers vs Charges\n",
        "\n",
        "# model variable still holds the object for the LinearRegression()\n",
        "\n",
        "smoker_df = medical_df[medical_df.smoker == 'yes']\n",
        "smoker_df.shape\n",
        "\n"
      ],
      "metadata": {
        "colab": {
          "base_uri": "https://localhost:8080/"
        },
        "id": "ekhYigw_kLqL",
        "outputId": "f432f9c1-7848-47e9-c24c-97d13b7fb504"
      },
      "execution_count": null,
      "outputs": [
        {
          "output_type": "execute_result",
          "data": {
            "text/plain": [
              "(274, 7)"
            ]
          },
          "metadata": {},
          "execution_count": 43
        }
      ]
    },
    {
      "cell_type": "code",
      "source": [
        "inputs3 = smoker_df[['age']]\n",
        "targets3 = smoker_df.charges\n",
        "print('inputs.shape :', inputs3.shape)\n",
        "print('targets.shape :', targets3.shape)\n",
        "\n",
        "model.fit(inputs3, targets3)\n",
        "model.predict(np.array([[23], [37], [61]]))\n",
        "\n"
      ],
      "metadata": {
        "colab": {
          "base_uri": "https://localhost:8080/"
        },
        "id": "_3X7YwYmmNyQ",
        "outputId": "f649fa62-0932-4262-9cc9-9f58272d0dae"
      },
      "execution_count": null,
      "outputs": [
        {
          "output_type": "stream",
          "name": "stdout",
          "text": [
            "inputs.shape : (274, 1)\n",
            "targets.shape : (274,)\n"
          ]
        },
        {
          "output_type": "stream",
          "name": "stderr",
          "text": [
            "/usr/local/lib/python3.7/dist-packages/sklearn/base.py:451: UserWarning:\n",
            "\n",
            "X does not have valid feature names, but LinearRegression was fitted with feature names\n",
            "\n"
          ]
        },
        {
          "output_type": "execute_result",
          "data": {
            "text/plain": [
              "array([27314.59297544, 31587.91940498, 38913.62185562])"
            ]
          },
          "metadata": {},
          "execution_count": 44
        }
      ]
    },
    {
      "cell_type": "code",
      "source": [
        "predictions3 = model.predict(inputs3)\n",
        "predictions3"
      ],
      "metadata": {
        "colab": {
          "base_uri": "https://localhost:8080/"
        },
        "id": "1HZNKpNxnI2B",
        "outputId": "be0a2f93-a713-4911-ea52-ca2c4c2863ce"
      },
      "execution_count": null,
      "outputs": [
        {
          "output_type": "execute_result",
          "data": {
            "text/plain": [
              "array([26093.642567  , 39218.85945773, 28535.54338388, 29451.25619021,\n",
              "       30672.20659865, 29756.49379232, 27009.35537333, 28840.78098599,\n",
              "       30977.44420076, 38608.38425351, 31282.68180287, 34945.53302819,\n",
              "       31282.68180287, 37997.90904929, 25788.40496489, 36471.72103874,\n",
              "       26398.88016911, 28840.78098599, 28535.54338388, 27009.35537333,\n",
              "       31587.91940498, 34029.82022186, 37692.67144718, 38303.1466514 ,\n",
              "       39829.33466195, 37387.43384507, 31893.15700709, 38913.62185562,\n",
              "       26398.88016911, 39524.09705984, 29146.0185881 , 33724.58261975,\n",
              "       26093.642567  , 30061.73139443, 30672.20659865, 29451.25619021,\n",
              "       34335.05782397, 33114.10741553, 34945.53302819, 25788.40496489,\n",
              "       29451.25619021, 33114.10741553, 25788.40496489, 39524.09705984,\n",
              "       31282.68180287, 28535.54338388, 30977.44420076, 26093.642567  ,\n",
              "       33114.10741553, 32503.63221131, 26093.642567  , 27314.59297544,\n",
              "       39524.09705984, 25788.40496489, 39524.09705984, 36776.95864085,\n",
              "       35556.00823241, 37387.43384507, 26093.642567  , 26398.88016911,\n",
              "       36166.48343663, 26093.642567  , 34335.05782397, 32503.63221131,\n",
              "       35556.00823241, 32503.63221131, 36776.95864085, 38303.1466514 ,\n",
              "       27925.06817966, 26093.642567  , 34640.29542608, 29756.49379232,\n",
              "       36471.72103874, 33419.34501764, 28535.54338388, 30672.20659865,\n",
              "       34029.82022186, 39829.33466195, 38913.62185562, 36166.48343663,\n",
              "       35556.00823241, 26093.642567  , 28230.30578177, 27314.59297544,\n",
              "       32198.3946092 , 27619.83057755, 28535.54338388, 37082.19624296,\n",
              "       33724.58261975, 28230.30578177, 31282.68180287, 39524.09705984,\n",
              "       39829.33466195, 38913.62185562, 32503.63221131, 30366.96899654,\n",
              "       37387.43384507, 33114.10741553, 29451.25619021, 36776.95864085,\n",
              "       38913.62185562, 27619.83057755, 33724.58261975, 26704.11777122,\n",
              "       29146.0185881 , 35861.24583452, 26093.642567  , 32198.3946092 ,\n",
              "       33114.10741553, 37692.67144718, 36776.95864085, 35250.7706303 ,\n",
              "       33419.34501764, 30977.44420076, 34945.53302819, 29756.49379232,\n",
              "       30672.20659865, 26704.11777122, 26093.642567  , 38303.1466514 ,\n",
              "       29451.25619021, 34640.29542608, 35250.7706303 , 26093.642567  ,\n",
              "       31587.91940498, 25788.40496489, 33724.58261975, 32198.3946092 ,\n",
              "       33114.10741553, 36166.48343663, 39829.33466195, 33419.34501764,\n",
              "       32503.63221131, 39218.85945773, 33724.58261975, 38608.38425351,\n",
              "       32198.3946092 , 28535.54338388, 32808.86981342, 35861.24583452,\n",
              "       29451.25619021, 29146.0185881 , 30977.44420076, 31587.91940498,\n",
              "       27314.59297544, 29146.0185881 , 28535.54338388, 36471.72103874,\n",
              "       31587.91940498, 34640.29542608, 25788.40496489, 30366.96899654,\n",
              "       26093.642567  , 29451.25619021, 35556.00823241, 36471.72103874,\n",
              "       28535.54338388, 30366.96899654, 25788.40496489, 34640.29542608,\n",
              "       30366.96899654, 37387.43384507, 31282.68180287, 32808.86981342,\n",
              "       27314.59297544, 37692.67144718, 38608.38425351, 31587.91940498,\n",
              "       34335.05782397, 35250.7706303 , 34945.53302819, 27925.06817966,\n",
              "       31587.91940498, 35861.24583452, 30061.73139443, 37692.67144718,\n",
              "       39829.33466195, 34640.29542608, 33419.34501764, 38608.38425351,\n",
              "       30061.73139443, 25788.40496489, 33419.34501764, 34029.82022186,\n",
              "       31587.91940498, 27925.06817966, 35861.24583452, 33724.58261975,\n",
              "       30672.20659865, 36776.95864085, 33419.34501764, 35861.24583452,\n",
              "       29146.0185881 , 29756.49379232, 27619.83057755, 28535.54338388,\n",
              "       29451.25619021, 27619.83057755, 34640.29542608, 33419.34501764,\n",
              "       27009.35537333, 34640.29542608, 26093.642567  , 34335.05782397,\n",
              "       37082.19624296, 25788.40496489, 27009.35537333, 34029.82022186,\n",
              "       30977.44420076, 26398.88016911, 33419.34501764, 27009.35537333,\n",
              "       35250.7706303 , 34640.29542608, 38303.1466514 , 31587.91940498,\n",
              "       28840.78098599, 32198.3946092 , 34640.29542608, 27009.35537333,\n",
              "       35861.24583452, 30366.96899654, 31893.15700709, 34945.53302819,\n",
              "       27925.06817966, 30366.96899654, 27314.59297544, 36471.72103874,\n",
              "       27314.59297544, 26093.642567  , 38608.38425351, 33419.34501764,\n",
              "       26093.642567  , 25788.40496489, 33419.34501764, 36166.48343663,\n",
              "       29756.49379232, 27314.59297544, 26398.88016911, 33419.34501764,\n",
              "       26093.642567  , 25788.40496489, 31282.68180287, 31587.91940498,\n",
              "       34335.05782397, 26398.88016911, 36166.48343663, 26398.88016911,\n",
              "       36166.48343663, 39829.33466195, 30061.73139443, 27619.83057755,\n",
              "       26398.88016911, 39829.33466195, 27619.83057755, 28230.30578177,\n",
              "       32198.3946092 , 34640.29542608, 25788.40496489, 38913.62185562,\n",
              "       26398.88016911, 26093.642567  , 34029.82022186, 39218.85945773,\n",
              "       33419.34501764, 33114.10741553, 29146.0185881 , 30061.73139443,\n",
              "       27925.06817966, 26093.642567  , 29451.25619021, 39218.85945773,\n",
              "       33114.10741553, 38913.62185562])"
            ]
          },
          "metadata": {},
          "execution_count": 45
        }
      ]
    },
    {
      "cell_type": "code",
      "source": [
        "rmse(targets3, predictions3)\n",
        "\n",
        "# Well given the range of the charges have increased, a +- of 10,711 is okayish, not too bad."
      ],
      "metadata": {
        "colab": {
          "base_uri": "https://localhost:8080/"
        },
        "id": "ndcCQDstnPkt",
        "outputId": "bbd1af8c-81c1-476c-c1e2-aeed19b13263"
      },
      "execution_count": null,
      "outputs": [
        {
          "output_type": "execute_result",
          "data": {
            "text/plain": [
              "10711.00334810241"
            ]
          },
          "metadata": {},
          "execution_count": 46
        }
      ]
    },
    {
      "cell_type": "markdown",
      "source": [
        "Every machine learning problem has three components:\n",
        "1. Model\n",
        "2. Cost Function\n",
        "3. Optimizer\n",
        "\n",
        "![SupervisedLearning.png](data:image/png;base64,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)\n",
        "\n"
      ],
      "metadata": {
        "id": "Bp0eUURqoErC"
      }
    },
    {
      "cell_type": "code",
      "source": [
        "# As we've seen above, it takes just a few lines of code to train a machine learning model using scikit-learn.\n",
        "\n",
        "# Create inputs and targets\n",
        "inputs, targets = non_smoker_df[['age']], non_smoker_df['charges']\n",
        "\n",
        "# Create and train the model\n",
        "model = LinearRegression().fit(inputs, targets)\n",
        "\n",
        "# Generate predictions\n",
        "predictions = model.predict(inputs)\n",
        "\n",
        "# Compute loss to evalute the model\n",
        "loss = rmse(targets, predictions)\n",
        "print('Loss:', loss)\n",
        "\n"
      ],
      "metadata": {
        "id": "3O7IE_IfoRgR",
        "colab": {
          "base_uri": "https://localhost:8080/"
        },
        "outputId": "e16e5f84-4fec-4ddb-9498-517c44020d43"
      },
      "execution_count": null,
      "outputs": [
        {
          "output_type": "stream",
          "name": "stdout",
          "text": [
            "Loss: 4662.505766636391\n"
          ]
        }
      ]
    },
    {
      "cell_type": "markdown",
      "source": [
        "### Linear Regression using Multiple Features\n",
        "\n",
        "c\n",
        "h\n",
        "a\n",
        "r\n",
        "g\n",
        "e\n",
        "s\n",
        "=\n",
        "w\n",
        "1\n",
        "×\n",
        "a\n",
        "g\n",
        "e\n",
        "+\n",
        "w\n",
        "2\n",
        "×\n",
        "b\n",
        "m\n",
        "i\n",
        "+\n",
        "b"
      ],
      "metadata": {
        "id": "dQG2692I47V8"
      }
    },
    {
      "cell_type": "markdown",
      "source": [
        "### Using Categorical Features for Machine Learning\n",
        "\n",
        "So far we've been using only numeric columns, since we can only perform computations with numbers. If we could use categorical columns like \"smoker\", we can train a single model for the entire dataset.\n",
        "\n",
        "To use the categorical columns, we simply need to convert them to numbers. There are three common techniques for doing this:\n",
        "\n",
        "1. If a categorical column has just two categories (it's called a binary category), then we can replace their values with 0 and 1.\n",
        "2. If a categorical column has more than 2 categories, we can perform one-hot encoding i.e. create a new column for each category with 1s and 0s.\n",
        "3. If the categories have a natural order (e.g. cold, neutral, warm, hot), then they can be converted to numbers (e.g. 1, 2, 3, 4) preserving the order. These are called ordinals"
      ],
      "metadata": {
        "id": "548JPPzEKlvP"
      }
    },
    {
      "cell_type": "code",
      "source": [
        "# Here, in this example, the smoker column is the categorica one with only binary categories i.e smoker and non smoker so we convert that into binary 0 and 1 \n",
        "sns.barplot(data=medical_df, x='smoker', y='charges');\n"
      ],
      "metadata": {
        "colab": {
          "base_uri": "https://localhost:8080/",
          "height": 401
        },
        "id": "0iwEEM4jMALh",
        "outputId": "894b81b5-fe94-4ead-db85-53d20089d53b"
      },
      "execution_count": null,
      "outputs": [
        {
          "output_type": "display_data",
          "data": {
            "image/png": "[encoded data removed]",
            "text/plain": [
              "<Figure size 720x432 with 1 Axes>"
            ]
          },
          "metadata": {
            "needs_background": "light"
          }
        }
      ]
    },
    {
      "cell_type": "code",
      "source": [
        "smoker_codes = {'no': 0, 'yes': 1}\n",
        "medical_df['smoker_code'] = medical_df.smoker.map(smoker_codes)  # maps the codes to the smoker column for no it is 0, and for yes it is 1."
      ],
      "metadata": {
        "id": "A2DpNPpb46wv"
      },
      "execution_count": null,
      "outputs": []
    },
    {
      "cell_type": "code",
      "source": [
        "medical_df.charges.corr(medical_df.smoker_code)"
      ],
      "metadata": {
        "id": "NKFZZLToMc5i",
        "outputId": "b0565608-aa6f-487c-cccd-c488e7e42444",
        "colab": {
          "base_uri": "https://localhost:8080/"
        }
      },
      "execution_count": null,
      "outputs": [
        {
          "output_type": "execute_result",
          "data": {
            "text/plain": [
              "0.787251430498478"
            ]
          },
          "metadata": {},
          "execution_count": 50
        }
      ]
    },
    {
      "cell_type": "code",
      "source": [
        "medical_df"
      ],
      "metadata": {
        "id": "bhksvkhnMfcn",
        "outputId": "b6d0a994-f1b2-46d5-fb26-dce9dd0213f0",
        "colab": {
          "base_uri": "https://localhost:8080/",
          "height": 423
        }
      },
      "execution_count": null,
      "outputs": [
        {
          "output_type": "execute_result",
          "data": {
            "text/html": [
              "\n",
              "  <div id=\"df-549fef7b-dcfe-4a2b-a3ba-7cd30e978006\">\n",
              "    <div class=\"colab-df-container\">\n",
              "      <div>\n",
              "<style scoped>\n",
              "    .dataframe tbody tr th:only-of-type {\n",
              "        vertical-align: middle;\n",
              "    }\n",
              "\n",
              "    .dataframe tbody tr th {\n",
              "        vertical-align: top;\n",
              "    }\n",
              "\n",
              "    .dataframe thead th {\n",
              "        text-align: right;\n",
              "    }\n",
              "</style>\n",
              "<table border=\"1\" class=\"dataframe\">\n",
              "  <thead>\n",
              "    <tr style=\"text-align: right;\">\n",
              "      <th></th>\n",
              "      <th>age</th>\n",
              "      <th>sex</th>\n",
              "      <th>bmi</th>\n",
              "      <th>children</th>\n",
              "      <th>smoker</th>\n",
              "      <th>region</th>\n",
              "      <th>charges</th>\n",
              "      <th>smoker_code</th>\n",
              "    </tr>\n",
              "  </thead>\n",
              "  <tbody>\n",
              "    <tr>\n",
              "      <th>0</th>\n",
              "      <td>19</td>\n",
              "      <td>female</td>\n",
              "      <td>27.900</td>\n",
              "      <td>0</td>\n",
              "      <td>yes</td>\n",
              "      <td>southwest</td>\n",
              "      <td>16884.92400</td>\n",
              "      <td>1</td>\n",
              "    </tr>\n",
              "    <tr>\n",
              "      <th>1</th>\n",
              "      <td>18</td>\n",
              "      <td>male</td>\n",
              "      <td>33.770</td>\n",
              "      <td>1</td>\n",
              "      <td>no</td>\n",
              "      <td>southeast</td>\n",
              "      <td>1725.55230</td>\n",
              "      <td>0</td>\n",
              "    </tr>\n",
              "    <tr>\n",
              "      <th>2</th>\n",
              "      <td>28</td>\n",
              "      <td>male</td>\n",
              "      <td>33.000</td>\n",
              "      <td>3</td>\n",
              "      <td>no</td>\n",
              "      <td>southeast</td>\n",
              "      <td>4449.46200</td>\n",
              "      <td>0</td>\n",
              "    </tr>\n",
              "    <tr>\n",
              "      <th>3</th>\n",
              "      <td>33</td>\n",
              "      <td>male</td>\n",
              "      <td>22.705</td>\n",
              "      <td>0</td>\n",
              "      <td>no</td>\n",
              "      <td>northwest</td>\n",
              "      <td>21984.47061</td>\n",
              "      <td>0</td>\n",
              "    </tr>\n",
              "    <tr>\n",
              "      <th>4</th>\n",
              "      <td>32</td>\n",
              "      <td>male</td>\n",
              "      <td>28.880</td>\n",
              "      <td>0</td>\n",
              "      <td>no</td>\n",
              "      <td>northwest</td>\n",
              "      <td>3866.85520</td>\n",
              "      <td>0</td>\n",
              "    </tr>\n",
              "    <tr>\n",
              "      <th>...</th>\n",
              "      <td>...</td>\n",
              "      <td>...</td>\n",
              "      <td>...</td>\n",
              "      <td>...</td>\n",
              "      <td>...</td>\n",
              "      <td>...</td>\n",
              "      <td>...</td>\n",
              "      <td>...</td>\n",
              "    </tr>\n",
              "    <tr>\n",
              "      <th>1333</th>\n",
              "      <td>50</td>\n",
              "      <td>male</td>\n",
              "      <td>30.970</td>\n",
              "      <td>3</td>\n",
              "      <td>no</td>\n",
              "      <td>northwest</td>\n",
              "      <td>10600.54830</td>\n",
              "      <td>0</td>\n",
              "    </tr>\n",
              "    <tr>\n",
              "      <th>1334</th>\n",
              "      <td>18</td>\n",
              "      <td>female</td>\n",
              "      <td>31.920</td>\n",
              "      <td>0</td>\n",
              "      <td>no</td>\n",
              "      <td>northeast</td>\n",
              "      <td>2205.98080</td>\n",
              "      <td>0</td>\n",
              "    </tr>\n",
              "    <tr>\n",
              "      <th>1335</th>\n",
              "      <td>18</td>\n",
              "      <td>female</td>\n",
              "      <td>36.850</td>\n",
              "      <td>0</td>\n",
              "      <td>no</td>\n",
              "      <td>southeast</td>\n",
              "      <td>1629.83350</td>\n",
              "      <td>0</td>\n",
              "    </tr>\n",
              "    <tr>\n",
              "      <th>1336</th>\n",
              "      <td>21</td>\n",
              "      <td>female</td>\n",
              "      <td>25.800</td>\n",
              "      <td>0</td>\n",
              "      <td>no</td>\n",
              "      <td>southwest</td>\n",
              "      <td>2007.94500</td>\n",
              "      <td>0</td>\n",
              "    </tr>\n",
              "    <tr>\n",
              "      <th>1337</th>\n",
              "      <td>61</td>\n",
              "      <td>female</td>\n",
              "      <td>29.070</td>\n",
              "      <td>0</td>\n",
              "      <td>yes</td>\n",
              "      <td>northwest</td>\n",
              "      <td>29141.36030</td>\n",
              "      <td>1</td>\n",
              "    </tr>\n",
              "  </tbody>\n",
              "</table>\n",
              "<p>1338 rows × 8 columns</p>\n",
              "</div>\n",
              "      <button class=\"colab-df-convert\" onclick=\"convertToInteractive('df-549fef7b-dcfe-4a2b-a3ba-7cd30e978006')\"\n",
              "              title=\"Convert this dataframe to an interactive table.\"\n",
              "              style=\"display:none;\">\n",
              "        \n",
              "  <svg xmlns=\"http://www.w3.org/2000/svg\" height=\"24px\"viewBox=\"0 0 24 24\"\n",
              "       width=\"24px\">\n",
              "    <path d=\"M0 0h24v24H0V0z\" fill=\"none\"/>\n",
              "    <path d=\"M18.56 5.44l.94 2.06.94-2.06 2.06-.94-2.06-.94-.94-2.06-.94 2.06-2.06.94zm-11 1L8.5 8.5l.94-2.06 2.06-.94-2.06-.94L8.5 2.5l-.94 2.06-2.06.94zm10 10l.94 2.06.94-2.06 2.06-.94-2.06-.94-.94-2.06-.94 2.06-2.06.94z\"/><path d=\"M17.41 7.96l-1.37-1.37c-.4-.4-.92-.59-1.43-.59-.52 0-1.04.2-1.43.59L10.3 9.45l-7.72 7.72c-.78.78-.78 2.05 0 2.83L4 21.41c.39.39.9.59 1.41.59.51 0 1.02-.2 1.41-.59l7.78-7.78 2.81-2.81c.8-.78.8-2.07 0-2.86zM5.41 20L4 18.59l7.72-7.72 1.47 1.35L5.41 20z\"/>\n",
              "  </svg>\n",
              "      </button>\n",
              "      \n",
              "  <style>\n",
              "    .colab-df-container {\n",
              "      display:flex;\n",
              "      flex-wrap:wrap;\n",
              "      gap: 12px;\n",
              "    }\n",
              "\n",
              "    .colab-df-convert {\n",
              "      background-color: #E8F0FE;\n",
              "      border: none;\n",
              "      border-radius: 50%;\n",
              "      cursor: pointer;\n",
              "      display: none;\n",
              "      fill: #1967D2;\n",
              "      height: 32px;\n",
              "      padding: 0 0 0 0;\n",
              "      width: 32px;\n",
              "    }\n",
              "\n",
              "    .colab-df-convert:hover {\n",
              "      background-color: #E2EBFA;\n",
              "      box-shadow: 0px 1px 2px rgba(60, 64, 67, 0.3), 0px 1px 3px 1px rgba(60, 64, 67, 0.15);\n",
              "      fill: #174EA6;\n",
              "    }\n",
              "\n",
              "    [theme=dark] .colab-df-convert {\n",
              "      background-color: #3B4455;\n",
              "      fill: #D2E3FC;\n",
              "    }\n",
              "\n",
              "    [theme=dark] .colab-df-convert:hover {\n",
              "      background-color: #434B5C;\n",
              "      box-shadow: 0px 1px 3px 1px rgba(0, 0, 0, 0.15);\n",
              "      filter: drop-shadow(0px 1px 2px rgba(0, 0, 0, 0.3));\n",
              "      fill: #FFFFFF;\n",
              "    }\n",
              "  </style>\n",
              "\n",
              "      <script>\n",
              "        const buttonEl =\n",
              "          document.querySelector('#df-549fef7b-dcfe-4a2b-a3ba-7cd30e978006 button.colab-df-convert');\n",
              "        buttonEl.style.display =\n",
              "          google.colab.kernel.accessAllowed ? 'block' : 'none';\n",
              "\n",
              "        async function convertToInteractive(key) {\n",
              "          const element = document.querySelector('#df-549fef7b-dcfe-4a2b-a3ba-7cd30e978006');\n",
              "          const dataTable =\n",
              "            await google.colab.kernel.invokeFunction('convertToInteractive',\n",
              "                                                     [key], {});\n",
              "          if (!dataTable) return;\n",
              "\n",
              "          const docLinkHtml = 'Like what you see? Visit the ' +\n",
              "            '<a target=\"_blank\" href=https://colab.research.google.com/notebooks/data_table.ipynb>data table notebook</a>'\n",
              "            + ' to learn more about interactive tables.';\n",
              "          element.innerHTML = '';\n",
              "          dataTable['output_type'] = 'display_data';\n",
              "          await google.colab.output.renderOutput(dataTable, element);\n",
              "          const docLink = document.createElement('div');\n",
              "          docLink.innerHTML = docLinkHtml;\n",
              "          element.appendChild(docLink);\n",
              "        }\n",
              "      </script>\n",
              "    </div>\n",
              "  </div>\n",
              "  "
            ],
            "text/plain": [
              "      age     sex     bmi  children smoker     region      charges  smoker_code\n",
              "0      19  female  27.900         0    yes  southwest  16884.92400            1\n",
              "1      18    male  33.770         1     no  southeast   1725.55230            0\n",
              "2      28    male  33.000         3     no  southeast   4449.46200            0\n",
              "3      33    male  22.705         0     no  northwest  21984.47061            0\n",
              "4      32    male  28.880         0     no  northwest   3866.85520            0\n",
              "...   ...     ...     ...       ...    ...        ...          ...          ...\n",
              "1333   50    male  30.970         3     no  northwest  10600.54830            0\n",
              "1334   18  female  31.920         0     no  northeast   2205.98080            0\n",
              "1335   18  female  36.850         0     no  southeast   1629.83350            0\n",
              "1336   21  female  25.800         0     no  southwest   2007.94500            0\n",
              "1337   61  female  29.070         0    yes  northwest  29141.36030            1\n",
              "\n",
              "[1338 rows x 8 columns]"
            ]
          },
          "metadata": {},
          "execution_count": 51
        }
      ]
    },
    {
      "cell_type": "markdown",
      "source": [
        "\n",
        "### One-hot Encoding\n",
        "\n",
        "The \"region\" column contains 4 values, so we'll need to use hot encoding and create a new column for each region.\n",
        "\n",
        "![](https://i.imgur.com/n8GuiOO.png)"
      ],
      "metadata": {
        "id": "RDtdbsBhRDfB"
      }
    },
    {
      "cell_type": "code",
      "source": [
        "sns.barplot(data=medical_df, x='region', y='charges');"
      ],
      "metadata": {
        "colab": {
          "base_uri": "https://localhost:8080/",
          "height": 395
        },
        "id": "LwYBBIUGRKYX",
        "outputId": "dda3b583-4371-470b-e26f-5daeb1b4bb8b"
      },
      "execution_count": null,
      "outputs": [
        {
          "output_type": "display_data",
          "data": {
            "image/png": "[encoded data removed]",
            "text/plain": [
              "<Figure size 720x432 with 1 Axes>"
            ]
          },
          "metadata": {
            "needs_background": "light"
          }
        }
      ]
    },
    {
      "cell_type": "code",
      "source": [
        "# ONE HOT ENCODING \n",
        "\n",
        "from sklearn import preprocessing\n",
        "enc = preprocessing.OneHotEncoder()\n",
        "enc.fit(medical_df[['region']])\n",
        "enc.categories_  # Categories has all the categories within the region column."
      ],
      "metadata": {
        "colab": {
          "base_uri": "https://localhost:8080/"
        },
        "id": "uJ-5mDKCQ9tI",
        "outputId": "fa4c0260-a33a-41f9-c269-c37240536b8d"
      },
      "execution_count": null,
      "outputs": [
        {
          "output_type": "execute_result",
          "data": {
            "text/plain": [
              "[array(['northeast', 'northwest', 'southeast', 'southwest'], dtype=object)]"
            ]
          },
          "metadata": {},
          "execution_count": 53
        }
      ]
    },
    {
      "cell_type": "code",
      "source": [
        "one_hot = enc.transform(medical_df[['region']]).toarray()\n",
        "one_hot"
      ],
      "metadata": {
        "colab": {
          "base_uri": "https://localhost:8080/"
        },
        "id": "BxRGZTkguj69",
        "outputId": "258815a5-bda5-44c5-b6d0-024cdfa5cf3e"
      },
      "execution_count": null,
      "outputs": [
        {
          "output_type": "execute_result",
          "data": {
            "text/plain": [
              "array([[0., 0., 0., 1.],\n",
              "       [0., 0., 1., 0.],\n",
              "       [0., 0., 1., 0.],\n",
              "       ...,\n",
              "       [0., 0., 1., 0.],\n",
              "       [0., 0., 0., 1.],\n",
              "       [0., 1., 0., 0.]])"
            ]
          },
          "metadata": {},
          "execution_count": 54
        }
      ]
    },
    {
      "cell_type": "code",
      "source": [
        "medical_df[['northeast', 'northwest', 'southeast', 'southwest']] = one_hot"
      ],
      "metadata": {
        "id": "T23lQOMpvQin"
      },
      "execution_count": null,
      "outputs": []
    },
    {
      "cell_type": "code",
      "source": [
        "medical_df"
      ],
      "metadata": {
        "colab": {
          "base_uri": "https://localhost:8080/",
          "height": 423
        },
        "id": "IqQPlpP6vXH5",
        "outputId": "da7ba4fe-bfa2-442f-a3fe-c97877ecce38"
      },
      "execution_count": null,
      "outputs": [
        {
          "output_type": "execute_result",
          "data": {
            "text/html": [
              "\n",
              "  <div id=\"df-c91f85b8-8043-4962-bbb6-aceb3ab5fe11\">\n",
              "    <div class=\"colab-df-container\">\n",
              "      <div>\n",
              "<style scoped>\n",
              "    .dataframe tbody tr th:only-of-type {\n",
              "        vertical-align: middle;\n",
              "    }\n",
              "\n",
              "    .dataframe tbody tr th {\n",
              "        vertical-align: top;\n",
              "    }\n",
              "\n",
              "    .dataframe thead th {\n",
              "        text-align: right;\n",
              "    }\n",
              "</style>\n",
              "<table border=\"1\" class=\"dataframe\">\n",
              "  <thead>\n",
              "    <tr style=\"text-align: right;\">\n",
              "      <th></th>\n",
              "      <th>age</th>\n",
              "      <th>sex</th>\n",
              "      <th>bmi</th>\n",
              "      <th>children</th>\n",
              "      <th>smoker</th>\n",
              "      <th>region</th>\n",
              "      <th>charges</th>\n",
              "      <th>smoker_code</th>\n",
              "      <th>northeast</th>\n",
              "      <th>northwest</th>\n",
              "      <th>southeast</th>\n",
              "      <th>southwest</th>\n",
              "    </tr>\n",
              "  </thead>\n",
              "  <tbody>\n",
              "    <tr>\n",
              "      <th>0</th>\n",
              "      <td>19</td>\n",
              "      <td>female</td>\n",
              "      <td>27.900</td>\n",
              "      <td>0</td>\n",
              "      <td>yes</td>\n",
              "      <td>southwest</td>\n",
              "      <td>16884.92400</td>\n",
              "      <td>1</td>\n",
              "      <td>0.0</td>\n",
              "      <td>0.0</td>\n",
              "      <td>0.0</td>\n",
              "      <td>1.0</td>\n",
              "    </tr>\n",
              "    <tr>\n",
              "      <th>1</th>\n",
              "      <td>18</td>\n",
              "      <td>male</td>\n",
              "      <td>33.770</td>\n",
              "      <td>1</td>\n",
              "      <td>no</td>\n",
              "      <td>southeast</td>\n",
              "      <td>1725.55230</td>\n",
              "      <td>0</td>\n",
              "      <td>0.0</td>\n",
              "      <td>0.0</td>\n",
              "      <td>1.0</td>\n",
              "      <td>0.0</td>\n",
              "    </tr>\n",
              "    <tr>\n",
              "      <th>2</th>\n",
              "      <td>28</td>\n",
              "      <td>male</td>\n",
              "      <td>33.000</td>\n",
              "      <td>3</td>\n",
              "      <td>no</td>\n",
              "      <td>southeast</td>\n",
              "      <td>4449.46200</td>\n",
              "      <td>0</td>\n",
              "      <td>0.0</td>\n",
              "      <td>0.0</td>\n",
              "      <td>1.0</td>\n",
              "      <td>0.0</td>\n",
              "    </tr>\n",
              "    <tr>\n",
              "      <th>3</th>\n",
              "      <td>33</td>\n",
              "      <td>male</td>\n",
              "      <td>22.705</td>\n",
              "      <td>0</td>\n",
              "      <td>no</td>\n",
              "      <td>northwest</td>\n",
              "      <td>21984.47061</td>\n",
              "      <td>0</td>\n",
              "      <td>0.0</td>\n",
              "      <td>1.0</td>\n",
              "      <td>0.0</td>\n",
              "      <td>0.0</td>\n",
              "    </tr>\n",
              "    <tr>\n",
              "      <th>4</th>\n",
              "      <td>32</td>\n",
              "      <td>male</td>\n",
              "      <td>28.880</td>\n",
              "      <td>0</td>\n",
              "      <td>no</td>\n",
              "      <td>northwest</td>\n",
              "      <td>3866.85520</td>\n",
              "      <td>0</td>\n",
              "      <td>0.0</td>\n",
              "      <td>1.0</td>\n",
              "      <td>0.0</td>\n",
              "      <td>0.0</td>\n",
              "    </tr>\n",
              "    <tr>\n",
              "      <th>...</th>\n",
              "      <td>...</td>\n",
              "      <td>...</td>\n",
              "      <td>...</td>\n",
              "      <td>...</td>\n",
              "      <td>...</td>\n",
              "      <td>...</td>\n",
              "      <td>...</td>\n",
              "      <td>...</td>\n",
              "      <td>...</td>\n",
              "      <td>...</td>\n",
              "      <td>...</td>\n",
              "      <td>...</td>\n",
              "    </tr>\n",
              "    <tr>\n",
              "      <th>1333</th>\n",
              "      <td>50</td>\n",
              "      <td>male</td>\n",
              "      <td>30.970</td>\n",
              "      <td>3</td>\n",
              "      <td>no</td>\n",
              "      <td>northwest</td>\n",
              "      <td>10600.54830</td>\n",
              "      <td>0</td>\n",
              "      <td>0.0</td>\n",
              "      <td>1.0</td>\n",
              "      <td>0.0</td>\n",
              "      <td>0.0</td>\n",
              "    </tr>\n",
              "    <tr>\n",
              "      <th>1334</th>\n",
              "      <td>18</td>\n",
              "      <td>female</td>\n",
              "      <td>31.920</td>\n",
              "      <td>0</td>\n",
              "      <td>no</td>\n",
              "      <td>northeast</td>\n",
              "      <td>2205.98080</td>\n",
              "      <td>0</td>\n",
              "      <td>1.0</td>\n",
              "      <td>0.0</td>\n",
              "      <td>0.0</td>\n",
              "      <td>0.0</td>\n",
              "    </tr>\n",
              "    <tr>\n",
              "      <th>1335</th>\n",
              "      <td>18</td>\n",
              "      <td>female</td>\n",
              "      <td>36.850</td>\n",
              "      <td>0</td>\n",
              "      <td>no</td>\n",
              "      <td>southeast</td>\n",
              "      <td>1629.83350</td>\n",
              "      <td>0</td>\n",
              "      <td>0.0</td>\n",
              "      <td>0.0</td>\n",
              "      <td>1.0</td>\n",
              "      <td>0.0</td>\n",
              "    </tr>\n",
              "    <tr>\n",
              "      <th>1336</th>\n",
              "      <td>21</td>\n",
              "      <td>female</td>\n",
              "      <td>25.800</td>\n",
              "      <td>0</td>\n",
              "      <td>no</td>\n",
              "      <td>southwest</td>\n",
              "      <td>2007.94500</td>\n",
              "      <td>0</td>\n",
              "      <td>0.0</td>\n",
              "      <td>0.0</td>\n",
              "      <td>0.0</td>\n",
              "      <td>1.0</td>\n",
              "    </tr>\n",
              "    <tr>\n",
              "      <th>1337</th>\n",
              "      <td>61</td>\n",
              "      <td>female</td>\n",
              "      <td>29.070</td>\n",
              "      <td>0</td>\n",
              "      <td>yes</td>\n",
              "      <td>northwest</td>\n",
              "      <td>29141.36030</td>\n",
              "      <td>1</td>\n",
              "      <td>0.0</td>\n",
              "      <td>1.0</td>\n",
              "      <td>0.0</td>\n",
              "      <td>0.0</td>\n",
              "    </tr>\n",
              "  </tbody>\n",
              "</table>\n",
              "<p>1338 rows × 12 columns</p>\n",
              "</div>\n",
              "      <button class=\"colab-df-convert\" onclick=\"convertToInteractive('df-c91f85b8-8043-4962-bbb6-aceb3ab5fe11')\"\n",
              "              title=\"Convert this dataframe to an interactive table.\"\n",
              "              style=\"display:none;\">\n",
              "        \n",
              "  <svg xmlns=\"http://www.w3.org/2000/svg\" height=\"24px\"viewBox=\"0 0 24 24\"\n",
              "       width=\"24px\">\n",
              "    <path d=\"M0 0h24v24H0V0z\" fill=\"none\"/>\n",
              "    <path d=\"M18.56 5.44l.94 2.06.94-2.06 2.06-.94-2.06-.94-.94-2.06-.94 2.06-2.06.94zm-11 1L8.5 8.5l.94-2.06 2.06-.94-2.06-.94L8.5 2.5l-.94 2.06-2.06.94zm10 10l.94 2.06.94-2.06 2.06-.94-2.06-.94-.94-2.06-.94 2.06-2.06.94z\"/><path d=\"M17.41 7.96l-1.37-1.37c-.4-.4-.92-.59-1.43-.59-.52 0-1.04.2-1.43.59L10.3 9.45l-7.72 7.72c-.78.78-.78 2.05 0 2.83L4 21.41c.39.39.9.59 1.41.59.51 0 1.02-.2 1.41-.59l7.78-7.78 2.81-2.81c.8-.78.8-2.07 0-2.86zM5.41 20L4 18.59l7.72-7.72 1.47 1.35L5.41 20z\"/>\n",
              "  </svg>\n",
              "      </button>\n",
              "      \n",
              "  <style>\n",
              "    .colab-df-container {\n",
              "      display:flex;\n",
              "      flex-wrap:wrap;\n",
              "      gap: 12px;\n",
              "    }\n",
              "\n",
              "    .colab-df-convert {\n",
              "      background-color: #E8F0FE;\n",
              "      border: none;\n",
              "      border-radius: 50%;\n",
              "      cursor: pointer;\n",
              "      display: none;\n",
              "      fill: #1967D2;\n",
              "      height: 32px;\n",
              "      padding: 0 0 0 0;\n",
              "      width: 32px;\n",
              "    }\n",
              "\n",
              "    .colab-df-convert:hover {\n",
              "      background-color: #E2EBFA;\n",
              "      box-shadow: 0px 1px 2px rgba(60, 64, 67, 0.3), 0px 1px 3px 1px rgba(60, 64, 67, 0.15);\n",
              "      fill: #174EA6;\n",
              "    }\n",
              "\n",
              "    [theme=dark] .colab-df-convert {\n",
              "      background-color: #3B4455;\n",
              "      fill: #D2E3FC;\n",
              "    }\n",
              "\n",
              "    [theme=dark] .colab-df-convert:hover {\n",
              "      background-color: #434B5C;\n",
              "      box-shadow: 0px 1px 3px 1px rgba(0, 0, 0, 0.15);\n",
              "      filter: drop-shadow(0px 1px 2px rgba(0, 0, 0, 0.3));\n",
              "      fill: #FFFFFF;\n",
              "    }\n",
              "  </style>\n",
              "\n",
              "      <script>\n",
              "        const buttonEl =\n",
              "          document.querySelector('#df-c91f85b8-8043-4962-bbb6-aceb3ab5fe11 button.colab-df-convert');\n",
              "        buttonEl.style.display =\n",
              "          google.colab.kernel.accessAllowed ? 'block' : 'none';\n",
              "\n",
              "        async function convertToInteractive(key) {\n",
              "          const element = document.querySelector('#df-c91f85b8-8043-4962-bbb6-aceb3ab5fe11');\n",
              "          const dataTable =\n",
              "            await google.colab.kernel.invokeFunction('convertToInteractive',\n",
              "                                                     [key], {});\n",
              "          if (!dataTable) return;\n",
              "\n",
              "          const docLinkHtml = 'Like what you see? Visit the ' +\n",
              "            '<a target=\"_blank\" href=https://colab.research.google.com/notebooks/data_table.ipynb>data table notebook</a>'\n",
              "            + ' to learn more about interactive tables.';\n",
              "          element.innerHTML = '';\n",
              "          dataTable['output_type'] = 'display_data';\n",
              "          await google.colab.output.renderOutput(dataTable, element);\n",
              "          const docLink = document.createElement('div');\n",
              "          docLink.innerHTML = docLinkHtml;\n",
              "          element.appendChild(docLink);\n",
              "        }\n",
              "      </script>\n",
              "    </div>\n",
              "  </div>\n",
              "  "
            ],
            "text/plain": [
              "      age     sex     bmi  children  ... northeast northwest  southeast  southwest\n",
              "0      19  female  27.900         0  ...       0.0       0.0        0.0        1.0\n",
              "1      18    male  33.770         1  ...       0.0       0.0        1.0        0.0\n",
              "2      28    male  33.000         3  ...       0.0       0.0        1.0        0.0\n",
              "3      33    male  22.705         0  ...       0.0       1.0        0.0        0.0\n",
              "4      32    male  28.880         0  ...       0.0       1.0        0.0        0.0\n",
              "...   ...     ...     ...       ...  ...       ...       ...        ...        ...\n",
              "1333   50    male  30.970         3  ...       0.0       1.0        0.0        0.0\n",
              "1334   18  female  31.920         0  ...       1.0       0.0        0.0        0.0\n",
              "1335   18  female  36.850         0  ...       0.0       0.0        1.0        0.0\n",
              "1336   21  female  25.800         0  ...       0.0       0.0        0.0        1.0\n",
              "1337   61  female  29.070         0  ...       0.0       1.0        0.0        0.0\n",
              "\n",
              "[1338 rows x 12 columns]"
            ]
          },
          "metadata": {},
          "execution_count": 56
        }
      ]
    },
    {
      "cell_type": "markdown",
      "source": [
        "Question to Ponder over ?\n",
        "\n",
        "Are two separate linear regression models, one for smokers and one of non-smokers, better than a single linear regression model? Why or why not? Try it out and see if you can justify your answer with data."
      ],
      "metadata": {
        "id": "vmAr2kBl3xt2"
      }
    },
    {
      "cell_type": "code",
      "source": [
        "# converting a categorical binary feature into a numerical feature.\n",
        "sex_codes = {'female': 0, 'male': 1}\n",
        "medical_df['sex_code'] = medical_df.sex.map(sex_codes)\n",
        "medical_df.charges.corr(medical_df.sex_code)\n",
        "\n",
        "# hence we can see that gender doesn't have too much role in defining charges."
      ],
      "metadata": {
        "colab": {
          "base_uri": "https://localhost:8080/"
        },
        "id": "DNFuD1y36Gqd",
        "outputId": "f1110ff6-4869-4f56-befb-1c23bccbd0db"
      },
      "execution_count": null,
      "outputs": [
        {
          "output_type": "execute_result",
          "data": {
            "text/plain": [
              "0.057292062202025484"
            ]
          },
          "metadata": {},
          "execution_count": 57
        }
      ]
    },
    {
      "cell_type": "code",
      "source": [
        "# Create inputs and targets\n",
        "input_cols = ['age', 'bmi', 'children', 'smoker_code', 'sex_code', 'northeast', 'northwest', 'southeast', 'southwest']\n",
        "inputs, targets = medical_df[input_cols], medical_df['charges']\n",
        "\n",
        "# Create and train the model\n",
        "model = LinearRegression().fit(inputs, targets)\n",
        "\n",
        "# Generate predictions\n",
        "predictions = model.predict(inputs)\n",
        "\n",
        "# Compute loss to evalute the model\n",
        "loss = rmse(targets, predictions)\n",
        "print('Loss:', loss)"
      ],
      "metadata": {
        "colab": {
          "base_uri": "https://localhost:8080/"
        },
        "id": "wYjZ7QIF579R",
        "outputId": "98e33918-cbee-4c5d-a200-7eb8702f9327"
      },
      "execution_count": null,
      "outputs": [
        {
          "output_type": "stream",
          "name": "stdout",
          "text": [
            "Loss: 6041.679651174453\n"
          ]
        }
      ]
    },
    {
      "cell_type": "markdown",
      "source": [
        "### Model Improvements\n",
        "Feature Scaling....\n",
        "Recall that due to regulatory requirements, we also need to explain the rationale behind the predictions our model.\n",
        "\n",
        "1. To compare the importance of each feature in the model, our first instinct might be to compare their weights.\n",
        "\n"
      ],
      "metadata": {
        "id": "r9ZPDKXd36FG"
      }
    },
    {
      "cell_type": "code",
      "source": [
        "weights_df = pd.DataFrame({\n",
        "    'feature': np.append(input_cols, 1),\n",
        "    'weight': np.append(model.coef_, model.intercept_)\n",
        "})\n",
        "weights_df"
      ],
      "metadata": {
        "colab": {
          "base_uri": "https://localhost:8080/",
          "height": 363
        },
        "id": "L0LeS9QJ31vP",
        "outputId": "0f9805f9-99ee-4be5-d94f-b574b0540c03"
      },
      "execution_count": null,
      "outputs": [
        {
          "output_type": "execute_result",
          "data": {
            "text/html": [
              "\n",
              "  <div id=\"df-5e1a4d30-f2db-425b-9f27-33a837bc64e5\">\n",
              "    <div class=\"colab-df-container\">\n",
              "      <div>\n",
              "<style scoped>\n",
              "    .dataframe tbody tr th:only-of-type {\n",
              "        vertical-align: middle;\n",
              "    }\n",
              "\n",
              "    .dataframe tbody tr th {\n",
              "        vertical-align: top;\n",
              "    }\n",
              "\n",
              "    .dataframe thead th {\n",
              "        text-align: right;\n",
              "    }\n",
              "</style>\n",
              "<table border=\"1\" class=\"dataframe\">\n",
              "  <thead>\n",
              "    <tr style=\"text-align: right;\">\n",
              "      <th></th>\n",
              "      <th>feature</th>\n",
              "      <th>weight</th>\n",
              "    </tr>\n",
              "  </thead>\n",
              "  <tbody>\n",
              "    <tr>\n",
              "      <th>0</th>\n",
              "      <td>age</td>\n",
              "      <td>256.856353</td>\n",
              "    </tr>\n",
              "    <tr>\n",
              "      <th>1</th>\n",
              "      <td>bmi</td>\n",
              "      <td>339.193454</td>\n",
              "    </tr>\n",
              "    <tr>\n",
              "      <th>2</th>\n",
              "      <td>children</td>\n",
              "      <td>475.500545</td>\n",
              "    </tr>\n",
              "    <tr>\n",
              "      <th>3</th>\n",
              "      <td>smoker_code</td>\n",
              "      <td>23848.534542</td>\n",
              "    </tr>\n",
              "    <tr>\n",
              "      <th>4</th>\n",
              "      <td>sex_code</td>\n",
              "      <td>-131.314359</td>\n",
              "    </tr>\n",
              "    <tr>\n",
              "      <th>5</th>\n",
              "      <td>northeast</td>\n",
              "      <td>587.009235</td>\n",
              "    </tr>\n",
              "    <tr>\n",
              "      <th>6</th>\n",
              "      <td>northwest</td>\n",
              "      <td>234.045336</td>\n",
              "    </tr>\n",
              "    <tr>\n",
              "      <th>7</th>\n",
              "      <td>southeast</td>\n",
              "      <td>-448.012814</td>\n",
              "    </tr>\n",
              "    <tr>\n",
              "      <th>8</th>\n",
              "      <td>southwest</td>\n",
              "      <td>-373.041756</td>\n",
              "    </tr>\n",
              "    <tr>\n",
              "      <th>9</th>\n",
              "      <td>1</td>\n",
              "      <td>-12525.547811</td>\n",
              "    </tr>\n",
              "  </tbody>\n",
              "</table>\n",
              "</div>\n",
              "      <button class=\"colab-df-convert\" onclick=\"convertToInteractive('df-5e1a4d30-f2db-425b-9f27-33a837bc64e5')\"\n",
              "              title=\"Convert this dataframe to an interactive table.\"\n",
              "              style=\"display:none;\">\n",
              "        \n",
              "  <svg xmlns=\"http://www.w3.org/2000/svg\" height=\"24px\"viewBox=\"0 0 24 24\"\n",
              "       width=\"24px\">\n",
              "    <path d=\"M0 0h24v24H0V0z\" fill=\"none\"/>\n",
              "    <path d=\"M18.56 5.44l.94 2.06.94-2.06 2.06-.94-2.06-.94-.94-2.06-.94 2.06-2.06.94zm-11 1L8.5 8.5l.94-2.06 2.06-.94-2.06-.94L8.5 2.5l-.94 2.06-2.06.94zm10 10l.94 2.06.94-2.06 2.06-.94-2.06-.94-.94-2.06-.94 2.06-2.06.94z\"/><path d=\"M17.41 7.96l-1.37-1.37c-.4-.4-.92-.59-1.43-.59-.52 0-1.04.2-1.43.59L10.3 9.45l-7.72 7.72c-.78.78-.78 2.05 0 2.83L4 21.41c.39.39.9.59 1.41.59.51 0 1.02-.2 1.41-.59l7.78-7.78 2.81-2.81c.8-.78.8-2.07 0-2.86zM5.41 20L4 18.59l7.72-7.72 1.47 1.35L5.41 20z\"/>\n",
              "  </svg>\n",
              "      </button>\n",
              "      \n",
              "  <style>\n",
              "    .colab-df-container {\n",
              "      display:flex;\n",
              "      flex-wrap:wrap;\n",
              "      gap: 12px;\n",
              "    }\n",
              "\n",
              "    .colab-df-convert {\n",
              "      background-color: #E8F0FE;\n",
              "      border: none;\n",
              "      border-radius: 50%;\n",
              "      cursor: pointer;\n",
              "      display: none;\n",
              "      fill: #1967D2;\n",
              "      height: 32px;\n",
              "      padding: 0 0 0 0;\n",
              "      width: 32px;\n",
              "    }\n",
              "\n",
              "    .colab-df-convert:hover {\n",
              "      background-color: #E2EBFA;\n",
              "      box-shadow: 0px 1px 2px rgba(60, 64, 67, 0.3), 0px 1px 3px 1px rgba(60, 64, 67, 0.15);\n",
              "      fill: #174EA6;\n",
              "    }\n",
              "\n",
              "    [theme=dark] .colab-df-convert {\n",
              "      background-color: #3B4455;\n",
              "      fill: #D2E3FC;\n",
              "    }\n",
              "\n",
              "    [theme=dark] .colab-df-convert:hover {\n",
              "      background-color: #434B5C;\n",
              "      box-shadow: 0px 1px 3px 1px rgba(0, 0, 0, 0.15);\n",
              "      filter: drop-shadow(0px 1px 2px rgba(0, 0, 0, 0.3));\n",
              "      fill: #FFFFFF;\n",
              "    }\n",
              "  </style>\n",
              "\n",
              "      <script>\n",
              "        const buttonEl =\n",
              "          document.querySelector('#df-5e1a4d30-f2db-425b-9f27-33a837bc64e5 button.colab-df-convert');\n",
              "        buttonEl.style.display =\n",
              "          google.colab.kernel.accessAllowed ? 'block' : 'none';\n",
              "\n",
              "        async function convertToInteractive(key) {\n",
              "          const element = document.querySelector('#df-5e1a4d30-f2db-425b-9f27-33a837bc64e5');\n",
              "          const dataTable =\n",
              "            await google.colab.kernel.invokeFunction('convertToInteractive',\n",
              "                                                     [key], {});\n",
              "          if (!dataTable) return;\n",
              "\n",
              "          const docLinkHtml = 'Like what you see? Visit the ' +\n",
              "            '<a target=\"_blank\" href=https://colab.research.google.com/notebooks/data_table.ipynb>data table notebook</a>'\n",
              "            + ' to learn more about interactive tables.';\n",
              "          element.innerHTML = '';\n",
              "          dataTable['output_type'] = 'display_data';\n",
              "          await google.colab.output.renderOutput(dataTable, element);\n",
              "          const docLink = document.createElement('div');\n",
              "          docLink.innerHTML = docLinkHtml;\n",
              "          element.appendChild(docLink);\n",
              "        }\n",
              "      </script>\n",
              "    </div>\n",
              "  </div>\n",
              "  "
            ],
            "text/plain": [
              "       feature        weight\n",
              "0          age    256.856353\n",
              "1          bmi    339.193454\n",
              "2     children    475.500545\n",
              "3  smoker_code  23848.534542\n",
              "4     sex_code   -131.314359\n",
              "5    northeast    587.009235\n",
              "6    northwest    234.045336\n",
              "7    southeast   -448.012814\n",
              "8    southwest   -373.041756\n",
              "9            1 -12525.547811"
            ]
          },
          "metadata": {},
          "execution_count": 59
        }
      ]
    },
    {
      "cell_type": "markdown",
      "source": [
        "While it seems like BMI and the \"northeast\" have a higher weight than age (which is absurd because age was the biggest factor in differentiating/coorelation) and then the next important factor was smoker/non smokers, keep in mind that the range of values for BMI is limited (15 to 40) and the \"northeast\" column only takes the values 0 and 1.\n",
        "\n",
        "**Because different columns have different ranges, we run into two issues:**\n",
        "\n",
        "1. We can't compare the weights of different column to identify which features are important.\n",
        "2. A column with a larger range of inputs may disproportionately affect the loss and dominate the optimization process.\n",
        "\n",
        "**For this reason, it's common practice to scale (or standardize) the values in numeric column by subtracting the mean and dividing by the standard deviation.**"
      ],
      "metadata": {
        "id": "2SPB8TXJ6idq"
      }
    },
    {
      "cell_type": "markdown",
      "source": [
        "![image.png](data:image/png;base64,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)"
      ],
      "metadata": {
        "id": "89CrsJXrOqJV"
      }
    },
    {
      "cell_type": "code",
      "source": [
        "# We can apply scaling using the StandardScaler class from scikit-learn.\n",
        "\n",
        "from sklearn.preprocessing import StandardScaler\n",
        "\n",
        "numeric_cols = ['age', 'bmi', 'children'] \n",
        "scaler = StandardScaler()\n",
        "scaler.fit(medical_df[numeric_cols])"
      ],
      "metadata": {
        "colab": {
          "base_uri": "https://localhost:8080/"
        },
        "id": "AfYRH9ceOthq",
        "outputId": "87742861-dba2-4aa1-900c-8ff865833af4"
      },
      "execution_count": null,
      "outputs": [
        {
          "output_type": "execute_result",
          "data": {
            "text/plain": [
              "StandardScaler()"
            ]
          },
          "metadata": {},
          "execution_count": 60
        }
      ]
    },
    {
      "cell_type": "code",
      "source": [
        "scaler.mean_"
      ],
      "metadata": {
        "colab": {
          "base_uri": "https://localhost:8080/"
        },
        "id": "jc2McUfin8wN",
        "outputId": "6c19bcf1-5f14-4ca5-caa0-e8e7cc3681ab"
      },
      "execution_count": null,
      "outputs": [
        {
          "output_type": "execute_result",
          "data": {
            "text/plain": [
              "array([39.20702541, 30.66339686,  1.09491779])"
            ]
          },
          "metadata": {},
          "execution_count": 61
        }
      ]
    },
    {
      "cell_type": "code",
      "source": [
        "scaler.var_"
      ],
      "metadata": {
        "colab": {
          "base_uri": "https://localhost:8080/"
        },
        "id": "e7oduI17n9ST",
        "outputId": "80896a02-a7eb-433b-fd1c-89a03b78835e"
      },
      "execution_count": null,
      "outputs": [
        {
          "output_type": "execute_result",
          "data": {
            "text/plain": [
              "array([197.25385199,  37.16008997,   1.45212664])"
            ]
          },
          "metadata": {},
          "execution_count": 62
        }
      ]
    },
    {
      "cell_type": "code",
      "source": [
        "scaled_inputs = scaler.transform(medical_df[numeric_cols])\n",
        "scaled_inputs"
      ],
      "metadata": {
        "colab": {
          "base_uri": "https://localhost:8080/"
        },
        "id": "eoOmpw7kotLc",
        "outputId": "26eb5d13-61c6-472d-a93e-b60065a6801a"
      },
      "execution_count": null,
      "outputs": [
        {
          "output_type": "execute_result",
          "data": {
            "text/plain": [
              "array([[-1.43876426, -0.45332   , -0.90861367],\n",
              "       [-1.50996545,  0.5096211 , -0.07876719],\n",
              "       [-0.79795355,  0.38330685,  1.58092576],\n",
              "       ...,\n",
              "       [-1.50996545,  1.0148781 , -0.90861367],\n",
              "       [-1.29636188, -0.79781341, -0.90861367],\n",
              "       [ 1.55168573, -0.26138796, -0.90861367]])"
            ]
          },
          "metadata": {},
          "execution_count": 63
        }
      ]
    },
    {
      "cell_type": "code",
      "source": [
        "cat_cols = ['smoker_code', 'sex_code', 'northeast', 'northwest', 'southeast', 'southwest']  # all the categorical columsn.\n",
        "categorical_data = medical_df[cat_cols].values\n",
        "categorical_data"
      ],
      "metadata": {
        "colab": {
          "base_uri": "https://localhost:8080/"
        },
        "id": "J8AqFg5HkMrw",
        "outputId": "73a613c8-e181-4721-fe29-70cf1ac444be"
      },
      "execution_count": null,
      "outputs": [
        {
          "output_type": "execute_result",
          "data": {
            "text/plain": [
              "array([[1., 0., 0., 0., 0., 1.],\n",
              "       [0., 1., 0., 0., 1., 0.],\n",
              "       [0., 1., 0., 0., 1., 0.],\n",
              "       ...,\n",
              "       [0., 0., 0., 0., 1., 0.],\n",
              "       [0., 0., 0., 0., 0., 1.],\n",
              "       [1., 0., 0., 1., 0., 0.]])"
            ]
          },
          "metadata": {},
          "execution_count": 65
        }
      ]
    },
    {
      "cell_type": "code",
      "source": [
        "inputs = np.concatenate((scaled_inputs, categorical_data), axis=1)  # concntenates both the dfs nuemrical + caterical on the vertical axis (side by side) into inuts variable.\n",
        "targets = medical_df.charges\n",
        "\n",
        "# Create and train the model\n",
        "model = LinearRegression().fit(inputs, targets)\n",
        "\n",
        "# Generate predictions\n",
        "predictions = model.predict(inputs)\n",
        "\n",
        "# Compute loss to evalute the model\n",
        "loss = rmse(targets, predictions)\n",
        "print('Loss:', loss)"
      ],
      "metadata": {
        "colab": {
          "base_uri": "https://localhost:8080/"
        },
        "id": "ekzSq6QfkOZY",
        "outputId": "dabe9da2-0bd2-4d29-db0d-f2c707befd8c"
      },
      "execution_count": null,
      "outputs": [
        {
          "output_type": "stream",
          "name": "stdout",
          "text": [
            "Loss: 6041.679651174454\n"
          ]
        }
      ]
    },
    {
      "cell_type": "code",
      "source": [
        "# Since the numerical columns have been standardized, now we can compare the weights of the columns properly.\n",
        "weights_df = pd.DataFrame({\n",
        "    'feature': np.append(numeric_cols + cat_cols, 1),\n",
        "    'weight': np.append(model.coef_, model.intercept_)\n",
        "})\n",
        "weights_df.sort_values('weight', ascending=False)\n",
        "\n",
        "# Now we can see being a smoker and age are the 2 features that have the highest effect on Charges. "
      ],
      "metadata": {
        "colab": {
          "base_uri": "https://localhost:8080/",
          "height": 363
        },
        "id": "6sKYNHM7mNFs",
        "outputId": "66febdd0-6516-467e-b247-92bee0c861cd"
      },
      "execution_count": null,
      "outputs": [
        {
          "output_type": "execute_result",
          "data": {
            "text/html": [
              "\n",
              "  <div id=\"df-008ac9a0-771f-4bac-b894-1ec7ad7b6f33\">\n",
              "    <div class=\"colab-df-container\">\n",
              "      <div>\n",
              "<style scoped>\n",
              "    .dataframe tbody tr th:only-of-type {\n",
              "        vertical-align: middle;\n",
              "    }\n",
              "\n",
              "    .dataframe tbody tr th {\n",
              "        vertical-align: top;\n",
              "    }\n",
              "\n",
              "    .dataframe thead th {\n",
              "        text-align: right;\n",
              "    }\n",
              "</style>\n",
              "<table border=\"1\" class=\"dataframe\">\n",
              "  <thead>\n",
              "    <tr style=\"text-align: right;\">\n",
              "      <th></th>\n",
              "      <th>feature</th>\n",
              "      <th>weight</th>\n",
              "    </tr>\n",
              "  </thead>\n",
              "  <tbody>\n",
              "    <tr>\n",
              "      <th>3</th>\n",
              "      <td>smoker_code</td>\n",
              "      <td>23848.534542</td>\n",
              "    </tr>\n",
              "    <tr>\n",
              "      <th>9</th>\n",
              "      <td>1</td>\n",
              "      <td>8466.483215</td>\n",
              "    </tr>\n",
              "    <tr>\n",
              "      <th>0</th>\n",
              "      <td>age</td>\n",
              "      <td>3607.472736</td>\n",
              "    </tr>\n",
              "    <tr>\n",
              "      <th>1</th>\n",
              "      <td>bmi</td>\n",
              "      <td>2067.691966</td>\n",
              "    </tr>\n",
              "    <tr>\n",
              "      <th>5</th>\n",
              "      <td>northeast</td>\n",
              "      <td>587.009235</td>\n",
              "    </tr>\n",
              "    <tr>\n",
              "      <th>2</th>\n",
              "      <td>children</td>\n",
              "      <td>572.998210</td>\n",
              "    </tr>\n",
              "    <tr>\n",
              "      <th>6</th>\n",
              "      <td>northwest</td>\n",
              "      <td>234.045336</td>\n",
              "    </tr>\n",
              "    <tr>\n",
              "      <th>4</th>\n",
              "      <td>sex_code</td>\n",
              "      <td>-131.314359</td>\n",
              "    </tr>\n",
              "    <tr>\n",
              "      <th>8</th>\n",
              "      <td>southwest</td>\n",
              "      <td>-373.041756</td>\n",
              "    </tr>\n",
              "    <tr>\n",
              "      <th>7</th>\n",
              "      <td>southeast</td>\n",
              "      <td>-448.012814</td>\n",
              "    </tr>\n",
              "  </tbody>\n",
              "</table>\n",
              "</div>\n",
              "      <button class=\"colab-df-convert\" onclick=\"convertToInteractive('df-008ac9a0-771f-4bac-b894-1ec7ad7b6f33')\"\n",
              "              title=\"Convert this dataframe to an interactive table.\"\n",
              "              style=\"display:none;\">\n",
              "        \n",
              "  <svg xmlns=\"http://www.w3.org/2000/svg\" height=\"24px\"viewBox=\"0 0 24 24\"\n",
              "       width=\"24px\">\n",
              "    <path d=\"M0 0h24v24H0V0z\" fill=\"none\"/>\n",
              "    <path d=\"M18.56 5.44l.94 2.06.94-2.06 2.06-.94-2.06-.94-.94-2.06-.94 2.06-2.06.94zm-11 1L8.5 8.5l.94-2.06 2.06-.94-2.06-.94L8.5 2.5l-.94 2.06-2.06.94zm10 10l.94 2.06.94-2.06 2.06-.94-2.06-.94-.94-2.06-.94 2.06-2.06.94z\"/><path d=\"M17.41 7.96l-1.37-1.37c-.4-.4-.92-.59-1.43-.59-.52 0-1.04.2-1.43.59L10.3 9.45l-7.72 7.72c-.78.78-.78 2.05 0 2.83L4 21.41c.39.39.9.59 1.41.59.51 0 1.02-.2 1.41-.59l7.78-7.78 2.81-2.81c.8-.78.8-2.07 0-2.86zM5.41 20L4 18.59l7.72-7.72 1.47 1.35L5.41 20z\"/>\n",
              "  </svg>\n",
              "      </button>\n",
              "      \n",
              "  <style>\n",
              "    .colab-df-container {\n",
              "      display:flex;\n",
              "      flex-wrap:wrap;\n",
              "      gap: 12px;\n",
              "    }\n",
              "\n",
              "    .colab-df-convert {\n",
              "      background-color: #E8F0FE;\n",
              "      border: none;\n",
              "      border-radius: 50%;\n",
              "      cursor: pointer;\n",
              "      display: none;\n",
              "      fill: #1967D2;\n",
              "      height: 32px;\n",
              "      padding: 0 0 0 0;\n",
              "      width: 32px;\n",
              "    }\n",
              "\n",
              "    .colab-df-convert:hover {\n",
              "      background-color: #E2EBFA;\n",
              "      box-shadow: 0px 1px 2px rgba(60, 64, 67, 0.3), 0px 1px 3px 1px rgba(60, 64, 67, 0.15);\n",
              "      fill: #174EA6;\n",
              "    }\n",
              "\n",
              "    [theme=dark] .colab-df-convert {\n",
              "      background-color: #3B4455;\n",
              "      fill: #D2E3FC;\n",
              "    }\n",
              "\n",
              "    [theme=dark] .colab-df-convert:hover {\n",
              "      background-color: #434B5C;\n",
              "      box-shadow: 0px 1px 3px 1px rgba(0, 0, 0, 0.15);\n",
              "      filter: drop-shadow(0px 1px 2px rgba(0, 0, 0, 0.3));\n",
              "      fill: #FFFFFF;\n",
              "    }\n",
              "  </style>\n",
              "\n",
              "      <script>\n",
              "        const buttonEl =\n",
              "          document.querySelector('#df-008ac9a0-771f-4bac-b894-1ec7ad7b6f33 button.colab-df-convert');\n",
              "        buttonEl.style.display =\n",
              "          google.colab.kernel.accessAllowed ? 'block' : 'none';\n",
              "\n",
              "        async function convertToInteractive(key) {\n",
              "          const element = document.querySelector('#df-008ac9a0-771f-4bac-b894-1ec7ad7b6f33');\n",
              "          const dataTable =\n",
              "            await google.colab.kernel.invokeFunction('convertToInteractive',\n",
              "                                                     [key], {});\n",
              "          if (!dataTable) return;\n",
              "\n",
              "          const docLinkHtml = 'Like what you see? Visit the ' +\n",
              "            '<a target=\"_blank\" href=https://colab.research.google.com/notebooks/data_table.ipynb>data table notebook</a>'\n",
              "            + ' to learn more about interactive tables.';\n",
              "          element.innerHTML = '';\n",
              "          dataTable['output_type'] = 'display_data';\n",
              "          await google.colab.output.renderOutput(dataTable, element);\n",
              "          const docLink = document.createElement('div');\n",
              "          docLink.innerHTML = docLinkHtml;\n",
              "          element.appendChild(docLink);\n",
              "        }\n",
              "      </script>\n",
              "    </div>\n",
              "  </div>\n",
              "  "
            ],
            "text/plain": [
              "       feature        weight\n",
              "3  smoker_code  23848.534542\n",
              "9            1   8466.483215\n",
              "0          age   3607.472736\n",
              "1          bmi   2067.691966\n",
              "5    northeast    587.009235\n",
              "2     children    572.998210\n",
              "6    northwest    234.045336\n",
              "4     sex_code   -131.314359\n",
              "8    southwest   -373.041756\n",
              "7    southeast   -448.012814"
            ]
          },
          "metadata": {},
          "execution_count": 70
        }
      ]
    },
    {
      "cell_type": "markdown",
      "source": [
        "### How to Approach a Machine Learning Problem\n",
        "\n",
        "Here's a strategy you can apply to approach any machine learning problem:\n",
        "\n",
        "1. Explore the data and find correlations between inputs and targets\n",
        "2. Pick the right model, loss functions and optimizer for the problem at hand\n",
        "3. Scale numeric variables and one-hot encode categorical data\n",
        "4. Set aside a test set (using a fraction of the training set)\n",
        "5. Train the model\n",
        "6. Make predictions on the test set and compute the loss\n",
        "\n",
        "We'll apply this process to several problems in future tutorials."
      ],
      "metadata": {
        "id": "0rl-fTbym_OK"
      }
    },
    {
      "cell_type": "markdown",
      "source": [
        "## Revision Questions\n",
        "1.\tWhy do we have to perform EDA before fitting a model to the data?\n",
        "2.\tWhat is a parameter?\n",
        "3.\tWhat is correlation?\n",
        "4.\tWhat does negative correlation mean?\n",
        "5.\tHow can you find correlation between variables in Python?\n",
        "6.\tWhat is causation? Explain difference between correlation and causation with an example.\n",
        "7.\tDefine Linear Regression.\n",
        "8.\tWhat is univariate linear regression?\n",
        "9.\tWhat is multivariate linear regression?\n",
        "10.\tWhat are weights and bias?\n",
        "11.\tWhat are inputs and targets?\n",
        "12.\tWhat is loss/cost function?\n",
        "13.\tWhat is residual? \n",
        "14.\tWhat is RMSE value? When and why do we use it?\n",
        "15.\tWhat is an Optimizer? What are different types of optimizers? Explain each with an example.\n",
        "16.\tWhat library is available in Python to perform Linear Regression?\n",
        "17.\tWhat is <code>sklearn.linear_model </code>?\n",
        "18.\tWhat does <code>model.fit()</code> do? What arguments must be given?\n",
        "19.\tWhat does <code>model.predict()</code> do? What arguments must be given?\n",
        "20.\tHow do we calculate RMSE values?\n",
        "21.\tWhat is <code>model.coef_</code>?\n",
        "22.\tWhat is <code>model.intercept_</code>?\n",
        "23.\tWhat is SGDRegressor? How is it different from Linear Regression?\n",
        "24.\tDefine Machine Learning. What are the main components in Machine Learning?\n",
        "25.\tHow does loss value help in determining whether the model is good or not?\n",
        "26.\tWhat are continuous and categorical variables?\n",
        "27.\tHow do we handle categorical variables in Machine Learning? What are the common techniques?\n",
        "28.\tWhat is feature scaling? How does it help in Machine Learning?\n",
        "29.\tHow do we perform scaling in Python?\n",
        "30.\tWhat is <code>sklearn.preprocessing</code>?\n",
        "31.\tWhat is a Test set?\n",
        "32.\tHow do we split data for model fitting (training and testing) in Python?\n",
        "33.\tHow do you approach a Machine Learning problem?"
      ],
      "metadata": {
        "id": "tLR1HEgXnHyY"
      }
    },
    {
      "cell_type": "code",
      "source": [
        ""
      ],
      "metadata": {
        "id": "tapu-CFvnHOW"
      },
      "execution_count": null,
      "outputs": []
    }
  ]
}